{
 "cells": [
  {
   "cell_type": "markdown",
   "metadata": {},
   "source": [
    "# Is the following _k_-MTSLIA a correct one?\n",
    "\n",
    "Well, is it?"
   ]
  },
  {
   "cell_type": "code",
   "execution_count": 115,
   "metadata": {},
   "outputs": [],
   "source": [
    "import random\n",
    "import itertools\n",
    "import collections"
   ]
  },
  {
   "cell_type": "code",
   "execution_count": 116,
   "metadata": {},
   "outputs": [],
   "source": [
    "def extract_alphabet(data):\n",
    "    alpha = set()\n",
    "    for datum in data:\n",
    "        alpha |= set(datum)\n",
    "    return alpha\n",
    "\n",
    "def extract_local_k_grams(data, k, edges):\n",
    "    attested = set()\n",
    "    for datum in data:\n",
    "        datum = (edges[0],) + tuple(datum) + (edges[1],) \n",
    "        for offset in range(len(datum) - k + 1):\n",
    "            attested.add(tuple(datum[offset:(offset + k)]))\n",
    "    return attested\n",
    "\n",
    "def valid_k_gram(k_gram, edges):\n",
    "    k = len(k_gram)\n",
    "    return any(True for L, R in itertools.combinations(range(k + 1), 2) \\\n",
    "               if  all(k_gram[i] == edges[0]  for i in range(L)) \\\n",
    "               and all(k_gram[i] == edges[1]  for i in range(R, k)) \\\n",
    "               and not any(k_gram[i] in edges for i in range(L, R)))\n",
    "\n",
    "def mtslia(data, k=2, edges=('>', '<')):\n",
    "    alpha = extract_alphabet(data)\n",
    "    attested = extract_local_k_grams(data, k, edges)\n",
    "    grammar = collections.defaultdict(set)\n",
    "    for k_gram in itertools.product(alpha | {*edges}, repeat=k):\n",
    "        if k_gram in attested:\n",
    "            continue\n",
    "        if not valid_k_gram(k_gram, edges):\n",
    "            continue\n",
    "        projection = []\n",
    "        for m, datum in enumerate(data):\n",
    "            projection += [(m, -(i + 1), edges[0]) for i in range(k)]\n",
    "            for n, segment in enumerate(datum):\n",
    "                if segment in k_gram:\n",
    "                    projection += [(m, n, segment)]\n",
    "            projection += [(m, len(datum) + i, edges[1]) for i in range(k)]\n",
    "        projection.sort()\n",
    "        blocker_sets = set()\n",
    "        for offset in range(len(projection) - k + 1):\n",
    "            M, N, segments = zip(*projection[offset:(offset + k)])\n",
    "            if segments == k_gram and all(m == M[0] for m in M):\n",
    "                blocker_set = set()\n",
    "                for n1, n2 in zip(N[:-1], N[1:]):\n",
    "                    blocker_set |= set(data[M[0]][(n1 + 1):n2])\n",
    "                blocker_sets.add(tuple(sorted(blocker_set)))\n",
    "        blockers = set(blocker for blocker_set in blocker_sets for blocker in blocker_set)\n",
    "        if blocker_sets:\n",
    "            if () in blocker_sets:\n",
    "                continue\n",
    "            for blocker in sorted(blockers, reverse=True):\n",
    "                if all(blockers - {blocker} & set(blocker_set) for blocker_set in blocker_sets):\n",
    "                    blockers -= {blocker}\n",
    "        tier = tuple(sorted({*k_gram, *blockers} - {*edges}))\n",
    "        grammar[tier].add(k_gram)\n",
    "    return dict(grammar)"
   ]
  },
  {
   "cell_type": "markdown",
   "metadata": {},
   "source": [
    "# A 100% fictitious dataset\n",
    "\n",
    "```\n",
    "i       u    High (Height 3)\n",
    "  e   o      Mid  (Height 2)\n",
    "    a        Low  (Height 1)\n",
    "```\n",
    "\n",
    " - Constraint 1: any stretch of 3 syllables cannot have all 3 heights\n",
    " - Constraint 2: front-back harmony; /a/ is neutral"
   ]
  },
  {
   "cell_type": "code",
   "execution_count": 117,
   "metadata": {},
   "outputs": [],
   "source": [
    "data = ['dununono', 'dudo', 'toto', 'notato', 'deninen', 'nenenat', 'idde', 'inintenedi']"
   ]
  },
  {
   "cell_type": "markdown",
   "metadata": {},
   "source": [
    "## 2-MTSLIA's take on the dataset"
   ]
  },
  {
   "cell_type": "code",
   "execution_count": 118,
   "metadata": {},
   "outputs": [
    {
     "data": {
      "text/plain": [
       "{('e', 'i', 'n', 'o', 'u'): {('n', 'n')},\n",
       " ('d', 'e', 'n'): {('>', 'e'), ('n', 'd')},\n",
       " ('a', 'n'): {('>', 'a'), ('a', 'n')},\n",
       " ('a',): {('a', 'a')},\n",
       " ('a', 'd'): {('a', 'd'), ('d', 'a')},\n",
       " ('a', 'u'): {('a', 'u'), ('u', 'a')},\n",
       " ('a', 'e'): {('a', 'e')},\n",
       " ('a', 'i'): {('a', 'i'), ('i', 'a')},\n",
       " ('a', 'o', 't'): {('a', 'o'), ('o', 'a'), ('t', 't')},\n",
       " ('a', 't'): {('a', '<')},\n",
       " ('d', 'e', 'n', 'u'): {('d', 'n')},\n",
       " ('d', 't'): {('d', 't')},\n",
       " ('d', 'e', 'i', 'o'): {('d', '<')},\n",
       " ('d', 'u'): {('>', 'u')},\n",
       " ('d', 'n', 'o', 't'): {('>', 'o')},\n",
       " ('n', 'u'): {('u', 'u')},\n",
       " ('e', 'u'): {('e', 'u'), ('u', 'e')},\n",
       " ('t', 'u'): {('t', 'u'), ('u', 't')},\n",
       " ('i', 'u'): {('i', 'u'), ('u', 'i')},\n",
       " ('d', 'n', 'o', 'u'): {('u', 'o')},\n",
       " ('d', 'n', 'u'): {('u', '<')},\n",
       " ('a', 'e', 'n'): {('e', 'a')},\n",
       " ('e', 'n'): {('e', 'e')},\n",
       " ('a', 'e', 't'): {('e', 't')},\n",
       " ('d', 'e', 'i', 'n'): {('e', 'i'), ('i', 'e')},\n",
       " ('e', 'o'): {('e', 'o'), ('o', 'e')},\n",
       " ('e', 'n', 't'): {('t', 'n')},\n",
       " ('d', 'e', 't'): {('t', 'd')},\n",
       " ('d', 'i', 't'): {('t', 'i')},\n",
       " ('i', 'n', 't'): {('i', 't')},\n",
       " ('i', 'n'): {('i', 'i')},\n",
       " ('i', 'o'): {('i', 'o'), ('o', 'i')},\n",
       " ('d', 'o'): {('o', 'd')},\n",
       " ('o', 'u'): {('o', 'u')},\n",
       " ('n', 'o', 't'): {('o', 'o')}}"
      ]
     },
     "execution_count": 118,
     "metadata": {},
     "output_type": "execute_result"
    }
   ],
   "source": [
    "mtslia(data, 2)"
   ]
  },
  {
   "cell_type": "markdown",
   "metadata": {},
   "source": [
    "## 3-MTSLIA gives a second opinion"
   ]
  },
  {
   "cell_type": "code",
   "execution_count": 119,
   "metadata": {},
   "outputs": [
    {
     "data": {
      "text/plain": [
       "{('e', 'n', 'o'): {('e', 'n', 'o'),\n",
       "  ('e', 'o', 'n'),\n",
       "  ('n', 'e', 'o'),\n",
       "  ('n', 'n', '<'),\n",
       "  ('n', 'n', 'n'),\n",
       "  ('n', 'o', 'e'),\n",
       "  ('o', 'e', 'n'),\n",
       "  ('o', 'n', 'e')},\n",
       " ('a', 'e', 'n'): {('a', 'e', 'n'),\n",
       "  ('a', 'n', 'e'),\n",
       "  ('e', 'a', '<'),\n",
       "  ('e', 'a', 'n'),\n",
       "  ('e', 'e', 'a'),\n",
       "  ('n', 'a', 'e'),\n",
       "  ('n', 'e', 'a'),\n",
       "  ('n', 'n', 'a')},\n",
       " ('d', 'e', 'n'): {('>', '>', 'e'),\n",
       "  ('>', 'e', 'n'),\n",
       "  ('d', 'n', 'e'),\n",
       "  ('e', 'd', 'n'),\n",
       "  ('e', 'e', 'd'),\n",
       "  ('e', 'n', 'd'),\n",
       "  ('n', 'd', '<'),\n",
       "  ('n', 'd', 'e'),\n",
       "  ('n', 'e', '<'),\n",
       "  ('n', 'n', 'd')},\n",
       " ('n', 'u'): {('>', 'n', 'u'),\n",
       "  ('n', 'n', 'u'),\n",
       "  ('n', 'u', '<'),\n",
       "  ('n', 'u', 'u'),\n",
       "  ('u', 'n', '<'),\n",
       "  ('u', 'u', '<'),\n",
       "  ('u', 'u', 'n')},\n",
       " ('e', 'i', 'n'): {('e', 'i', 'e'),\n",
       "  ('e', 'i', 'n'),\n",
       "  ('e', 'n', 'n'),\n",
       "  ('i', 'e', 'e'),\n",
       "  ('i', 'e', 'n'),\n",
       "  ('i', 'i', 'e'),\n",
       "  ('i', 'n', 'n'),\n",
       "  ('n', 'i', 'e'),\n",
       "  ('n', 'n', 'e')},\n",
       " ('a', 'i', 'n', 't'): {('n', 'n', 't')},\n",
       " ('d', 'i', 'n'): {('>', 'n', 'i'),\n",
       "  ('d', 'i', 'n'),\n",
       "  ('i', 'd', 'n'),\n",
       "  ('i', 'n', 'd'),\n",
       "  ('n', 'i', '<'),\n",
       "  ('n', 'i', 'd'),\n",
       "  ('n', 'n', 'i')},\n",
       " ('n', 'o', 'u'): {('n', 'n', 'o'),\n",
       "  ('n', 'o', 'u'),\n",
       "  ('n', 'u', 'o'),\n",
       "  ('o', 'n', 'u'),\n",
       "  ('o', 'u', 'n'),\n",
       "  ('u', 'n', 'n'),\n",
       "  ('u', 'o', 'n'),\n",
       "  ('u', 'o', 'o'),\n",
       "  ('u', 'u', 'o')},\n",
       " ('a', 'n'): {('>', '>', 'a'),\n",
       "  ('>', 'a', '<'),\n",
       "  ('>', 'a', 'n'),\n",
       "  ('>', 'n', '<'),\n",
       "  ('a', 'a', 'n'),\n",
       "  ('a', 'n', '<'),\n",
       "  ('a', 'n', 'a'),\n",
       "  ('a', 'n', 'n'),\n",
       "  ('n', 'a', 'a'),\n",
       "  ('n', 'a', 'n')},\n",
       " ('a', 'd', 'n'): {('a', 'd', 'n'),\n",
       "  ('a', 'n', 'd'),\n",
       "  ('d', 'a', 'n'),\n",
       "  ('d', 'n', 'a'),\n",
       "  ('n', 'a', 'd'),\n",
       "  ('n', 'd', 'a')},\n",
       " ('a', 'n', 'u'): {('a', 'n', 'u'),\n",
       "  ('a', 'u', 'n'),\n",
       "  ('n', 'a', 'u'),\n",
       "  ('n', 'u', 'a'),\n",
       "  ('u', 'a', 'n'),\n",
       "  ('u', 'n', 'a')},\n",
       " ('a', 'i', 'n'): {('a', 'i', 'n'),\n",
       "  ('a', 'n', 'i'),\n",
       "  ('i', 'a', 'n'),\n",
       "  ('i', 'n', 'a'),\n",
       "  ('n', 'a', 'i'),\n",
       "  ('n', 'i', 'a')},\n",
       " ('a', 'n', 'o'): {('>', 'n', 'a'),\n",
       "  ('>', 'o', 'a'),\n",
       "  ('a', 'n', 'o'),\n",
       "  ('a', 'o', 'n'),\n",
       "  ('n', 'a', 'o'),\n",
       "  ('n', 'o', 'o'),\n",
       "  ('o', 'a', 'n'),\n",
       "  ('o', 'n', 'a')},\n",
       " ('a', 'n', 't'): {('>', 't', 'a'),\n",
       "  ('a', 'n', 't'),\n",
       "  ('a', 't', 'n'),\n",
       "  ('n', 'a', '<'),\n",
       "  ('n', 't', '<'),\n",
       "  ('n', 't', 't'),\n",
       "  ('t', 'a', 'n'),\n",
       "  ('t', 'n', 'a')},\n",
       " ('d', 'n'): {('>', 'd', '<'),\n",
       "  ('>', 'n', 'd'),\n",
       "  ('d', 'd', 'n'),\n",
       "  ('d', 'n', '<'),\n",
       "  ('d', 'n', 'd'),\n",
       "  ('n', 'd', 'd'),\n",
       "  ('n', 'd', 'n')},\n",
       " ('d', 'n', 'u'): {('>', 'u', 'n'),\n",
       "  ('d', 'n', 'u'),\n",
       "  ('d', 'u', 'u'),\n",
       "  ('n', 'd', 'u'),\n",
       "  ('n', 'u', 'd'),\n",
       "  ('u', '<', '<'),\n",
       "  ('u', 'd', 'n'),\n",
       "  ('u', 'n', 'd')},\n",
       " ('d', 'n', 't'): {('d', 'n', 't'),\n",
       "  ('d', 't', 'n'),\n",
       "  ('n', 'd', 't'),\n",
       "  ('n', 't', 'd'),\n",
       "  ('t', 'd', 'n'),\n",
       "  ('t', 'n', '<')},\n",
       " ('d', 'e', 'i', 'n'): {('>', 'n', 'n'),\n",
       "  ('d', 'e', 'i'),\n",
       "  ('d', 'n', 'i'),\n",
       "  ('i', 'e', '<'),\n",
       "  ('n', 'd', 'i'),\n",
       "  ('n', 'e', 'i')},\n",
       " ('d', 'n', 'o'): {('>', 'd', 'o'),\n",
       "  ('d', 'n', 'o'),\n",
       "  ('d', 'o', 'n'),\n",
       "  ('d', 'o', 'o'),\n",
       "  ('n', 'd', 'o'),\n",
       "  ('n', 'o', 'd'),\n",
       "  ('o', 'd', 'n'),\n",
       "  ('o', 'n', 'd')},\n",
       " ('e', 'n', 'u'): {('e', 'n', 'u'),\n",
       "  ('e', 'u', 'n'),\n",
       "  ('n', 'e', 'u'),\n",
       "  ('n', 'u', 'e'),\n",
       "  ('u', 'e', 'n'),\n",
       "  ('u', 'n', 'e')},\n",
       " ('n', 't', 'u'): {('n', 't', 'u'),\n",
       "  ('n', 'u', 't'),\n",
       "  ('t', 'n', 'u'),\n",
       "  ('t', 'u', 'n'),\n",
       "  ('u', 'n', 't'),\n",
       "  ('u', 't', 'n')},\n",
       " ('i', 'n', 'u'): {('i', 'n', 'u'),\n",
       "  ('i', 'u', 'n'),\n",
       "  ('n', 'i', 'u'),\n",
       "  ('n', 'u', 'i'),\n",
       "  ('u', 'i', 'n'),\n",
       "  ('u', 'n', 'i')},\n",
       " ('e', 'n'): {('>', 'e', 'e'), ('e', 'e', 'n'), ('n', 'e', 'e')},\n",
       " ('e', 'n', 't'): {('e', 't', 'n'),\n",
       "  ('n', 'e', 't'),\n",
       "  ('n', 't', 'n'),\n",
       "  ('t', 'e', 'e'),\n",
       "  ('t', 'n', 'e')},\n",
       " ('a', 'n', 'o', 't'): {('n', 'o', 'a'), ('n', 't', 'a')},\n",
       " ('i', 'n', 't'): {('i', 'i', 't'),\n",
       "  ('i', 't', 'n'),\n",
       "  ('n', 'i', 't'),\n",
       "  ('n', 't', 'i'),\n",
       "  ('t', 'i', 'n')},\n",
       " ('n', 'o', 't'): {('>', 'n', 't'),\n",
       "  ('>', 'o', 't'),\n",
       "  ('n', 't', 'o'),\n",
       "  ('o', 'n', 't'),\n",
       "  ('o', 'o', '<'),\n",
       "  ('o', 't', 'n'),\n",
       "  ('t', 'n', 'o'),\n",
       "  ('t', 'o', 'n')},\n",
       " ('i', 'n'): {('>', 'i', 'i'),\n",
       "  ('i', 'i', 'n'),\n",
       "  ('i', 'n', '<'),\n",
       "  ('n', 'i', 'i')},\n",
       " ('i', 'n', 'o'): {('i', 'n', 'o'),\n",
       "  ('i', 'o', 'n'),\n",
       "  ('n', 'i', 'o'),\n",
       "  ('n', 'o', 'i'),\n",
       "  ('o', 'i', 'n'),\n",
       "  ('o', 'n', 'i')},\n",
       " ('a',): {('>', 'a', 'a'), ('a', 'a', '<'), ('a', 'a', 'a')},\n",
       " ('a', 'd'): {('>', 'a', 'd'),\n",
       "  ('>', 'd', 'a'),\n",
       "  ('a', 'a', 'd'),\n",
       "  ('a', 'd', '<'),\n",
       "  ('a', 'd', 'a'),\n",
       "  ('a', 'd', 'd'),\n",
       "  ('d', 'a', '<'),\n",
       "  ('d', 'a', 'a'),\n",
       "  ('d', 'a', 'd'),\n",
       "  ('d', 'd', 'a')},\n",
       " ('a', 'u'): {('>', 'a', 'u'),\n",
       "  ('>', 'u', 'a'),\n",
       "  ('a', 'a', 'u'),\n",
       "  ('a', 'u', '<'),\n",
       "  ('a', 'u', 'a'),\n",
       "  ('a', 'u', 'u'),\n",
       "  ('u', 'a', '<'),\n",
       "  ('u', 'a', 'a'),\n",
       "  ('u', 'a', 'u'),\n",
       "  ('u', 'u', 'a')},\n",
       " ('a', 'e'): {('>', 'a', 'e'),\n",
       "  ('>', 'e', 'a'),\n",
       "  ('a', 'a', 'e'),\n",
       "  ('a', 'e', '<'),\n",
       "  ('a', 'e', 'a'),\n",
       "  ('a', 'e', 'e'),\n",
       "  ('e', 'a', 'a'),\n",
       "  ('e', 'a', 'e')},\n",
       " ('a', 't'): {('a', '<', '<'),\n",
       "  ('a', 'a', 't'),\n",
       "  ('a', 't', 'a'),\n",
       "  ('a', 't', 't'),\n",
       "  ('t', 'a', '<'),\n",
       "  ('t', 'a', 'a'),\n",
       "  ('t', 't', 'a')},\n",
       " ('a', 'i'): {('>', 'a', 'i'),\n",
       "  ('>', 'i', 'a'),\n",
       "  ('a', 'a', 'i'),\n",
       "  ('a', 'i', '<'),\n",
       "  ('a', 'i', 'a'),\n",
       "  ('a', 'i', 'i'),\n",
       "  ('i', 'a', '<'),\n",
       "  ('i', 'a', 'a'),\n",
       "  ('i', 'a', 'i'),\n",
       "  ('i', 'i', 'a')},\n",
       " ('a', 'o'): {('>', 'a', 'o'),\n",
       "  ('a', 'a', 'o'),\n",
       "  ('a', 'o', 'a'),\n",
       "  ('a', 'o', 'o'),\n",
       "  ('o', 'a', '<'),\n",
       "  ('o', 'a', 'a'),\n",
       "  ('o', 'o', 'a')},\n",
       " ('a', 'd', 'u'): {('a', 'd', 'u'),\n",
       "  ('a', 'u', 'd'),\n",
       "  ('d', 'a', 'u'),\n",
       "  ('d', 'u', 'a'),\n",
       "  ('u', 'a', 'd'),\n",
       "  ('u', 'd', 'a')},\n",
       " ('a', 'd', 'e'): {('a', 'd', 'e'),\n",
       "  ('a', 'e', 'd'),\n",
       "  ('d', 'a', 'e'),\n",
       "  ('d', 'e', 'a'),\n",
       "  ('e', 'a', 'd'),\n",
       "  ('e', 'd', 'a')},\n",
       " ('a', 'd', 't'): {('>', 't', '<'),\n",
       "  ('a', 'd', 't'),\n",
       "  ('a', 't', 'd'),\n",
       "  ('d', 'a', 't'),\n",
       "  ('d', 't', 'a'),\n",
       "  ('t', 'a', 'd'),\n",
       "  ('t', 'd', 'a')},\n",
       " ('a', 'd', 'i'): {('a', 'd', 'i'),\n",
       "  ('a', 'i', 'd'),\n",
       "  ('d', 'a', 'i'),\n",
       "  ('d', 'i', 'a'),\n",
       "  ('i', 'a', 'd'),\n",
       "  ('i', 'd', 'a')},\n",
       " ('a', 'd', 'o'): {('a', 'd', 'o'),\n",
       "  ('a', 'o', 'd'),\n",
       "  ('d', 'a', 'o'),\n",
       "  ('d', 'o', 'a'),\n",
       "  ('o', 'a', 'd'),\n",
       "  ('o', 'd', 'a')},\n",
       " ('a', 'e', 'u'): {('a', 'e', 'u'),\n",
       "  ('a', 'u', 'e'),\n",
       "  ('e', 'a', 'u'),\n",
       "  ('e', 'u', 'a'),\n",
       "  ('u', 'a', 'e'),\n",
       "  ('u', 'e', 'a')},\n",
       " ('a', 't', 'u'): {('a', 't', 'u'),\n",
       "  ('a', 'u', 't'),\n",
       "  ('t', 'a', 'u'),\n",
       "  ('t', 'u', 'a'),\n",
       "  ('u', 'a', 't'),\n",
       "  ('u', 't', 'a')},\n",
       " ('a', 'i', 'u'): {('a', 'i', 'u'),\n",
       "  ('a', 'u', 'i'),\n",
       "  ('i', 'a', 'u'),\n",
       "  ('i', 'u', 'a'),\n",
       "  ('u', 'a', 'i'),\n",
       "  ('u', 'i', 'a')},\n",
       " ('a', 'o', 'u'): {('a', 'o', 'u'),\n",
       "  ('a', 'u', 'o'),\n",
       "  ('o', 'a', 'u'),\n",
       "  ('o', 'u', 'a'),\n",
       "  ('u', 'a', 'o'),\n",
       "  ('u', 'o', 'a')},\n",
       " ('a', 'e', 't'): {('>', 'a', 't'),\n",
       "  ('a', 'e', 't'),\n",
       "  ('a', 't', 'e'),\n",
       "  ('e', 'e', 't'),\n",
       "  ('e', 't', '<'),\n",
       "  ('e', 't', 'a'),\n",
       "  ('t', 'a', 'e'),\n",
       "  ('t', 'e', 'a')},\n",
       " ('a', 'e', 'i'): {('a', 'e', 'i'),\n",
       "  ('a', 'i', 'e'),\n",
       "  ('e', 'a', 'i'),\n",
       "  ('e', 'e', '<'),\n",
       "  ('e', 'i', 'a'),\n",
       "  ('i', 'a', 'e'),\n",
       "  ('i', 'e', 'a')},\n",
       " ('a', 'e', 'o'): {('a', 'e', 'o'),\n",
       "  ('a', 'o', 'e'),\n",
       "  ('e', 'a', 'o'),\n",
       "  ('e', 'o', 'a'),\n",
       "  ('o', 'a', 'e'),\n",
       "  ('o', 'e', 'a')},\n",
       " ('a', 'i', 't'): {('a', 'i', 't'),\n",
       "  ('a', 't', 'i'),\n",
       "  ('i', 'a', 't'),\n",
       "  ('i', 't', 'a'),\n",
       "  ('t', 'a', 'i'),\n",
       "  ('t', 'i', 'a')},\n",
       " ('a', 'i', 'o'): {('a', 'i', 'o'),\n",
       "  ('a', 'o', 'i'),\n",
       "  ('i', 'a', 'o'),\n",
       "  ('i', 'o', 'a'),\n",
       "  ('o', 'a', 'i'),\n",
       "  ('o', 'i', 'a')},\n",
       " ('a', 'o', 't'): {('a', 'o', '<'),\n",
       "  ('a', 'o', 't'),\n",
       "  ('o', 'a', 'o'),\n",
       "  ('o', 'a', 't'),\n",
       "  ('o', 't', 't'),\n",
       "  ('t', 'a', 'o'),\n",
       "  ('t', 'o', 'a'),\n",
       "  ('t', 't', 'o')},\n",
       " ('d', 'e', 'n', 'u'): {('>', 'd', 'n'), ('d', 'n', 'n')},\n",
       " ('d',): {('d', 'd', 'd')},\n",
       " ('d', 'u'): {('>', '>', 'u'),\n",
       "  ('>', 'u', '<'),\n",
       "  ('>', 'u', 'd'),\n",
       "  ('>', 'u', 'u'),\n",
       "  ('d', 'd', 'u'),\n",
       "  ('d', 'u', '<'),\n",
       "  ('u', 'd', 'd'),\n",
       "  ('u', 'd', 'u'),\n",
       "  ('u', 'u', 'd')},\n",
       " ('d', 't'): {('>', 'd', 't'),\n",
       "  ('d', 'd', 't'),\n",
       "  ('d', 't', '<'),\n",
       "  ('d', 't', 'd'),\n",
       "  ('d', 't', 't'),\n",
       "  ('t', 'd', 'd'),\n",
       "  ('t', 'd', 't'),\n",
       "  ('t', 't', 'd')},\n",
       " ('d', 'i'): {('>', 'i', '<'),\n",
       "  ('d', 'd', 'i'),\n",
       "  ('d', 'i', 'd'),\n",
       "  ('d', 'i', 'i'),\n",
       "  ('i', 'd', '<'),\n",
       "  ('i', 'i', '<'),\n",
       "  ('i', 'i', 'i')},\n",
       " ('d', 'o', 'u'): {('>', 'u', 'o'),\n",
       "  ('d', 'd', 'o'),\n",
       "  ('d', 'o', 'u'),\n",
       "  ('d', 'u', 'o'),\n",
       "  ('o', 'd', 'u'),\n",
       "  ('o', 'u', 'd'),\n",
       "  ('u', 'd', '<'),\n",
       "  ('u', 'o', '<'),\n",
       "  ('u', 'o', 'd')},\n",
       " ('d', 'e', 'o'): {('d', 'd', '<'),\n",
       "  ('d', 'e', 'o'),\n",
       "  ('d', 'o', 'e'),\n",
       "  ('e', 'd', 'o'),\n",
       "  ('e', 'o', 'd'),\n",
       "  ('o', 'd', 'e'),\n",
       "  ('o', 'e', 'd')},\n",
       " ('d', 'e', 'u'): {('d', 'e', 'u'),\n",
       "  ('d', 'u', 'e'),\n",
       "  ('e', 'd', 'u'),\n",
       "  ('e', 'u', 'd'),\n",
       "  ('u', 'd', 'e'),\n",
       "  ('u', 'e', 'd')},\n",
       " ('d', 't', 'u'): {('d', 't', 'u'),\n",
       "  ('d', 'u', 't'),\n",
       "  ('t', 'd', 'u'),\n",
       "  ('t', 'u', 'd'),\n",
       "  ('u', 'd', 't'),\n",
       "  ('u', 't', 'd')},\n",
       " ('d', 'i', 'u'): {('>', 'd', 'd'),\n",
       "  ('d', 'i', 'u'),\n",
       "  ('d', 'u', 'i'),\n",
       "  ('i', 'd', 'u'),\n",
       "  ('i', 'u', 'd'),\n",
       "  ('u', 'd', 'i'),\n",
       "  ('u', 'i', 'd')},\n",
       " ('d', 'e'): {('>', 'e', '<'),\n",
       "  ('>', 'e', 'd'),\n",
       "  ('d', 'e', 'd'),\n",
       "  ('e', 'd', 'd'),\n",
       "  ('e', 'd', 'e')},\n",
       " ('d', 'e', 'i'): {('>', 'd', 'i'),\n",
       "  ('>', 'e', 'i'),\n",
       "  ('>', 'i', 'e'),\n",
       "  ('d', 'e', 'e'),\n",
       "  ('d', 'i', 'e'),\n",
       "  ('e', 'd', '<'),\n",
       "  ('e', 'e', 'i'),\n",
       "  ('e', 'i', '<'),\n",
       "  ('e', 'i', 'd'),\n",
       "  ('i', 'd', 'e'),\n",
       "  ('i', 'd', 'i'),\n",
       "  ('i', 'e', 'd'),\n",
       "  ('i', 'i', 'd')},\n",
       " ('d', 'e', 't'): {('>', 't', 'd'),\n",
       "  ('d', 'e', 't'),\n",
       "  ('d', 't', 'e'),\n",
       "  ('e', 'd', 't'),\n",
       "  ('e', 't', 'd'),\n",
       "  ('t', 'd', '<'),\n",
       "  ('t', 'd', 'e'),\n",
       "  ('t', 'e', 'd')},\n",
       " ('d', 'i', 't'): {('d', 'i', 't'),\n",
       "  ('d', 't', 'i'),\n",
       "  ('i', 'd', 't'),\n",
       "  ('i', 't', 'i'),\n",
       "  ('t', 'i', '<'),\n",
       "  ('t', 'i', 'd')},\n",
       " ('d', 'o', 't'): {('>', 'o', 'o'),\n",
       "  ('d', 'o', 't'),\n",
       "  ('d', 't', 'o'),\n",
       "  ('o', 'd', 't'),\n",
       "  ('o', 't', 'd'),\n",
       "  ('t', 'd', 'o'),\n",
       "  ('t', 'o', 'd')},\n",
       " ('d', 'i', 'o'): {('d', 'i', 'o'),\n",
       "  ('d', 'o', 'i'),\n",
       "  ('i', 'd', 'o'),\n",
       "  ('i', 'o', 'd'),\n",
       "  ('o', 'd', 'i'),\n",
       "  ('o', 'i', 'd')},\n",
       " ('d', 'o'): {('>', 'o', '<'),\n",
       "  ('>', 'o', 'd'),\n",
       "  ('d', 'o', 'd'),\n",
       "  ('o', 'd', '<'),\n",
       "  ('o', 'd', 'd'),\n",
       "  ('o', 'd', 'o'),\n",
       "  ('o', 'o', 'd')},\n",
       " ('d', 'e', 'i', 'o'): {('d', '<', '<')},\n",
       " ('d', 'n', 'o', 't'): {('>', '>', 'o')},\n",
       " ('e', 'u'): {('>', 'e', 'u'),\n",
       "  ('>', 'u', 'e'),\n",
       "  ('e', 'e', 'u'),\n",
       "  ('e', 'u', '<'),\n",
       "  ('e', 'u', 'e'),\n",
       "  ('e', 'u', 'u'),\n",
       "  ('u', 'e', '<'),\n",
       "  ('u', 'e', 'e'),\n",
       "  ('u', 'e', 'u'),\n",
       "  ('u', 'u', 'e')},\n",
       " ('t', 'u'): {('>', 't', 'u'),\n",
       "  ('>', 'u', 't'),\n",
       "  ('t', 't', 'u'),\n",
       "  ('t', 'u', '<'),\n",
       "  ('t', 'u', 't'),\n",
       "  ('t', 'u', 'u'),\n",
       "  ('u', 't', '<'),\n",
       "  ('u', 't', 't'),\n",
       "  ('u', 't', 'u'),\n",
       "  ('u', 'u', 't')},\n",
       " ('i', 'u'): {('>', 'i', 'u'),\n",
       "  ('>', 'u', 'i'),\n",
       "  ('i', 'i', 'u'),\n",
       "  ('i', 'u', '<'),\n",
       "  ('i', 'u', 'i'),\n",
       "  ('i', 'u', 'u'),\n",
       "  ('u', 'i', '<'),\n",
       "  ('u', 'i', 'i'),\n",
       "  ('u', 'i', 'u'),\n",
       "  ('u', 'u', 'i')},\n",
       " ('e', 't'): {('>', 'e', 't'),\n",
       "  ('e', 't', 'e'),\n",
       "  ('e', 't', 't'),\n",
       "  ('t', 'e', '<'),\n",
       "  ('t', 'e', 't'),\n",
       "  ('t', 't', 'e')},\n",
       " ('e', 'o'): {('>', 'e', 'o'),\n",
       "  ('>', 'o', 'e'),\n",
       "  ('e', 'e', 'o'),\n",
       "  ('e', 'o', '<'),\n",
       "  ('e', 'o', 'e'),\n",
       "  ('e', 'o', 'o'),\n",
       "  ('o', 'e', '<'),\n",
       "  ('o', 'e', 'e'),\n",
       "  ('o', 'e', 'o'),\n",
       "  ('o', 'o', 'e')},\n",
       " ('n', 't'): {('>', 't', 'n'),\n",
       "  ('t', 'n', 'n'),\n",
       "  ('t', 'n', 't'),\n",
       "  ('t', 't', 'n')},\n",
       " ('e', 'i', 't'): {('>', 't', 'e'),\n",
       "  ('e', 'i', 't'),\n",
       "  ('e', 't', 'i'),\n",
       "  ('i', 'e', 't'),\n",
       "  ('t', 'e', 'i'),\n",
       "  ('t', 'i', 'e')},\n",
       " ('o', 't'): {('>', 't', 't'),\n",
       "  ('o', 'o', 't'),\n",
       "  ('o', 't', '<'),\n",
       "  ('t', 'o', 'o'),\n",
       "  ('t', 't', '<')},\n",
       " ('i', 't'): {('>', 'i', 't'),\n",
       "  ('>', 't', 'i'),\n",
       "  ('i', 't', '<'),\n",
       "  ('i', 't', 't'),\n",
       "  ('t', 'i', 'i'),\n",
       "  ('t', 'i', 't'),\n",
       "  ('t', 't', 'i')},\n",
       " ('i', 'o'): {('>', 'i', 'o'),\n",
       "  ('>', 'o', 'i'),\n",
       "  ('i', 'i', 'o'),\n",
       "  ('i', 'o', '<'),\n",
       "  ('i', 'o', 'i'),\n",
       "  ('i', 'o', 'o'),\n",
       "  ('o', 'i', '<'),\n",
       "  ('o', 'i', 'i'),\n",
       "  ('o', 'i', 'o'),\n",
       "  ('o', 'o', 'i')},\n",
       " ('n', 'o'): {('>', 'o', 'n'),\n",
       "  ('o', 'n', '<'),\n",
       "  ('o', 'n', 'n'),\n",
       "  ('o', 'o', 'n')},\n",
       " ('o', 'u'): {('>', 'o', 'u'),\n",
       "  ('o', 'o', 'u'),\n",
       "  ('o', 'u', '<'),\n",
       "  ('o', 'u', 'o'),\n",
       "  ('o', 'u', 'u'),\n",
       "  ('u', 'o', 'u')},\n",
       " ('u',): {('u', 'u', 'u')},\n",
       " ('e', 't', 'u'): {('e', 't', 'u'),\n",
       "  ('e', 'u', 't'),\n",
       "  ('t', 'e', 'u'),\n",
       "  ('t', 'u', 'e'),\n",
       "  ('u', 'e', 't'),\n",
       "  ('u', 't', 'e')},\n",
       " ('e', 'i', 'u'): {('e', 'i', 'u'),\n",
       "  ('e', 'u', 'i'),\n",
       "  ('i', 'e', 'u'),\n",
       "  ('i', 'u', 'e'),\n",
       "  ('u', 'e', 'i'),\n",
       "  ('u', 'i', 'e')},\n",
       " ('e', 'o', 'u'): {('e', 'o', 'u'),\n",
       "  ('e', 'u', 'o'),\n",
       "  ('o', 'e', 'u'),\n",
       "  ('o', 'u', 'e'),\n",
       "  ('u', 'e', 'o'),\n",
       "  ('u', 'o', 'e')},\n",
       " ('i', 't', 'u'): {('i', 't', 'u'),\n",
       "  ('i', 'u', 't'),\n",
       "  ('t', 'i', 'u'),\n",
       "  ('t', 'u', 'i'),\n",
       "  ('u', 'i', 't'),\n",
       "  ('u', 't', 'i')},\n",
       " ('o', 't', 'u'): {('o', 't', 'u'),\n",
       "  ('o', 'u', 't'),\n",
       "  ('t', 'o', 'u'),\n",
       "  ('t', 'u', 'o'),\n",
       "  ('u', 'o', 't'),\n",
       "  ('u', 't', 'o')},\n",
       " ('i', 'o', 'u'): {('i', 'o', 'u'),\n",
       "  ('i', 'u', 'o'),\n",
       "  ('o', 'i', 'u'),\n",
       "  ('o', 'u', 'i'),\n",
       "  ('u', 'i', 'o'),\n",
       "  ('u', 'o', 'i')},\n",
       " ('a', 'e', 'n', 't'): {('e', 'a', 't'), ('e', 'n', 't')},\n",
       " ('e',): {('e', 'e', 'e')},\n",
       " ('e', 'o', 't'): {('e', 'o', 't'),\n",
       "  ('e', 't', 'o'),\n",
       "  ('o', 'e', 't'),\n",
       "  ('o', 't', 'e'),\n",
       "  ('t', 'e', 'o'),\n",
       "  ('t', 'o', 'e')},\n",
       " ('e', 'i'): {('e', 'i', 'i'), ('i', 'e', 'i')},\n",
       " ('e', 'i', 'o'): {('e', 'i', 'o'),\n",
       "  ('e', 'o', 'i'),\n",
       "  ('i', 'e', 'o'),\n",
       "  ('i', 'o', 'e'),\n",
       "  ('o', 'e', 'i'),\n",
       "  ('o', 'i', 'e')},\n",
       " ('d', 'e', 'n', 't'): {('t', 'n', 'd')},\n",
       " ('d', 'i', 'n', 't'): {('t', 'n', 'i')},\n",
       " ('d', 'e', 'i', 't'): {('i', 't', 'd'), ('t', 'd', 'i')},\n",
       " ('t',): {('t', 't', 't')},\n",
       " ('i', 'o', 't'): {('i', 'o', 't'),\n",
       "  ('i', 't', 'o'),\n",
       "  ('o', 'i', 't'),\n",
       "  ('o', 't', 'i'),\n",
       "  ('t', 'i', 'o'),\n",
       "  ('t', 'o', 'i')},\n",
       " ('e', 'i', 'n', 't'): {('i', 't', 'e')},\n",
       " ('o',): {('o', 'o', 'o')}}"
      ]
     },
     "execution_count": 119,
     "metadata": {},
     "output_type": "execute_result"
    }
   ],
   "source": [
    "mtslia(data, 3)"
   ]
  },
  {
   "cell_type": "markdown",
   "metadata": {},
   "source": [
    "# A brute-force MTSL inference algorithm"
   ]
  },
  {
   "cell_type": "markdown",
   "metadata": {},
   "source": [
    "Intentionally discards overlapping tiers. Has a very unwieldy section responsible for that."
   ]
  },
  {
   "cell_type": "code",
   "execution_count": 120,
   "metadata": {},
   "outputs": [],
   "source": [
    "def project(datum, k, tier, edges):\n",
    "    result = tuple()\n",
    "    for segment in datum:\n",
    "        if segment in tier:\n",
    "            result += (segment,)\n",
    "    return (edges[0],) * (k - 1) + result + (edges[1],) * (k - 1)\n",
    "\n",
    "def brute_force(data, k=2, edges=('>', '<')):\n",
    "    alpha = tuple(sorted(extract_alphabet(data)))\n",
    "    grammar = {}\n",
    "    overlap_check = collections.defaultdict(set)\n",
    "    for mask in itertools.product((True, False), repeat=len(alpha)):\n",
    "        tier = tuple(itertools.compress(alpha, mask))\n",
    "        unattested = set(kg for kg in itertools.product(tier + edges, repeat=k) if valid_k_gram(kg, edges))\n",
    "        for datum in data:\n",
    "            projection = project(datum, k, tier, edges)\n",
    "            for offset in range(len(projection) - k + 1):\n",
    "                k_gram = projection[offset:(offset + k)]\n",
    "                if k_gram in unattested:\n",
    "                    unattested.remove(k_gram)\n",
    "        if unattested:\n",
    "            # <unwieldy-section>\n",
    "            skip = set()\n",
    "            for kg in unattested:\n",
    "                if overlap_check[kg]:\n",
    "                    updated = True\n",
    "                    while updated:\n",
    "                        updated = False\n",
    "                        for rival in set(overlap_check[kg]):\n",
    "                            if not set(tier).issubset(rival) and not set(rival).issubset(tier):\n",
    "                                if rival < tier:\n",
    "                                    skip.add(kg)\n",
    "                                else:\n",
    "                                    grammar[rival].remove(kg)\n",
    "                                    overlap_check[kg].remove(rival)\n",
    "                                    updated = True\n",
    "                                    break\n",
    "                            else:\n",
    "                                subset, superset = tier, rival\n",
    "                                if set(superset).issubset(subset):\n",
    "                                    subset, superset = superset, subset\n",
    "                                if superset == tier:\n",
    "                                    skip.add(kg)\n",
    "                                else:\n",
    "                                    grammar[superset].remove(kg)\n",
    "                                    overlap_check[kg].remove(superset)\n",
    "                                    updated = True\n",
    "                                    break\n",
    "                if kg not in skip:\n",
    "                    overlap_check[kg].add(tier)\n",
    "            # </unwieldy-section>\n",
    "            grammar[tier] = unattested - skip\n",
    "    return grammar"
   ]
  },
  {
   "cell_type": "markdown",
   "metadata": {},
   "source": [
    "# Randomized shootout"
   ]
  },
  {
   "cell_type": "markdown",
   "metadata": {},
   "source": [
    "Use alphabets that are prefixes of the following:"
   ]
  },
  {
   "cell_type": "code",
   "execution_count": 121,
   "metadata": {},
   "outputs": [],
   "source": [
    "letters = 'aiuzsf'"
   ]
  },
  {
   "cell_type": "markdown",
   "metadata": {},
   "source": [
    "We are interested in _k_ = 3:"
   ]
  },
  {
   "cell_type": "code",
   "execution_count": 122,
   "metadata": {},
   "outputs": [],
   "source": [
    "k = 3"
   ]
  },
  {
   "cell_type": "markdown",
   "metadata": {},
   "source": [
    "Define some testing machinery:"
   ]
  },
  {
   "cell_type": "code",
   "execution_count": 123,
   "metadata": {},
   "outputs": [],
   "source": [
    "def scan(string, k, grammar, edges=('>', '<')):\n",
    "    for tier in grammar:\n",
    "        projection = project(string, k, tier, edges)\n",
    "        for offset in range(len(projection) - k + 1):\n",
    "            k_gram = projection[offset:(offset + k)]\n",
    "            if k_gram in grammar[tier]:\n",
    "                return False\n",
    "    return True\n",
    "\n",
    "def test(G1, G2, data, k, limit):\n",
    "    alpha = extract_alphabet(data)\n",
    "    for n in range(1, limit):\n",
    "        for string in itertools.product(alpha, repeat=n):\n",
    "            if scan(string, k, G1) != scan(string, k, G2):\n",
    "                print(string, scan(string, k, G1), scan(string, k, G2))\n",
    "                return False\n",
    "    return True"
   ]
  },
  {
   "cell_type": "markdown",
   "metadata": {},
   "source": [
    "Repeatedly feed our _k_-MTSLIA and the brute-force version random identical datasets:"
   ]
  },
  {
   "cell_type": "code",
   "execution_count": 124,
   "metadata": {},
   "outputs": [
    {
     "data": {
      "text/html": [
       "<h2>Dataset</h2>"
      ],
      "text/plain": [
       "<IPython.core.display.HTML object>"
      ]
     },
     "metadata": {},
     "output_type": "display_data"
    },
    {
     "name": "stdout",
     "output_type": "stream",
     "text": [
      "uuzassu\n",
      "aaiia\n",
      "a\n",
      "iususszss\n",
      "ziiiaiz\n",
      "ziaiii\n",
      "uuiaisaizu\n",
      "aa\n",
      "asssssz\n",
      "sz\n",
      "zuaiaza\n",
      "\n"
     ]
    },
    {
     "data": {
      "text/html": [
       "<h2><em>k</em>-MTSLIA</h2>"
      ],
      "text/plain": [
       "<IPython.core.display.HTML object>"
      ]
     },
     "metadata": {},
     "output_type": "display_data"
    },
    {
     "data": {
      "text/html": [
       "<p style=\"color: teal; margin-bottom: 0;\"><strong>Tier:</strong> a, i</p>"
      ],
      "text/plain": [
       "<IPython.core.display.HTML object>"
      ]
     },
     "metadata": {},
     "output_type": "display_data"
    },
    {
     "data": {
      "text/html": [
       "<p style=\"color: teal; margin-bottom: 10px;\">*aaa</p>"
      ],
      "text/plain": [
       "<IPython.core.display.HTML object>"
      ]
     },
     "metadata": {},
     "output_type": "display_data"
    },
    {
     "data": {
      "text/html": [
       "<p style=\"color: teal; margin-bottom: 0;\"><strong>Tier:</strong> a, i, s</p>"
      ],
      "text/plain": [
       "<IPython.core.display.HTML object>"
      ]
     },
     "metadata": {},
     "output_type": "display_data"
    },
    {
     "data": {
      "text/html": [
       "<p style=\"color: teal; margin-bottom: 10px;\">*>i<, *>ss, *asa, *asi, *ias, *iis, *isi, *sa<, *si<, *sia</p>"
      ],
      "text/plain": [
       "<IPython.core.display.HTML object>"
      ]
     },
     "metadata": {},
     "output_type": "display_data"
    },
    {
     "data": {
      "text/html": [
       "<p style=\"color: teal; margin-bottom: 0;\"><strong>Tier:</strong> a, i, s, u</p>"
      ],
      "text/plain": [
       "<IPython.core.display.HTML object>"
      ]
     },
     "metadata": {},
     "output_type": "display_data"
    },
    {
     "data": {
      "text/html": [
       "<p style=\"color: teal; margin-bottom: 10px;\">*au<, *sau, *siu</p>"
      ],
      "text/plain": [
       "<IPython.core.display.HTML object>"
      ]
     },
     "metadata": {},
     "output_type": "display_data"
    },
    {
     "data": {
      "text/html": [
       "<p style=\"color: teal; margin-bottom: 0;\"><strong>Tier:</strong> a, i, s, u, z</p>"
      ],
      "text/plain": [
       "<IPython.core.display.HTML object>"
      ]
     },
     "metadata": {},
     "output_type": "display_data"
    },
    {
     "data": {
      "text/html": [
       "<p style=\"color: teal; margin-bottom: 10px;\">*uas</p>"
      ],
      "text/plain": [
       "<IPython.core.display.HTML object>"
      ]
     },
     "metadata": {},
     "output_type": "display_data"
    },
    {
     "data": {
      "text/html": [
       "<p style=\"color: teal; margin-bottom: 0;\"><strong>Tier:</strong> a, i, s, z</p>"
      ],
      "text/plain": [
       "<IPython.core.display.HTML object>"
      ]
     },
     "metadata": {},
     "output_type": "display_data"
    },
    {
     "data": {
      "text/html": [
       "<p style=\"color: teal; margin-bottom: 10px;\">*az<, *saz, *siz</p>"
      ],
      "text/plain": [
       "<IPython.core.display.HTML object>"
      ]
     },
     "metadata": {},
     "output_type": "display_data"
    },
    {
     "data": {
      "text/html": [
       "<p style=\"color: teal; margin-bottom: 0;\"><strong>Tier:</strong> a, i, u</p>"
      ],
      "text/plain": [
       "<IPython.core.display.HTML object>"
      ]
     },
     "metadata": {},
     "output_type": "display_data"
    },
    {
     "data": {
      "text/html": [
       "<p style=\"color: teal; margin-bottom: 10px;\">*>ai, *>ui, *aau, *aui, *iau, *iiu, *iua, *uaa, *ui<, *uii</p>"
      ],
      "text/plain": [
       "<IPython.core.display.HTML object>"
      ]
     },
     "metadata": {},
     "output_type": "display_data"
    },
    {
     "data": {
      "text/html": [
       "<p style=\"color: teal; margin-bottom: 0;\"><strong>Tier:</strong> a, i, u, z</p>"
      ],
      "text/plain": [
       "<IPython.core.display.HTML object>"
      ]
     },
     "metadata": {},
     "output_type": "display_data"
    },
    {
     "data": {
      "text/html": [
       "<p style=\"color: teal; margin-bottom: 10px;\">*>ia, *>za, *aiu, *azu, *uiz, *uua, *zai, *zui</p>"
      ],
      "text/plain": [
       "<IPython.core.display.HTML object>"
      ]
     },
     "metadata": {},
     "output_type": "display_data"
    },
    {
     "data": {
      "text/html": [
       "<p style=\"color: teal; margin-bottom: 0;\"><strong>Tier:</strong> a, i, z</p>"
      ],
      "text/plain": [
       "<IPython.core.display.HTML object>"
      ]
     },
     "metadata": {},
     "output_type": "display_data"
    },
    {
     "data": {
      "text/html": [
       "<p style=\"color: teal; margin-bottom: 10px;\">*>ii, *aaz, *ai<, *azi, *iaa, *iiz, *iza, *zaa, *zaz, *ziz</p>"
      ],
      "text/plain": [
       "<IPython.core.display.HTML object>"
      ]
     },
     "metadata": {},
     "output_type": "display_data"
    },
    {
     "data": {
      "text/html": [
       "<p style=\"color: teal; margin-bottom: 0;\"><strong>Tier:</strong> a, s</p>"
      ],
      "text/plain": [
       "<IPython.core.display.HTML object>"
      ]
     },
     "metadata": {},
     "output_type": "display_data"
    },
    {
     "data": {
      "text/html": [
       "<p style=\"color: teal; margin-bottom: 10px;\">*>sa, *aas, *as<, *saa, *sas, *ssa</p>"
      ],
      "text/plain": [
       "<IPython.core.display.HTML object>"
      ]
     },
     "metadata": {},
     "output_type": "display_data"
    },
    {
     "data": {
      "text/html": [
       "<p style=\"color: teal; margin-bottom: 0;\"><strong>Tier:</strong> a, s, u</p>"
      ],
      "text/plain": [
       "<IPython.core.display.HTML object>"
      ]
     },
     "metadata": {},
     "output_type": "display_data"
    },
    {
     "data": {
      "text/html": [
       "<p style=\"color: teal; margin-bottom: 10px;\">*asu, *aus, *sua, *uau, *usa, *uus</p>"
      ],
      "text/plain": [
       "<IPython.core.display.HTML object>"
      ]
     },
     "metadata": {},
     "output_type": "display_data"
    },
    {
     "data": {
      "text/html": [
       "<p style=\"color: teal; margin-bottom: 0;\"><strong>Tier:</strong> a, s, u, z</p>"
      ],
      "text/plain": [
       "<IPython.core.display.HTML object>"
      ]
     },
     "metadata": {},
     "output_type": "display_data"
    },
    {
     "data": {
      "text/html": [
       "<p style=\"color: teal; margin-bottom: 10px;\">*szu, *usz, *uz<, *uzs, *zau</p>"
      ],
      "text/plain": [
       "<IPython.core.display.HTML object>"
      ]
     },
     "metadata": {},
     "output_type": "display_data"
    },
    {
     "data": {
      "text/html": [
       "<p style=\"color: teal; margin-bottom: 0;\"><strong>Tier:</strong> a, s, z</p>"
      ],
      "text/plain": [
       "<IPython.core.display.HTML object>"
      ]
     },
     "metadata": {},
     "output_type": "display_data"
    },
    {
     "data": {
      "text/html": [
       "<p style=\"color: teal; margin-bottom: 10px;\">*>az, *>z<, *>zs, *asz, *azs, *sza, *zsa</p>"
      ],
      "text/plain": [
       "<IPython.core.display.HTML object>"
      ]
     },
     "metadata": {},
     "output_type": "display_data"
    },
    {
     "data": {
      "text/html": [
       "<p style=\"color: teal; margin-bottom: 0;\"><strong>Tier:</strong> a, u</p>"
      ],
      "text/plain": [
       "<IPython.core.display.HTML object>"
      ]
     },
     "metadata": {},
     "output_type": "display_data"
    },
    {
     "data": {
      "text/html": [
       "<p style=\"color: teal; margin-bottom: 10px;\">*>au, *>u<, *aua, *auu, *ua<, *uuu</p>"
      ],
      "text/plain": [
       "<IPython.core.display.HTML object>"
      ]
     },
     "metadata": {},
     "output_type": "display_data"
    },
    {
     "data": {
      "text/html": [
       "<p style=\"color: teal; margin-bottom: 0;\"><strong>Tier:</strong> a, u, z</p>"
      ],
      "text/plain": [
       "<IPython.core.display.HTML object>"
      ]
     },
     "metadata": {},
     "output_type": "display_data"
    },
    {
     "data": {
      "text/html": [
       "<p style=\"color: teal; margin-bottom: 10px;\">*>ua, *auz, *uaz, *uzu, *zuz</p>"
      ],
      "text/plain": [
       "<IPython.core.display.HTML object>"
      ]
     },
     "metadata": {},
     "output_type": "display_data"
    },
    {
     "data": {
      "text/html": [
       "<p style=\"color: teal; margin-bottom: 0;\"><strong>Tier:</strong> a, z</p>"
      ],
      "text/plain": [
       "<IPython.core.display.HTML object>"
      ]
     },
     "metadata": {},
     "output_type": "display_data"
    },
    {
     "data": {
      "text/html": [
       "<p style=\"color: teal; margin-bottom: 10px;\">*>zz, *azz, *zz<, *zza</p>"
      ],
      "text/plain": [
       "<IPython.core.display.HTML object>"
      ]
     },
     "metadata": {},
     "output_type": "display_data"
    },
    {
     "data": {
      "text/html": [
       "<p style=\"color: teal; margin-bottom: 0;\"><strong>Tier:</strong> i, s</p>"
      ],
      "text/plain": [
       "<IPython.core.display.HTML object>"
      ]
     },
     "metadata": {},
     "output_type": "display_data"
    },
    {
     "data": {
      "text/html": [
       "<p style=\"color: teal; margin-bottom: 10px;\">*>si, *is<, *sii, *sis, *ssi</p>"
      ],
      "text/plain": [
       "<IPython.core.display.HTML object>"
      ]
     },
     "metadata": {},
     "output_type": "display_data"
    },
    {
     "data": {
      "text/html": [
       "<p style=\"color: teal; margin-bottom: 0;\"><strong>Tier:</strong> i, s, u</p>"
      ],
      "text/plain": [
       "<IPython.core.display.HTML object>"
      ]
     },
     "metadata": {},
     "output_type": "display_data"
    },
    {
     "data": {
      "text/html": [
       "<p style=\"color: teal; margin-bottom: 10px;\">*>is, *>us, *iss, *isu, *iuu, *sui, *uis, *usi</p>"
      ],
      "text/plain": [
       "<IPython.core.display.HTML object>"
      ]
     },
     "metadata": {},
     "output_type": "display_data"
    },
    {
     "data": {
      "text/html": [
       "<p style=\"color: teal; margin-bottom: 0;\"><strong>Tier:</strong> i, s, z</p>"
      ],
      "text/plain": [
       "<IPython.core.display.HTML object>"
      ]
     },
     "metadata": {},
     "output_type": "display_data"
    },
    {
     "data": {
      "text/html": [
       "<p style=\"color: teal; margin-bottom: 10px;\">*>iz, *isz, *izs, *szi, *zis, *zsi</p>"
      ],
      "text/plain": [
       "<IPython.core.display.HTML object>"
      ]
     },
     "metadata": {},
     "output_type": "display_data"
    },
    {
     "data": {
      "text/html": [
       "<p style=\"color: teal; margin-bottom: 0;\"><strong>Tier:</strong> i, u</p>"
      ],
      "text/plain": [
       "<IPython.core.display.HTML object>"
      ]
     },
     "metadata": {},
     "output_type": "display_data"
    },
    {
     "data": {
      "text/html": [
       "<p style=\"color: teal; margin-bottom: 10px;\">*iui, *uiu</p>"
      ],
      "text/plain": [
       "<IPython.core.display.HTML object>"
      ]
     },
     "metadata": {},
     "output_type": "display_data"
    },
    {
     "data": {
      "text/html": [
       "<p style=\"color: teal; margin-bottom: 0;\"><strong>Tier:</strong> i, u, z</p>"
      ],
      "text/plain": [
       "<IPython.core.display.HTML object>"
      ]
     },
     "metadata": {},
     "output_type": "display_data"
    },
    {
     "data": {
      "text/html": [
       "<p style=\"color: teal; margin-bottom: 10px;\">*iu<, *iuz, *uzi, *ziu</p>"
      ],
      "text/plain": [
       "<IPython.core.display.HTML object>"
      ]
     },
     "metadata": {},
     "output_type": "display_data"
    },
    {
     "data": {
      "text/html": [
       "<p style=\"color: teal; margin-bottom: 0;\"><strong>Tier:</strong> i, z</p>"
      ],
      "text/plain": [
       "<IPython.core.display.HTML object>"
      ]
     },
     "metadata": {},
     "output_type": "display_data"
    },
    {
     "data": {
      "text/html": [
       "<p style=\"color: teal; margin-bottom: 10px;\">*izi, *izz, *zi<, *zzi</p>"
      ],
      "text/plain": [
       "<IPython.core.display.HTML object>"
      ]
     },
     "metadata": {},
     "output_type": "display_data"
    },
    {
     "data": {
      "text/html": [
       "<p style=\"color: teal; margin-bottom: 0;\"><strong>Tier:</strong> s, u</p>"
      ],
      "text/plain": [
       "<IPython.core.display.HTML object>"
      ]
     },
     "metadata": {},
     "output_type": "display_data"
    },
    {
     "data": {
      "text/html": [
       "<p style=\"color: teal; margin-bottom: 10px;\">*>su, *suu, *us<, *uu<</p>"
      ],
      "text/plain": [
       "<IPython.core.display.HTML object>"
      ]
     },
     "metadata": {},
     "output_type": "display_data"
    },
    {
     "data": {
      "text/html": [
       "<p style=\"color: teal; margin-bottom: 0;\"><strong>Tier:</strong> s, u, z</p>"
      ],
      "text/plain": [
       "<IPython.core.display.HTML object>"
      ]
     },
     "metadata": {},
     "output_type": "display_data"
    },
    {
     "data": {
      "text/html": [
       "<p style=\"color: teal; margin-bottom: 10px;\">*suz, *zsu, *zus</p>"
      ],
      "text/plain": [
       "<IPython.core.display.HTML object>"
      ]
     },
     "metadata": {},
     "output_type": "display_data"
    },
    {
     "data": {
      "text/html": [
       "<p style=\"color: teal; margin-bottom: 0;\"><strong>Tier:</strong> s, z</p>"
      ],
      "text/plain": [
       "<IPython.core.display.HTML object>"
      ]
     },
     "metadata": {},
     "output_type": "display_data"
    },
    {
     "data": {
      "text/html": [
       "<p style=\"color: teal; margin-bottom: 10px;\">*>s<, *szz, *zs<, *zsz, *zzs</p>"
      ],
      "text/plain": [
       "<IPython.core.display.HTML object>"
      ]
     },
     "metadata": {},
     "output_type": "display_data"
    },
    {
     "data": {
      "text/html": [
       "<p style=\"color: teal; margin-bottom: 0;\"><strong>Tier:</strong> u, z</p>"
      ],
      "text/plain": [
       "<IPython.core.display.HTML object>"
      ]
     },
     "metadata": {},
     "output_type": "display_data"
    },
    {
     "data": {
      "text/html": [
       "<p style=\"color: teal; margin-bottom: 10px;\">*>uz, *uzz, *zuu, *zzu</p>"
      ],
      "text/plain": [
       "<IPython.core.display.HTML object>"
      ]
     },
     "metadata": {},
     "output_type": "display_data"
    },
    {
     "data": {
      "text/html": [
       "<p style=\"color: teal; margin-bottom: 0;\"><strong>Tier:</strong> z</p>"
      ],
      "text/plain": [
       "<IPython.core.display.HTML object>"
      ]
     },
     "metadata": {},
     "output_type": "display_data"
    },
    {
     "data": {
      "text/html": [
       "<p style=\"color: teal; margin-bottom: 10px;\">*zzz</p>"
      ],
      "text/plain": [
       "<IPython.core.display.HTML object>"
      ]
     },
     "metadata": {},
     "output_type": "display_data"
    },
    {
     "name": "stdout",
     "output_type": "stream",
     "text": [
      "\n"
     ]
    },
    {
     "data": {
      "text/html": [
       "<h2>Brute force</h2>"
      ],
      "text/plain": [
       "<IPython.core.display.HTML object>"
      ]
     },
     "metadata": {},
     "output_type": "display_data"
    },
    {
     "data": {
      "text/html": [
       "<p style=\"color: purple; margin-bottom: 0;\"><strong>Tier:</strong> a, i</p>"
      ],
      "text/plain": [
       "<IPython.core.display.HTML object>"
      ]
     },
     "metadata": {},
     "output_type": "display_data"
    },
    {
     "data": {
      "text/html": [
       "<p style=\"color: purple; margin-bottom: 10px;\">*aaa</p>"
      ],
      "text/plain": [
       "<IPython.core.display.HTML object>"
      ]
     },
     "metadata": {},
     "output_type": "display_data"
    },
    {
     "data": {
      "text/html": [
       "<p style=\"color: purple; margin-bottom: 0;\"><strong>Tier:</strong> a, i, s</p>"
      ],
      "text/plain": [
       "<IPython.core.display.HTML object>"
      ]
     },
     "metadata": {},
     "output_type": "display_data"
    },
    {
     "data": {
      "text/html": [
       "<p style=\"color: purple; margin-bottom: 10px;\">*>i<, *>ss, *asa, *asi, *ias, *iis, *isi, *sa<, *si<, *sia</p>"
      ],
      "text/plain": [
       "<IPython.core.display.HTML object>"
      ]
     },
     "metadata": {},
     "output_type": "display_data"
    },
    {
     "data": {
      "text/html": [
       "<p style=\"color: purple; margin-bottom: 0;\"><strong>Tier:</strong> a, i, s, u</p>"
      ],
      "text/plain": [
       "<IPython.core.display.HTML object>"
      ]
     },
     "metadata": {},
     "output_type": "display_data"
    },
    {
     "data": {
      "text/html": [
       "<p style=\"color: purple; margin-bottom: 10px;\">*au<, *sau, *siu</p>"
      ],
      "text/plain": [
       "<IPython.core.display.HTML object>"
      ]
     },
     "metadata": {},
     "output_type": "display_data"
    },
    {
     "data": {
      "text/html": [
       "<p style=\"color: purple; margin-bottom: 0;\"><strong>Tier:</strong> a, i, s, u, z</p>"
      ],
      "text/plain": [
       "<IPython.core.display.HTML object>"
      ]
     },
     "metadata": {},
     "output_type": "display_data"
    },
    {
     "data": {
      "text/html": [
       "<p style=\"color: purple; margin-bottom: 10px;\">*uas</p>"
      ],
      "text/plain": [
       "<IPython.core.display.HTML object>"
      ]
     },
     "metadata": {},
     "output_type": "display_data"
    },
    {
     "data": {
      "text/html": [
       "<p style=\"color: purple; margin-bottom: 0;\"><strong>Tier:</strong> a, i, s, z</p>"
      ],
      "text/plain": [
       "<IPython.core.display.HTML object>"
      ]
     },
     "metadata": {},
     "output_type": "display_data"
    },
    {
     "data": {
      "text/html": [
       "<p style=\"color: purple; margin-bottom: 10px;\">*az<, *saz, *siz</p>"
      ],
      "text/plain": [
       "<IPython.core.display.HTML object>"
      ]
     },
     "metadata": {},
     "output_type": "display_data"
    },
    {
     "data": {
      "text/html": [
       "<p style=\"color: purple; margin-bottom: 0;\"><strong>Tier:</strong> a, i, u</p>"
      ],
      "text/plain": [
       "<IPython.core.display.HTML object>"
      ]
     },
     "metadata": {},
     "output_type": "display_data"
    },
    {
     "data": {
      "text/html": [
       "<p style=\"color: purple; margin-bottom: 10px;\">*>ai, *>ui, *aau, *aui, *iau, *iiu, *iua, *uaa, *ui<, *uii</p>"
      ],
      "text/plain": [
       "<IPython.core.display.HTML object>"
      ]
     },
     "metadata": {},
     "output_type": "display_data"
    },
    {
     "data": {
      "text/html": [
       "<p style=\"color: purple; margin-bottom: 0;\"><strong>Tier:</strong> a, i, u, z</p>"
      ],
      "text/plain": [
       "<IPython.core.display.HTML object>"
      ]
     },
     "metadata": {},
     "output_type": "display_data"
    },
    {
     "data": {
      "text/html": [
       "<p style=\"color: purple; margin-bottom: 10px;\">*>ia, *>za, *aiu, *azu, *uiz, *uua, *zai, *zui</p>"
      ],
      "text/plain": [
       "<IPython.core.display.HTML object>"
      ]
     },
     "metadata": {},
     "output_type": "display_data"
    },
    {
     "data": {
      "text/html": [
       "<p style=\"color: purple; margin-bottom: 0;\"><strong>Tier:</strong> a, i, z</p>"
      ],
      "text/plain": [
       "<IPython.core.display.HTML object>"
      ]
     },
     "metadata": {},
     "output_type": "display_data"
    },
    {
     "data": {
      "text/html": [
       "<p style=\"color: purple; margin-bottom: 10px;\">*>ii, *aaz, *ai<, *azi, *iaa, *iiz, *iza, *zaa, *zaz, *ziz</p>"
      ],
      "text/plain": [
       "<IPython.core.display.HTML object>"
      ]
     },
     "metadata": {},
     "output_type": "display_data"
    },
    {
     "data": {
      "text/html": [
       "<p style=\"color: purple; margin-bottom: 0;\"><strong>Tier:</strong> a, s</p>"
      ],
      "text/plain": [
       "<IPython.core.display.HTML object>"
      ]
     },
     "metadata": {},
     "output_type": "display_data"
    },
    {
     "data": {
      "text/html": [
       "<p style=\"color: purple; margin-bottom: 10px;\">*>sa, *aas, *as<, *saa, *sas, *ssa</p>"
      ],
      "text/plain": [
       "<IPython.core.display.HTML object>"
      ]
     },
     "metadata": {},
     "output_type": "display_data"
    },
    {
     "data": {
      "text/html": [
       "<p style=\"color: purple; margin-bottom: 0;\"><strong>Tier:</strong> a, s, u</p>"
      ],
      "text/plain": [
       "<IPython.core.display.HTML object>"
      ]
     },
     "metadata": {},
     "output_type": "display_data"
    },
    {
     "data": {
      "text/html": [
       "<p style=\"color: purple; margin-bottom: 10px;\">*asu, *aus, *sua, *uau, *usa, *uus</p>"
      ],
      "text/plain": [
       "<IPython.core.display.HTML object>"
      ]
     },
     "metadata": {},
     "output_type": "display_data"
    },
    {
     "data": {
      "text/html": [
       "<p style=\"color: purple; margin-bottom: 0;\"><strong>Tier:</strong> a, s, u, z</p>"
      ],
      "text/plain": [
       "<IPython.core.display.HTML object>"
      ]
     },
     "metadata": {},
     "output_type": "display_data"
    },
    {
     "data": {
      "text/html": [
       "<p style=\"color: purple; margin-bottom: 10px;\">*szu, *usz, *uz<, *uzs, *zau</p>"
      ],
      "text/plain": [
       "<IPython.core.display.HTML object>"
      ]
     },
     "metadata": {},
     "output_type": "display_data"
    },
    {
     "data": {
      "text/html": [
       "<p style=\"color: purple; margin-bottom: 0;\"><strong>Tier:</strong> a, s, z</p>"
      ],
      "text/plain": [
       "<IPython.core.display.HTML object>"
      ]
     },
     "metadata": {},
     "output_type": "display_data"
    },
    {
     "data": {
      "text/html": [
       "<p style=\"color: purple; margin-bottom: 10px;\">*>az, *>z<, *>zs, *asz, *azs, *sza, *zsa</p>"
      ],
      "text/plain": [
       "<IPython.core.display.HTML object>"
      ]
     },
     "metadata": {},
     "output_type": "display_data"
    },
    {
     "data": {
      "text/html": [
       "<p style=\"color: purple; margin-bottom: 0;\"><strong>Tier:</strong> a, u</p>"
      ],
      "text/plain": [
       "<IPython.core.display.HTML object>"
      ]
     },
     "metadata": {},
     "output_type": "display_data"
    },
    {
     "data": {
      "text/html": [
       "<p style=\"color: purple; margin-bottom: 10px;\">*>au, *>u<, *aua, *auu, *ua<, *uuu</p>"
      ],
      "text/plain": [
       "<IPython.core.display.HTML object>"
      ]
     },
     "metadata": {},
     "output_type": "display_data"
    },
    {
     "data": {
      "text/html": [
       "<p style=\"color: purple; margin-bottom: 0;\"><strong>Tier:</strong> a, u, z</p>"
      ],
      "text/plain": [
       "<IPython.core.display.HTML object>"
      ]
     },
     "metadata": {},
     "output_type": "display_data"
    },
    {
     "data": {
      "text/html": [
       "<p style=\"color: purple; margin-bottom: 10px;\">*>ua, *auz, *uaz, *uzu, *zuz</p>"
      ],
      "text/plain": [
       "<IPython.core.display.HTML object>"
      ]
     },
     "metadata": {},
     "output_type": "display_data"
    },
    {
     "data": {
      "text/html": [
       "<p style=\"color: purple; margin-bottom: 0;\"><strong>Tier:</strong> a, z</p>"
      ],
      "text/plain": [
       "<IPython.core.display.HTML object>"
      ]
     },
     "metadata": {},
     "output_type": "display_data"
    },
    {
     "data": {
      "text/html": [
       "<p style=\"color: purple; margin-bottom: 10px;\">*>zz, *azz, *zz<, *zza</p>"
      ],
      "text/plain": [
       "<IPython.core.display.HTML object>"
      ]
     },
     "metadata": {},
     "output_type": "display_data"
    },
    {
     "data": {
      "text/html": [
       "<p style=\"color: purple; margin-bottom: 0;\"><strong>Tier:</strong> i, s</p>"
      ],
      "text/plain": [
       "<IPython.core.display.HTML object>"
      ]
     },
     "metadata": {},
     "output_type": "display_data"
    },
    {
     "data": {
      "text/html": [
       "<p style=\"color: purple; margin-bottom: 10px;\">*>si, *is<, *sii, *sis, *ssi</p>"
      ],
      "text/plain": [
       "<IPython.core.display.HTML object>"
      ]
     },
     "metadata": {},
     "output_type": "display_data"
    },
    {
     "data": {
      "text/html": [
       "<p style=\"color: purple; margin-bottom: 0;\"><strong>Tier:</strong> i, s, u</p>"
      ],
      "text/plain": [
       "<IPython.core.display.HTML object>"
      ]
     },
     "metadata": {},
     "output_type": "display_data"
    },
    {
     "data": {
      "text/html": [
       "<p style=\"color: purple; margin-bottom: 10px;\">*>is, *>us, *iss, *isu, *iuu, *sui, *uis, *usi</p>"
      ],
      "text/plain": [
       "<IPython.core.display.HTML object>"
      ]
     },
     "metadata": {},
     "output_type": "display_data"
    },
    {
     "data": {
      "text/html": [
       "<p style=\"color: purple; margin-bottom: 0;\"><strong>Tier:</strong> i, s, z</p>"
      ],
      "text/plain": [
       "<IPython.core.display.HTML object>"
      ]
     },
     "metadata": {},
     "output_type": "display_data"
    },
    {
     "data": {
      "text/html": [
       "<p style=\"color: purple; margin-bottom: 10px;\">*>iz, *isz, *izs, *szi, *zis, *zsi</p>"
      ],
      "text/plain": [
       "<IPython.core.display.HTML object>"
      ]
     },
     "metadata": {},
     "output_type": "display_data"
    },
    {
     "data": {
      "text/html": [
       "<p style=\"color: purple; margin-bottom: 0;\"><strong>Tier:</strong> i, u</p>"
      ],
      "text/plain": [
       "<IPython.core.display.HTML object>"
      ]
     },
     "metadata": {},
     "output_type": "display_data"
    },
    {
     "data": {
      "text/html": [
       "<p style=\"color: purple; margin-bottom: 10px;\">*iui, *uiu</p>"
      ],
      "text/plain": [
       "<IPython.core.display.HTML object>"
      ]
     },
     "metadata": {},
     "output_type": "display_data"
    },
    {
     "data": {
      "text/html": [
       "<p style=\"color: purple; margin-bottom: 0;\"><strong>Tier:</strong> i, u, z</p>"
      ],
      "text/plain": [
       "<IPython.core.display.HTML object>"
      ]
     },
     "metadata": {},
     "output_type": "display_data"
    },
    {
     "data": {
      "text/html": [
       "<p style=\"color: purple; margin-bottom: 10px;\">*iu<, *iuz, *uzi, *ziu</p>"
      ],
      "text/plain": [
       "<IPython.core.display.HTML object>"
      ]
     },
     "metadata": {},
     "output_type": "display_data"
    },
    {
     "data": {
      "text/html": [
       "<p style=\"color: purple; margin-bottom: 0;\"><strong>Tier:</strong> i, z</p>"
      ],
      "text/plain": [
       "<IPython.core.display.HTML object>"
      ]
     },
     "metadata": {},
     "output_type": "display_data"
    },
    {
     "data": {
      "text/html": [
       "<p style=\"color: purple; margin-bottom: 10px;\">*izi, *izz, *zi<, *zzi</p>"
      ],
      "text/plain": [
       "<IPython.core.display.HTML object>"
      ]
     },
     "metadata": {},
     "output_type": "display_data"
    },
    {
     "data": {
      "text/html": [
       "<p style=\"color: purple; margin-bottom: 0;\"><strong>Tier:</strong> s, u</p>"
      ],
      "text/plain": [
       "<IPython.core.display.HTML object>"
      ]
     },
     "metadata": {},
     "output_type": "display_data"
    },
    {
     "data": {
      "text/html": [
       "<p style=\"color: purple; margin-bottom: 10px;\">*>su, *suu, *us<, *uu<</p>"
      ],
      "text/plain": [
       "<IPython.core.display.HTML object>"
      ]
     },
     "metadata": {},
     "output_type": "display_data"
    },
    {
     "data": {
      "text/html": [
       "<p style=\"color: purple; margin-bottom: 0;\"><strong>Tier:</strong> s, u, z</p>"
      ],
      "text/plain": [
       "<IPython.core.display.HTML object>"
      ]
     },
     "metadata": {},
     "output_type": "display_data"
    },
    {
     "data": {
      "text/html": [
       "<p style=\"color: purple; margin-bottom: 10px;\">*suz, *zsu, *zus</p>"
      ],
      "text/plain": [
       "<IPython.core.display.HTML object>"
      ]
     },
     "metadata": {},
     "output_type": "display_data"
    },
    {
     "data": {
      "text/html": [
       "<p style=\"color: purple; margin-bottom: 0;\"><strong>Tier:</strong> s, z</p>"
      ],
      "text/plain": [
       "<IPython.core.display.HTML object>"
      ]
     },
     "metadata": {},
     "output_type": "display_data"
    },
    {
     "data": {
      "text/html": [
       "<p style=\"color: purple; margin-bottom: 10px;\">*>s<, *szz, *zs<, *zsz, *zzs</p>"
      ],
      "text/plain": [
       "<IPython.core.display.HTML object>"
      ]
     },
     "metadata": {},
     "output_type": "display_data"
    },
    {
     "data": {
      "text/html": [
       "<p style=\"color: purple; margin-bottom: 0;\"><strong>Tier:</strong> u, z</p>"
      ],
      "text/plain": [
       "<IPython.core.display.HTML object>"
      ]
     },
     "metadata": {},
     "output_type": "display_data"
    },
    {
     "data": {
      "text/html": [
       "<p style=\"color: purple; margin-bottom: 10px;\">*>uz, *uzz, *zuu, *zzu</p>"
      ],
      "text/plain": [
       "<IPython.core.display.HTML object>"
      ]
     },
     "metadata": {},
     "output_type": "display_data"
    },
    {
     "data": {
      "text/html": [
       "<p style=\"color: purple; margin-bottom: 0;\"><strong>Tier:</strong> z</p>"
      ],
      "text/plain": [
       "<IPython.core.display.HTML object>"
      ]
     },
     "metadata": {},
     "output_type": "display_data"
    },
    {
     "data": {
      "text/html": [
       "<p style=\"color: purple; margin-bottom: 10px;\">*zzz</p>"
      ],
      "text/plain": [
       "<IPython.core.display.HTML object>"
      ]
     },
     "metadata": {},
     "output_type": "display_data"
    },
    {
     "name": "stdout",
     "output_type": "stream",
     "text": [
      "\n"
     ]
    },
    {
     "data": {
      "text/html": [
       "<hr><hr>"
      ],
      "text/plain": [
       "<IPython.core.display.HTML object>"
      ]
     },
     "metadata": {},
     "output_type": "display_data"
    },
    {
     "data": {
      "text/html": [
       "<h2>Dataset</h2>"
      ],
      "text/plain": [
       "<IPython.core.display.HTML object>"
      ]
     },
     "metadata": {},
     "output_type": "display_data"
    },
    {
     "name": "stdout",
     "output_type": "stream",
     "text": [
      "zuffuffu\n",
      "uiassisuai\n",
      "zasizf\n",
      "afzaiasz\n",
      "f\n",
      "fafu\n",
      "sf\n",
      "afaii\n",
      "sszaf\n",
      "zsas\n",
      "iazzz\n",
      "\n"
     ]
    },
    {
     "data": {
      "text/html": [
       "<h2><em>k</em>-MTSLIA</h2>"
      ],
      "text/plain": [
       "<IPython.core.display.HTML object>"
      ]
     },
     "metadata": {},
     "output_type": "display_data"
    },
    {
     "data": {
      "text/html": [
       "<p style=\"color: teal; margin-bottom: 0;\"><strong>Tier:</strong> a, f</p>"
      ],
      "text/plain": [
       "<IPython.core.display.HTML object>"
      ]
     },
     "metadata": {},
     "output_type": "display_data"
    },
    {
     "data": {
      "text/html": [
       "<p style=\"color: teal; margin-bottom: 10px;\">*aaa, *aaf, *aff, *ffa</p>"
      ],
      "text/plain": [
       "<IPython.core.display.HTML object>"
      ]
     },
     "metadata": {},
     "output_type": "display_data"
    },
    {
     "data": {
      "text/html": [
       "<p style=\"color: teal; margin-bottom: 0;\"><strong>Tier:</strong> a, f, i</p>"
      ],
      "text/plain": [
       "<IPython.core.display.HTML object>"
      ]
     },
     "metadata": {},
     "output_type": "display_data"
    },
    {
     "data": {
      "text/html": [
       "<p style=\"color: teal; margin-bottom: 10px;\">*>aa, *>fi, *>if, *aai, *afi, *fa<, *faa, *fi<, *fia, *fii, *iaf, *ifa</p>"
      ],
      "text/plain": [
       "<IPython.core.display.HTML object>"
      ]
     },
     "metadata": {},
     "output_type": "display_data"
    },
    {
     "data": {
      "text/html": [
       "<p style=\"color: teal; margin-bottom: 0;\"><strong>Tier:</strong> a, f, i, s</p>"
      ],
      "text/plain": [
       "<IPython.core.display.HTML object>"
      ]
     },
     "metadata": {},
     "output_type": "display_data"
    },
    {
     "data": {
      "text/html": [
       "<p style=\"color: teal; margin-bottom: 10px;\">*>a<, *aif, *asf, *fis, *sa<, *si<</p>"
      ],
      "text/plain": [
       "<IPython.core.display.HTML object>"
      ]
     },
     "metadata": {},
     "output_type": "display_data"
    },
    {
     "data": {
      "text/html": [
       "<p style=\"color: teal; margin-bottom: 0;\"><strong>Tier:</strong> a, f, i, s, z</p>"
      ],
      "text/plain": [
       "<IPython.core.display.HTML object>"
      ]
     },
     "metadata": {},
     "output_type": "display_data"
    },
    {
     "data": {
      "text/html": [
       "<p style=\"color: teal; margin-bottom: 10px;\">*a<<, *szf</p>"
      ],
      "text/plain": [
       "<IPython.core.display.HTML object>"
      ]
     },
     "metadata": {},
     "output_type": "display_data"
    },
    {
     "data": {
      "text/html": [
       "<p style=\"color: teal; margin-bottom: 0;\"><strong>Tier:</strong> a, f, i, z</p>"
      ],
      "text/plain": [
       "<IPython.core.display.HTML object>"
      ]
     },
     "metadata": {},
     "output_type": "display_data"
    },
    {
     "data": {
      "text/html": [
       "<p style=\"color: teal; margin-bottom: 10px;\">*>az, *azf, *fzi, *iz<</p>"
      ],
      "text/plain": [
       "<IPython.core.display.HTML object>"
      ]
     },
     "metadata": {},
     "output_type": "display_data"
    },
    {
     "data": {
      "text/html": [
       "<p style=\"color: teal; margin-bottom: 0;\"><strong>Tier:</strong> a, f, s</p>"
      ],
      "text/plain": [
       "<IPython.core.display.HTML object>"
      ]
     },
     "metadata": {},
     "output_type": "display_data"
    },
    {
     "data": {
      "text/html": [
       "<p style=\"color: teal; margin-bottom: 10px;\">*>fs, *afs, *fas, *fs<, *fsa, *sfa, *ssf</p>"
      ],
      "text/plain": [
       "<IPython.core.display.HTML object>"
      ]
     },
     "metadata": {},
     "output_type": "display_data"
    },
    {
     "data": {
      "text/html": [
       "<p style=\"color: teal; margin-bottom: 0;\"><strong>Tier:</strong> a, f, s, z</p>"
      ],
      "text/plain": [
       "<IPython.core.display.HTML object>"
      ]
     },
     "metadata": {},
     "output_type": "display_data"
    },
    {
     "data": {
      "text/html": [
       "<p style=\"color: teal; margin-bottom: 10px;\">*fzs, *saf, *za<</p>"
      ],
      "text/plain": [
       "<IPython.core.display.HTML object>"
      ]
     },
     "metadata": {},
     "output_type": "display_data"
    },
    {
     "data": {
      "text/html": [
       "<p style=\"color: teal; margin-bottom: 0;\"><strong>Tier:</strong> a, f, u</p>"
      ],
      "text/plain": [
       "<IPython.core.display.HTML object>"
      ]
     },
     "metadata": {},
     "output_type": "display_data"
    },
    {
     "data": {
      "text/html": [
       "<p style=\"color: teal; margin-bottom: 10px;\">*>au, *>ff, *>uu, *au<, *auf, *fau, *fua, *uaf, *ufa, *uu<</p>"
      ],
      "text/plain": [
       "<IPython.core.display.HTML object>"
      ]
     },
     "metadata": {},
     "output_type": "display_data"
    },
    {
     "data": {
      "text/html": [
       "<p style=\"color: teal; margin-bottom: 0;\"><strong>Tier:</strong> a, f, u, z</p>"
      ],
      "text/plain": [
       "<IPython.core.display.HTML object>"
      ]
     },
     "metadata": {},
     "output_type": "display_data"
    },
    {
     "data": {
      "text/html": [
       "<p style=\"color: teal; margin-bottom: 10px;\">*>zf</p>"
      ],
      "text/plain": [
       "<IPython.core.display.HTML object>"
      ]
     },
     "metadata": {},
     "output_type": "display_data"
    },
    {
     "data": {
      "text/html": [
       "<p style=\"color: teal; margin-bottom: 0;\"><strong>Tier:</strong> a, f, z</p>"
      ],
      "text/plain": [
       "<IPython.core.display.HTML object>"
      ]
     },
     "metadata": {},
     "output_type": "display_data"
    },
    {
     "data": {
      "text/html": [
       "<p style=\"color: teal; margin-bottom: 10px;\">*>fz, *>z<, *aza, *faz, *fzz, *zfa, *zzf</p>"
      ],
      "text/plain": [
       "<IPython.core.display.HTML object>"
      ]
     },
     "metadata": {},
     "output_type": "display_data"
    },
    {
     "data": {
      "text/html": [
       "<p style=\"color: teal; margin-bottom: 0;\"><strong>Tier:</strong> a, i</p>"
      ],
      "text/plain": [
       "<IPython.core.display.HTML object>"
      ]
     },
     "metadata": {},
     "output_type": "display_data"
    },
    {
     "data": {
      "text/html": [
       "<p style=\"color: teal; margin-bottom: 10px;\">*>i<, *>ii, *aa<, *iaa, *iia, *iii</p>"
      ],
      "text/plain": [
       "<IPython.core.display.HTML object>"
      ]
     },
     "metadata": {},
     "output_type": "display_data"
    },
    {
     "data": {
      "text/html": [
       "<p style=\"color: teal; margin-bottom: 0;\"><strong>Tier:</strong> a, i, s</p>"
      ],
      "text/plain": [
       "<IPython.core.display.HTML object>"
      ]
     },
     "metadata": {},
     "output_type": "display_data"
    },
    {
     "data": {
      "text/html": [
       "<p style=\"color: teal; margin-bottom: 10px;\">*>ai, *>is, *>si, *aas, *ais, *iai, *is<, *isi, *iss, *sia</p>"
      ],
      "text/plain": [
       "<IPython.core.display.HTML object>"
      ]
     },
     "metadata": {},
     "output_type": "display_data"
    },
    {
     "data": {
      "text/html": [
       "<p style=\"color: teal; margin-bottom: 0;\"><strong>Tier:</strong> a, i, s, u</p>"
      ],
      "text/plain": [
       "<IPython.core.display.HTML object>"
      ]
     },
     "metadata": {},
     "output_type": "display_data"
    },
    {
     "data": {
      "text/html": [
       "<p style=\"color: teal; margin-bottom: 10px;\">*aiu, *isa, *iua, *sai, *sui, *uas, *uis</p>"
      ],
      "text/plain": [
       "<IPython.core.display.HTML object>"
      ]
     },
     "metadata": {},
     "output_type": "display_data"
    },
    {
     "data": {
      "text/html": [
       "<p style=\"color: teal; margin-bottom: 0;\"><strong>Tier:</strong> a, i, s, z</p>"
      ],
      "text/plain": [
       "<IPython.core.display.HTML object>"
      ]
     },
     "metadata": {},
     "output_type": "display_data"
    },
    {
     "data": {
      "text/html": [
       "<p style=\"color: teal; margin-bottom: 10px;\">*>as, *aiz, *isz, *ssa, *zis, *zsi</p>"
      ],
      "text/plain": [
       "<IPython.core.display.HTML object>"
      ]
     },
     "metadata": {},
     "output_type": "display_data"
    },
    {
     "data": {
      "text/html": [
       "<p style=\"color: teal; margin-bottom: 0;\"><strong>Tier:</strong> a, i, u</p>"
      ],
      "text/plain": [
       "<IPython.core.display.HTML object>"
      ]
     },
     "metadata": {},
     "output_type": "display_data"
    },
    {
     "data": {
      "text/html": [
       "<p style=\"color: teal; margin-bottom: 10px;\">*>ua, *aua, *aui, *iau, *iiu, *iui, *ua<, *uau, *ui<, *uii</p>"
      ],
      "text/plain": [
       "<IPython.core.display.HTML object>"
      ]
     },
     "metadata": {},
     "output_type": "display_data"
    },
    {
     "data": {
      "text/html": [
       "<p style=\"color: teal; margin-bottom: 0;\"><strong>Tier:</strong> a, i, z</p>"
      ],
      "text/plain": [
       "<IPython.core.display.HTML object>"
      ]
     },
     "metadata": {},
     "output_type": "display_data"
    },
    {
     "data": {
      "text/html": [
       "<p style=\"color: teal; margin-bottom: 10px;\">*>iz, *>zi, *aaz, *azi, *ia<, *iza, *izz, *zaa, *zaz, *zia, *ziz</p>"
      ],
      "text/plain": [
       "<IPython.core.display.HTML object>"
      ]
     },
     "metadata": {},
     "output_type": "display_data"
    },
    {
     "data": {
      "text/html": [
       "<p style=\"color: teal; margin-bottom: 0;\"><strong>Tier:</strong> a, s</p>"
      ],
      "text/plain": [
       "<IPython.core.display.HTML object>"
      ]
     },
     "metadata": {},
     "output_type": "display_data"
    },
    {
     "data": {
      "text/html": [
       "<p style=\"color: teal; margin-bottom: 10px;\">*asa, *saa, *ss<</p>"
      ],
      "text/plain": [
       "<IPython.core.display.HTML object>"
      ]
     },
     "metadata": {},
     "output_type": "display_data"
    },
    {
     "data": {
      "text/html": [
       "<p style=\"color: teal; margin-bottom: 0;\"><strong>Tier:</strong> a, s, u</p>"
      ],
      "text/plain": [
       "<IPython.core.display.HTML object>"
      ]
     },
     "metadata": {},
     "output_type": "display_data"
    },
    {
     "data": {
      "text/html": [
       "<p style=\"color: teal; margin-bottom: 10px;\">*>us, *asu, *aus, *sau, *su<, *usa, *uss</p>"
      ],
      "text/plain": [
       "<IPython.core.display.HTML object>"
      ]
     },
     "metadata": {},
     "output_type": "display_data"
    },
    {
     "data": {
      "text/html": [
       "<p style=\"color: teal; margin-bottom: 0;\"><strong>Tier:</strong> a, s, z</p>"
      ],
      "text/plain": [
       "<IPython.core.display.HTML object>"
      ]
     },
     "metadata": {},
     "output_type": "display_data"
    },
    {
     "data": {
      "text/html": [
       "<p style=\"color: teal; margin-bottom: 10px;\">*>sa, *az<, *azs, *saz, *zss, *zsz</p>"
      ],
      "text/plain": [
       "<IPython.core.display.HTML object>"
      ]
     },
     "metadata": {},
     "output_type": "display_data"
    },
    {
     "data": {
      "text/html": [
       "<p style=\"color: teal; margin-bottom: 0;\"><strong>Tier:</strong> a, u</p>"
      ],
      "text/plain": [
       "<IPython.core.display.HTML object>"
      ]
     },
     "metadata": {},
     "output_type": "display_data"
    },
    {
     "data": {
      "text/html": [
       "<p style=\"color: teal; margin-bottom: 10px;\">*>u<, *aau, *auu, *uaa, *uua</p>"
      ],
      "text/plain": [
       "<IPython.core.display.HTML object>"
      ]
     },
     "metadata": {},
     "output_type": "display_data"
    },
    {
     "data": {
      "text/html": [
       "<p style=\"color: teal; margin-bottom: 0;\"><strong>Tier:</strong> a, u, z</p>"
      ],
      "text/plain": [
       "<IPython.core.display.HTML object>"
      ]
     },
     "metadata": {},
     "output_type": "display_data"
    },
    {
     "data": {
      "text/html": [
       "<p style=\"color: teal; margin-bottom: 10px;\">*auz, *azu, *uaz, *uza, *zau, *zua</p>"
      ],
      "text/plain": [
       "<IPython.core.display.HTML object>"
      ]
     },
     "metadata": {},
     "output_type": "display_data"
    },
    {
     "data": {
      "text/html": [
       "<p style=\"color: teal; margin-bottom: 0;\"><strong>Tier:</strong> a, z</p>"
      ],
      "text/plain": [
       "<IPython.core.display.HTML object>"
      ]
     },
     "metadata": {},
     "output_type": "display_data"
    },
    {
     "data": {
      "text/html": [
       "<p style=\"color: teal; margin-bottom: 10px;\">*>zz, *zza</p>"
      ],
      "text/plain": [
       "<IPython.core.display.HTML object>"
      ]
     },
     "metadata": {},
     "output_type": "display_data"
    },
    {
     "data": {
      "text/html": [
       "<p style=\"color: teal; margin-bottom: 0;\"><strong>Tier:</strong> f, i</p>"
      ],
      "text/plain": [
       "<IPython.core.display.HTML object>"
      ]
     },
     "metadata": {},
     "output_type": "display_data"
    },
    {
     "data": {
      "text/html": [
       "<p style=\"color: teal; margin-bottom: 10px;\">*ffi, *fif, *iff, *ifi, *iif</p>"
      ],
      "text/plain": [
       "<IPython.core.display.HTML object>"
      ]
     },
     "metadata": {},
     "output_type": "display_data"
    },
    {
     "data": {
      "text/html": [
       "<p style=\"color: teal; margin-bottom: 0;\"><strong>Tier:</strong> f, i, s</p>"
      ],
      "text/plain": [
       "<IPython.core.display.HTML object>"
      ]
     },
     "metadata": {},
     "output_type": "display_data"
    },
    {
     "data": {
      "text/html": [
       "<p style=\"color: teal; margin-bottom: 10px;\">*fsi, *ifs, *isf, *sfi</p>"
      ],
      "text/plain": [
       "<IPython.core.display.HTML object>"
      ]
     },
     "metadata": {},
     "output_type": "display_data"
    },
    {
     "data": {
      "text/html": [
       "<p style=\"color: teal; margin-bottom: 0;\"><strong>Tier:</strong> f, i, s, z</p>"
      ],
      "text/plain": [
       "<IPython.core.display.HTML object>"
      ]
     },
     "metadata": {},
     "output_type": "display_data"
    },
    {
     "data": {
      "text/html": [
       "<p style=\"color: teal; margin-bottom: 10px;\">*sif</p>"
      ],
      "text/plain": [
       "<IPython.core.display.HTML object>"
      ]
     },
     "metadata": {},
     "output_type": "display_data"
    },
    {
     "data": {
      "text/html": [
       "<p style=\"color: teal; margin-bottom: 0;\"><strong>Tier:</strong> f, i, u</p>"
      ],
      "text/plain": [
       "<IPython.core.display.HTML object>"
      ]
     },
     "metadata": {},
     "output_type": "display_data"
    },
    {
     "data": {
      "text/html": [
       "<p style=\"color: teal; margin-bottom: 10px;\">*fiu, *fui, *ifu, *iuf, *ufi, *uif</p>"
      ],
      "text/plain": [
       "<IPython.core.display.HTML object>"
      ]
     },
     "metadata": {},
     "output_type": "display_data"
    },
    {
     "data": {
      "text/html": [
       "<p style=\"color: teal; margin-bottom: 0;\"><strong>Tier:</strong> f, i, z</p>"
      ],
      "text/plain": [
       "<IPython.core.display.HTML object>"
      ]
     },
     "metadata": {},
     "output_type": "display_data"
    },
    {
     "data": {
      "text/html": [
       "<p style=\"color: teal; margin-bottom: 10px;\">*fiz, *if<, *ifz, *zfi, *zif</p>"
      ],
      "text/plain": [
       "<IPython.core.display.HTML object>"
      ]
     },
     "metadata": {},
     "output_type": "display_data"
    },
    {
     "data": {
      "text/html": [
       "<p style=\"color: teal; margin-bottom: 0;\"><strong>Tier:</strong> f, s</p>"
      ],
      "text/plain": [
       "<IPython.core.display.HTML object>"
      ]
     },
     "metadata": {},
     "output_type": "display_data"
    },
    {
     "data": {
      "text/html": [
       "<p style=\"color: teal; margin-bottom: 10px;\">*>s<, *ffs, *fsf, *fss, *sff, *sfs</p>"
      ],
      "text/plain": [
       "<IPython.core.display.HTML object>"
      ]
     },
     "metadata": {},
     "output_type": "display_data"
    },
    {
     "data": {
      "text/html": [
       "<p style=\"color: teal; margin-bottom: 0;\"><strong>Tier:</strong> f, s, u</p>"
      ],
      "text/plain": [
       "<IPython.core.display.HTML object>"
      ]
     },
     "metadata": {},
     "output_type": "display_data"
    },
    {
     "data": {
      "text/html": [
       "<p style=\"color: teal; margin-bottom: 10px;\">*fsu, *fus, *sfu, *suf, *ufs, *usf</p>"
      ],
      "text/plain": [
       "<IPython.core.display.HTML object>"
      ]
     },
     "metadata": {},
     "output_type": "display_data"
    },
    {
     "data": {
      "text/html": [
       "<p style=\"color: teal; margin-bottom: 0;\"><strong>Tier:</strong> f, s, z</p>"
      ],
      "text/plain": [
       "<IPython.core.display.HTML object>"
      ]
     },
     "metadata": {},
     "output_type": "display_data"
    },
    {
     "data": {
      "text/html": [
       "<p style=\"color: teal; margin-bottom: 10px;\">*fsz, *sfz, *zfs, *zsf</p>"
      ],
      "text/plain": [
       "<IPython.core.display.HTML object>"
      ]
     },
     "metadata": {},
     "output_type": "display_data"
    },
    {
     "data": {
      "text/html": [
       "<p style=\"color: teal; margin-bottom: 0;\"><strong>Tier:</strong> f, u</p>"
      ],
      "text/plain": [
       "<IPython.core.display.HTML object>"
      ]
     },
     "metadata": {},
     "output_type": "display_data"
    },
    {
     "data": {
      "text/html": [
       "<p style=\"color: teal; margin-bottom: 10px;\">*>fu, *ff<, *fff, *fuu, *uf<, *ufu, *uuf, *uuu</p>"
      ],
      "text/plain": [
       "<IPython.core.display.HTML object>"
      ]
     },
     "metadata": {},
     "output_type": "display_data"
    },
    {
     "data": {
      "text/html": [
       "<p style=\"color: teal; margin-bottom: 0;\"><strong>Tier:</strong> f, u, z</p>"
      ],
      "text/plain": [
       "<IPython.core.display.HTML object>"
      ]
     },
     "metadata": {},
     "output_type": "display_data"
    },
    {
     "data": {
      "text/html": [
       "<p style=\"color: teal; margin-bottom: 10px;\">*>uf, *fuz, *fzu, *ufz, *uzf, *zff, *zfu, *zuu</p>"
      ],
      "text/plain": [
       "<IPython.core.display.HTML object>"
      ]
     },
     "metadata": {},
     "output_type": "display_data"
    },
    {
     "data": {
      "text/html": [
       "<p style=\"color: teal; margin-bottom: 0;\"><strong>Tier:</strong> f, z</p>"
      ],
      "text/plain": [
       "<IPython.core.display.HTML object>"
      ]
     },
     "metadata": {},
     "output_type": "display_data"
    },
    {
     "data": {
      "text/html": [
       "<p style=\"color: teal; margin-bottom: 10px;\">*ffz, *fz<, *fzf, *zfz</p>"
      ],
      "text/plain": [
       "<IPython.core.display.HTML object>"
      ]
     },
     "metadata": {},
     "output_type": "display_data"
    },
    {
     "data": {
      "text/html": [
       "<p style=\"color: teal; margin-bottom: 0;\"><strong>Tier:</strong> i, s</p>"
      ],
      "text/plain": [
       "<IPython.core.display.HTML object>"
      ]
     },
     "metadata": {},
     "output_type": "display_data"
    },
    {
     "data": {
      "text/html": [
       "<p style=\"color: teal; margin-bottom: 10px;\">*iis, *sii, *sss</p>"
      ],
      "text/plain": [
       "<IPython.core.display.HTML object>"
      ]
     },
     "metadata": {},
     "output_type": "display_data"
    },
    {
     "data": {
      "text/html": [
       "<p style=\"color: teal; margin-bottom: 0;\"><strong>Tier:</strong> i, s, u</p>"
      ],
      "text/plain": [
       "<IPython.core.display.HTML object>"
      ]
     },
     "metadata": {},
     "output_type": "display_data"
    },
    {
     "data": {
      "text/html": [
       "<p style=\"color: teal; margin-bottom: 10px;\">*ius, *siu, *ssu, *usi</p>"
      ],
      "text/plain": [
       "<IPython.core.display.HTML object>"
      ]
     },
     "metadata": {},
     "output_type": "display_data"
    },
    {
     "data": {
      "text/html": [
       "<p style=\"color: teal; margin-bottom: 0;\"><strong>Tier:</strong> i, s, z</p>"
      ],
      "text/plain": [
       "<IPython.core.display.HTML object>"
      ]
     },
     "metadata": {},
     "output_type": "display_data"
    },
    {
     "data": {
      "text/html": [
       "<p style=\"color: teal; margin-bottom: 10px;\">*izs, *szi</p>"
      ],
      "text/plain": [
       "<IPython.core.display.HTML object>"
      ]
     },
     "metadata": {},
     "output_type": "display_data"
    },
    {
     "data": {
      "text/html": [
       "<p style=\"color: teal; margin-bottom: 0;\"><strong>Tier:</strong> i, u</p>"
      ],
      "text/plain": [
       "<IPython.core.display.HTML object>"
      ]
     },
     "metadata": {},
     "output_type": "display_data"
    },
    {
     "data": {
      "text/html": [
       "<p style=\"color: teal; margin-bottom: 10px;\">*>iu, *iu<, *iuu, *uiu, *uui</p>"
      ],
      "text/plain": [
       "<IPython.core.display.HTML object>"
      ]
     },
     "metadata": {},
     "output_type": "display_data"
    },
    {
     "data": {
      "text/html": [
       "<p style=\"color: teal; margin-bottom: 0;\"><strong>Tier:</strong> i, u, z</p>"
      ],
      "text/plain": [
       "<IPython.core.display.HTML object>"
      ]
     },
     "metadata": {},
     "output_type": "display_data"
    },
    {
     "data": {
      "text/html": [
       "<p style=\"color: teal; margin-bottom: 10px;\">*iuz, *izu, *uiz, *uzi, *ziu, *zui</p>"
      ],
      "text/plain": [
       "<IPython.core.display.HTML object>"
      ]
     },
     "metadata": {},
     "output_type": "display_data"
    },
    {
     "data": {
      "text/html": [
       "<p style=\"color: teal; margin-bottom: 0;\"><strong>Tier:</strong> i, z</p>"
      ],
      "text/plain": [
       "<IPython.core.display.HTML object>"
      ]
     },
     "metadata": {},
     "output_type": "display_data"
    },
    {
     "data": {
      "text/html": [
       "<p style=\"color: teal; margin-bottom: 10px;\">*iiz, *izi, *zi<, *zii, *zzi</p>"
      ],
      "text/plain": [
       "<IPython.core.display.HTML object>"
      ]
     },
     "metadata": {},
     "output_type": "display_data"
    },
    {
     "data": {
      "text/html": [
       "<p style=\"color: teal; margin-bottom: 0;\"><strong>Tier:</strong> s, u</p>"
      ],
      "text/plain": [
       "<IPython.core.display.HTML object>"
      ]
     },
     "metadata": {},
     "output_type": "display_data"
    },
    {
     "data": {
      "text/html": [
       "<p style=\"color: teal; margin-bottom: 10px;\">*>su, *sus, *suu, *us<, *usu, *uus</p>"
      ],
      "text/plain": [
       "<IPython.core.display.HTML object>"
      ]
     },
     "metadata": {},
     "output_type": "display_data"
    },
    {
     "data": {
      "text/html": [
       "<p style=\"color: teal; margin-bottom: 0;\"><strong>Tier:</strong> s, u, z</p>"
      ],
      "text/plain": [
       "<IPython.core.display.HTML object>"
      ]
     },
     "metadata": {},
     "output_type": "display_data"
    },
    {
     "data": {
      "text/html": [
       "<p style=\"color: teal; margin-bottom: 10px;\">*suz, *szu, *usz, *uzs, *zsu, *zus</p>"
      ],
      "text/plain": [
       "<IPython.core.display.HTML object>"
      ]
     },
     "metadata": {},
     "output_type": "display_data"
    },
    {
     "data": {
      "text/html": [
       "<p style=\"color: teal; margin-bottom: 0;\"><strong>Tier:</strong> s, z</p>"
      ],
      "text/plain": [
       "<IPython.core.display.HTML object>"
      ]
     },
     "metadata": {},
     "output_type": "display_data"
    },
    {
     "data": {
      "text/html": [
       "<p style=\"color: teal; margin-bottom: 10px;\">*>sz, *szs, *szz, *zs<, *zzs</p>"
      ],
      "text/plain": [
       "<IPython.core.display.HTML object>"
      ]
     },
     "metadata": {},
     "output_type": "display_data"
    },
    {
     "data": {
      "text/html": [
       "<p style=\"color: teal; margin-bottom: 0;\"><strong>Tier:</strong> u, z</p>"
      ],
      "text/plain": [
       "<IPython.core.display.HTML object>"
      ]
     },
     "metadata": {},
     "output_type": "display_data"
    },
    {
     "data": {
      "text/html": [
       "<p style=\"color: teal; margin-bottom: 10px;\">*>uz, *uuz, *uz<, *uzu, *uzz, *zu<, *zuz, *zzu</p>"
      ],
      "text/plain": [
       "<IPython.core.display.HTML object>"
      ]
     },
     "metadata": {},
     "output_type": "display_data"
    },
    {
     "name": "stdout",
     "output_type": "stream",
     "text": [
      "\n"
     ]
    },
    {
     "data": {
      "text/html": [
       "<h2>Brute force</h2>"
      ],
      "text/plain": [
       "<IPython.core.display.HTML object>"
      ]
     },
     "metadata": {},
     "output_type": "display_data"
    },
    {
     "data": {
      "text/html": [
       "<p style=\"color: purple; margin-bottom: 0;\"><strong>Tier:</strong> a, f</p>"
      ],
      "text/plain": [
       "<IPython.core.display.HTML object>"
      ]
     },
     "metadata": {},
     "output_type": "display_data"
    },
    {
     "data": {
      "text/html": [
       "<p style=\"color: purple; margin-bottom: 10px;\">*aaa, *aaf, *aff, *ffa</p>"
      ],
      "text/plain": [
       "<IPython.core.display.HTML object>"
      ]
     },
     "metadata": {},
     "output_type": "display_data"
    },
    {
     "data": {
      "text/html": [
       "<p style=\"color: purple; margin-bottom: 0;\"><strong>Tier:</strong> a, f, i</p>"
      ],
      "text/plain": [
       "<IPython.core.display.HTML object>"
      ]
     },
     "metadata": {},
     "output_type": "display_data"
    },
    {
     "data": {
      "text/html": [
       "<p style=\"color: purple; margin-bottom: 10px;\">*>aa, *>fi, *>if, *aai, *afi, *fa<, *faa, *fi<, *fia, *fii, *iaf, *ifa</p>"
      ],
      "text/plain": [
       "<IPython.core.display.HTML object>"
      ]
     },
     "metadata": {},
     "output_type": "display_data"
    },
    {
     "data": {
      "text/html": [
       "<p style=\"color: purple; margin-bottom: 0;\"><strong>Tier:</strong> a, f, i, s</p>"
      ],
      "text/plain": [
       "<IPython.core.display.HTML object>"
      ]
     },
     "metadata": {},
     "output_type": "display_data"
    },
    {
     "data": {
      "text/html": [
       "<p style=\"color: purple; margin-bottom: 10px;\">*>a<, *aif, *asf, *fis, *sa<, *si<</p>"
      ],
      "text/plain": [
       "<IPython.core.display.HTML object>"
      ]
     },
     "metadata": {},
     "output_type": "display_data"
    },
    {
     "data": {
      "text/html": [
       "<p style=\"color: purple; margin-bottom: 0;\"><strong>Tier:</strong> a, f, i, s, z</p>"
      ],
      "text/plain": [
       "<IPython.core.display.HTML object>"
      ]
     },
     "metadata": {},
     "output_type": "display_data"
    },
    {
     "data": {
      "text/html": [
       "<p style=\"color: purple; margin-bottom: 10px;\">*a<<, *szf</p>"
      ],
      "text/plain": [
       "<IPython.core.display.HTML object>"
      ]
     },
     "metadata": {},
     "output_type": "display_data"
    },
    {
     "data": {
      "text/html": [
       "<p style=\"color: purple; margin-bottom: 0;\"><strong>Tier:</strong> a, f, i, z</p>"
      ],
      "text/plain": [
       "<IPython.core.display.HTML object>"
      ]
     },
     "metadata": {},
     "output_type": "display_data"
    },
    {
     "data": {
      "text/html": [
       "<p style=\"color: purple; margin-bottom: 10px;\">*>az, *azf, *fzi, *iz<</p>"
      ],
      "text/plain": [
       "<IPython.core.display.HTML object>"
      ]
     },
     "metadata": {},
     "output_type": "display_data"
    },
    {
     "data": {
      "text/html": [
       "<p style=\"color: purple; margin-bottom: 0;\"><strong>Tier:</strong> a, f, s</p>"
      ],
      "text/plain": [
       "<IPython.core.display.HTML object>"
      ]
     },
     "metadata": {},
     "output_type": "display_data"
    },
    {
     "data": {
      "text/html": [
       "<p style=\"color: purple; margin-bottom: 10px;\">*>fs, *afs, *fas, *fs<, *fsa, *sfa, *ssf</p>"
      ],
      "text/plain": [
       "<IPython.core.display.HTML object>"
      ]
     },
     "metadata": {},
     "output_type": "display_data"
    },
    {
     "data": {
      "text/html": [
       "<p style=\"color: purple; margin-bottom: 0;\"><strong>Tier:</strong> a, f, s, z</p>"
      ],
      "text/plain": [
       "<IPython.core.display.HTML object>"
      ]
     },
     "metadata": {},
     "output_type": "display_data"
    },
    {
     "data": {
      "text/html": [
       "<p style=\"color: purple; margin-bottom: 10px;\">*fzs, *saf, *za<</p>"
      ],
      "text/plain": [
       "<IPython.core.display.HTML object>"
      ]
     },
     "metadata": {},
     "output_type": "display_data"
    },
    {
     "data": {
      "text/html": [
       "<p style=\"color: purple; margin-bottom: 0;\"><strong>Tier:</strong> a, f, u</p>"
      ],
      "text/plain": [
       "<IPython.core.display.HTML object>"
      ]
     },
     "metadata": {},
     "output_type": "display_data"
    },
    {
     "data": {
      "text/html": [
       "<p style=\"color: purple; margin-bottom: 10px;\">*>au, *>ff, *>uu, *au<, *auf, *fau, *fua, *uaf, *ufa, *uu<</p>"
      ],
      "text/plain": [
       "<IPython.core.display.HTML object>"
      ]
     },
     "metadata": {},
     "output_type": "display_data"
    },
    {
     "data": {
      "text/html": [
       "<p style=\"color: purple; margin-bottom: 0;\"><strong>Tier:</strong> a, f, u, z</p>"
      ],
      "text/plain": [
       "<IPython.core.display.HTML object>"
      ]
     },
     "metadata": {},
     "output_type": "display_data"
    },
    {
     "data": {
      "text/html": [
       "<p style=\"color: purple; margin-bottom: 10px;\">*>zf</p>"
      ],
      "text/plain": [
       "<IPython.core.display.HTML object>"
      ]
     },
     "metadata": {},
     "output_type": "display_data"
    },
    {
     "data": {
      "text/html": [
       "<p style=\"color: purple; margin-bottom: 0;\"><strong>Tier:</strong> a, f, z</p>"
      ],
      "text/plain": [
       "<IPython.core.display.HTML object>"
      ]
     },
     "metadata": {},
     "output_type": "display_data"
    },
    {
     "data": {
      "text/html": [
       "<p style=\"color: purple; margin-bottom: 10px;\">*>fz, *>z<, *aza, *faz, *fzz, *zfa, *zzf</p>"
      ],
      "text/plain": [
       "<IPython.core.display.HTML object>"
      ]
     },
     "metadata": {},
     "output_type": "display_data"
    },
    {
     "data": {
      "text/html": [
       "<p style=\"color: purple; margin-bottom: 0;\"><strong>Tier:</strong> a, i</p>"
      ],
      "text/plain": [
       "<IPython.core.display.HTML object>"
      ]
     },
     "metadata": {},
     "output_type": "display_data"
    },
    {
     "data": {
      "text/html": [
       "<p style=\"color: purple; margin-bottom: 10px;\">*>i<, *>ii, *aa<, *iaa, *iia, *iii</p>"
      ],
      "text/plain": [
       "<IPython.core.display.HTML object>"
      ]
     },
     "metadata": {},
     "output_type": "display_data"
    },
    {
     "data": {
      "text/html": [
       "<p style=\"color: purple; margin-bottom: 0;\"><strong>Tier:</strong> a, i, s</p>"
      ],
      "text/plain": [
       "<IPython.core.display.HTML object>"
      ]
     },
     "metadata": {},
     "output_type": "display_data"
    },
    {
     "data": {
      "text/html": [
       "<p style=\"color: purple; margin-bottom: 10px;\">*>ai, *>is, *>si, *aas, *ais, *iai, *is<, *isi, *iss, *sia</p>"
      ],
      "text/plain": [
       "<IPython.core.display.HTML object>"
      ]
     },
     "metadata": {},
     "output_type": "display_data"
    },
    {
     "data": {
      "text/html": [
       "<p style=\"color: purple; margin-bottom: 0;\"><strong>Tier:</strong> a, i, s, u</p>"
      ],
      "text/plain": [
       "<IPython.core.display.HTML object>"
      ]
     },
     "metadata": {},
     "output_type": "display_data"
    },
    {
     "data": {
      "text/html": [
       "<p style=\"color: purple; margin-bottom: 10px;\">*aiu, *isa, *iua, *sai, *sui, *uas, *uis</p>"
      ],
      "text/plain": [
       "<IPython.core.display.HTML object>"
      ]
     },
     "metadata": {},
     "output_type": "display_data"
    },
    {
     "data": {
      "text/html": [
       "<p style=\"color: purple; margin-bottom: 0;\"><strong>Tier:</strong> a, i, s, z</p>"
      ],
      "text/plain": [
       "<IPython.core.display.HTML object>"
      ]
     },
     "metadata": {},
     "output_type": "display_data"
    },
    {
     "data": {
      "text/html": [
       "<p style=\"color: purple; margin-bottom: 10px;\">*>as, *aiz, *isz, *ssa, *zis, *zsi</p>"
      ],
      "text/plain": [
       "<IPython.core.display.HTML object>"
      ]
     },
     "metadata": {},
     "output_type": "display_data"
    },
    {
     "data": {
      "text/html": [
       "<p style=\"color: purple; margin-bottom: 0;\"><strong>Tier:</strong> a, i, u</p>"
      ],
      "text/plain": [
       "<IPython.core.display.HTML object>"
      ]
     },
     "metadata": {},
     "output_type": "display_data"
    },
    {
     "data": {
      "text/html": [
       "<p style=\"color: purple; margin-bottom: 10px;\">*>ua, *aua, *aui, *iau, *iiu, *iui, *ua<, *uau, *ui<, *uii</p>"
      ],
      "text/plain": [
       "<IPython.core.display.HTML object>"
      ]
     },
     "metadata": {},
     "output_type": "display_data"
    },
    {
     "data": {
      "text/html": [
       "<p style=\"color: purple; margin-bottom: 0;\"><strong>Tier:</strong> a, i, z</p>"
      ],
      "text/plain": [
       "<IPython.core.display.HTML object>"
      ]
     },
     "metadata": {},
     "output_type": "display_data"
    },
    {
     "data": {
      "text/html": [
       "<p style=\"color: purple; margin-bottom: 10px;\">*>iz, *>zi, *aaz, *azi, *ia<, *iza, *izz, *zaa, *zaz, *zia, *ziz</p>"
      ],
      "text/plain": [
       "<IPython.core.display.HTML object>"
      ]
     },
     "metadata": {},
     "output_type": "display_data"
    },
    {
     "data": {
      "text/html": [
       "<p style=\"color: purple; margin-bottom: 0;\"><strong>Tier:</strong> a, s</p>"
      ],
      "text/plain": [
       "<IPython.core.display.HTML object>"
      ]
     },
     "metadata": {},
     "output_type": "display_data"
    },
    {
     "data": {
      "text/html": [
       "<p style=\"color: purple; margin-bottom: 10px;\">*asa, *saa, *ss<</p>"
      ],
      "text/plain": [
       "<IPython.core.display.HTML object>"
      ]
     },
     "metadata": {},
     "output_type": "display_data"
    },
    {
     "data": {
      "text/html": [
       "<p style=\"color: purple; margin-bottom: 0;\"><strong>Tier:</strong> a, s, u</p>"
      ],
      "text/plain": [
       "<IPython.core.display.HTML object>"
      ]
     },
     "metadata": {},
     "output_type": "display_data"
    },
    {
     "data": {
      "text/html": [
       "<p style=\"color: purple; margin-bottom: 10px;\">*>us, *asu, *aus, *sau, *su<, *usa, *uss</p>"
      ],
      "text/plain": [
       "<IPython.core.display.HTML object>"
      ]
     },
     "metadata": {},
     "output_type": "display_data"
    },
    {
     "data": {
      "text/html": [
       "<p style=\"color: purple; margin-bottom: 0;\"><strong>Tier:</strong> a, s, z</p>"
      ],
      "text/plain": [
       "<IPython.core.display.HTML object>"
      ]
     },
     "metadata": {},
     "output_type": "display_data"
    },
    {
     "data": {
      "text/html": [
       "<p style=\"color: purple; margin-bottom: 10px;\">*>sa, *az<, *azs, *saz, *zss, *zsz</p>"
      ],
      "text/plain": [
       "<IPython.core.display.HTML object>"
      ]
     },
     "metadata": {},
     "output_type": "display_data"
    },
    {
     "data": {
      "text/html": [
       "<p style=\"color: purple; margin-bottom: 0;\"><strong>Tier:</strong> a, u</p>"
      ],
      "text/plain": [
       "<IPython.core.display.HTML object>"
      ]
     },
     "metadata": {},
     "output_type": "display_data"
    },
    {
     "data": {
      "text/html": [
       "<p style=\"color: purple; margin-bottom: 10px;\">*>u<, *aau, *auu, *uaa, *uua</p>"
      ],
      "text/plain": [
       "<IPython.core.display.HTML object>"
      ]
     },
     "metadata": {},
     "output_type": "display_data"
    },
    {
     "data": {
      "text/html": [
       "<p style=\"color: purple; margin-bottom: 0;\"><strong>Tier:</strong> a, u, z</p>"
      ],
      "text/plain": [
       "<IPython.core.display.HTML object>"
      ]
     },
     "metadata": {},
     "output_type": "display_data"
    },
    {
     "data": {
      "text/html": [
       "<p style=\"color: purple; margin-bottom: 10px;\">*auz, *azu, *uaz, *uza, *zau, *zua</p>"
      ],
      "text/plain": [
       "<IPython.core.display.HTML object>"
      ]
     },
     "metadata": {},
     "output_type": "display_data"
    },
    {
     "data": {
      "text/html": [
       "<p style=\"color: purple; margin-bottom: 0;\"><strong>Tier:</strong> a, z</p>"
      ],
      "text/plain": [
       "<IPython.core.display.HTML object>"
      ]
     },
     "metadata": {},
     "output_type": "display_data"
    },
    {
     "data": {
      "text/html": [
       "<p style=\"color: purple; margin-bottom: 10px;\">*>zz, *zza</p>"
      ],
      "text/plain": [
       "<IPython.core.display.HTML object>"
      ]
     },
     "metadata": {},
     "output_type": "display_data"
    },
    {
     "data": {
      "text/html": [
       "<p style=\"color: purple; margin-bottom: 0;\"><strong>Tier:</strong> f, i</p>"
      ],
      "text/plain": [
       "<IPython.core.display.HTML object>"
      ]
     },
     "metadata": {},
     "output_type": "display_data"
    },
    {
     "data": {
      "text/html": [
       "<p style=\"color: purple; margin-bottom: 10px;\">*ffi, *fif, *iff, *ifi, *iif</p>"
      ],
      "text/plain": [
       "<IPython.core.display.HTML object>"
      ]
     },
     "metadata": {},
     "output_type": "display_data"
    },
    {
     "data": {
      "text/html": [
       "<p style=\"color: purple; margin-bottom: 0;\"><strong>Tier:</strong> f, i, s</p>"
      ],
      "text/plain": [
       "<IPython.core.display.HTML object>"
      ]
     },
     "metadata": {},
     "output_type": "display_data"
    },
    {
     "data": {
      "text/html": [
       "<p style=\"color: purple; margin-bottom: 10px;\">*fsi, *ifs, *isf, *sfi</p>"
      ],
      "text/plain": [
       "<IPython.core.display.HTML object>"
      ]
     },
     "metadata": {},
     "output_type": "display_data"
    },
    {
     "data": {
      "text/html": [
       "<p style=\"color: purple; margin-bottom: 0;\"><strong>Tier:</strong> f, i, s, z</p>"
      ],
      "text/plain": [
       "<IPython.core.display.HTML object>"
      ]
     },
     "metadata": {},
     "output_type": "display_data"
    },
    {
     "data": {
      "text/html": [
       "<p style=\"color: purple; margin-bottom: 10px;\">*sif</p>"
      ],
      "text/plain": [
       "<IPython.core.display.HTML object>"
      ]
     },
     "metadata": {},
     "output_type": "display_data"
    },
    {
     "data": {
      "text/html": [
       "<p style=\"color: purple; margin-bottom: 0;\"><strong>Tier:</strong> f, i, u</p>"
      ],
      "text/plain": [
       "<IPython.core.display.HTML object>"
      ]
     },
     "metadata": {},
     "output_type": "display_data"
    },
    {
     "data": {
      "text/html": [
       "<p style=\"color: purple; margin-bottom: 10px;\">*fiu, *fui, *ifu, *iuf, *ufi, *uif</p>"
      ],
      "text/plain": [
       "<IPython.core.display.HTML object>"
      ]
     },
     "metadata": {},
     "output_type": "display_data"
    },
    {
     "data": {
      "text/html": [
       "<p style=\"color: purple; margin-bottom: 0;\"><strong>Tier:</strong> f, i, z</p>"
      ],
      "text/plain": [
       "<IPython.core.display.HTML object>"
      ]
     },
     "metadata": {},
     "output_type": "display_data"
    },
    {
     "data": {
      "text/html": [
       "<p style=\"color: purple; margin-bottom: 10px;\">*fiz, *if<, *ifz, *zfi, *zif</p>"
      ],
      "text/plain": [
       "<IPython.core.display.HTML object>"
      ]
     },
     "metadata": {},
     "output_type": "display_data"
    },
    {
     "data": {
      "text/html": [
       "<p style=\"color: purple; margin-bottom: 0;\"><strong>Tier:</strong> f, s</p>"
      ],
      "text/plain": [
       "<IPython.core.display.HTML object>"
      ]
     },
     "metadata": {},
     "output_type": "display_data"
    },
    {
     "data": {
      "text/html": [
       "<p style=\"color: purple; margin-bottom: 10px;\">*>s<, *ffs, *fsf, *fss, *sff, *sfs</p>"
      ],
      "text/plain": [
       "<IPython.core.display.HTML object>"
      ]
     },
     "metadata": {},
     "output_type": "display_data"
    },
    {
     "data": {
      "text/html": [
       "<p style=\"color: purple; margin-bottom: 0;\"><strong>Tier:</strong> f, s, u</p>"
      ],
      "text/plain": [
       "<IPython.core.display.HTML object>"
      ]
     },
     "metadata": {},
     "output_type": "display_data"
    },
    {
     "data": {
      "text/html": [
       "<p style=\"color: purple; margin-bottom: 10px;\">*fsu, *fus, *sfu, *suf, *ufs, *usf</p>"
      ],
      "text/plain": [
       "<IPython.core.display.HTML object>"
      ]
     },
     "metadata": {},
     "output_type": "display_data"
    },
    {
     "data": {
      "text/html": [
       "<p style=\"color: purple; margin-bottom: 0;\"><strong>Tier:</strong> f, s, z</p>"
      ],
      "text/plain": [
       "<IPython.core.display.HTML object>"
      ]
     },
     "metadata": {},
     "output_type": "display_data"
    },
    {
     "data": {
      "text/html": [
       "<p style=\"color: purple; margin-bottom: 10px;\">*fsz, *sfz, *zfs, *zsf</p>"
      ],
      "text/plain": [
       "<IPython.core.display.HTML object>"
      ]
     },
     "metadata": {},
     "output_type": "display_data"
    },
    {
     "data": {
      "text/html": [
       "<p style=\"color: purple; margin-bottom: 0;\"><strong>Tier:</strong> f, u</p>"
      ],
      "text/plain": [
       "<IPython.core.display.HTML object>"
      ]
     },
     "metadata": {},
     "output_type": "display_data"
    },
    {
     "data": {
      "text/html": [
       "<p style=\"color: purple; margin-bottom: 10px;\">*>fu, *ff<, *fff, *fuu, *uf<, *ufu, *uuf, *uuu</p>"
      ],
      "text/plain": [
       "<IPython.core.display.HTML object>"
      ]
     },
     "metadata": {},
     "output_type": "display_data"
    },
    {
     "data": {
      "text/html": [
       "<p style=\"color: purple; margin-bottom: 0;\"><strong>Tier:</strong> f, u, z</p>"
      ],
      "text/plain": [
       "<IPython.core.display.HTML object>"
      ]
     },
     "metadata": {},
     "output_type": "display_data"
    },
    {
     "data": {
      "text/html": [
       "<p style=\"color: purple; margin-bottom: 10px;\">*>uf, *fuz, *fzu, *ufz, *uzf, *zff, *zfu, *zuu</p>"
      ],
      "text/plain": [
       "<IPython.core.display.HTML object>"
      ]
     },
     "metadata": {},
     "output_type": "display_data"
    },
    {
     "data": {
      "text/html": [
       "<p style=\"color: purple; margin-bottom: 0;\"><strong>Tier:</strong> f, z</p>"
      ],
      "text/plain": [
       "<IPython.core.display.HTML object>"
      ]
     },
     "metadata": {},
     "output_type": "display_data"
    },
    {
     "data": {
      "text/html": [
       "<p style=\"color: purple; margin-bottom: 10px;\">*ffz, *fz<, *fzf, *zfz</p>"
      ],
      "text/plain": [
       "<IPython.core.display.HTML object>"
      ]
     },
     "metadata": {},
     "output_type": "display_data"
    },
    {
     "data": {
      "text/html": [
       "<p style=\"color: purple; margin-bottom: 0;\"><strong>Tier:</strong> i, s</p>"
      ],
      "text/plain": [
       "<IPython.core.display.HTML object>"
      ]
     },
     "metadata": {},
     "output_type": "display_data"
    },
    {
     "data": {
      "text/html": [
       "<p style=\"color: purple; margin-bottom: 10px;\">*iis, *sii, *sss</p>"
      ],
      "text/plain": [
       "<IPython.core.display.HTML object>"
      ]
     },
     "metadata": {},
     "output_type": "display_data"
    },
    {
     "data": {
      "text/html": [
       "<p style=\"color: purple; margin-bottom: 0;\"><strong>Tier:</strong> i, s, u</p>"
      ],
      "text/plain": [
       "<IPython.core.display.HTML object>"
      ]
     },
     "metadata": {},
     "output_type": "display_data"
    },
    {
     "data": {
      "text/html": [
       "<p style=\"color: purple; margin-bottom: 10px;\">*ius, *siu, *ssu, *usi</p>"
      ],
      "text/plain": [
       "<IPython.core.display.HTML object>"
      ]
     },
     "metadata": {},
     "output_type": "display_data"
    },
    {
     "data": {
      "text/html": [
       "<p style=\"color: purple; margin-bottom: 0;\"><strong>Tier:</strong> i, s, z</p>"
      ],
      "text/plain": [
       "<IPython.core.display.HTML object>"
      ]
     },
     "metadata": {},
     "output_type": "display_data"
    },
    {
     "data": {
      "text/html": [
       "<p style=\"color: purple; margin-bottom: 10px;\">*izs, *szi</p>"
      ],
      "text/plain": [
       "<IPython.core.display.HTML object>"
      ]
     },
     "metadata": {},
     "output_type": "display_data"
    },
    {
     "data": {
      "text/html": [
       "<p style=\"color: purple; margin-bottom: 0;\"><strong>Tier:</strong> i, u</p>"
      ],
      "text/plain": [
       "<IPython.core.display.HTML object>"
      ]
     },
     "metadata": {},
     "output_type": "display_data"
    },
    {
     "data": {
      "text/html": [
       "<p style=\"color: purple; margin-bottom: 10px;\">*>iu, *iu<, *iuu, *uiu, *uui</p>"
      ],
      "text/plain": [
       "<IPython.core.display.HTML object>"
      ]
     },
     "metadata": {},
     "output_type": "display_data"
    },
    {
     "data": {
      "text/html": [
       "<p style=\"color: purple; margin-bottom: 0;\"><strong>Tier:</strong> i, u, z</p>"
      ],
      "text/plain": [
       "<IPython.core.display.HTML object>"
      ]
     },
     "metadata": {},
     "output_type": "display_data"
    },
    {
     "data": {
      "text/html": [
       "<p style=\"color: purple; margin-bottom: 10px;\">*iuz, *izu, *uiz, *uzi, *ziu, *zui</p>"
      ],
      "text/plain": [
       "<IPython.core.display.HTML object>"
      ]
     },
     "metadata": {},
     "output_type": "display_data"
    },
    {
     "data": {
      "text/html": [
       "<p style=\"color: purple; margin-bottom: 0;\"><strong>Tier:</strong> i, z</p>"
      ],
      "text/plain": [
       "<IPython.core.display.HTML object>"
      ]
     },
     "metadata": {},
     "output_type": "display_data"
    },
    {
     "data": {
      "text/html": [
       "<p style=\"color: purple; margin-bottom: 10px;\">*iiz, *izi, *zi<, *zii, *zzi</p>"
      ],
      "text/plain": [
       "<IPython.core.display.HTML object>"
      ]
     },
     "metadata": {},
     "output_type": "display_data"
    },
    {
     "data": {
      "text/html": [
       "<p style=\"color: purple; margin-bottom: 0;\"><strong>Tier:</strong> s, u</p>"
      ],
      "text/plain": [
       "<IPython.core.display.HTML object>"
      ]
     },
     "metadata": {},
     "output_type": "display_data"
    },
    {
     "data": {
      "text/html": [
       "<p style=\"color: purple; margin-bottom: 10px;\">*>su, *sus, *suu, *us<, *usu, *uus</p>"
      ],
      "text/plain": [
       "<IPython.core.display.HTML object>"
      ]
     },
     "metadata": {},
     "output_type": "display_data"
    },
    {
     "data": {
      "text/html": [
       "<p style=\"color: purple; margin-bottom: 0;\"><strong>Tier:</strong> s, u, z</p>"
      ],
      "text/plain": [
       "<IPython.core.display.HTML object>"
      ]
     },
     "metadata": {},
     "output_type": "display_data"
    },
    {
     "data": {
      "text/html": [
       "<p style=\"color: purple; margin-bottom: 10px;\">*suz, *szu, *usz, *uzs, *zsu, *zus</p>"
      ],
      "text/plain": [
       "<IPython.core.display.HTML object>"
      ]
     },
     "metadata": {},
     "output_type": "display_data"
    },
    {
     "data": {
      "text/html": [
       "<p style=\"color: purple; margin-bottom: 0;\"><strong>Tier:</strong> s, z</p>"
      ],
      "text/plain": [
       "<IPython.core.display.HTML object>"
      ]
     },
     "metadata": {},
     "output_type": "display_data"
    },
    {
     "data": {
      "text/html": [
       "<p style=\"color: purple; margin-bottom: 10px;\">*>sz, *szs, *szz, *zs<, *zzs</p>"
      ],
      "text/plain": [
       "<IPython.core.display.HTML object>"
      ]
     },
     "metadata": {},
     "output_type": "display_data"
    },
    {
     "data": {
      "text/html": [
       "<p style=\"color: purple; margin-bottom: 0;\"><strong>Tier:</strong> u, z</p>"
      ],
      "text/plain": [
       "<IPython.core.display.HTML object>"
      ]
     },
     "metadata": {},
     "output_type": "display_data"
    },
    {
     "data": {
      "text/html": [
       "<p style=\"color: purple; margin-bottom: 10px;\">*>uz, *uuz, *uz<, *uzu, *uzz, *zu<, *zuz, *zzu</p>"
      ],
      "text/plain": [
       "<IPython.core.display.HTML object>"
      ]
     },
     "metadata": {},
     "output_type": "display_data"
    },
    {
     "name": "stdout",
     "output_type": "stream",
     "text": [
      "\n"
     ]
    },
    {
     "data": {
      "text/html": [
       "<hr><hr>"
      ],
      "text/plain": [
       "<IPython.core.display.HTML object>"
      ]
     },
     "metadata": {},
     "output_type": "display_data"
    },
    {
     "data": {
      "text/html": [
       "<h2>Dataset</h2>"
      ],
      "text/plain": [
       "<IPython.core.display.HTML object>"
      ]
     },
     "metadata": {},
     "output_type": "display_data"
    },
    {
     "name": "stdout",
     "output_type": "stream",
     "text": [
      "aiauai\n",
      "uuiaaa\n",
      "ua\n",
      "iiuuiiui\n",
      "uiuuiiaui\n",
      "auaiiauua\n",
      "uaai\n",
      "uu\n",
      "\n"
     ]
    },
    {
     "data": {
      "text/html": [
       "<h2><em>k</em>-MTSLIA</h2>"
      ],
      "text/plain": [
       "<IPython.core.display.HTML object>"
      ]
     },
     "metadata": {},
     "output_type": "display_data"
    },
    {
     "data": {
      "text/html": [
       "<p style=\"color: teal; margin-bottom: 0;\"><strong>Tier:</strong> a, i</p>"
      ],
      "text/plain": [
       "<IPython.core.display.HTML object>"
      ]
     },
     "metadata": {},
     "output_type": "display_data"
    },
    {
     "data": {
      "text/html": [
       "<p style=\"color: teal; margin-bottom: 10px;\">*>i<, *ia<</p>"
      ],
      "text/plain": [
       "<IPython.core.display.HTML object>"
      ]
     },
     "metadata": {},
     "output_type": "display_data"
    },
    {
     "data": {
      "text/html": [
       "<p style=\"color: teal; margin-bottom: 0;\"><strong>Tier:</strong> a, i, u</p>"
      ],
      "text/plain": [
       "<IPython.core.display.HTML object>"
      ]
     },
     "metadata": {},
     "output_type": "display_data"
    },
    {
     "data": {
      "text/html": [
       "<p style=\"color: teal; margin-bottom: 10px;\">*>aa, *>ia, *>iu, *aau, *aiu, *au<, *iai, *iua, *uau</p>"
      ],
      "text/plain": [
       "<IPython.core.display.HTML object>"
      ]
     },
     "metadata": {},
     "output_type": "display_data"
    },
    {
     "data": {
      "text/html": [
       "<p style=\"color: teal; margin-bottom: 0;\"><strong>Tier:</strong> a, u</p>"
      ],
      "text/plain": [
       "<IPython.core.display.HTML object>"
      ]
     },
     "metadata": {},
     "output_type": "display_data"
    },
    {
     "data": {
      "text/html": [
       "<p style=\"color: teal; margin-bottom: 10px;\">*>a<, *>u<</p>"
      ],
      "text/plain": [
       "<IPython.core.display.HTML object>"
      ]
     },
     "metadata": {},
     "output_type": "display_data"
    },
    {
     "data": {
      "text/html": [
       "<p style=\"color: teal; margin-bottom: 0;\"><strong>Tier:</strong> i, u</p>"
      ],
      "text/plain": [
       "<IPython.core.display.HTML object>"
      ]
     },
     "metadata": {},
     "output_type": "display_data"
    },
    {
     "data": {
      "text/html": [
       "<p style=\"color: teal; margin-bottom: 10px;\">*ii<, *iii, *iu<, *uuu</p>"
      ],
      "text/plain": [
       "<IPython.core.display.HTML object>"
      ]
     },
     "metadata": {},
     "output_type": "display_data"
    },
    {
     "name": "stdout",
     "output_type": "stream",
     "text": [
      "\n"
     ]
    },
    {
     "data": {
      "text/html": [
       "<h2>Brute force</h2>"
      ],
      "text/plain": [
       "<IPython.core.display.HTML object>"
      ]
     },
     "metadata": {},
     "output_type": "display_data"
    },
    {
     "data": {
      "text/html": [
       "<p style=\"color: purple; margin-bottom: 0;\"><strong>Tier:</strong> a, i</p>"
      ],
      "text/plain": [
       "<IPython.core.display.HTML object>"
      ]
     },
     "metadata": {},
     "output_type": "display_data"
    },
    {
     "data": {
      "text/html": [
       "<p style=\"color: purple; margin-bottom: 10px;\">*>i<, *ia<</p>"
      ],
      "text/plain": [
       "<IPython.core.display.HTML object>"
      ]
     },
     "metadata": {},
     "output_type": "display_data"
    },
    {
     "data": {
      "text/html": [
       "<p style=\"color: purple; margin-bottom: 0;\"><strong>Tier:</strong> a, i, u</p>"
      ],
      "text/plain": [
       "<IPython.core.display.HTML object>"
      ]
     },
     "metadata": {},
     "output_type": "display_data"
    },
    {
     "data": {
      "text/html": [
       "<p style=\"color: purple; margin-bottom: 10px;\">*>aa, *>ia, *>iu, *aau, *aiu, *au<, *iai, *iua, *uau</p>"
      ],
      "text/plain": [
       "<IPython.core.display.HTML object>"
      ]
     },
     "metadata": {},
     "output_type": "display_data"
    },
    {
     "data": {
      "text/html": [
       "<p style=\"color: purple; margin-bottom: 0;\"><strong>Tier:</strong> a, u</p>"
      ],
      "text/plain": [
       "<IPython.core.display.HTML object>"
      ]
     },
     "metadata": {},
     "output_type": "display_data"
    },
    {
     "data": {
      "text/html": [
       "<p style=\"color: purple; margin-bottom: 10px;\">*>a<, *>u<</p>"
      ],
      "text/plain": [
       "<IPython.core.display.HTML object>"
      ]
     },
     "metadata": {},
     "output_type": "display_data"
    },
    {
     "data": {
      "text/html": [
       "<p style=\"color: purple; margin-bottom: 0;\"><strong>Tier:</strong> i, u</p>"
      ],
      "text/plain": [
       "<IPython.core.display.HTML object>"
      ]
     },
     "metadata": {},
     "output_type": "display_data"
    },
    {
     "data": {
      "text/html": [
       "<p style=\"color: purple; margin-bottom: 10px;\">*ii<, *iii, *iu<, *uuu</p>"
      ],
      "text/plain": [
       "<IPython.core.display.HTML object>"
      ]
     },
     "metadata": {},
     "output_type": "display_data"
    },
    {
     "name": "stdout",
     "output_type": "stream",
     "text": [
      "\n"
     ]
    },
    {
     "data": {
      "text/html": [
       "<hr><hr>"
      ],
      "text/plain": [
       "<IPython.core.display.HTML object>"
      ]
     },
     "metadata": {},
     "output_type": "display_data"
    },
    {
     "data": {
      "text/html": [
       "<h2>Dataset</h2>"
      ],
      "text/plain": [
       "<IPython.core.display.HTML object>"
      ]
     },
     "metadata": {},
     "output_type": "display_data"
    },
    {
     "name": "stdout",
     "output_type": "stream",
     "text": [
      "iaaiaiaa\n",
      "iia\n",
      "iiiaaii\n",
      "iai\n",
      "aaaiaa\n",
      "ia\n",
      "ai\n",
      "iiiiiaaa\n",
      "iaaia\n",
      "aiiaaiiaii\n",
      "iiaaa\n",
      "iaaiiaia\n",
      "aa\n",
      "aiaaaa\n",
      "aaaaiaai\n",
      "iiiiiaia\n",
      "iiiai\n",
      "i\n",
      "aiaiaa\n",
      "aiaiaii\n",
      "\n"
     ]
    },
    {
     "data": {
      "text/html": [
       "<h2><em>k</em>-MTSLIA</h2>"
      ],
      "text/plain": [
       "<IPython.core.display.HTML object>"
      ]
     },
     "metadata": {},
     "output_type": "display_data"
    },
    {
     "data": {
      "text/html": [
       "<p style=\"color: teal; margin-bottom: 0;\"><strong>Tier:</strong> a, i</p>"
      ],
      "text/plain": [
       "<IPython.core.display.HTML object>"
      ]
     },
     "metadata": {},
     "output_type": "display_data"
    },
    {
     "data": {
      "text/html": [
       "<p style=\"color: teal; margin-bottom: 10px;\">*>a<</p>"
      ],
      "text/plain": [
       "<IPython.core.display.HTML object>"
      ]
     },
     "metadata": {},
     "output_type": "display_data"
    },
    {
     "name": "stdout",
     "output_type": "stream",
     "text": [
      "\n"
     ]
    },
    {
     "data": {
      "text/html": [
       "<h2>Brute force</h2>"
      ],
      "text/plain": [
       "<IPython.core.display.HTML object>"
      ]
     },
     "metadata": {},
     "output_type": "display_data"
    },
    {
     "data": {
      "text/html": [
       "<p style=\"color: purple; margin-bottom: 0;\"><strong>Tier:</strong> a, i</p>"
      ],
      "text/plain": [
       "<IPython.core.display.HTML object>"
      ]
     },
     "metadata": {},
     "output_type": "display_data"
    },
    {
     "data": {
      "text/html": [
       "<p style=\"color: purple; margin-bottom: 10px;\">*>a<</p>"
      ],
      "text/plain": [
       "<IPython.core.display.HTML object>"
      ]
     },
     "metadata": {},
     "output_type": "display_data"
    },
    {
     "name": "stdout",
     "output_type": "stream",
     "text": [
      "\n"
     ]
    },
    {
     "data": {
      "text/html": [
       "<hr><hr>"
      ],
      "text/plain": [
       "<IPython.core.display.HTML object>"
      ]
     },
     "metadata": {},
     "output_type": "display_data"
    },
    {
     "data": {
      "text/html": [
       "<h2>Dataset</h2>"
      ],
      "text/plain": [
       "<IPython.core.display.HTML object>"
      ]
     },
     "metadata": {},
     "output_type": "display_data"
    },
    {
     "name": "stdout",
     "output_type": "stream",
     "text": [
      "iauu\n",
      "iaaa\n",
      "\n"
     ]
    },
    {
     "data": {
      "text/html": [
       "<h2><em>k</em>-MTSLIA</h2>"
      ],
      "text/plain": [
       "<IPython.core.display.HTML object>"
      ]
     },
     "metadata": {},
     "output_type": "display_data"
    },
    {
     "data": {
      "text/html": [
       "<p style=\"color: teal; margin-bottom: 0;\"><strong>Tier:</strong> a, i</p>"
      ],
      "text/plain": [
       "<IPython.core.display.HTML object>"
      ]
     },
     "metadata": {},
     "output_type": "display_data"
    },
    {
     "data": {
      "text/html": [
       "<p style=\"color: teal; margin-bottom: 10px;\">*>>a, *>a<, *>aa, *>ai, *>i<, *aai, *ai<, *aia, *aii, *i<<, *iai, *iia</p>"
      ],
      "text/plain": [
       "<IPython.core.display.HTML object>"
      ]
     },
     "metadata": {},
     "output_type": "display_data"
    },
    {
     "data": {
      "text/html": [
       "<p style=\"color: teal; margin-bottom: 0;\"><strong>Tier:</strong> a, i, u</p>"
      ],
      "text/plain": [
       "<IPython.core.display.HTML object>"
      ]
     },
     "metadata": {},
     "output_type": "display_data"
    },
    {
     "data": {
      "text/html": [
       "<p style=\"color: teal; margin-bottom: 10px;\">*>au, *>iu, *aiu, *aui, *ia<, *iua, *iuu, *uai, *uia</p>"
      ],
      "text/plain": [
       "<IPython.core.display.HTML object>"
      ]
     },
     "metadata": {},
     "output_type": "display_data"
    },
    {
     "data": {
      "text/html": [
       "<p style=\"color: teal; margin-bottom: 0;\"><strong>Tier:</strong> a, u</p>"
      ],
      "text/plain": [
       "<IPython.core.display.HTML object>"
      ]
     },
     "metadata": {},
     "output_type": "display_data"
    },
    {
     "data": {
      "text/html": [
       "<p style=\"color: teal; margin-bottom: 10px;\">*>>u, *>ua, *>uu, *aau, *au<, *aua, *ua<, *uaa, *uau, *uua</p>"
      ],
      "text/plain": [
       "<IPython.core.display.HTML object>"
      ]
     },
     "metadata": {},
     "output_type": "display_data"
    },
    {
     "data": {
      "text/html": [
       "<p style=\"color: teal; margin-bottom: 0;\"><strong>Tier:</strong> i</p>"
      ],
      "text/plain": [
       "<IPython.core.display.HTML object>"
      ]
     },
     "metadata": {},
     "output_type": "display_data"
    },
    {
     "data": {
      "text/html": [
       "<p style=\"color: teal; margin-bottom: 10px;\">*>ii, *ii<, *iii</p>"
      ],
      "text/plain": [
       "<IPython.core.display.HTML object>"
      ]
     },
     "metadata": {},
     "output_type": "display_data"
    },
    {
     "data": {
      "text/html": [
       "<p style=\"color: teal; margin-bottom: 0;\"><strong>Tier:</strong> i, u</p>"
      ],
      "text/plain": [
       "<IPython.core.display.HTML object>"
      ]
     },
     "metadata": {},
     "output_type": "display_data"
    },
    {
     "data": {
      "text/html": [
       "<p style=\"color: teal; margin-bottom: 10px;\">*>ui, *iiu, *iu<, *iui, *ui<, *uii, *uiu, *uui</p>"
      ],
      "text/plain": [
       "<IPython.core.display.HTML object>"
      ]
     },
     "metadata": {},
     "output_type": "display_data"
    },
    {
     "data": {
      "text/html": [
       "<p style=\"color: teal; margin-bottom: 0;\"><strong>Tier:</strong> u</p>"
      ],
      "text/plain": [
       "<IPython.core.display.HTML object>"
      ]
     },
     "metadata": {},
     "output_type": "display_data"
    },
    {
     "data": {
      "text/html": [
       "<p style=\"color: teal; margin-bottom: 10px;\">*>u<, *uuu</p>"
      ],
      "text/plain": [
       "<IPython.core.display.HTML object>"
      ]
     },
     "metadata": {},
     "output_type": "display_data"
    },
    {
     "name": "stdout",
     "output_type": "stream",
     "text": [
      "\n"
     ]
    },
    {
     "data": {
      "text/html": [
       "<h2>Brute force</h2>"
      ],
      "text/plain": [
       "<IPython.core.display.HTML object>"
      ]
     },
     "metadata": {},
     "output_type": "display_data"
    },
    {
     "data": {
      "text/html": [
       "<p style=\"color: purple; margin-bottom: 0;\"><strong>Tier:</strong> a, i</p>"
      ],
      "text/plain": [
       "<IPython.core.display.HTML object>"
      ]
     },
     "metadata": {},
     "output_type": "display_data"
    },
    {
     "data": {
      "text/html": [
       "<p style=\"color: purple; margin-bottom: 10px;\">*>>a, *>a<, *>aa, *>ai, *>i<, *aai, *ai<, *aia, *aii, *i<<, *iai, *iia</p>"
      ],
      "text/plain": [
       "<IPython.core.display.HTML object>"
      ]
     },
     "metadata": {},
     "output_type": "display_data"
    },
    {
     "data": {
      "text/html": [
       "<p style=\"color: purple; margin-bottom: 0;\"><strong>Tier:</strong> a, i, u</p>"
      ],
      "text/plain": [
       "<IPython.core.display.HTML object>"
      ]
     },
     "metadata": {},
     "output_type": "display_data"
    },
    {
     "data": {
      "text/html": [
       "<p style=\"color: purple; margin-bottom: 10px;\">*>au, *>iu, *aiu, *aui, *ia<, *iua, *iuu, *uai, *uia</p>"
      ],
      "text/plain": [
       "<IPython.core.display.HTML object>"
      ]
     },
     "metadata": {},
     "output_type": "display_data"
    },
    {
     "data": {
      "text/html": [
       "<p style=\"color: purple; margin-bottom: 0;\"><strong>Tier:</strong> a, u</p>"
      ],
      "text/plain": [
       "<IPython.core.display.HTML object>"
      ]
     },
     "metadata": {},
     "output_type": "display_data"
    },
    {
     "data": {
      "text/html": [
       "<p style=\"color: purple; margin-bottom: 10px;\">*>>u, *>ua, *>uu, *aau, *au<, *aua, *ua<, *uaa, *uau, *uua</p>"
      ],
      "text/plain": [
       "<IPython.core.display.HTML object>"
      ]
     },
     "metadata": {},
     "output_type": "display_data"
    },
    {
     "data": {
      "text/html": [
       "<p style=\"color: purple; margin-bottom: 0;\"><strong>Tier:</strong> i</p>"
      ],
      "text/plain": [
       "<IPython.core.display.HTML object>"
      ]
     },
     "metadata": {},
     "output_type": "display_data"
    },
    {
     "data": {
      "text/html": [
       "<p style=\"color: purple; margin-bottom: 10px;\">*>ii, *ii<, *iii</p>"
      ],
      "text/plain": [
       "<IPython.core.display.HTML object>"
      ]
     },
     "metadata": {},
     "output_type": "display_data"
    },
    {
     "data": {
      "text/html": [
       "<p style=\"color: purple; margin-bottom: 0;\"><strong>Tier:</strong> i, u</p>"
      ],
      "text/plain": [
       "<IPython.core.display.HTML object>"
      ]
     },
     "metadata": {},
     "output_type": "display_data"
    },
    {
     "data": {
      "text/html": [
       "<p style=\"color: purple; margin-bottom: 10px;\">*>ui, *iiu, *iu<, *iui, *ui<, *uii, *uiu, *uui</p>"
      ],
      "text/plain": [
       "<IPython.core.display.HTML object>"
      ]
     },
     "metadata": {},
     "output_type": "display_data"
    },
    {
     "data": {
      "text/html": [
       "<p style=\"color: purple; margin-bottom: 0;\"><strong>Tier:</strong> u</p>"
      ],
      "text/plain": [
       "<IPython.core.display.HTML object>"
      ]
     },
     "metadata": {},
     "output_type": "display_data"
    },
    {
     "data": {
      "text/html": [
       "<p style=\"color: purple; margin-bottom: 10px;\">*>u<, *uuu</p>"
      ],
      "text/plain": [
       "<IPython.core.display.HTML object>"
      ]
     },
     "metadata": {},
     "output_type": "display_data"
    },
    {
     "name": "stdout",
     "output_type": "stream",
     "text": [
      "\n"
     ]
    },
    {
     "data": {
      "text/html": [
       "<hr><hr>"
      ],
      "text/plain": [
       "<IPython.core.display.HTML object>"
      ]
     },
     "metadata": {},
     "output_type": "display_data"
    },
    {
     "data": {
      "text/html": [
       "<h2>Dataset</h2>"
      ],
      "text/plain": [
       "<IPython.core.display.HTML object>"
      ]
     },
     "metadata": {},
     "output_type": "display_data"
    },
    {
     "name": "stdout",
     "output_type": "stream",
     "text": [
      "sa\n",
      "uzsaszuuia\n",
      "fiaziza\n",
      "asuszfizia\n",
      "uuu\n",
      "f\n",
      "szifizuufi\n",
      "saaffsi\n",
      "saazu\n",
      "\n"
     ]
    },
    {
     "data": {
      "text/html": [
       "<h2><em>k</em>-MTSLIA</h2>"
      ],
      "text/plain": [
       "<IPython.core.display.HTML object>"
      ]
     },
     "metadata": {},
     "output_type": "display_data"
    },
    {
     "data": {
      "text/html": [
       "<p style=\"color: teal; margin-bottom: 0;\"><strong>Tier:</strong> a</p>"
      ],
      "text/plain": [
       "<IPython.core.display.HTML object>"
      ]
     },
     "metadata": {},
     "output_type": "display_data"
    },
    {
     "data": {
      "text/html": [
       "<p style=\"color: teal; margin-bottom: 10px;\">*aaa</p>"
      ],
      "text/plain": [
       "<IPython.core.display.HTML object>"
      ]
     },
     "metadata": {},
     "output_type": "display_data"
    },
    {
     "data": {
      "text/html": [
       "<p style=\"color: teal; margin-bottom: 0;\"><strong>Tier:</strong> a, f</p>"
      ],
      "text/plain": [
       "<IPython.core.display.HTML object>"
      ]
     },
     "metadata": {},
     "output_type": "display_data"
    },
    {
     "data": {
      "text/html": [
       "<p style=\"color: teal; margin-bottom: 10px;\">*af<, *faf, *ffa</p>"
      ],
      "text/plain": [
       "<IPython.core.display.HTML object>"
      ]
     },
     "metadata": {},
     "output_type": "display_data"
    },
    {
     "data": {
      "text/html": [
       "<p style=\"color: teal; margin-bottom: 0;\"><strong>Tier:</strong> a, f, i</p>"
      ],
      "text/plain": [
       "<IPython.core.display.HTML object>"
      ]
     },
     "metadata": {},
     "output_type": "display_data"
    },
    {
     "data": {
      "text/html": [
       "<p style=\"color: teal; margin-bottom: 10px;\">*>fa, *>ff, *>ia, *aai, *afa, *ai<, *aif, *aii, *fa<, *faa, *fai, *iaf, *ifa, *ii<</p>"
      ],
      "text/plain": [
       "<IPython.core.display.HTML object>"
      ]
     },
     "metadata": {},
     "output_type": "display_data"
    },
    {
     "data": {
      "text/html": [
       "<p style=\"color: teal; margin-bottom: 0;\"><strong>Tier:</strong> a, f, i, s</p>"
      ],
      "text/plain": [
       "<IPython.core.display.HTML object>"
      ]
     },
     "metadata": {},
     "output_type": "display_data"
    },
    {
     "data": {
      "text/html": [
       "<p style=\"color: teal; margin-bottom: 10px;\">*>sf, *afi, *sfa, *sff, *ssi</p>"
      ],
      "text/plain": [
       "<IPython.core.display.HTML object>"
      ]
     },
     "metadata": {},
     "output_type": "display_data"
    },
    {
     "data": {
      "text/html": [
       "<p style=\"color: teal; margin-bottom: 0;\"><strong>Tier:</strong> a, f, i, s, u</p>"
      ],
      "text/plain": [
       "<IPython.core.display.HTML object>"
      ]
     },
     "metadata": {},
     "output_type": "display_data"
    },
    {
     "data": {
      "text/html": [
       "<p style=\"color: teal; margin-bottom: 10px;\">*asi</p>"
      ],
      "text/plain": [
       "<IPython.core.display.HTML object>"
      ]
     },
     "metadata": {},
     "output_type": "display_data"
    },
    {
     "data": {
      "text/html": [
       "<p style=\"color: teal; margin-bottom: 0;\"><strong>Tier:</strong> a, f, i, u</p>"
      ],
      "text/plain": [
       "<IPython.core.display.HTML object>"
      ]
     },
     "metadata": {},
     "output_type": "display_data"
    },
    {
     "data": {
      "text/html": [
       "<p style=\"color: teal; margin-bottom: 10px;\">*aui, *ufa, *ui<</p>"
      ],
      "text/plain": [
       "<IPython.core.display.HTML object>"
      ]
     },
     "metadata": {},
     "output_type": "display_data"
    },
    {
     "data": {
      "text/html": [
       "<p style=\"color: teal; margin-bottom: 0;\"><strong>Tier:</strong> a, f, i, z</p>"
      ],
      "text/plain": [
       "<IPython.core.display.HTML object>"
      ]
     },
     "metadata": {},
     "output_type": "display_data"
    },
    {
     "data": {
      "text/html": [
       "<p style=\"color: teal; margin-bottom: 10px;\">*>zf, *faz, *fza, *zi<</p>"
      ],
      "text/plain": [
       "<IPython.core.display.HTML object>"
      ]
     },
     "metadata": {},
     "output_type": "display_data"
    },
    {
     "data": {
      "text/html": [
       "<p style=\"color: teal; margin-bottom: 0;\"><strong>Tier:</strong> a, f, s</p>"
      ],
      "text/plain": [
       "<IPython.core.display.HTML object>"
      ]
     },
     "metadata": {},
     "output_type": "display_data"
    },
    {
     "data": {
      "text/html": [
       "<p style=\"color: teal; margin-bottom: 10px;\">*>aa, *>af, *>s<, *aas, *afs, *as<, *asf, *fas, *fsa, *saf, *sf<, *ssa</p>"
      ],
      "text/plain": [
       "<IPython.core.display.HTML object>"
      ]
     },
     "metadata": {},
     "output_type": "display_data"
    },
    {
     "data": {
      "text/html": [
       "<p style=\"color: teal; margin-bottom: 0;\"><strong>Tier:</strong> a, f, s, u</p>"
      ],
      "text/plain": [
       "<IPython.core.display.HTML object>"
      ]
     },
     "metadata": {},
     "output_type": "display_data"
    },
    {
     "data": {
      "text/html": [
       "<p style=\"color: teal; margin-bottom: 10px;\">*>su, *auf</p>"
      ],
      "text/plain": [
       "<IPython.core.display.HTML object>"
      ]
     },
     "metadata": {},
     "output_type": "display_data"
    },
    {
     "data": {
      "text/html": [
       "<p style=\"color: teal; margin-bottom: 0;\"><strong>Tier:</strong> a, f, s, z</p>"
      ],
      "text/plain": [
       "<IPython.core.display.HTML object>"
      ]
     },
     "metadata": {},
     "output_type": "display_data"
    },
    {
     "data": {
      "text/html": [
       "<p style=\"color: teal; margin-bottom: 10px;\">*>az, *azf</p>"
      ],
      "text/plain": [
       "<IPython.core.display.HTML object>"
      ]
     },
     "metadata": {},
     "output_type": "display_data"
    },
    {
     "data": {
      "text/html": [
       "<p style=\"color: teal; margin-bottom: 0;\"><strong>Tier:</strong> a, f, u</p>"
      ],
      "text/plain": [
       "<IPython.core.display.HTML object>"
      ]
     },
     "metadata": {},
     "output_type": "display_data"
    },
    {
     "data": {
      "text/html": [
       "<p style=\"color: teal; margin-bottom: 10px;\">*>uf, *afu, *aua, *fau, *fua, *uaf</p>"
      ],
      "text/plain": [
       "<IPython.core.display.HTML object>"
      ]
     },
     "metadata": {},
     "output_type": "display_data"
    },
    {
     "data": {
      "text/html": [
       "<p style=\"color: teal; margin-bottom: 0;\"><strong>Tier:</strong> a, f, u, z</p>"
      ],
      "text/plain": [
       "<IPython.core.display.HTML object>"
      ]
     },
     "metadata": {},
     "output_type": "display_data"
    },
    {
     "data": {
      "text/html": [
       "<p style=\"color: teal; margin-bottom: 10px;\">*uzz, *zzu</p>"
      ],
      "text/plain": [
       "<IPython.core.display.HTML object>"
      ]
     },
     "metadata": {},
     "output_type": "display_data"
    },
    {
     "data": {
      "text/html": [
       "<p style=\"color: teal; margin-bottom: 0;\"><strong>Tier:</strong> a, f, z</p>"
      ],
      "text/plain": [
       "<IPython.core.display.HTML object>"
      ]
     },
     "metadata": {},
     "output_type": "display_data"
    },
    {
     "data": {
      "text/html": [
       "<p style=\"color: teal; margin-bottom: 10px;\">*>fz, *>zz, *afz, *fz<, *fzz, *zaf, *zfa, *zz<</p>"
      ],
      "text/plain": [
       "<IPython.core.display.HTML object>"
      ]
     },
     "metadata": {},
     "output_type": "display_data"
    },
    {
     "data": {
      "text/html": [
       "<p style=\"color: teal; margin-bottom: 0;\"><strong>Tier:</strong> a, i</p>"
      ],
      "text/plain": [
       "<IPython.core.display.HTML object>"
      ]
     },
     "metadata": {},
     "output_type": "display_data"
    },
    {
     "data": {
      "text/html": [
       "<p style=\"color: teal; margin-bottom: 10px;\">*>i<, *iaa</p>"
      ],
      "text/plain": [
       "<IPython.core.display.HTML object>"
      ]
     },
     "metadata": {},
     "output_type": "display_data"
    },
    {
     "data": {
      "text/html": [
       "<p style=\"color: teal; margin-bottom: 0;\"><strong>Tier:</strong> a, i, s</p>"
      ],
      "text/plain": [
       "<IPython.core.display.HTML object>"
      ]
     },
     "metadata": {},
     "output_type": "display_data"
    },
    {
     "data": {
      "text/html": [
       "<p style=\"color: teal; margin-bottom: 10px;\">*>ai, *ais, *asa, *ias, *isa, *s<<, *sai</p>"
      ],
      "text/plain": [
       "<IPython.core.display.HTML object>"
      ]
     },
     "metadata": {},
     "output_type": "display_data"
    },
    {
     "data": {
      "text/html": [
       "<p style=\"color: teal; margin-bottom: 0;\"><strong>Tier:</strong> a, i, s, u</p>"
      ],
      "text/plain": [
       "<IPython.core.display.HTML object>"
      ]
     },
     "metadata": {},
     "output_type": "display_data"
    },
    {
     "data": {
      "text/html": [
       "<p style=\"color: teal; margin-bottom: 10px;\">*sia</p>"
      ],
      "text/plain": [
       "<IPython.core.display.HTML object>"
      ]
     },
     "metadata": {},
     "output_type": "display_data"
    },
    {
     "data": {
      "text/html": [
       "<p style=\"color: teal; margin-bottom: 0;\"><strong>Tier:</strong> a, i, s, z</p>"
      ],
      "text/plain": [
       "<IPython.core.display.HTML object>"
      ]
     },
     "metadata": {},
     "output_type": "display_data"
    },
    {
     "data": {
      "text/html": [
       "<p style=\"color: teal; margin-bottom: 10px;\">*sza</p>"
      ],
      "text/plain": [
       "<IPython.core.display.HTML object>"
      ]
     },
     "metadata": {},
     "output_type": "display_data"
    },
    {
     "data": {
      "text/html": [
       "<p style=\"color: teal; margin-bottom: 0;\"><strong>Tier:</strong> a, i, u</p>"
      ],
      "text/plain": [
       "<IPython.core.display.HTML object>"
      ]
     },
     "metadata": {},
     "output_type": "display_data"
    },
    {
     "data": {
      "text/html": [
       "<p style=\"color: teal; margin-bottom: 10px;\">*>ui, *aa<, *aiu, *iau, *iua, *ua<, *uai, *uua</p>"
      ],
      "text/plain": [
       "<IPython.core.display.HTML object>"
      ]
     },
     "metadata": {},
     "output_type": "display_data"
    },
    {
     "data": {
      "text/html": [
       "<p style=\"color: teal; margin-bottom: 0;\"><strong>Tier:</strong> a, i, z</p>"
      ],
      "text/plain": [
       "<IPython.core.display.HTML object>"
      ]
     },
     "metadata": {},
     "output_type": "display_data"
    },
    {
     "data": {
      "text/html": [
       "<p style=\"color: teal; margin-bottom: 10px;\">*>iz, *aia, *aiz, *aza, *azz, *iai, *iia, *iz<, *zai, *zza, *zzi</p>"
      ],
      "text/plain": [
       "<IPython.core.display.HTML object>"
      ]
     },
     "metadata": {},
     "output_type": "display_data"
    },
    {
     "data": {
      "text/html": [
       "<p style=\"color: teal; margin-bottom: 0;\"><strong>Tier:</strong> a, s</p>"
      ],
      "text/plain": [
       "<IPython.core.display.HTML object>"
      ]
     },
     "metadata": {},
     "output_type": "display_data"
    },
    {
     "data": {
      "text/html": [
       "<p style=\"color: teal; margin-bottom: 10px;\">*>a<, *>ss, *ss<</p>"
      ],
      "text/plain": [
       "<IPython.core.display.HTML object>"
      ]
     },
     "metadata": {},
     "output_type": "display_data"
    },
    {
     "data": {
      "text/html": [
       "<p style=\"color: teal; margin-bottom: 0;\"><strong>Tier:</strong> a, s, u</p>"
      ],
      "text/plain": [
       "<IPython.core.display.HTML object>"
      ]
     },
     "metadata": {},
     "output_type": "display_data"
    },
    {
     "data": {
      "text/html": [
       "<p style=\"color: teal; margin-bottom: 10px;\">*>au, *>ua, *ass, *aus, *auu, *sau, *ssu, *su<, *sua, *uas, *uau, *us<, *uss</p>"
      ],
      "text/plain": [
       "<IPython.core.display.HTML object>"
      ]
     },
     "metadata": {},
     "output_type": "display_data"
    },
    {
     "data": {
      "text/html": [
       "<p style=\"color: teal; margin-bottom: 0;\"><strong>Tier:</strong> a, s, u, z</p>"
      ],
      "text/plain": [
       "<IPython.core.display.HTML object>"
      ]
     },
     "metadata": {},
     "output_type": "display_data"
    },
    {
     "data": {
      "text/html": [
       "<p style=\"color: teal; margin-bottom: 10px;\">*>>z, *auz, *ssz, *usa, *uza</p>"
      ],
      "text/plain": [
       "<IPython.core.display.HTML object>"
      ]
     },
     "metadata": {},
     "output_type": "display_data"
    },
    {
     "data": {
      "text/html": [
       "<p style=\"color: teal; margin-bottom: 0;\"><strong>Tier:</strong> a, s, z</p>"
      ],
      "text/plain": [
       "<IPython.core.display.HTML object>"
      ]
     },
     "metadata": {},
     "output_type": "display_data"
    },
    {
     "data": {
      "text/html": [
       "<p style=\"color: teal; margin-bottom: 10px;\">*>za, *azs, *saz, *sz<, *zas, *zaz, *zss</p>"
      ],
      "text/plain": [
       "<IPython.core.display.HTML object>"
      ]
     },
     "metadata": {},
     "output_type": "display_data"
    },
    {
     "data": {
      "text/html": [
       "<p style=\"color: teal; margin-bottom: 0;\"><strong>Tier:</strong> a, u</p>"
      ],
      "text/plain": [
       "<IPython.core.display.HTML object>"
      ]
     },
     "metadata": {},
     "output_type": "display_data"
    },
    {
     "data": {
      "text/html": [
       "<p style=\"color: teal; margin-bottom: 10px;\">*>u<, *uaa</p>"
      ],
      "text/plain": [
       "<IPython.core.display.HTML object>"
      ]
     },
     "metadata": {},
     "output_type": "display_data"
    },
    {
     "data": {
      "text/html": [
       "<p style=\"color: teal; margin-bottom: 0;\"><strong>Tier:</strong> a, u, z</p>"
      ],
      "text/plain": [
       "<IPython.core.display.HTML object>"
      ]
     },
     "metadata": {},
     "output_type": "display_data"
    },
    {
     "data": {
      "text/html": [
       "<p style=\"color: teal; margin-bottom: 10px;\">*>zu, *aau, *au<, *az<, *uaz, *z<<, *zau, *zua</p>"
      ],
      "text/plain": [
       "<IPython.core.display.HTML object>"
      ]
     },
     "metadata": {},
     "output_type": "display_data"
    },
    {
     "data": {
      "text/html": [
       "<p style=\"color: teal; margin-bottom: 0;\"><strong>Tier:</strong> a, z</p>"
      ],
      "text/plain": [
       "<IPython.core.display.HTML object>"
      ]
     },
     "metadata": {},
     "output_type": "display_data"
    },
    {
     "data": {
      "text/html": [
       "<p style=\"color: teal; margin-bottom: 10px;\">*>z<, *zaa</p>"
      ],
      "text/plain": [
       "<IPython.core.display.HTML object>"
      ]
     },
     "metadata": {},
     "output_type": "display_data"
    },
    {
     "data": {
      "text/html": [
       "<p style=\"color: teal; margin-bottom: 0;\"><strong>Tier:</strong> f</p>"
      ],
      "text/plain": [
       "<IPython.core.display.HTML object>"
      ]
     },
     "metadata": {},
     "output_type": "display_data"
    },
    {
     "data": {
      "text/html": [
       "<p style=\"color: teal; margin-bottom: 10px;\">*fff</p>"
      ],
      "text/plain": [
       "<IPython.core.display.HTML object>"
      ]
     },
     "metadata": {},
     "output_type": "display_data"
    },
    {
     "data": {
      "text/html": [
       "<p style=\"color: teal; margin-bottom: 0;\"><strong>Tier:</strong> f, i</p>"
      ],
      "text/plain": [
       "<IPython.core.display.HTML object>"
      ]
     },
     "metadata": {},
     "output_type": "display_data"
    },
    {
     "data": {
      "text/html": [
       "<p style=\"color: teal; margin-bottom: 10px;\">*>ii, *ff<, *if<, *iff, *iif, *iii</p>"
      ],
      "text/plain": [
       "<IPython.core.display.HTML object>"
      ]
     },
     "metadata": {},
     "output_type": "display_data"
    },
    {
     "data": {
      "text/html": [
       "<p style=\"color: teal; margin-bottom: 0;\"><strong>Tier:</strong> f, i, s</p>"
      ],
      "text/plain": [
       "<IPython.core.display.HTML object>"
      ]
     },
     "metadata": {},
     "output_type": "display_data"
    },
    {
     "data": {
      "text/html": [
       "<p style=\"color: teal; margin-bottom: 10px;\">*>>i, *>if, *ffi, *fis, *fs<, *ifs, *isf, *sii</p>"
      ],
      "text/plain": [
       "<IPython.core.display.HTML object>"
      ]
     },
     "metadata": {},
     "output_type": "display_data"
    },
    {
     "data": {
      "text/html": [
       "<p style=\"color: teal; margin-bottom: 0;\"><strong>Tier:</strong> f, i, s, u</p>"
      ],
      "text/plain": [
       "<IPython.core.display.HTML object>"
      ]
     },
     "metadata": {},
     "output_type": "display_data"
    },
    {
     "data": {
      "text/html": [
       "<p style=\"color: teal; margin-bottom: 10px;\">*sfu, *usi</p>"
      ],
      "text/plain": [
       "<IPython.core.display.HTML object>"
      ]
     },
     "metadata": {},
     "output_type": "display_data"
    },
    {
     "data": {
      "text/html": [
       "<p style=\"color: teal; margin-bottom: 0;\"><strong>Tier:</strong> f, i, s, z</p>"
      ],
      "text/plain": [
       "<IPython.core.display.HTML object>"
      ]
     },
     "metadata": {},
     "output_type": "display_data"
    },
    {
     "data": {
      "text/html": [
       "<p style=\"color: teal; margin-bottom: 10px;\">*sfi, *sif</p>"
      ],
      "text/plain": [
       "<IPython.core.display.HTML object>"
      ]
     },
     "metadata": {},
     "output_type": "display_data"
    },
    {
     "data": {
      "text/html": [
       "<p style=\"color: teal; margin-bottom: 0;\"><strong>Tier:</strong> f, i, u</p>"
      ],
      "text/plain": [
       "<IPython.core.display.HTML object>"
      ]
     },
     "metadata": {},
     "output_type": "display_data"
    },
    {
     "data": {
      "text/html": [
       "<p style=\"color: teal; margin-bottom: 10px;\">*>fu, *fif, *fui, *fuu, *ifu, *iiu, *iuf, *uf<, *uif, *uii</p>"
      ],
      "text/plain": [
       "<IPython.core.display.HTML object>"
      ]
     },
     "metadata": {},
     "output_type": "display_data"
    },
    {
     "data": {
      "text/html": [
       "<p style=\"color: teal; margin-bottom: 0;\"><strong>Tier:</strong> f, i, u, z</p>"
      ],
      "text/plain": [
       "<IPython.core.display.HTML object>"
      ]
     },
     "metadata": {},
     "output_type": "display_data"
    },
    {
     "data": {
      "text/html": [
       "<p style=\"color: teal; margin-bottom: 10px;\">*fiu, *fzu, *izf, *uzi</p>"
      ],
      "text/plain": [
       "<IPython.core.display.HTML object>"
      ]
     },
     "metadata": {},
     "output_type": "display_data"
    },
    {
     "data": {
      "text/html": [
       "<p style=\"color: teal; margin-bottom: 0;\"><strong>Tier:</strong> f, i, z</p>"
      ],
      "text/plain": [
       "<IPython.core.display.HTML object>"
      ]
     },
     "metadata": {},
     "output_type": "display_data"
    },
    {
     "data": {
      "text/html": [
       "<p style=\"color: teal; margin-bottom: 10px;\">*fii, *fzf, *fzi, *ifz, *iiz, *zf<, *zfz, *zii</p>"
      ],
      "text/plain": [
       "<IPython.core.display.HTML object>"
      ]
     },
     "metadata": {},
     "output_type": "display_data"
    },
    {
     "data": {
      "text/html": [
       "<p style=\"color: teal; margin-bottom: 0;\"><strong>Tier:</strong> f, s</p>"
      ],
      "text/plain": [
       "<IPython.core.display.HTML object>"
      ]
     },
     "metadata": {},
     "output_type": "display_data"
    },
    {
     "data": {
      "text/html": [
       "<p style=\"color: teal; margin-bottom: 10px;\">*>fs, *fsf, *fss, *sfs</p>"
      ],
      "text/plain": [
       "<IPython.core.display.HTML object>"
      ]
     },
     "metadata": {},
     "output_type": "display_data"
    },
    {
     "data": {
      "text/html": [
       "<p style=\"color: teal; margin-bottom: 0;\"><strong>Tier:</strong> f, s, u</p>"
      ],
      "text/plain": [
       "<IPython.core.display.HTML object>"
      ]
     },
     "metadata": {},
     "output_type": "display_data"
    },
    {
     "data": {
      "text/html": [
       "<p style=\"color: teal; margin-bottom: 10px;\">*fsu, *fus, *ssf, *suf, *ufs</p>"
      ],
      "text/plain": [
       "<IPython.core.display.HTML object>"
      ]
     },
     "metadata": {},
     "output_type": "display_data"
    },
    {
     "data": {
      "text/html": [
       "<p style=\"color: teal; margin-bottom: 0;\"><strong>Tier:</strong> f, s, u, z</p>"
      ],
      "text/plain": [
       "<IPython.core.display.HTML object>"
      ]
     },
     "metadata": {},
     "output_type": "display_data"
    },
    {
     "data": {
      "text/html": [
       "<p style=\"color: teal; margin-bottom: 10px;\">*usf, *uzf</p>"
      ],
      "text/plain": [
       "<IPython.core.display.HTML object>"
      ]
     },
     "metadata": {},
     "output_type": "display_data"
    },
    {
     "data": {
      "text/html": [
       "<p style=\"color: teal; margin-bottom: 0;\"><strong>Tier:</strong> f, s, z</p>"
      ],
      "text/plain": [
       "<IPython.core.display.HTML object>"
      ]
     },
     "metadata": {},
     "output_type": "display_data"
    },
    {
     "data": {
      "text/html": [
       "<p style=\"color: teal; margin-bottom: 10px;\">*fsz, *fzs, *sfz, *szz, *zfs, *zsf</p>"
      ],
      "text/plain": [
       "<IPython.core.display.HTML object>"
      ]
     },
     "metadata": {},
     "output_type": "display_data"
    },
    {
     "data": {
      "text/html": [
       "<p style=\"color: teal; margin-bottom: 0;\"><strong>Tier:</strong> f, u</p>"
      ],
      "text/plain": [
       "<IPython.core.display.HTML object>"
      ]
     },
     "metadata": {},
     "output_type": "display_data"
    },
    {
     "data": {
      "text/html": [
       "<p style=\"color: teal; margin-bottom: 10px;\">*ffu, *fu<, *fuf, *uff, *ufu</p>"
      ],
      "text/plain": [
       "<IPython.core.display.HTML object>"
      ]
     },
     "metadata": {},
     "output_type": "display_data"
    },
    {
     "data": {
      "text/html": [
       "<p style=\"color: teal; margin-bottom: 0;\"><strong>Tier:</strong> f, u, z</p>"
      ],
      "text/plain": [
       "<IPython.core.display.HTML object>"
      ]
     },
     "metadata": {},
     "output_type": "display_data"
    },
    {
     "data": {
      "text/html": [
       "<p style=\"color: teal; margin-bottom: 10px;\">*fuz, *ufz, *zfu, *zuf</p>"
      ],
      "text/plain": [
       "<IPython.core.display.HTML object>"
      ]
     },
     "metadata": {},
     "output_type": "display_data"
    },
    {
     "data": {
      "text/html": [
       "<p style=\"color: teal; margin-bottom: 0;\"><strong>Tier:</strong> f, z</p>"
      ],
      "text/plain": [
       "<IPython.core.display.HTML object>"
      ]
     },
     "metadata": {},
     "output_type": "display_data"
    },
    {
     "data": {
      "text/html": [
       "<p style=\"color: teal; margin-bottom: 10px;\">*ffz, *zff, *zzf</p>"
      ],
      "text/plain": [
       "<IPython.core.display.HTML object>"
      ]
     },
     "metadata": {},
     "output_type": "display_data"
    },
    {
     "data": {
      "text/html": [
       "<p style=\"color: teal; margin-bottom: 0;\"><strong>Tier:</strong> i, s</p>"
      ],
      "text/plain": [
       "<IPython.core.display.HTML object>"
      ]
     },
     "metadata": {},
     "output_type": "display_data"
    },
    {
     "data": {
      "text/html": [
       "<p style=\"color: teal; margin-bottom: 10px;\">*>is, *iis, *is<, *isi, *iss, *sis</p>"
      ],
      "text/plain": [
       "<IPython.core.display.HTML object>"
      ]
     },
     "metadata": {},
     "output_type": "display_data"
    },
    {
     "data": {
      "text/html": [
       "<p style=\"color: teal; margin-bottom: 0;\"><strong>Tier:</strong> i, s, u</p>"
      ],
      "text/plain": [
       "<IPython.core.display.HTML object>"
      ]
     },
     "metadata": {},
     "output_type": "display_data"
    },
    {
     "data": {
      "text/html": [
       "<p style=\"color: teal; margin-bottom: 10px;\">*isu, *ius, *siu, *sui, *uis</p>"
      ],
      "text/plain": [
       "<IPython.core.display.HTML object>"
      ]
     },
     "metadata": {},
     "output_type": "display_data"
    },
    {
     "data": {
      "text/html": [
       "<p style=\"color: teal; margin-bottom: 0;\"><strong>Tier:</strong> i, s, z</p>"
      ],
      "text/plain": [
       "<IPython.core.display.HTML object>"
      ]
     },
     "metadata": {},
     "output_type": "display_data"
    },
    {
     "data": {
      "text/html": [
       "<p style=\"color: teal; margin-bottom: 10px;\">*>si, *>zi, *isz, *izs, *siz, *zis, *zsi</p>"
      ],
      "text/plain": [
       "<IPython.core.display.HTML object>"
      ]
     },
     "metadata": {},
     "output_type": "display_data"
    },
    {
     "data": {
      "text/html": [
       "<p style=\"color: teal; margin-bottom: 0;\"><strong>Tier:</strong> i, u</p>"
      ],
      "text/plain": [
       "<IPython.core.display.HTML object>"
      ]
     },
     "metadata": {},
     "output_type": "display_data"
    },
    {
     "data": {
      "text/html": [
       "<p style=\"color: teal; margin-bottom: 10px;\">*>iu, *iu<, *iui, *uiu</p>"
      ],
      "text/plain": [
       "<IPython.core.display.HTML object>"
      ]
     },
     "metadata": {},
     "output_type": "display_data"
    },
    {
     "data": {
      "text/html": [
       "<p style=\"color: teal; margin-bottom: 0;\"><strong>Tier:</strong> i, u, z</p>"
      ],
      "text/plain": [
       "<IPython.core.display.HTML object>"
      ]
     },
     "metadata": {},
     "output_type": "display_data"
    },
    {
     "data": {
      "text/html": [
       "<p style=\"color: teal; margin-bottom: 10px;\">*iuu, *iuz, *uiz, *ziu, *zui</p>"
      ],
      "text/plain": [
       "<IPython.core.display.HTML object>"
      ]
     },
     "metadata": {},
     "output_type": "display_data"
    },
    {
     "data": {
      "text/html": [
       "<p style=\"color: teal; margin-bottom: 0;\"><strong>Tier:</strong> i, z</p>"
      ],
      "text/plain": [
       "<IPython.core.display.HTML object>"
      ]
     },
     "metadata": {},
     "output_type": "display_data"
    },
    {
     "data": {
      "text/html": [
       "<p style=\"color: teal; margin-bottom: 10px;\">*izz</p>"
      ],
      "text/plain": [
       "<IPython.core.display.HTML object>"
      ]
     },
     "metadata": {},
     "output_type": "display_data"
    },
    {
     "data": {
      "text/html": [
       "<p style=\"color: teal; margin-bottom: 0;\"><strong>Tier:</strong> s</p>"
      ],
      "text/plain": [
       "<IPython.core.display.HTML object>"
      ]
     },
     "metadata": {},
     "output_type": "display_data"
    },
    {
     "data": {
      "text/html": [
       "<p style=\"color: teal; margin-bottom: 10px;\">*sss</p>"
      ],
      "text/plain": [
       "<IPython.core.display.HTML object>"
      ]
     },
     "metadata": {},
     "output_type": "display_data"
    },
    {
     "data": {
      "text/html": [
       "<p style=\"color: teal; margin-bottom: 0;\"><strong>Tier:</strong> s, u</p>"
      ],
      "text/plain": [
       "<IPython.core.display.HTML object>"
      ]
     },
     "metadata": {},
     "output_type": "display_data"
    },
    {
     "data": {
      "text/html": [
       "<p style=\"color: teal; margin-bottom: 10px;\">*usu, *uus</p>"
      ],
      "text/plain": [
       "<IPython.core.display.HTML object>"
      ]
     },
     "metadata": {},
     "output_type": "display_data"
    },
    {
     "data": {
      "text/html": [
       "<p style=\"color: teal; margin-bottom: 0;\"><strong>Tier:</strong> s, u, z</p>"
      ],
      "text/plain": [
       "<IPython.core.display.HTML object>"
      ]
     },
     "metadata": {},
     "output_type": "display_data"
    },
    {
     "data": {
      "text/html": [
       "<p style=\"color: teal; margin-bottom: 10px;\">*>us, *>zs, *suu, *suz, *zsu, *zus</p>"
      ],
      "text/plain": [
       "<IPython.core.display.HTML object>"
      ]
     },
     "metadata": {},
     "output_type": "display_data"
    },
    {
     "data": {
      "text/html": [
       "<p style=\"color: teal; margin-bottom: 0;\"><strong>Tier:</strong> s, z</p>"
      ],
      "text/plain": [
       "<IPython.core.display.HTML object>"
      ]
     },
     "metadata": {},
     "output_type": "display_data"
    },
    {
     "data": {
      "text/html": [
       "<p style=\"color: teal; margin-bottom: 10px;\">*szs, *zs<, *zsz, *zzs</p>"
      ],
      "text/plain": [
       "<IPython.core.display.HTML object>"
      ]
     },
     "metadata": {},
     "output_type": "display_data"
    },
    {
     "data": {
      "text/html": [
       "<p style=\"color: teal; margin-bottom: 0;\"><strong>Tier:</strong> u, z</p>"
      ],
      "text/plain": [
       "<IPython.core.display.HTML object>"
      ]
     },
     "metadata": {},
     "output_type": "display_data"
    },
    {
     "data": {
      "text/html": [
       "<p style=\"color: teal; margin-bottom: 10px;\">*uuz, *uz<, *uzu, *zuz</p>"
      ],
      "text/plain": [
       "<IPython.core.display.HTML object>"
      ]
     },
     "metadata": {},
     "output_type": "display_data"
    },
    {
     "data": {
      "text/html": [
       "<p style=\"color: teal; margin-bottom: 0;\"><strong>Tier:</strong> z</p>"
      ],
      "text/plain": [
       "<IPython.core.display.HTML object>"
      ]
     },
     "metadata": {},
     "output_type": "display_data"
    },
    {
     "data": {
      "text/html": [
       "<p style=\"color: teal; margin-bottom: 10px;\">*zzz</p>"
      ],
      "text/plain": [
       "<IPython.core.display.HTML object>"
      ]
     },
     "metadata": {},
     "output_type": "display_data"
    },
    {
     "name": "stdout",
     "output_type": "stream",
     "text": [
      "\n"
     ]
    },
    {
     "data": {
      "text/html": [
       "<h2>Brute force</h2>"
      ],
      "text/plain": [
       "<IPython.core.display.HTML object>"
      ]
     },
     "metadata": {},
     "output_type": "display_data"
    },
    {
     "data": {
      "text/html": [
       "<p style=\"color: purple; margin-bottom: 0;\"><strong>Tier:</strong> a</p>"
      ],
      "text/plain": [
       "<IPython.core.display.HTML object>"
      ]
     },
     "metadata": {},
     "output_type": "display_data"
    },
    {
     "data": {
      "text/html": [
       "<p style=\"color: purple; margin-bottom: 10px;\">*aaa</p>"
      ],
      "text/plain": [
       "<IPython.core.display.HTML object>"
      ]
     },
     "metadata": {},
     "output_type": "display_data"
    },
    {
     "data": {
      "text/html": [
       "<p style=\"color: purple; margin-bottom: 0;\"><strong>Tier:</strong> a, f</p>"
      ],
      "text/plain": [
       "<IPython.core.display.HTML object>"
      ]
     },
     "metadata": {},
     "output_type": "display_data"
    },
    {
     "data": {
      "text/html": [
       "<p style=\"color: purple; margin-bottom: 10px;\">*af<, *faf, *ffa</p>"
      ],
      "text/plain": [
       "<IPython.core.display.HTML object>"
      ]
     },
     "metadata": {},
     "output_type": "display_data"
    },
    {
     "data": {
      "text/html": [
       "<p style=\"color: purple; margin-bottom: 0;\"><strong>Tier:</strong> a, f, i</p>"
      ],
      "text/plain": [
       "<IPython.core.display.HTML object>"
      ]
     },
     "metadata": {},
     "output_type": "display_data"
    },
    {
     "data": {
      "text/html": [
       "<p style=\"color: purple; margin-bottom: 10px;\">*>fa, *>ff, *>ia, *aai, *afa, *ai<, *aif, *aii, *fa<, *faa, *fai, *iaf, *ifa, *ii<</p>"
      ],
      "text/plain": [
       "<IPython.core.display.HTML object>"
      ]
     },
     "metadata": {},
     "output_type": "display_data"
    },
    {
     "data": {
      "text/html": [
       "<p style=\"color: purple; margin-bottom: 0;\"><strong>Tier:</strong> a, f, i, s</p>"
      ],
      "text/plain": [
       "<IPython.core.display.HTML object>"
      ]
     },
     "metadata": {},
     "output_type": "display_data"
    },
    {
     "data": {
      "text/html": [
       "<p style=\"color: purple; margin-bottom: 10px;\">*>sf, *afi, *sfa, *sff, *ssi</p>"
      ],
      "text/plain": [
       "<IPython.core.display.HTML object>"
      ]
     },
     "metadata": {},
     "output_type": "display_data"
    },
    {
     "data": {
      "text/html": [
       "<p style=\"color: purple; margin-bottom: 0;\"><strong>Tier:</strong> a, f, i, s, u</p>"
      ],
      "text/plain": [
       "<IPython.core.display.HTML object>"
      ]
     },
     "metadata": {},
     "output_type": "display_data"
    },
    {
     "data": {
      "text/html": [
       "<p style=\"color: purple; margin-bottom: 10px;\">*asi</p>"
      ],
      "text/plain": [
       "<IPython.core.display.HTML object>"
      ]
     },
     "metadata": {},
     "output_type": "display_data"
    },
    {
     "data": {
      "text/html": [
       "<p style=\"color: purple; margin-bottom: 0;\"><strong>Tier:</strong> a, f, i, u</p>"
      ],
      "text/plain": [
       "<IPython.core.display.HTML object>"
      ]
     },
     "metadata": {},
     "output_type": "display_data"
    },
    {
     "data": {
      "text/html": [
       "<p style=\"color: purple; margin-bottom: 10px;\">*aui, *ufa, *ui<</p>"
      ],
      "text/plain": [
       "<IPython.core.display.HTML object>"
      ]
     },
     "metadata": {},
     "output_type": "display_data"
    },
    {
     "data": {
      "text/html": [
       "<p style=\"color: purple; margin-bottom: 0;\"><strong>Tier:</strong> a, f, i, z</p>"
      ],
      "text/plain": [
       "<IPython.core.display.HTML object>"
      ]
     },
     "metadata": {},
     "output_type": "display_data"
    },
    {
     "data": {
      "text/html": [
       "<p style=\"color: purple; margin-bottom: 10px;\">*>zf, *faz, *fza, *zi<</p>"
      ],
      "text/plain": [
       "<IPython.core.display.HTML object>"
      ]
     },
     "metadata": {},
     "output_type": "display_data"
    },
    {
     "data": {
      "text/html": [
       "<p style=\"color: purple; margin-bottom: 0;\"><strong>Tier:</strong> a, f, s</p>"
      ],
      "text/plain": [
       "<IPython.core.display.HTML object>"
      ]
     },
     "metadata": {},
     "output_type": "display_data"
    },
    {
     "data": {
      "text/html": [
       "<p style=\"color: purple; margin-bottom: 10px;\">*>aa, *>af, *>s<, *aas, *afs, *as<, *asf, *fas, *fsa, *saf, *sf<, *ssa</p>"
      ],
      "text/plain": [
       "<IPython.core.display.HTML object>"
      ]
     },
     "metadata": {},
     "output_type": "display_data"
    },
    {
     "data": {
      "text/html": [
       "<p style=\"color: purple; margin-bottom: 0;\"><strong>Tier:</strong> a, f, s, u</p>"
      ],
      "text/plain": [
       "<IPython.core.display.HTML object>"
      ]
     },
     "metadata": {},
     "output_type": "display_data"
    },
    {
     "data": {
      "text/html": [
       "<p style=\"color: purple; margin-bottom: 10px;\">*>su, *auf</p>"
      ],
      "text/plain": [
       "<IPython.core.display.HTML object>"
      ]
     },
     "metadata": {},
     "output_type": "display_data"
    },
    {
     "data": {
      "text/html": [
       "<p style=\"color: purple; margin-bottom: 0;\"><strong>Tier:</strong> a, f, s, z</p>"
      ],
      "text/plain": [
       "<IPython.core.display.HTML object>"
      ]
     },
     "metadata": {},
     "output_type": "display_data"
    },
    {
     "data": {
      "text/html": [
       "<p style=\"color: purple; margin-bottom: 10px;\">*>az, *azf</p>"
      ],
      "text/plain": [
       "<IPython.core.display.HTML object>"
      ]
     },
     "metadata": {},
     "output_type": "display_data"
    },
    {
     "data": {
      "text/html": [
       "<p style=\"color: purple; margin-bottom: 0;\"><strong>Tier:</strong> a, f, u</p>"
      ],
      "text/plain": [
       "<IPython.core.display.HTML object>"
      ]
     },
     "metadata": {},
     "output_type": "display_data"
    },
    {
     "data": {
      "text/html": [
       "<p style=\"color: purple; margin-bottom: 10px;\">*>uf, *afu, *aua, *fau, *fua, *uaf</p>"
      ],
      "text/plain": [
       "<IPython.core.display.HTML object>"
      ]
     },
     "metadata": {},
     "output_type": "display_data"
    },
    {
     "data": {
      "text/html": [
       "<p style=\"color: purple; margin-bottom: 0;\"><strong>Tier:</strong> a, f, u, z</p>"
      ],
      "text/plain": [
       "<IPython.core.display.HTML object>"
      ]
     },
     "metadata": {},
     "output_type": "display_data"
    },
    {
     "data": {
      "text/html": [
       "<p style=\"color: purple; margin-bottom: 10px;\">*uzz, *zzu</p>"
      ],
      "text/plain": [
       "<IPython.core.display.HTML object>"
      ]
     },
     "metadata": {},
     "output_type": "display_data"
    },
    {
     "data": {
      "text/html": [
       "<p style=\"color: purple; margin-bottom: 0;\"><strong>Tier:</strong> a, f, z</p>"
      ],
      "text/plain": [
       "<IPython.core.display.HTML object>"
      ]
     },
     "metadata": {},
     "output_type": "display_data"
    },
    {
     "data": {
      "text/html": [
       "<p style=\"color: purple; margin-bottom: 10px;\">*>fz, *>zz, *afz, *fz<, *fzz, *zaf, *zfa, *zz<</p>"
      ],
      "text/plain": [
       "<IPython.core.display.HTML object>"
      ]
     },
     "metadata": {},
     "output_type": "display_data"
    },
    {
     "data": {
      "text/html": [
       "<p style=\"color: purple; margin-bottom: 0;\"><strong>Tier:</strong> a, i</p>"
      ],
      "text/plain": [
       "<IPython.core.display.HTML object>"
      ]
     },
     "metadata": {},
     "output_type": "display_data"
    },
    {
     "data": {
      "text/html": [
       "<p style=\"color: purple; margin-bottom: 10px;\">*>i<, *iaa</p>"
      ],
      "text/plain": [
       "<IPython.core.display.HTML object>"
      ]
     },
     "metadata": {},
     "output_type": "display_data"
    },
    {
     "data": {
      "text/html": [
       "<p style=\"color: purple; margin-bottom: 0;\"><strong>Tier:</strong> a, i, s</p>"
      ],
      "text/plain": [
       "<IPython.core.display.HTML object>"
      ]
     },
     "metadata": {},
     "output_type": "display_data"
    },
    {
     "data": {
      "text/html": [
       "<p style=\"color: purple; margin-bottom: 10px;\">*>ai, *ais, *asa, *ias, *isa, *s<<, *sai</p>"
      ],
      "text/plain": [
       "<IPython.core.display.HTML object>"
      ]
     },
     "metadata": {},
     "output_type": "display_data"
    },
    {
     "data": {
      "text/html": [
       "<p style=\"color: purple; margin-bottom: 0;\"><strong>Tier:</strong> a, i, s, u</p>"
      ],
      "text/plain": [
       "<IPython.core.display.HTML object>"
      ]
     },
     "metadata": {},
     "output_type": "display_data"
    },
    {
     "data": {
      "text/html": [
       "<p style=\"color: purple; margin-bottom: 10px;\">*sia</p>"
      ],
      "text/plain": [
       "<IPython.core.display.HTML object>"
      ]
     },
     "metadata": {},
     "output_type": "display_data"
    },
    {
     "data": {
      "text/html": [
       "<p style=\"color: purple; margin-bottom: 0;\"><strong>Tier:</strong> a, i, s, z</p>"
      ],
      "text/plain": [
       "<IPython.core.display.HTML object>"
      ]
     },
     "metadata": {},
     "output_type": "display_data"
    },
    {
     "data": {
      "text/html": [
       "<p style=\"color: purple; margin-bottom: 10px;\">*sza</p>"
      ],
      "text/plain": [
       "<IPython.core.display.HTML object>"
      ]
     },
     "metadata": {},
     "output_type": "display_data"
    },
    {
     "data": {
      "text/html": [
       "<p style=\"color: purple; margin-bottom: 0;\"><strong>Tier:</strong> a, i, u</p>"
      ],
      "text/plain": [
       "<IPython.core.display.HTML object>"
      ]
     },
     "metadata": {},
     "output_type": "display_data"
    },
    {
     "data": {
      "text/html": [
       "<p style=\"color: purple; margin-bottom: 10px;\">*>ui, *aa<, *aiu, *iau, *iua, *ua<, *uai, *uua</p>"
      ],
      "text/plain": [
       "<IPython.core.display.HTML object>"
      ]
     },
     "metadata": {},
     "output_type": "display_data"
    },
    {
     "data": {
      "text/html": [
       "<p style=\"color: purple; margin-bottom: 0;\"><strong>Tier:</strong> a, i, z</p>"
      ],
      "text/plain": [
       "<IPython.core.display.HTML object>"
      ]
     },
     "metadata": {},
     "output_type": "display_data"
    },
    {
     "data": {
      "text/html": [
       "<p style=\"color: purple; margin-bottom: 10px;\">*>iz, *aia, *aiz, *aza, *azz, *iai, *iia, *iz<, *zai, *zza, *zzi</p>"
      ],
      "text/plain": [
       "<IPython.core.display.HTML object>"
      ]
     },
     "metadata": {},
     "output_type": "display_data"
    },
    {
     "data": {
      "text/html": [
       "<p style=\"color: purple; margin-bottom: 0;\"><strong>Tier:</strong> a, s</p>"
      ],
      "text/plain": [
       "<IPython.core.display.HTML object>"
      ]
     },
     "metadata": {},
     "output_type": "display_data"
    },
    {
     "data": {
      "text/html": [
       "<p style=\"color: purple; margin-bottom: 10px;\">*>a<, *>ss, *ss<</p>"
      ],
      "text/plain": [
       "<IPython.core.display.HTML object>"
      ]
     },
     "metadata": {},
     "output_type": "display_data"
    },
    {
     "data": {
      "text/html": [
       "<p style=\"color: purple; margin-bottom: 0;\"><strong>Tier:</strong> a, s, u</p>"
      ],
      "text/plain": [
       "<IPython.core.display.HTML object>"
      ]
     },
     "metadata": {},
     "output_type": "display_data"
    },
    {
     "data": {
      "text/html": [
       "<p style=\"color: purple; margin-bottom: 10px;\">*>au, *>ua, *ass, *aus, *auu, *sau, *ssu, *su<, *sua, *uas, *uau, *us<, *uss</p>"
      ],
      "text/plain": [
       "<IPython.core.display.HTML object>"
      ]
     },
     "metadata": {},
     "output_type": "display_data"
    },
    {
     "data": {
      "text/html": [
       "<p style=\"color: purple; margin-bottom: 0;\"><strong>Tier:</strong> a, s, u, z</p>"
      ],
      "text/plain": [
       "<IPython.core.display.HTML object>"
      ]
     },
     "metadata": {},
     "output_type": "display_data"
    },
    {
     "data": {
      "text/html": [
       "<p style=\"color: purple; margin-bottom: 10px;\">*>>z, *auz, *ssz, *usa, *uza</p>"
      ],
      "text/plain": [
       "<IPython.core.display.HTML object>"
      ]
     },
     "metadata": {},
     "output_type": "display_data"
    },
    {
     "data": {
      "text/html": [
       "<p style=\"color: purple; margin-bottom: 0;\"><strong>Tier:</strong> a, s, z</p>"
      ],
      "text/plain": [
       "<IPython.core.display.HTML object>"
      ]
     },
     "metadata": {},
     "output_type": "display_data"
    },
    {
     "data": {
      "text/html": [
       "<p style=\"color: purple; margin-bottom: 10px;\">*>za, *azs, *saz, *sz<, *zas, *zaz, *zss</p>"
      ],
      "text/plain": [
       "<IPython.core.display.HTML object>"
      ]
     },
     "metadata": {},
     "output_type": "display_data"
    },
    {
     "data": {
      "text/html": [
       "<p style=\"color: purple; margin-bottom: 0;\"><strong>Tier:</strong> a, u</p>"
      ],
      "text/plain": [
       "<IPython.core.display.HTML object>"
      ]
     },
     "metadata": {},
     "output_type": "display_data"
    },
    {
     "data": {
      "text/html": [
       "<p style=\"color: purple; margin-bottom: 10px;\">*>u<, *uaa</p>"
      ],
      "text/plain": [
       "<IPython.core.display.HTML object>"
      ]
     },
     "metadata": {},
     "output_type": "display_data"
    },
    {
     "data": {
      "text/html": [
       "<p style=\"color: purple; margin-bottom: 0;\"><strong>Tier:</strong> a, u, z</p>"
      ],
      "text/plain": [
       "<IPython.core.display.HTML object>"
      ]
     },
     "metadata": {},
     "output_type": "display_data"
    },
    {
     "data": {
      "text/html": [
       "<p style=\"color: purple; margin-bottom: 10px;\">*>zu, *aau, *au<, *az<, *uaz, *z<<, *zau, *zua</p>"
      ],
      "text/plain": [
       "<IPython.core.display.HTML object>"
      ]
     },
     "metadata": {},
     "output_type": "display_data"
    },
    {
     "data": {
      "text/html": [
       "<p style=\"color: purple; margin-bottom: 0;\"><strong>Tier:</strong> a, z</p>"
      ],
      "text/plain": [
       "<IPython.core.display.HTML object>"
      ]
     },
     "metadata": {},
     "output_type": "display_data"
    },
    {
     "data": {
      "text/html": [
       "<p style=\"color: purple; margin-bottom: 10px;\">*>z<, *zaa</p>"
      ],
      "text/plain": [
       "<IPython.core.display.HTML object>"
      ]
     },
     "metadata": {},
     "output_type": "display_data"
    },
    {
     "data": {
      "text/html": [
       "<p style=\"color: purple; margin-bottom: 0;\"><strong>Tier:</strong> f</p>"
      ],
      "text/plain": [
       "<IPython.core.display.HTML object>"
      ]
     },
     "metadata": {},
     "output_type": "display_data"
    },
    {
     "data": {
      "text/html": [
       "<p style=\"color: purple; margin-bottom: 10px;\">*fff</p>"
      ],
      "text/plain": [
       "<IPython.core.display.HTML object>"
      ]
     },
     "metadata": {},
     "output_type": "display_data"
    },
    {
     "data": {
      "text/html": [
       "<p style=\"color: purple; margin-bottom: 0;\"><strong>Tier:</strong> f, i</p>"
      ],
      "text/plain": [
       "<IPython.core.display.HTML object>"
      ]
     },
     "metadata": {},
     "output_type": "display_data"
    },
    {
     "data": {
      "text/html": [
       "<p style=\"color: purple; margin-bottom: 10px;\">*>ii, *ff<, *if<, *iff, *iif, *iii</p>"
      ],
      "text/plain": [
       "<IPython.core.display.HTML object>"
      ]
     },
     "metadata": {},
     "output_type": "display_data"
    },
    {
     "data": {
      "text/html": [
       "<p style=\"color: purple; margin-bottom: 0;\"><strong>Tier:</strong> f, i, s</p>"
      ],
      "text/plain": [
       "<IPython.core.display.HTML object>"
      ]
     },
     "metadata": {},
     "output_type": "display_data"
    },
    {
     "data": {
      "text/html": [
       "<p style=\"color: purple; margin-bottom: 10px;\">*>>i, *>if, *ffi, *fis, *fs<, *ifs, *isf, *sii</p>"
      ],
      "text/plain": [
       "<IPython.core.display.HTML object>"
      ]
     },
     "metadata": {},
     "output_type": "display_data"
    },
    {
     "data": {
      "text/html": [
       "<p style=\"color: purple; margin-bottom: 0;\"><strong>Tier:</strong> f, i, s, u</p>"
      ],
      "text/plain": [
       "<IPython.core.display.HTML object>"
      ]
     },
     "metadata": {},
     "output_type": "display_data"
    },
    {
     "data": {
      "text/html": [
       "<p style=\"color: purple; margin-bottom: 10px;\">*sfu, *usi</p>"
      ],
      "text/plain": [
       "<IPython.core.display.HTML object>"
      ]
     },
     "metadata": {},
     "output_type": "display_data"
    },
    {
     "data": {
      "text/html": [
       "<p style=\"color: purple; margin-bottom: 0;\"><strong>Tier:</strong> f, i, s, z</p>"
      ],
      "text/plain": [
       "<IPython.core.display.HTML object>"
      ]
     },
     "metadata": {},
     "output_type": "display_data"
    },
    {
     "data": {
      "text/html": [
       "<p style=\"color: purple; margin-bottom: 10px;\">*sfi, *sif</p>"
      ],
      "text/plain": [
       "<IPython.core.display.HTML object>"
      ]
     },
     "metadata": {},
     "output_type": "display_data"
    },
    {
     "data": {
      "text/html": [
       "<p style=\"color: purple; margin-bottom: 0;\"><strong>Tier:</strong> f, i, u</p>"
      ],
      "text/plain": [
       "<IPython.core.display.HTML object>"
      ]
     },
     "metadata": {},
     "output_type": "display_data"
    },
    {
     "data": {
      "text/html": [
       "<p style=\"color: purple; margin-bottom: 10px;\">*>fu, *fif, *fui, *fuu, *ifu, *iiu, *iuf, *uf<, *uif, *uii</p>"
      ],
      "text/plain": [
       "<IPython.core.display.HTML object>"
      ]
     },
     "metadata": {},
     "output_type": "display_data"
    },
    {
     "data": {
      "text/html": [
       "<p style=\"color: purple; margin-bottom: 0;\"><strong>Tier:</strong> f, i, u, z</p>"
      ],
      "text/plain": [
       "<IPython.core.display.HTML object>"
      ]
     },
     "metadata": {},
     "output_type": "display_data"
    },
    {
     "data": {
      "text/html": [
       "<p style=\"color: purple; margin-bottom: 10px;\">*fiu, *fzu, *izf, *uzi</p>"
      ],
      "text/plain": [
       "<IPython.core.display.HTML object>"
      ]
     },
     "metadata": {},
     "output_type": "display_data"
    },
    {
     "data": {
      "text/html": [
       "<p style=\"color: purple; margin-bottom: 0;\"><strong>Tier:</strong> f, i, z</p>"
      ],
      "text/plain": [
       "<IPython.core.display.HTML object>"
      ]
     },
     "metadata": {},
     "output_type": "display_data"
    },
    {
     "data": {
      "text/html": [
       "<p style=\"color: purple; margin-bottom: 10px;\">*fii, *fzf, *fzi, *ifz, *iiz, *zf<, *zfz, *zii</p>"
      ],
      "text/plain": [
       "<IPython.core.display.HTML object>"
      ]
     },
     "metadata": {},
     "output_type": "display_data"
    },
    {
     "data": {
      "text/html": [
       "<p style=\"color: purple; margin-bottom: 0;\"><strong>Tier:</strong> f, s</p>"
      ],
      "text/plain": [
       "<IPython.core.display.HTML object>"
      ]
     },
     "metadata": {},
     "output_type": "display_data"
    },
    {
     "data": {
      "text/html": [
       "<p style=\"color: purple; margin-bottom: 10px;\">*>fs, *fsf, *fss, *sfs</p>"
      ],
      "text/plain": [
       "<IPython.core.display.HTML object>"
      ]
     },
     "metadata": {},
     "output_type": "display_data"
    },
    {
     "data": {
      "text/html": [
       "<p style=\"color: purple; margin-bottom: 0;\"><strong>Tier:</strong> f, s, u</p>"
      ],
      "text/plain": [
       "<IPython.core.display.HTML object>"
      ]
     },
     "metadata": {},
     "output_type": "display_data"
    },
    {
     "data": {
      "text/html": [
       "<p style=\"color: purple; margin-bottom: 10px;\">*fsu, *fus, *ssf, *suf, *ufs</p>"
      ],
      "text/plain": [
       "<IPython.core.display.HTML object>"
      ]
     },
     "metadata": {},
     "output_type": "display_data"
    },
    {
     "data": {
      "text/html": [
       "<p style=\"color: purple; margin-bottom: 0;\"><strong>Tier:</strong> f, s, u, z</p>"
      ],
      "text/plain": [
       "<IPython.core.display.HTML object>"
      ]
     },
     "metadata": {},
     "output_type": "display_data"
    },
    {
     "data": {
      "text/html": [
       "<p style=\"color: purple; margin-bottom: 10px;\">*usf, *uzf</p>"
      ],
      "text/plain": [
       "<IPython.core.display.HTML object>"
      ]
     },
     "metadata": {},
     "output_type": "display_data"
    },
    {
     "data": {
      "text/html": [
       "<p style=\"color: purple; margin-bottom: 0;\"><strong>Tier:</strong> f, s, z</p>"
      ],
      "text/plain": [
       "<IPython.core.display.HTML object>"
      ]
     },
     "metadata": {},
     "output_type": "display_data"
    },
    {
     "data": {
      "text/html": [
       "<p style=\"color: purple; margin-bottom: 10px;\">*fsz, *fzs, *sfz, *szz, *zfs, *zsf</p>"
      ],
      "text/plain": [
       "<IPython.core.display.HTML object>"
      ]
     },
     "metadata": {},
     "output_type": "display_data"
    },
    {
     "data": {
      "text/html": [
       "<p style=\"color: purple; margin-bottom: 0;\"><strong>Tier:</strong> f, u</p>"
      ],
      "text/plain": [
       "<IPython.core.display.HTML object>"
      ]
     },
     "metadata": {},
     "output_type": "display_data"
    },
    {
     "data": {
      "text/html": [
       "<p style=\"color: purple; margin-bottom: 10px;\">*ffu, *fu<, *fuf, *uff, *ufu</p>"
      ],
      "text/plain": [
       "<IPython.core.display.HTML object>"
      ]
     },
     "metadata": {},
     "output_type": "display_data"
    },
    {
     "data": {
      "text/html": [
       "<p style=\"color: purple; margin-bottom: 0;\"><strong>Tier:</strong> f, u, z</p>"
      ],
      "text/plain": [
       "<IPython.core.display.HTML object>"
      ]
     },
     "metadata": {},
     "output_type": "display_data"
    },
    {
     "data": {
      "text/html": [
       "<p style=\"color: purple; margin-bottom: 10px;\">*fuz, *ufz, *zfu, *zuf</p>"
      ],
      "text/plain": [
       "<IPython.core.display.HTML object>"
      ]
     },
     "metadata": {},
     "output_type": "display_data"
    },
    {
     "data": {
      "text/html": [
       "<p style=\"color: purple; margin-bottom: 0;\"><strong>Tier:</strong> f, z</p>"
      ],
      "text/plain": [
       "<IPython.core.display.HTML object>"
      ]
     },
     "metadata": {},
     "output_type": "display_data"
    },
    {
     "data": {
      "text/html": [
       "<p style=\"color: purple; margin-bottom: 10px;\">*ffz, *zff, *zzf</p>"
      ],
      "text/plain": [
       "<IPython.core.display.HTML object>"
      ]
     },
     "metadata": {},
     "output_type": "display_data"
    },
    {
     "data": {
      "text/html": [
       "<p style=\"color: purple; margin-bottom: 0;\"><strong>Tier:</strong> i, s</p>"
      ],
      "text/plain": [
       "<IPython.core.display.HTML object>"
      ]
     },
     "metadata": {},
     "output_type": "display_data"
    },
    {
     "data": {
      "text/html": [
       "<p style=\"color: purple; margin-bottom: 10px;\">*>is, *iis, *is<, *isi, *iss, *sis</p>"
      ],
      "text/plain": [
       "<IPython.core.display.HTML object>"
      ]
     },
     "metadata": {},
     "output_type": "display_data"
    },
    {
     "data": {
      "text/html": [
       "<p style=\"color: purple; margin-bottom: 0;\"><strong>Tier:</strong> i, s, u</p>"
      ],
      "text/plain": [
       "<IPython.core.display.HTML object>"
      ]
     },
     "metadata": {},
     "output_type": "display_data"
    },
    {
     "data": {
      "text/html": [
       "<p style=\"color: purple; margin-bottom: 10px;\">*isu, *ius, *siu, *sui, *uis</p>"
      ],
      "text/plain": [
       "<IPython.core.display.HTML object>"
      ]
     },
     "metadata": {},
     "output_type": "display_data"
    },
    {
     "data": {
      "text/html": [
       "<p style=\"color: purple; margin-bottom: 0;\"><strong>Tier:</strong> i, s, z</p>"
      ],
      "text/plain": [
       "<IPython.core.display.HTML object>"
      ]
     },
     "metadata": {},
     "output_type": "display_data"
    },
    {
     "data": {
      "text/html": [
       "<p style=\"color: purple; margin-bottom: 10px;\">*>si, *>zi, *isz, *izs, *siz, *zis, *zsi</p>"
      ],
      "text/plain": [
       "<IPython.core.display.HTML object>"
      ]
     },
     "metadata": {},
     "output_type": "display_data"
    },
    {
     "data": {
      "text/html": [
       "<p style=\"color: purple; margin-bottom: 0;\"><strong>Tier:</strong> i, u</p>"
      ],
      "text/plain": [
       "<IPython.core.display.HTML object>"
      ]
     },
     "metadata": {},
     "output_type": "display_data"
    },
    {
     "data": {
      "text/html": [
       "<p style=\"color: purple; margin-bottom: 10px;\">*>iu, *iu<, *iui, *uiu</p>"
      ],
      "text/plain": [
       "<IPython.core.display.HTML object>"
      ]
     },
     "metadata": {},
     "output_type": "display_data"
    },
    {
     "data": {
      "text/html": [
       "<p style=\"color: purple; margin-bottom: 0;\"><strong>Tier:</strong> i, u, z</p>"
      ],
      "text/plain": [
       "<IPython.core.display.HTML object>"
      ]
     },
     "metadata": {},
     "output_type": "display_data"
    },
    {
     "data": {
      "text/html": [
       "<p style=\"color: purple; margin-bottom: 10px;\">*iuu, *iuz, *uiz, *ziu, *zui</p>"
      ],
      "text/plain": [
       "<IPython.core.display.HTML object>"
      ]
     },
     "metadata": {},
     "output_type": "display_data"
    },
    {
     "data": {
      "text/html": [
       "<p style=\"color: purple; margin-bottom: 0;\"><strong>Tier:</strong> i, z</p>"
      ],
      "text/plain": [
       "<IPython.core.display.HTML object>"
      ]
     },
     "metadata": {},
     "output_type": "display_data"
    },
    {
     "data": {
      "text/html": [
       "<p style=\"color: purple; margin-bottom: 10px;\">*izz</p>"
      ],
      "text/plain": [
       "<IPython.core.display.HTML object>"
      ]
     },
     "metadata": {},
     "output_type": "display_data"
    },
    {
     "data": {
      "text/html": [
       "<p style=\"color: purple; margin-bottom: 0;\"><strong>Tier:</strong> s</p>"
      ],
      "text/plain": [
       "<IPython.core.display.HTML object>"
      ]
     },
     "metadata": {},
     "output_type": "display_data"
    },
    {
     "data": {
      "text/html": [
       "<p style=\"color: purple; margin-bottom: 10px;\">*sss</p>"
      ],
      "text/plain": [
       "<IPython.core.display.HTML object>"
      ]
     },
     "metadata": {},
     "output_type": "display_data"
    },
    {
     "data": {
      "text/html": [
       "<p style=\"color: purple; margin-bottom: 0;\"><strong>Tier:</strong> s, u</p>"
      ],
      "text/plain": [
       "<IPython.core.display.HTML object>"
      ]
     },
     "metadata": {},
     "output_type": "display_data"
    },
    {
     "data": {
      "text/html": [
       "<p style=\"color: purple; margin-bottom: 10px;\">*usu, *uus</p>"
      ],
      "text/plain": [
       "<IPython.core.display.HTML object>"
      ]
     },
     "metadata": {},
     "output_type": "display_data"
    },
    {
     "data": {
      "text/html": [
       "<p style=\"color: purple; margin-bottom: 0;\"><strong>Tier:</strong> s, u, z</p>"
      ],
      "text/plain": [
       "<IPython.core.display.HTML object>"
      ]
     },
     "metadata": {},
     "output_type": "display_data"
    },
    {
     "data": {
      "text/html": [
       "<p style=\"color: purple; margin-bottom: 10px;\">*>us, *>zs, *suu, *suz, *zsu, *zus</p>"
      ],
      "text/plain": [
       "<IPython.core.display.HTML object>"
      ]
     },
     "metadata": {},
     "output_type": "display_data"
    },
    {
     "data": {
      "text/html": [
       "<p style=\"color: purple; margin-bottom: 0;\"><strong>Tier:</strong> s, z</p>"
      ],
      "text/plain": [
       "<IPython.core.display.HTML object>"
      ]
     },
     "metadata": {},
     "output_type": "display_data"
    },
    {
     "data": {
      "text/html": [
       "<p style=\"color: purple; margin-bottom: 10px;\">*szs, *zs<, *zsz, *zzs</p>"
      ],
      "text/plain": [
       "<IPython.core.display.HTML object>"
      ]
     },
     "metadata": {},
     "output_type": "display_data"
    },
    {
     "data": {
      "text/html": [
       "<p style=\"color: purple; margin-bottom: 0;\"><strong>Tier:</strong> u, z</p>"
      ],
      "text/plain": [
       "<IPython.core.display.HTML object>"
      ]
     },
     "metadata": {},
     "output_type": "display_data"
    },
    {
     "data": {
      "text/html": [
       "<p style=\"color: purple; margin-bottom: 10px;\">*uuz, *uz<, *uzu, *zuz</p>"
      ],
      "text/plain": [
       "<IPython.core.display.HTML object>"
      ]
     },
     "metadata": {},
     "output_type": "display_data"
    },
    {
     "data": {
      "text/html": [
       "<p style=\"color: purple; margin-bottom: 0;\"><strong>Tier:</strong> z</p>"
      ],
      "text/plain": [
       "<IPython.core.display.HTML object>"
      ]
     },
     "metadata": {},
     "output_type": "display_data"
    },
    {
     "data": {
      "text/html": [
       "<p style=\"color: purple; margin-bottom: 10px;\">*zzz</p>"
      ],
      "text/plain": [
       "<IPython.core.display.HTML object>"
      ]
     },
     "metadata": {},
     "output_type": "display_data"
    },
    {
     "name": "stdout",
     "output_type": "stream",
     "text": [
      "\n"
     ]
    },
    {
     "data": {
      "text/html": [
       "<hr><hr>"
      ],
      "text/plain": [
       "<IPython.core.display.HTML object>"
      ]
     },
     "metadata": {},
     "output_type": "display_data"
    },
    {
     "data": {
      "text/html": [
       "<h2>Dataset</h2>"
      ],
      "text/plain": [
       "<IPython.core.display.HTML object>"
      ]
     },
     "metadata": {},
     "output_type": "display_data"
    },
    {
     "name": "stdout",
     "output_type": "stream",
     "text": [
      "izzzzaz\n",
      "a\n",
      "zazizaiiuz\n",
      "uu\n",
      "aiua\n",
      "azzauaauiz\n",
      "i\n",
      "zizzuaaiua\n",
      "uaizz\n",
      "u\n",
      "iiiuauuuu\n",
      "aaiizuuzi\n",
      "izuzaiaiiu\n",
      "azz\n",
      "zuiiiizi\n",
      "zaiz\n",
      "uzzzauzu\n",
      "zuiuzauazu\n",
      "azuzzui\n",
      "\n"
     ]
    },
    {
     "data": {
      "text/html": [
       "<h2><em>k</em>-MTSLIA</h2>"
      ],
      "text/plain": [
       "<IPython.core.display.HTML object>"
      ]
     },
     "metadata": {},
     "output_type": "display_data"
    },
    {
     "data": {
      "text/html": [
       "<p style=\"color: teal; margin-bottom: 0;\"><strong>Tier:</strong> a, i, u</p>"
      ],
      "text/plain": [
       "<IPython.core.display.HTML object>"
      ]
     },
     "metadata": {},
     "output_type": "display_data"
    },
    {
     "data": {
      "text/html": [
       "<p style=\"color: teal; margin-bottom: 10px;\">*iaa, *iau, *iia, *iui, *uia, *uua</p>"
      ],
      "text/plain": [
       "<IPython.core.display.HTML object>"
      ]
     },
     "metadata": {},
     "output_type": "display_data"
    },
    {
     "data": {
      "text/html": [
       "<p style=\"color: teal; margin-bottom: 0;\"><strong>Tier:</strong> a, i, u, z</p>"
      ],
      "text/plain": [
       "<IPython.core.display.HTML object>"
      ]
     },
     "metadata": {},
     "output_type": "display_data"
    },
    {
     "data": {
      "text/html": [
       "<p style=\"color: teal; margin-bottom: 10px;\">*>au, *>iu, *>ui, *>zz, *aaz, *au<, *ia<, *iuu, *uui, *zaa, *zii, *zzi</p>"
      ],
      "text/plain": [
       "<IPython.core.display.HTML object>"
      ]
     },
     "metadata": {},
     "output_type": "display_data"
    },
    {
     "data": {
      "text/html": [
       "<p style=\"color: teal; margin-bottom: 0;\"><strong>Tier:</strong> a, i, z</p>"
      ],
      "text/plain": [
       "<IPython.core.display.HTML object>"
      ]
     },
     "metadata": {},
     "output_type": "display_data"
    },
    {
     "data": {
      "text/html": [
       "<p style=\"color: teal; margin-bottom: 10px;\">*>ia, *ai<, *iaz, *zia</p>"
      ],
      "text/plain": [
       "<IPython.core.display.HTML object>"
      ]
     },
     "metadata": {},
     "output_type": "display_data"
    },
    {
     "data": {
      "text/html": [
       "<p style=\"color: teal; margin-bottom: 0;\"><strong>Tier:</strong> a, u</p>"
      ],
      "text/plain": [
       "<IPython.core.display.HTML object>"
      ]
     },
     "metadata": {},
     "output_type": "display_data"
    },
    {
     "data": {
      "text/html": [
       "<p style=\"color: teal; margin-bottom: 10px;\">*aa<, *aaa</p>"
      ],
      "text/plain": [
       "<IPython.core.display.HTML object>"
      ]
     },
     "metadata": {},
     "output_type": "display_data"
    },
    {
     "data": {
      "text/html": [
       "<p style=\"color: teal; margin-bottom: 0;\"><strong>Tier:</strong> a, z</p>"
      ],
      "text/plain": [
       "<IPython.core.display.HTML object>"
      ]
     },
     "metadata": {},
     "output_type": "display_data"
    },
    {
     "data": {
      "text/html": [
       "<p style=\"color: teal; margin-bottom: 10px;\">*aza, *za<</p>"
      ],
      "text/plain": [
       "<IPython.core.display.HTML object>"
      ]
     },
     "metadata": {},
     "output_type": "display_data"
    },
    {
     "data": {
      "text/html": [
       "<p style=\"color: teal; margin-bottom: 0;\"><strong>Tier:</strong> i, u, z</p>"
      ],
      "text/plain": [
       "<IPython.core.display.HTML object>"
      ]
     },
     "metadata": {},
     "output_type": "display_data"
    },
    {
     "data": {
      "text/html": [
       "<p style=\"color: teal; margin-bottom: 10px;\">*ii<, *ziu</p>"
      ],
      "text/plain": [
       "<IPython.core.display.HTML object>"
      ]
     },
     "metadata": {},
     "output_type": "display_data"
    },
    {
     "data": {
      "text/html": [
       "<p style=\"color: teal; margin-bottom: 0;\"><strong>Tier:</strong> z</p>"
      ],
      "text/plain": [
       "<IPython.core.display.HTML object>"
      ]
     },
     "metadata": {},
     "output_type": "display_data"
    },
    {
     "data": {
      "text/html": [
       "<p style=\"color: teal; margin-bottom: 10px;\">*>z<</p>"
      ],
      "text/plain": [
       "<IPython.core.display.HTML object>"
      ]
     },
     "metadata": {},
     "output_type": "display_data"
    },
    {
     "name": "stdout",
     "output_type": "stream",
     "text": [
      "\n"
     ]
    },
    {
     "data": {
      "text/html": [
       "<h2>Brute force</h2>"
      ],
      "text/plain": [
       "<IPython.core.display.HTML object>"
      ]
     },
     "metadata": {},
     "output_type": "display_data"
    },
    {
     "data": {
      "text/html": [
       "<p style=\"color: purple; margin-bottom: 0;\"><strong>Tier:</strong> a, i, u</p>"
      ],
      "text/plain": [
       "<IPython.core.display.HTML object>"
      ]
     },
     "metadata": {},
     "output_type": "display_data"
    },
    {
     "data": {
      "text/html": [
       "<p style=\"color: purple; margin-bottom: 10px;\">*iaa, *iau, *iia, *iui, *uia, *uua</p>"
      ],
      "text/plain": [
       "<IPython.core.display.HTML object>"
      ]
     },
     "metadata": {},
     "output_type": "display_data"
    },
    {
     "data": {
      "text/html": [
       "<p style=\"color: purple; margin-bottom: 0;\"><strong>Tier:</strong> a, i, u, z</p>"
      ],
      "text/plain": [
       "<IPython.core.display.HTML object>"
      ]
     },
     "metadata": {},
     "output_type": "display_data"
    },
    {
     "data": {
      "text/html": [
       "<p style=\"color: purple; margin-bottom: 10px;\">*>au, *>iu, *>ui, *>zz, *aaz, *au<, *ia<, *iuu, *uui, *zaa, *zii, *zzi</p>"
      ],
      "text/plain": [
       "<IPython.core.display.HTML object>"
      ]
     },
     "metadata": {},
     "output_type": "display_data"
    },
    {
     "data": {
      "text/html": [
       "<p style=\"color: purple; margin-bottom: 0;\"><strong>Tier:</strong> a, i, z</p>"
      ],
      "text/plain": [
       "<IPython.core.display.HTML object>"
      ]
     },
     "metadata": {},
     "output_type": "display_data"
    },
    {
     "data": {
      "text/html": [
       "<p style=\"color: purple; margin-bottom: 10px;\">*>ia, *ai<, *iaz, *zia</p>"
      ],
      "text/plain": [
       "<IPython.core.display.HTML object>"
      ]
     },
     "metadata": {},
     "output_type": "display_data"
    },
    {
     "data": {
      "text/html": [
       "<p style=\"color: purple; margin-bottom: 0;\"><strong>Tier:</strong> a, u</p>"
      ],
      "text/plain": [
       "<IPython.core.display.HTML object>"
      ]
     },
     "metadata": {},
     "output_type": "display_data"
    },
    {
     "data": {
      "text/html": [
       "<p style=\"color: purple; margin-bottom: 10px;\">*aa<, *aaa</p>"
      ],
      "text/plain": [
       "<IPython.core.display.HTML object>"
      ]
     },
     "metadata": {},
     "output_type": "display_data"
    },
    {
     "data": {
      "text/html": [
       "<p style=\"color: purple; margin-bottom: 0;\"><strong>Tier:</strong> a, z</p>"
      ],
      "text/plain": [
       "<IPython.core.display.HTML object>"
      ]
     },
     "metadata": {},
     "output_type": "display_data"
    },
    {
     "data": {
      "text/html": [
       "<p style=\"color: purple; margin-bottom: 10px;\">*aza, *za<</p>"
      ],
      "text/plain": [
       "<IPython.core.display.HTML object>"
      ]
     },
     "metadata": {},
     "output_type": "display_data"
    },
    {
     "data": {
      "text/html": [
       "<p style=\"color: purple; margin-bottom: 0;\"><strong>Tier:</strong> i, u, z</p>"
      ],
      "text/plain": [
       "<IPython.core.display.HTML object>"
      ]
     },
     "metadata": {},
     "output_type": "display_data"
    },
    {
     "data": {
      "text/html": [
       "<p style=\"color: purple; margin-bottom: 10px;\">*ii<, *ziu</p>"
      ],
      "text/plain": [
       "<IPython.core.display.HTML object>"
      ]
     },
     "metadata": {},
     "output_type": "display_data"
    },
    {
     "data": {
      "text/html": [
       "<p style=\"color: purple; margin-bottom: 0;\"><strong>Tier:</strong> z</p>"
      ],
      "text/plain": [
       "<IPython.core.display.HTML object>"
      ]
     },
     "metadata": {},
     "output_type": "display_data"
    },
    {
     "data": {
      "text/html": [
       "<p style=\"color: purple; margin-bottom: 10px;\">*>z<</p>"
      ],
      "text/plain": [
       "<IPython.core.display.HTML object>"
      ]
     },
     "metadata": {},
     "output_type": "display_data"
    },
    {
     "name": "stdout",
     "output_type": "stream",
     "text": [
      "\n"
     ]
    },
    {
     "data": {
      "text/html": [
       "<hr><hr>"
      ],
      "text/plain": [
       "<IPython.core.display.HTML object>"
      ]
     },
     "metadata": {},
     "output_type": "display_data"
    },
    {
     "data": {
      "text/html": [
       "<h2>Dataset</h2>"
      ],
      "text/plain": [
       "<IPython.core.display.HTML object>"
      ]
     },
     "metadata": {},
     "output_type": "display_data"
    },
    {
     "name": "stdout",
     "output_type": "stream",
     "text": [
      "z\n",
      "usifsfszas\n",
      "fu\n",
      "ziufsfaaaz\n",
      "szuissus\n",
      "zsa\n",
      "szfi\n",
      "u\n",
      "zzsazaaaza\n",
      "f\n",
      "fzszzaaa\n",
      "siuiiu\n",
      "s\n",
      "uiuuafsi\n",
      "iaus\n",
      "fassuffss\n",
      "fzzssuu\n",
      "auusiu\n",
      "zs\n",
      "faz\n",
      "uiuazfau\n",
      "faussuzu\n",
      "zizsssai\n",
      "aaufu\n",
      "\n"
     ]
    },
    {
     "data": {
      "text/html": [
       "<h2><em>k</em>-MTSLIA</h2>"
      ],
      "text/plain": [
       "<IPython.core.display.HTML object>"
      ]
     },
     "metadata": {},
     "output_type": "display_data"
    },
    {
     "data": {
      "text/html": [
       "<p style=\"color: teal; margin-bottom: 0;\"><strong>Tier:</strong> a, f</p>"
      ],
      "text/plain": [
       "<IPython.core.display.HTML object>"
      ]
     },
     "metadata": {},
     "output_type": "display_data"
    },
    {
     "data": {
      "text/html": [
       "<p style=\"color: teal; margin-bottom: 10px;\">*fff</p>"
      ],
      "text/plain": [
       "<IPython.core.display.HTML object>"
      ]
     },
     "metadata": {},
     "output_type": "display_data"
    },
    {
     "data": {
      "text/html": [
       "<p style=\"color: teal; margin-bottom: 0;\"><strong>Tier:</strong> a, f, i</p>"
      ],
      "text/plain": [
       "<IPython.core.display.HTML object>"
      ]
     },
     "metadata": {},
     "output_type": "display_data"
    },
    {
     "data": {
      "text/html": [
       "<p style=\"color: teal; margin-bottom: 10px;\">*>af, *>ff, *aif, *fai, *fia, *iaa, *if<, *ifa, *ifi</p>"
      ],
      "text/plain": [
       "<IPython.core.display.HTML object>"
      ]
     },
     "metadata": {},
     "output_type": "display_data"
    },
    {
     "data": {
      "text/html": [
       "<p style=\"color: teal; margin-bottom: 0;\"><strong>Tier:</strong> a, f, i, s</p>"
      ],
      "text/plain": [
       "<IPython.core.display.HTML object>"
      ]
     },
     "metadata": {},
     "output_type": "display_data"
    },
    {
     "data": {
      "text/html": [
       "<p style=\"color: teal; margin-bottom: 10px;\">*afi, *fs<, *isa, *sf<</p>"
      ],
      "text/plain": [
       "<IPython.core.display.HTML object>"
      ]
     },
     "metadata": {},
     "output_type": "display_data"
    },
    {
     "data": {
      "text/html": [
       "<p style=\"color: teal; margin-bottom: 0;\"><strong>Tier:</strong> a, f, i, s, u</p>"
      ],
      "text/plain": [
       "<IPython.core.display.HTML object>"
      ]
     },
     "metadata": {},
     "output_type": "display_data"
    },
    {
     "data": {
      "text/html": [
       "<p style=\"color: teal; margin-bottom: 10px;\">*asi, *ius</p>"
      ],
      "text/plain": [
       "<IPython.core.display.HTML object>"
      ]
     },
     "metadata": {},
     "output_type": "display_data"
    },
    {
     "data": {
      "text/html": [
       "<p style=\"color: teal; margin-bottom: 0;\"><strong>Tier:</strong> a, f, i, u</p>"
      ],
      "text/plain": [
       "<IPython.core.display.HTML object>"
      ]
     },
     "metadata": {},
     "output_type": "display_data"
    },
    {
     "data": {
      "text/html": [
       "<p style=\"color: teal; margin-bottom: 10px;\">*>uf, *>uu, *af<, *iaf, *uai, *ufi, *uia</p>"
      ],
      "text/plain": [
       "<IPython.core.display.HTML object>"
      ]
     },
     "metadata": {},
     "output_type": "display_data"
    },
    {
     "data": {
      "text/html": [
       "<p style=\"color: teal; margin-bottom: 0;\"><strong>Tier:</strong> a, f, i, z</p>"
      ],
      "text/plain": [
       "<IPython.core.display.HTML object>"
      ]
     },
     "metadata": {},
     "output_type": "display_data"
    },
    {
     "data": {
      "text/html": [
       "<p style=\"color: teal; margin-bottom: 10px;\">*>az, *>iz, *izf, *zf<, *zia</p>"
      ],
      "text/plain": [
       "<IPython.core.display.HTML object>"
      ]
     },
     "metadata": {},
     "output_type": "display_data"
    },
    {
     "data": {
      "text/html": [
       "<p style=\"color: teal; margin-bottom: 0;\"><strong>Tier:</strong> a, f, s</p>"
      ],
      "text/plain": [
       "<IPython.core.display.HTML object>"
      ]
     },
     "metadata": {},
     "output_type": "display_data"
    },
    {
     "data": {
      "text/html": [
       "<p style=\"color: teal; margin-bottom: 10px;\">*>a<, *aff, *asf, *faf, *ffa, *saf</p>"
      ],
      "text/plain": [
       "<IPython.core.display.HTML object>"
      ]
     },
     "metadata": {},
     "output_type": "display_data"
    },
    {
     "data": {
      "text/html": [
       "<p style=\"color: teal; margin-bottom: 0;\"><strong>Tier:</strong> a, f, s, u</p>"
      ],
      "text/plain": [
       "<IPython.core.display.HTML object>"
      ]
     },
     "metadata": {},
     "output_type": "display_data"
    },
    {
     "data": {
      "text/html": [
       "<p style=\"color: teal; margin-bottom: 10px;\">*>as, *fus, *uas, *usa</p>"
      ],
      "text/plain": [
       "<IPython.core.display.HTML object>"
      ]
     },
     "metadata": {},
     "output_type": "display_data"
    },
    {
     "data": {
      "text/html": [
       "<p style=\"color: teal; margin-bottom: 0;\"><strong>Tier:</strong> a, f, s, z</p>"
      ],
      "text/plain": [
       "<IPython.core.display.HTML object>"
      ]
     },
     "metadata": {},
     "output_type": "display_data"
    },
    {
     "data": {
      "text/html": [
       "<p style=\"color: teal; margin-bottom: 10px;\">*>fs, *fsa, *fza, *saa, *sfz</p>"
      ],
      "text/plain": [
       "<IPython.core.display.HTML object>"
      ]
     },
     "metadata": {},
     "output_type": "display_data"
    },
    {
     "data": {
      "text/html": [
       "<p style=\"color: teal; margin-bottom: 0;\"><strong>Tier:</strong> a, f, u</p>"
      ],
      "text/plain": [
       "<IPython.core.display.HTML object>"
      ]
     },
     "metadata": {},
     "output_type": "display_data"
    },
    {
     "data": {
      "text/html": [
       "<p style=\"color: teal; margin-bottom: 10px;\">*>ua, *aaf, *afu, *fua, *fuf, *ua<, *uaa, *uf<, *ufa, *uuf</p>"
      ],
      "text/plain": [
       "<IPython.core.display.HTML object>"
      ]
     },
     "metadata": {},
     "output_type": "display_data"
    },
    {
     "data": {
      "text/html": [
       "<p style=\"color: teal; margin-bottom: 0;\"><strong>Tier:</strong> a, f, u, z</p>"
      ],
      "text/plain": [
       "<IPython.core.display.HTML object>"
      ]
     },
     "metadata": {},
     "output_type": "display_data"
    },
    {
     "data": {
      "text/html": [
       "<p style=\"color: teal; margin-bottom: 10px;\">*fa<, *uza, *uzf, *zau, *zfu, *zua</p>"
      ],
      "text/plain": [
       "<IPython.core.display.HTML object>"
      ]
     },
     "metadata": {},
     "output_type": "display_data"
    },
    {
     "data": {
      "text/html": [
       "<p style=\"color: teal; margin-bottom: 0;\"><strong>Tier:</strong> a, f, z</p>"
      ],
      "text/plain": [
       "<IPython.core.display.HTML object>"
      ]
     },
     "metadata": {},
     "output_type": "display_data"
    },
    {
     "data": {
      "text/html": [
       "<p style=\"color: teal; margin-bottom: 10px;\">*afa, *afz, *fz<, *zaf</p>"
      ],
      "text/plain": [
       "<IPython.core.display.HTML object>"
      ]
     },
     "metadata": {},
     "output_type": "display_data"
    },
    {
     "data": {
      "text/html": [
       "<p style=\"color: teal; margin-bottom: 0;\"><strong>Tier:</strong> a, i</p>"
      ],
      "text/plain": [
       "<IPython.core.display.HTML object>"
      ]
     },
     "metadata": {},
     "output_type": "display_data"
    },
    {
     "data": {
      "text/html": [
       "<p style=\"color: teal; margin-bottom: 10px;\">*aai, *aia, *aii, *iia</p>"
      ],
      "text/plain": [
       "<IPython.core.display.HTML object>"
      ]
     },
     "metadata": {},
     "output_type": "display_data"
    },
    {
     "data": {
      "text/html": [
       "<p style=\"color: teal; margin-bottom: 0;\"><strong>Tier:</strong> a, i, s</p>"
      ],
      "text/plain": [
       "<IPython.core.display.HTML object>"
      ]
     },
     "metadata": {},
     "output_type": "display_data"
    },
    {
     "data": {
      "text/html": [
       "<p style=\"color: teal; margin-bottom: 10px;\">*>ai, *>i<, *ais, *ia<, *iai, *is<, *isi, *sia, *ssi</p>"
      ],
      "text/plain": [
       "<IPython.core.display.HTML object>"
      ]
     },
     "metadata": {},
     "output_type": "display_data"
    },
    {
     "data": {
      "text/html": [
       "<p style=\"color: teal; margin-bottom: 0;\"><strong>Tier:</strong> a, i, s, u</p>"
      ],
      "text/plain": [
       "<IPython.core.display.HTML object>"
      ]
     },
     "metadata": {},
     "output_type": "display_data"
    },
    {
     "data": {
      "text/html": [
       "<p style=\"color: teal; margin-bottom: 10px;\">*ias</p>"
      ],
      "text/plain": [
       "<IPython.core.display.HTML object>"
      ]
     },
     "metadata": {},
     "output_type": "display_data"
    },
    {
     "data": {
      "text/html": [
       "<p style=\"color: teal; margin-bottom: 0;\"><strong>Tier:</strong> a, i, s, u, z</p>"
      ],
      "text/plain": [
       "<IPython.core.display.HTML object>"
      ]
     },
     "metadata": {},
     "output_type": "display_data"
    },
    {
     "data": {
      "text/html": [
       "<p style=\"color: teal; margin-bottom: 10px;\">*>iu</p>"
      ],
      "text/plain": [
       "<IPython.core.display.HTML object>"
      ]
     },
     "metadata": {},
     "output_type": "display_data"
    },
    {
     "data": {
      "text/html": [
       "<p style=\"color: teal; margin-bottom: 0;\"><strong>Tier:</strong> a, i, s, z</p>"
      ],
      "text/plain": [
       "<IPython.core.display.HTML object>"
      ]
     },
     "metadata": {},
     "output_type": "display_data"
    },
    {
     "data": {
      "text/html": [
       "<p style=\"color: teal; margin-bottom: 10px;\">*>is, *isz, *iza, *szs, *zai</p>"
      ],
      "text/plain": [
       "<IPython.core.display.HTML object>"
      ]
     },
     "metadata": {},
     "output_type": "display_data"
    },
    {
     "data": {
      "text/html": [
       "<p style=\"color: teal; margin-bottom: 0;\"><strong>Tier:</strong> a, i, u</p>"
      ],
      "text/plain": [
       "<IPython.core.display.HTML object>"
      ]
     },
     "metadata": {},
     "output_type": "display_data"
    },
    {
     "data": {
      "text/html": [
       "<p style=\"color: teal; margin-bottom: 10px;\">*aiu, *aui, *ii<, *ui<</p>"
      ],
      "text/plain": [
       "<IPython.core.display.HTML object>"
      ]
     },
     "metadata": {},
     "output_type": "display_data"
    },
    {
     "data": {
      "text/html": [
       "<p style=\"color: teal; margin-bottom: 0;\"><strong>Tier:</strong> a, i, u, z</p>"
      ],
      "text/plain": [
       "<IPython.core.display.HTML object>"
      ]
     },
     "metadata": {},
     "output_type": "display_data"
    },
    {
     "data": {
      "text/html": [
       "<p style=\"color: teal; margin-bottom: 10px;\">*iaz, *iuz</p>"
      ],
      "text/plain": [
       "<IPython.core.display.HTML object>"
      ]
     },
     "metadata": {},
     "output_type": "display_data"
    },
    {
     "data": {
      "text/html": [
       "<p style=\"color: teal; margin-bottom: 0;\"><strong>Tier:</strong> a, i, z</p>"
      ],
      "text/plain": [
       "<IPython.core.display.HTML object>"
      ]
     },
     "metadata": {},
     "output_type": "display_data"
    },
    {
     "data": {
      "text/html": [
       "<p style=\"color: teal; margin-bottom: 10px;\">*aiz, *azi, *iz<, *izi</p>"
      ],
      "text/plain": [
       "<IPython.core.display.HTML object>"
      ]
     },
     "metadata": {},
     "output_type": "display_data"
    },
    {
     "data": {
      "text/html": [
       "<p style=\"color: teal; margin-bottom: 0;\"><strong>Tier:</strong> a, s</p>"
      ],
      "text/plain": [
       "<IPython.core.display.HTML object>"
      ]
     },
     "metadata": {},
     "output_type": "display_data"
    },
    {
     "data": {
      "text/html": [
       "<p style=\"color: teal; margin-bottom: 10px;\">*aas, *asa</p>"
      ],
      "text/plain": [
       "<IPython.core.display.HTML object>"
      ]
     },
     "metadata": {},
     "output_type": "display_data"
    },
    {
     "data": {
      "text/html": [
       "<p style=\"color: teal; margin-bottom: 0;\"><strong>Tier:</strong> a, s, u</p>"
      ],
      "text/plain": [
       "<IPython.core.display.HTML object>"
      ]
     },
     "metadata": {},
     "output_type": "display_data"
    },
    {
     "data": {
      "text/html": [
       "<p style=\"color: teal; margin-bottom: 10px;\">*asu, *sau, *sua</p>"
      ],
      "text/plain": [
       "<IPython.core.display.HTML object>"
      ]
     },
     "metadata": {},
     "output_type": "display_data"
    },
    {
     "data": {
      "text/html": [
       "<p style=\"color: teal; margin-bottom: 0;\"><strong>Tier:</strong> a, s, u, z</p>"
      ],
      "text/plain": [
       "<IPython.core.display.HTML object>"
      ]
     },
     "metadata": {},
     "output_type": "display_data"
    },
    {
     "data": {
      "text/html": [
       "<p style=\"color: teal; margin-bottom: 10px;\">*usz, *uuz</p>"
      ],
      "text/plain": [
       "<IPython.core.display.HTML object>"
      ]
     },
     "metadata": {},
     "output_type": "display_data"
    },
    {
     "data": {
      "text/html": [
       "<p style=\"color: teal; margin-bottom: 0;\"><strong>Tier:</strong> a, s, z</p>"
      ],
      "text/plain": [
       "<IPython.core.display.HTML object>"
      ]
     },
     "metadata": {},
     "output_type": "display_data"
    },
    {
     "data": {
      "text/html": [
       "<p style=\"color: teal; margin-bottom: 10px;\">*>sa, *>za, *asz, *azs, *sas, *zaz, *zz<</p>"
      ],
      "text/plain": [
       "<IPython.core.display.HTML object>"
      ]
     },
     "metadata": {},
     "output_type": "display_data"
    },
    {
     "data": {
      "text/html": [
       "<p style=\"color: teal; margin-bottom: 0;\"><strong>Tier:</strong> a, u</p>"
      ],
      "text/plain": [
       "<IPython.core.display.HTML object>"
      ]
     },
     "metadata": {},
     "output_type": "display_data"
    },
    {
     "data": {
      "text/html": [
       "<p style=\"color: teal; margin-bottom: 10px;\">*aua, *uau</p>"
      ],
      "text/plain": [
       "<IPython.core.display.HTML object>"
      ]
     },
     "metadata": {},
     "output_type": "display_data"
    },
    {
     "data": {
      "text/html": [
       "<p style=\"color: teal; margin-bottom: 0;\"><strong>Tier:</strong> a, u, z</p>"
      ],
      "text/plain": [
       "<IPython.core.display.HTML object>"
      ]
     },
     "metadata": {},
     "output_type": "display_data"
    },
    {
     "data": {
      "text/html": [
       "<p style=\"color: teal; margin-bottom: 10px;\">*auz, *azu, *uz<, *zuz</p>"
      ],
      "text/plain": [
       "<IPython.core.display.HTML object>"
      ]
     },
     "metadata": {},
     "output_type": "display_data"
    },
    {
     "data": {
      "text/html": [
       "<p style=\"color: teal; margin-bottom: 0;\"><strong>Tier:</strong> a, z</p>"
      ],
      "text/plain": [
       "<IPython.core.display.HTML object>"
      ]
     },
     "metadata": {},
     "output_type": "display_data"
    },
    {
     "data": {
      "text/html": [
       "<p style=\"color: teal; margin-bottom: 10px;\">*azz</p>"
      ],
      "text/plain": [
       "<IPython.core.display.HTML object>"
      ]
     },
     "metadata": {},
     "output_type": "display_data"
    },
    {
     "data": {
      "text/html": [
       "<p style=\"color: teal; margin-bottom: 0;\"><strong>Tier:</strong> f, i</p>"
      ],
      "text/plain": [
       "<IPython.core.display.HTML object>"
      ]
     },
     "metadata": {},
     "output_type": "display_data"
    },
    {
     "data": {
      "text/html": [
       "<p style=\"color: teal; margin-bottom: 10px;\">*ffi, *fif, *fii, *iif</p>"
      ],
      "text/plain": [
       "<IPython.core.display.HTML object>"
      ]
     },
     "metadata": {},
     "output_type": "display_data"
    },
    {
     "data": {
      "text/html": [
       "<p style=\"color: teal; margin-bottom: 0;\"><strong>Tier:</strong> f, i, s</p>"
      ],
      "text/plain": [
       "<IPython.core.display.HTML object>"
      ]
     },
     "metadata": {},
     "output_type": "display_data"
    },
    {
     "data": {
      "text/html": [
       "<p style=\"color: teal; margin-bottom: 10px;\">*>fi, *>ss, *fis, *iff, *isf</p>"
      ],
      "text/plain": [
       "<IPython.core.display.HTML object>"
      ]
     },
     "metadata": {},
     "output_type": "display_data"
    },
    {
     "data": {
      "text/html": [
       "<p style=\"color: teal; margin-bottom: 0;\"><strong>Tier:</strong> f, i, s, u</p>"
      ],
      "text/plain": [
       "<IPython.core.display.HTML object>"
      ]
     },
     "metadata": {},
     "output_type": "display_data"
    },
    {
     "data": {
      "text/html": [
       "<p style=\"color: teal; margin-bottom: 10px;\">*sis, *uif, *usf</p>"
      ],
      "text/plain": [
       "<IPython.core.display.HTML object>"
      ]
     },
     "metadata": {},
     "output_type": "display_data"
    },
    {
     "data": {
      "text/html": [
       "<p style=\"color: teal; margin-bottom: 0;\"><strong>Tier:</strong> f, i, s, u, z</p>"
      ],
      "text/plain": [
       "<IPython.core.display.HTML object>"
      ]
     },
     "metadata": {},
     "output_type": "display_data"
    },
    {
     "data": {
      "text/html": [
       "<p style=\"color: teal; margin-bottom: 10px;\">*szi</p>"
      ],
      "text/plain": [
       "<IPython.core.display.HTML object>"
      ]
     },
     "metadata": {},
     "output_type": "display_data"
    },
    {
     "data": {
      "text/html": [
       "<p style=\"color: teal; margin-bottom: 0;\"><strong>Tier:</strong> f, i, s, z</p>"
      ],
      "text/plain": [
       "<IPython.core.display.HTML object>"
      ]
     },
     "metadata": {},
     "output_type": "display_data"
    },
    {
     "data": {
      "text/html": [
       "<p style=\"color: teal; margin-bottom: 10px;\">*>sf, *>zf, *sfi, *zfs, *zi<</p>"
      ],
      "text/plain": [
       "<IPython.core.display.HTML object>"
      ]
     },
     "metadata": {},
     "output_type": "display_data"
    },
    {
     "data": {
      "text/html": [
       "<p style=\"color: teal; margin-bottom: 0;\"><strong>Tier:</strong> f, i, u</p>"
      ],
      "text/plain": [
       "<IPython.core.display.HTML object>"
      ]
     },
     "metadata": {},
     "output_type": "display_data"
    },
    {
     "data": {
      "text/html": [
       "<p style=\"color: teal; margin-bottom: 10px;\">*>if, *fiu, *fui, *ifu</p>"
      ],
      "text/plain": [
       "<IPython.core.display.HTML object>"
      ]
     },
     "metadata": {},
     "output_type": "display_data"
    },
    {
     "data": {
      "text/html": [
       "<p style=\"color: teal; margin-bottom: 0;\"><strong>Tier:</strong> f, i, u, z</p>"
      ],
      "text/plain": [
       "<IPython.core.display.HTML object>"
      ]
     },
     "metadata": {},
     "output_type": "display_data"
    },
    {
     "data": {
      "text/html": [
       "<p style=\"color: teal; margin-bottom: 10px;\">*uiz, *zif, *zuf</p>"
      ],
      "text/plain": [
       "<IPython.core.display.HTML object>"
      ]
     },
     "metadata": {},
     "output_type": "display_data"
    },
    {
     "data": {
      "text/html": [
       "<p style=\"color: teal; margin-bottom: 0;\"><strong>Tier:</strong> f, i, z</p>"
      ],
      "text/plain": [
       "<IPython.core.display.HTML object>"
      ]
     },
     "metadata": {},
     "output_type": "display_data"
    },
    {
     "data": {
      "text/html": [
       "<p style=\"color: teal; margin-bottom: 10px;\">*fiz, *fzi, *ifz, *zff</p>"
      ],
      "text/plain": [
       "<IPython.core.display.HTML object>"
      ]
     },
     "metadata": {},
     "output_type": "display_data"
    },
    {
     "data": {
      "text/html": [
       "<p style=\"color: teal; margin-bottom: 0;\"><strong>Tier:</strong> f, s</p>"
      ],
      "text/plain": [
       "<IPython.core.display.HTML object>"
      ]
     },
     "metadata": {},
     "output_type": "display_data"
    },
    {
     "data": {
      "text/html": [
       "<p style=\"color: teal; margin-bottom: 10px;\">*ff<</p>"
      ],
      "text/plain": [
       "<IPython.core.display.HTML object>"
      ]
     },
     "metadata": {},
     "output_type": "display_data"
    },
    {
     "data": {
      "text/html": [
       "<p style=\"color: teal; margin-bottom: 0;\"><strong>Tier:</strong> f, s, u</p>"
      ],
      "text/plain": [
       "<IPython.core.display.HTML object>"
      ]
     },
     "metadata": {},
     "output_type": "display_data"
    },
    {
     "data": {
      "text/html": [
       "<p style=\"color: teal; margin-bottom: 10px;\">*fsu, *fuu, *sff, *sfu, *ssf</p>"
      ],
      "text/plain": [
       "<IPython.core.display.HTML object>"
      ]
     },
     "metadata": {},
     "output_type": "display_data"
    },
    {
     "data": {
      "text/html": [
       "<p style=\"color: teal; margin-bottom: 0;\"><strong>Tier:</strong> f, s, u, z</p>"
      ],
      "text/plain": [
       "<IPython.core.display.HTML object>"
      ]
     },
     "metadata": {},
     "output_type": "display_data"
    },
    {
     "data": {
      "text/html": [
       "<p style=\"color: teal; margin-bottom: 10px;\">*ssz, *sz<</p>"
      ],
      "text/plain": [
       "<IPython.core.display.HTML object>"
      ]
     },
     "metadata": {},
     "output_type": "display_data"
    },
    {
     "data": {
      "text/html": [
       "<p style=\"color: teal; margin-bottom: 0;\"><strong>Tier:</strong> f, s, z</p>"
      ],
      "text/plain": [
       "<IPython.core.display.HTML object>"
      ]
     },
     "metadata": {},
     "output_type": "display_data"
    },
    {
     "data": {
      "text/html": [
       "<p style=\"color: teal; margin-bottom: 10px;\">*ffz, *zsf</p>"
      ],
      "text/plain": [
       "<IPython.core.display.HTML object>"
      ]
     },
     "metadata": {},
     "output_type": "display_data"
    },
    {
     "data": {
      "text/html": [
       "<p style=\"color: teal; margin-bottom: 0;\"><strong>Tier:</strong> f, u</p>"
      ],
      "text/plain": [
       "<IPython.core.display.HTML object>"
      ]
     },
     "metadata": {},
     "output_type": "display_data"
    },
    {
     "data": {
      "text/html": [
       "<p style=\"color: teal; margin-bottom: 10px;\">*ffu</p>"
      ],
      "text/plain": [
       "<IPython.core.display.HTML object>"
      ]
     },
     "metadata": {},
     "output_type": "display_data"
    },
    {
     "data": {
      "text/html": [
       "<p style=\"color: teal; margin-bottom: 0;\"><strong>Tier:</strong> f, u, z</p>"
      ],
      "text/plain": [
       "<IPython.core.display.HTML object>"
      ]
     },
     "metadata": {},
     "output_type": "display_data"
    },
    {
     "data": {
      "text/html": [
       "<p style=\"color: teal; margin-bottom: 10px;\">*>uz, *fuz, *fzu, *ufz</p>"
      ],
      "text/plain": [
       "<IPython.core.display.HTML object>"
      ]
     },
     "metadata": {},
     "output_type": "display_data"
    },
    {
     "data": {
      "text/html": [
       "<p style=\"color: teal; margin-bottom: 0;\"><strong>Tier:</strong> f, z</p>"
      ],
      "text/plain": [
       "<IPython.core.display.HTML object>"
      ]
     },
     "metadata": {},
     "output_type": "display_data"
    },
    {
     "data": {
      "text/html": [
       "<p style=\"color: teal; margin-bottom: 10px;\">*fzf, *zfz, *zzf</p>"
      ],
      "text/plain": [
       "<IPython.core.display.HTML object>"
      ]
     },
     "metadata": {},
     "output_type": "display_data"
    },
    {
     "data": {
      "text/html": [
       "<p style=\"color: teal; margin-bottom: 0;\"><strong>Tier:</strong> i, s</p>"
      ],
      "text/plain": [
       "<IPython.core.display.HTML object>"
      ]
     },
     "metadata": {},
     "output_type": "display_data"
    },
    {
     "data": {
      "text/html": [
       "<p style=\"color: teal; margin-bottom: 10px;\">*>ii, *iis</p>"
      ],
      "text/plain": [
       "<IPython.core.display.HTML object>"
      ]
     },
     "metadata": {},
     "output_type": "display_data"
    },
    {
     "data": {
      "text/html": [
       "<p style=\"color: teal; margin-bottom: 0;\"><strong>Tier:</strong> i, s, u</p>"
      ],
      "text/plain": [
       "<IPython.core.display.HTML object>"
      ]
     },
     "metadata": {},
     "output_type": "display_data"
    },
    {
     "data": {
      "text/html": [
       "<p style=\"color: teal; margin-bottom: 10px;\">*isu, *sii, *su<, *usu, *uui, *uuu</p>"
      ],
      "text/plain": [
       "<IPython.core.display.HTML object>"
      ]
     },
     "metadata": {},
     "output_type": "display_data"
    },
    {
     "data": {
      "text/html": [
       "<p style=\"color: teal; margin-bottom: 0;\"><strong>Tier:</strong> i, s, u, z</p>"
      ],
      "text/plain": [
       "<IPython.core.display.HTML object>"
      ]
     },
     "metadata": {},
     "output_type": "display_data"
    },
    {
     "data": {
      "text/html": [
       "<p style=\"color: teal; margin-bottom: 10px;\">*>su, *>zu, *sui, *zis, *zus</p>"
      ],
      "text/plain": [
       "<IPython.core.display.HTML object>"
      ]
     },
     "metadata": {},
     "output_type": "display_data"
    },
    {
     "data": {
      "text/html": [
       "<p style=\"color: teal; margin-bottom: 0;\"><strong>Tier:</strong> i, s, z</p>"
      ],
      "text/plain": [
       "<IPython.core.display.HTML object>"
      ]
     },
     "metadata": {},
     "output_type": "display_data"
    },
    {
     "data": {
      "text/html": [
       "<p style=\"color: teal; margin-bottom: 10px;\">*siz, *zsi</p>"
      ],
      "text/plain": [
       "<IPython.core.display.HTML object>"
      ]
     },
     "metadata": {},
     "output_type": "display_data"
    },
    {
     "data": {
      "text/html": [
       "<p style=\"color: teal; margin-bottom: 0;\"><strong>Tier:</strong> i, u</p>"
      ],
      "text/plain": [
       "<IPython.core.display.HTML object>"
      ]
     },
     "metadata": {},
     "output_type": "display_data"
    },
    {
     "data": {
      "text/html": [
       "<p style=\"color: teal; margin-bottom: 10px;\">*iii</p>"
      ],
      "text/plain": [
       "<IPython.core.display.HTML object>"
      ]
     },
     "metadata": {},
     "output_type": "display_data"
    },
    {
     "data": {
      "text/html": [
       "<p style=\"color: teal; margin-bottom: 0;\"><strong>Tier:</strong> i, u, z</p>"
      ],
      "text/plain": [
       "<IPython.core.display.HTML object>"
      ]
     },
     "metadata": {},
     "output_type": "display_data"
    },
    {
     "data": {
      "text/html": [
       "<p style=\"color: teal; margin-bottom: 10px;\">*izu, *uzi</p>"
      ],
      "text/plain": [
       "<IPython.core.display.HTML object>"
      ]
     },
     "metadata": {},
     "output_type": "display_data"
    },
    {
     "data": {
      "text/html": [
       "<p style=\"color: teal; margin-bottom: 0;\"><strong>Tier:</strong> i, z</p>"
      ],
      "text/plain": [
       "<IPython.core.display.HTML object>"
      ]
     },
     "metadata": {},
     "output_type": "display_data"
    },
    {
     "data": {
      "text/html": [
       "<p style=\"color: teal; margin-bottom: 10px;\">*iiz, *izz, *zii, *zzi</p>"
      ],
      "text/plain": [
       "<IPython.core.display.HTML object>"
      ]
     },
     "metadata": {},
     "output_type": "display_data"
    },
    {
     "data": {
      "text/html": [
       "<p style=\"color: teal; margin-bottom: 0;\"><strong>Tier:</strong> s, u, z</p>"
      ],
      "text/plain": [
       "<IPython.core.display.HTML object>"
      ]
     },
     "metadata": {},
     "output_type": "display_data"
    },
    {
     "data": {
      "text/html": [
       "<p style=\"color: teal; margin-bottom: 10px;\">*uzs, *zsu, *zuu, *zzu</p>"
      ],
      "text/plain": [
       "<IPython.core.display.HTML object>"
      ]
     },
     "metadata": {},
     "output_type": "display_data"
    },
    {
     "data": {
      "text/html": [
       "<p style=\"color: teal; margin-bottom: 0;\"><strong>Tier:</strong> s, z</p>"
      ],
      "text/plain": [
       "<IPython.core.display.HTML object>"
      ]
     },
     "metadata": {},
     "output_type": "display_data"
    },
    {
     "data": {
      "text/html": [
       "<p style=\"color: teal; margin-bottom: 10px;\">*zzz</p>"
      ],
      "text/plain": [
       "<IPython.core.display.HTML object>"
      ]
     },
     "metadata": {},
     "output_type": "display_data"
    },
    {
     "data": {
      "text/html": [
       "<p style=\"color: teal; margin-bottom: 0;\"><strong>Tier:</strong> u, z</p>"
      ],
      "text/plain": [
       "<IPython.core.display.HTML object>"
      ]
     },
     "metadata": {},
     "output_type": "display_data"
    },
    {
     "data": {
      "text/html": [
       "<p style=\"color: teal; margin-bottom: 10px;\">*uzz</p>"
      ],
      "text/plain": [
       "<IPython.core.display.HTML object>"
      ]
     },
     "metadata": {},
     "output_type": "display_data"
    },
    {
     "name": "stdout",
     "output_type": "stream",
     "text": [
      "\n"
     ]
    },
    {
     "data": {
      "text/html": [
       "<h2>Brute force</h2>"
      ],
      "text/plain": [
       "<IPython.core.display.HTML object>"
      ]
     },
     "metadata": {},
     "output_type": "display_data"
    },
    {
     "data": {
      "text/html": [
       "<p style=\"color: purple; margin-bottom: 0;\"><strong>Tier:</strong> a, f</p>"
      ],
      "text/plain": [
       "<IPython.core.display.HTML object>"
      ]
     },
     "metadata": {},
     "output_type": "display_data"
    },
    {
     "data": {
      "text/html": [
       "<p style=\"color: purple; margin-bottom: 10px;\">*fff</p>"
      ],
      "text/plain": [
       "<IPython.core.display.HTML object>"
      ]
     },
     "metadata": {},
     "output_type": "display_data"
    },
    {
     "data": {
      "text/html": [
       "<p style=\"color: purple; margin-bottom: 0;\"><strong>Tier:</strong> a, f, i</p>"
      ],
      "text/plain": [
       "<IPython.core.display.HTML object>"
      ]
     },
     "metadata": {},
     "output_type": "display_data"
    },
    {
     "data": {
      "text/html": [
       "<p style=\"color: purple; margin-bottom: 10px;\">*>af, *>ff, *aif, *fai, *fia, *iaa, *if<, *ifa, *ifi</p>"
      ],
      "text/plain": [
       "<IPython.core.display.HTML object>"
      ]
     },
     "metadata": {},
     "output_type": "display_data"
    },
    {
     "data": {
      "text/html": [
       "<p style=\"color: purple; margin-bottom: 0;\"><strong>Tier:</strong> a, f, i, s</p>"
      ],
      "text/plain": [
       "<IPython.core.display.HTML object>"
      ]
     },
     "metadata": {},
     "output_type": "display_data"
    },
    {
     "data": {
      "text/html": [
       "<p style=\"color: purple; margin-bottom: 10px;\">*afi, *fs<, *isa, *sf<</p>"
      ],
      "text/plain": [
       "<IPython.core.display.HTML object>"
      ]
     },
     "metadata": {},
     "output_type": "display_data"
    },
    {
     "data": {
      "text/html": [
       "<p style=\"color: purple; margin-bottom: 0;\"><strong>Tier:</strong> a, f, i, s, u</p>"
      ],
      "text/plain": [
       "<IPython.core.display.HTML object>"
      ]
     },
     "metadata": {},
     "output_type": "display_data"
    },
    {
     "data": {
      "text/html": [
       "<p style=\"color: purple; margin-bottom: 10px;\">*asi, *ius</p>"
      ],
      "text/plain": [
       "<IPython.core.display.HTML object>"
      ]
     },
     "metadata": {},
     "output_type": "display_data"
    },
    {
     "data": {
      "text/html": [
       "<p style=\"color: purple; margin-bottom: 0;\"><strong>Tier:</strong> a, f, i, u</p>"
      ],
      "text/plain": [
       "<IPython.core.display.HTML object>"
      ]
     },
     "metadata": {},
     "output_type": "display_data"
    },
    {
     "data": {
      "text/html": [
       "<p style=\"color: purple; margin-bottom: 10px;\">*>uf, *>uu, *af<, *iaf, *uai, *ufi, *uia</p>"
      ],
      "text/plain": [
       "<IPython.core.display.HTML object>"
      ]
     },
     "metadata": {},
     "output_type": "display_data"
    },
    {
     "data": {
      "text/html": [
       "<p style=\"color: purple; margin-bottom: 0;\"><strong>Tier:</strong> a, f, i, z</p>"
      ],
      "text/plain": [
       "<IPython.core.display.HTML object>"
      ]
     },
     "metadata": {},
     "output_type": "display_data"
    },
    {
     "data": {
      "text/html": [
       "<p style=\"color: purple; margin-bottom: 10px;\">*>az, *>iz, *izf, *zf<, *zia</p>"
      ],
      "text/plain": [
       "<IPython.core.display.HTML object>"
      ]
     },
     "metadata": {},
     "output_type": "display_data"
    },
    {
     "data": {
      "text/html": [
       "<p style=\"color: purple; margin-bottom: 0;\"><strong>Tier:</strong> a, f, s</p>"
      ],
      "text/plain": [
       "<IPython.core.display.HTML object>"
      ]
     },
     "metadata": {},
     "output_type": "display_data"
    },
    {
     "data": {
      "text/html": [
       "<p style=\"color: purple; margin-bottom: 10px;\">*>a<, *aff, *asf, *faf, *ffa, *saf</p>"
      ],
      "text/plain": [
       "<IPython.core.display.HTML object>"
      ]
     },
     "metadata": {},
     "output_type": "display_data"
    },
    {
     "data": {
      "text/html": [
       "<p style=\"color: purple; margin-bottom: 0;\"><strong>Tier:</strong> a, f, s, u</p>"
      ],
      "text/plain": [
       "<IPython.core.display.HTML object>"
      ]
     },
     "metadata": {},
     "output_type": "display_data"
    },
    {
     "data": {
      "text/html": [
       "<p style=\"color: purple; margin-bottom: 10px;\">*>as, *fus, *uas, *usa</p>"
      ],
      "text/plain": [
       "<IPython.core.display.HTML object>"
      ]
     },
     "metadata": {},
     "output_type": "display_data"
    },
    {
     "data": {
      "text/html": [
       "<p style=\"color: purple; margin-bottom: 0;\"><strong>Tier:</strong> a, f, s, z</p>"
      ],
      "text/plain": [
       "<IPython.core.display.HTML object>"
      ]
     },
     "metadata": {},
     "output_type": "display_data"
    },
    {
     "data": {
      "text/html": [
       "<p style=\"color: purple; margin-bottom: 10px;\">*>fs, *fsa, *fza, *saa, *sfz</p>"
      ],
      "text/plain": [
       "<IPython.core.display.HTML object>"
      ]
     },
     "metadata": {},
     "output_type": "display_data"
    },
    {
     "data": {
      "text/html": [
       "<p style=\"color: purple; margin-bottom: 0;\"><strong>Tier:</strong> a, f, u</p>"
      ],
      "text/plain": [
       "<IPython.core.display.HTML object>"
      ]
     },
     "metadata": {},
     "output_type": "display_data"
    },
    {
     "data": {
      "text/html": [
       "<p style=\"color: purple; margin-bottom: 10px;\">*>ua, *aaf, *afu, *fua, *fuf, *ua<, *uaa, *uf<, *ufa, *uuf</p>"
      ],
      "text/plain": [
       "<IPython.core.display.HTML object>"
      ]
     },
     "metadata": {},
     "output_type": "display_data"
    },
    {
     "data": {
      "text/html": [
       "<p style=\"color: purple; margin-bottom: 0;\"><strong>Tier:</strong> a, f, u, z</p>"
      ],
      "text/plain": [
       "<IPython.core.display.HTML object>"
      ]
     },
     "metadata": {},
     "output_type": "display_data"
    },
    {
     "data": {
      "text/html": [
       "<p style=\"color: purple; margin-bottom: 10px;\">*fa<, *uza, *uzf, *zau, *zfu, *zua</p>"
      ],
      "text/plain": [
       "<IPython.core.display.HTML object>"
      ]
     },
     "metadata": {},
     "output_type": "display_data"
    },
    {
     "data": {
      "text/html": [
       "<p style=\"color: purple; margin-bottom: 0;\"><strong>Tier:</strong> a, f, z</p>"
      ],
      "text/plain": [
       "<IPython.core.display.HTML object>"
      ]
     },
     "metadata": {},
     "output_type": "display_data"
    },
    {
     "data": {
      "text/html": [
       "<p style=\"color: purple; margin-bottom: 10px;\">*afa, *afz, *fz<, *zaf</p>"
      ],
      "text/plain": [
       "<IPython.core.display.HTML object>"
      ]
     },
     "metadata": {},
     "output_type": "display_data"
    },
    {
     "data": {
      "text/html": [
       "<p style=\"color: purple; margin-bottom: 0;\"><strong>Tier:</strong> a, i</p>"
      ],
      "text/plain": [
       "<IPython.core.display.HTML object>"
      ]
     },
     "metadata": {},
     "output_type": "display_data"
    },
    {
     "data": {
      "text/html": [
       "<p style=\"color: purple; margin-bottom: 10px;\">*aai, *aia, *aii, *iia</p>"
      ],
      "text/plain": [
       "<IPython.core.display.HTML object>"
      ]
     },
     "metadata": {},
     "output_type": "display_data"
    },
    {
     "data": {
      "text/html": [
       "<p style=\"color: purple; margin-bottom: 0;\"><strong>Tier:</strong> a, i, s</p>"
      ],
      "text/plain": [
       "<IPython.core.display.HTML object>"
      ]
     },
     "metadata": {},
     "output_type": "display_data"
    },
    {
     "data": {
      "text/html": [
       "<p style=\"color: purple; margin-bottom: 10px;\">*>ai, *>i<, *ais, *ia<, *iai, *is<, *isi, *sia, *ssi</p>"
      ],
      "text/plain": [
       "<IPython.core.display.HTML object>"
      ]
     },
     "metadata": {},
     "output_type": "display_data"
    },
    {
     "data": {
      "text/html": [
       "<p style=\"color: purple; margin-bottom: 0;\"><strong>Tier:</strong> a, i, s, u</p>"
      ],
      "text/plain": [
       "<IPython.core.display.HTML object>"
      ]
     },
     "metadata": {},
     "output_type": "display_data"
    },
    {
     "data": {
      "text/html": [
       "<p style=\"color: purple; margin-bottom: 10px;\">*ias</p>"
      ],
      "text/plain": [
       "<IPython.core.display.HTML object>"
      ]
     },
     "metadata": {},
     "output_type": "display_data"
    },
    {
     "data": {
      "text/html": [
       "<p style=\"color: purple; margin-bottom: 0;\"><strong>Tier:</strong> a, i, s, u, z</p>"
      ],
      "text/plain": [
       "<IPython.core.display.HTML object>"
      ]
     },
     "metadata": {},
     "output_type": "display_data"
    },
    {
     "data": {
      "text/html": [
       "<p style=\"color: purple; margin-bottom: 10px;\">*>iu</p>"
      ],
      "text/plain": [
       "<IPython.core.display.HTML object>"
      ]
     },
     "metadata": {},
     "output_type": "display_data"
    },
    {
     "data": {
      "text/html": [
       "<p style=\"color: purple; margin-bottom: 0;\"><strong>Tier:</strong> a, i, s, z</p>"
      ],
      "text/plain": [
       "<IPython.core.display.HTML object>"
      ]
     },
     "metadata": {},
     "output_type": "display_data"
    },
    {
     "data": {
      "text/html": [
       "<p style=\"color: purple; margin-bottom: 10px;\">*>is, *isz, *iza, *szs, *zai</p>"
      ],
      "text/plain": [
       "<IPython.core.display.HTML object>"
      ]
     },
     "metadata": {},
     "output_type": "display_data"
    },
    {
     "data": {
      "text/html": [
       "<p style=\"color: purple; margin-bottom: 0;\"><strong>Tier:</strong> a, i, u</p>"
      ],
      "text/plain": [
       "<IPython.core.display.HTML object>"
      ]
     },
     "metadata": {},
     "output_type": "display_data"
    },
    {
     "data": {
      "text/html": [
       "<p style=\"color: purple; margin-bottom: 10px;\">*aiu, *aui, *ii<, *ui<</p>"
      ],
      "text/plain": [
       "<IPython.core.display.HTML object>"
      ]
     },
     "metadata": {},
     "output_type": "display_data"
    },
    {
     "data": {
      "text/html": [
       "<p style=\"color: purple; margin-bottom: 0;\"><strong>Tier:</strong> a, i, u, z</p>"
      ],
      "text/plain": [
       "<IPython.core.display.HTML object>"
      ]
     },
     "metadata": {},
     "output_type": "display_data"
    },
    {
     "data": {
      "text/html": [
       "<p style=\"color: purple; margin-bottom: 10px;\">*iaz, *iuz</p>"
      ],
      "text/plain": [
       "<IPython.core.display.HTML object>"
      ]
     },
     "metadata": {},
     "output_type": "display_data"
    },
    {
     "data": {
      "text/html": [
       "<p style=\"color: purple; margin-bottom: 0;\"><strong>Tier:</strong> a, i, z</p>"
      ],
      "text/plain": [
       "<IPython.core.display.HTML object>"
      ]
     },
     "metadata": {},
     "output_type": "display_data"
    },
    {
     "data": {
      "text/html": [
       "<p style=\"color: purple; margin-bottom: 10px;\">*aiz, *azi, *iz<, *izi</p>"
      ],
      "text/plain": [
       "<IPython.core.display.HTML object>"
      ]
     },
     "metadata": {},
     "output_type": "display_data"
    },
    {
     "data": {
      "text/html": [
       "<p style=\"color: purple; margin-bottom: 0;\"><strong>Tier:</strong> a, s</p>"
      ],
      "text/plain": [
       "<IPython.core.display.HTML object>"
      ]
     },
     "metadata": {},
     "output_type": "display_data"
    },
    {
     "data": {
      "text/html": [
       "<p style=\"color: purple; margin-bottom: 10px;\">*aas, *asa</p>"
      ],
      "text/plain": [
       "<IPython.core.display.HTML object>"
      ]
     },
     "metadata": {},
     "output_type": "display_data"
    },
    {
     "data": {
      "text/html": [
       "<p style=\"color: purple; margin-bottom: 0;\"><strong>Tier:</strong> a, s, u</p>"
      ],
      "text/plain": [
       "<IPython.core.display.HTML object>"
      ]
     },
     "metadata": {},
     "output_type": "display_data"
    },
    {
     "data": {
      "text/html": [
       "<p style=\"color: purple; margin-bottom: 10px;\">*asu, *sau, *sua</p>"
      ],
      "text/plain": [
       "<IPython.core.display.HTML object>"
      ]
     },
     "metadata": {},
     "output_type": "display_data"
    },
    {
     "data": {
      "text/html": [
       "<p style=\"color: purple; margin-bottom: 0;\"><strong>Tier:</strong> a, s, u, z</p>"
      ],
      "text/plain": [
       "<IPython.core.display.HTML object>"
      ]
     },
     "metadata": {},
     "output_type": "display_data"
    },
    {
     "data": {
      "text/html": [
       "<p style=\"color: purple; margin-bottom: 10px;\">*usz, *uuz</p>"
      ],
      "text/plain": [
       "<IPython.core.display.HTML object>"
      ]
     },
     "metadata": {},
     "output_type": "display_data"
    },
    {
     "data": {
      "text/html": [
       "<p style=\"color: purple; margin-bottom: 0;\"><strong>Tier:</strong> a, s, z</p>"
      ],
      "text/plain": [
       "<IPython.core.display.HTML object>"
      ]
     },
     "metadata": {},
     "output_type": "display_data"
    },
    {
     "data": {
      "text/html": [
       "<p style=\"color: purple; margin-bottom: 10px;\">*>sa, *>za, *asz, *azs, *sas, *zaz, *zz<</p>"
      ],
      "text/plain": [
       "<IPython.core.display.HTML object>"
      ]
     },
     "metadata": {},
     "output_type": "display_data"
    },
    {
     "data": {
      "text/html": [
       "<p style=\"color: purple; margin-bottom: 0;\"><strong>Tier:</strong> a, u</p>"
      ],
      "text/plain": [
       "<IPython.core.display.HTML object>"
      ]
     },
     "metadata": {},
     "output_type": "display_data"
    },
    {
     "data": {
      "text/html": [
       "<p style=\"color: purple; margin-bottom: 10px;\">*aua, *uau</p>"
      ],
      "text/plain": [
       "<IPython.core.display.HTML object>"
      ]
     },
     "metadata": {},
     "output_type": "display_data"
    },
    {
     "data": {
      "text/html": [
       "<p style=\"color: purple; margin-bottom: 0;\"><strong>Tier:</strong> a, u, z</p>"
      ],
      "text/plain": [
       "<IPython.core.display.HTML object>"
      ]
     },
     "metadata": {},
     "output_type": "display_data"
    },
    {
     "data": {
      "text/html": [
       "<p style=\"color: purple; margin-bottom: 10px;\">*auz, *azu, *uz<, *zuz</p>"
      ],
      "text/plain": [
       "<IPython.core.display.HTML object>"
      ]
     },
     "metadata": {},
     "output_type": "display_data"
    },
    {
     "data": {
      "text/html": [
       "<p style=\"color: purple; margin-bottom: 0;\"><strong>Tier:</strong> a, z</p>"
      ],
      "text/plain": [
       "<IPython.core.display.HTML object>"
      ]
     },
     "metadata": {},
     "output_type": "display_data"
    },
    {
     "data": {
      "text/html": [
       "<p style=\"color: purple; margin-bottom: 10px;\">*azz</p>"
      ],
      "text/plain": [
       "<IPython.core.display.HTML object>"
      ]
     },
     "metadata": {},
     "output_type": "display_data"
    },
    {
     "data": {
      "text/html": [
       "<p style=\"color: purple; margin-bottom: 0;\"><strong>Tier:</strong> f, i</p>"
      ],
      "text/plain": [
       "<IPython.core.display.HTML object>"
      ]
     },
     "metadata": {},
     "output_type": "display_data"
    },
    {
     "data": {
      "text/html": [
       "<p style=\"color: purple; margin-bottom: 10px;\">*ffi, *fif, *fii, *iif</p>"
      ],
      "text/plain": [
       "<IPython.core.display.HTML object>"
      ]
     },
     "metadata": {},
     "output_type": "display_data"
    },
    {
     "data": {
      "text/html": [
       "<p style=\"color: purple; margin-bottom: 0;\"><strong>Tier:</strong> f, i, s</p>"
      ],
      "text/plain": [
       "<IPython.core.display.HTML object>"
      ]
     },
     "metadata": {},
     "output_type": "display_data"
    },
    {
     "data": {
      "text/html": [
       "<p style=\"color: purple; margin-bottom: 10px;\">*>fi, *>ss, *fis, *iff, *isf</p>"
      ],
      "text/plain": [
       "<IPython.core.display.HTML object>"
      ]
     },
     "metadata": {},
     "output_type": "display_data"
    },
    {
     "data": {
      "text/html": [
       "<p style=\"color: purple; margin-bottom: 0;\"><strong>Tier:</strong> f, i, s, u</p>"
      ],
      "text/plain": [
       "<IPython.core.display.HTML object>"
      ]
     },
     "metadata": {},
     "output_type": "display_data"
    },
    {
     "data": {
      "text/html": [
       "<p style=\"color: purple; margin-bottom: 10px;\">*sis, *uif, *usf</p>"
      ],
      "text/plain": [
       "<IPython.core.display.HTML object>"
      ]
     },
     "metadata": {},
     "output_type": "display_data"
    },
    {
     "data": {
      "text/html": [
       "<p style=\"color: purple; margin-bottom: 0;\"><strong>Tier:</strong> f, i, s, u, z</p>"
      ],
      "text/plain": [
       "<IPython.core.display.HTML object>"
      ]
     },
     "metadata": {},
     "output_type": "display_data"
    },
    {
     "data": {
      "text/html": [
       "<p style=\"color: purple; margin-bottom: 10px;\">*szi</p>"
      ],
      "text/plain": [
       "<IPython.core.display.HTML object>"
      ]
     },
     "metadata": {},
     "output_type": "display_data"
    },
    {
     "data": {
      "text/html": [
       "<p style=\"color: purple; margin-bottom: 0;\"><strong>Tier:</strong> f, i, s, z</p>"
      ],
      "text/plain": [
       "<IPython.core.display.HTML object>"
      ]
     },
     "metadata": {},
     "output_type": "display_data"
    },
    {
     "data": {
      "text/html": [
       "<p style=\"color: purple; margin-bottom: 10px;\">*>sf, *>zf, *sfi, *zfs, *zi<</p>"
      ],
      "text/plain": [
       "<IPython.core.display.HTML object>"
      ]
     },
     "metadata": {},
     "output_type": "display_data"
    },
    {
     "data": {
      "text/html": [
       "<p style=\"color: purple; margin-bottom: 0;\"><strong>Tier:</strong> f, i, u</p>"
      ],
      "text/plain": [
       "<IPython.core.display.HTML object>"
      ]
     },
     "metadata": {},
     "output_type": "display_data"
    },
    {
     "data": {
      "text/html": [
       "<p style=\"color: purple; margin-bottom: 10px;\">*>if, *fiu, *fui, *ifu</p>"
      ],
      "text/plain": [
       "<IPython.core.display.HTML object>"
      ]
     },
     "metadata": {},
     "output_type": "display_data"
    },
    {
     "data": {
      "text/html": [
       "<p style=\"color: purple; margin-bottom: 0;\"><strong>Tier:</strong> f, i, u, z</p>"
      ],
      "text/plain": [
       "<IPython.core.display.HTML object>"
      ]
     },
     "metadata": {},
     "output_type": "display_data"
    },
    {
     "data": {
      "text/html": [
       "<p style=\"color: purple; margin-bottom: 10px;\">*uiz, *zif, *zuf</p>"
      ],
      "text/plain": [
       "<IPython.core.display.HTML object>"
      ]
     },
     "metadata": {},
     "output_type": "display_data"
    },
    {
     "data": {
      "text/html": [
       "<p style=\"color: purple; margin-bottom: 0;\"><strong>Tier:</strong> f, i, z</p>"
      ],
      "text/plain": [
       "<IPython.core.display.HTML object>"
      ]
     },
     "metadata": {},
     "output_type": "display_data"
    },
    {
     "data": {
      "text/html": [
       "<p style=\"color: purple; margin-bottom: 10px;\">*fiz, *fzi, *ifz, *zff</p>"
      ],
      "text/plain": [
       "<IPython.core.display.HTML object>"
      ]
     },
     "metadata": {},
     "output_type": "display_data"
    },
    {
     "data": {
      "text/html": [
       "<p style=\"color: purple; margin-bottom: 0;\"><strong>Tier:</strong> f, s</p>"
      ],
      "text/plain": [
       "<IPython.core.display.HTML object>"
      ]
     },
     "metadata": {},
     "output_type": "display_data"
    },
    {
     "data": {
      "text/html": [
       "<p style=\"color: purple; margin-bottom: 10px;\">*ff<</p>"
      ],
      "text/plain": [
       "<IPython.core.display.HTML object>"
      ]
     },
     "metadata": {},
     "output_type": "display_data"
    },
    {
     "data": {
      "text/html": [
       "<p style=\"color: purple; margin-bottom: 0;\"><strong>Tier:</strong> f, s, u</p>"
      ],
      "text/plain": [
       "<IPython.core.display.HTML object>"
      ]
     },
     "metadata": {},
     "output_type": "display_data"
    },
    {
     "data": {
      "text/html": [
       "<p style=\"color: purple; margin-bottom: 10px;\">*fsu, *fuu, *sff, *sfu, *ssf</p>"
      ],
      "text/plain": [
       "<IPython.core.display.HTML object>"
      ]
     },
     "metadata": {},
     "output_type": "display_data"
    },
    {
     "data": {
      "text/html": [
       "<p style=\"color: purple; margin-bottom: 0;\"><strong>Tier:</strong> f, s, u, z</p>"
      ],
      "text/plain": [
       "<IPython.core.display.HTML object>"
      ]
     },
     "metadata": {},
     "output_type": "display_data"
    },
    {
     "data": {
      "text/html": [
       "<p style=\"color: purple; margin-bottom: 10px;\">*ssz, *sz<</p>"
      ],
      "text/plain": [
       "<IPython.core.display.HTML object>"
      ]
     },
     "metadata": {},
     "output_type": "display_data"
    },
    {
     "data": {
      "text/html": [
       "<p style=\"color: purple; margin-bottom: 0;\"><strong>Tier:</strong> f, s, z</p>"
      ],
      "text/plain": [
       "<IPython.core.display.HTML object>"
      ]
     },
     "metadata": {},
     "output_type": "display_data"
    },
    {
     "data": {
      "text/html": [
       "<p style=\"color: purple; margin-bottom: 10px;\">*ffz, *zsf</p>"
      ],
      "text/plain": [
       "<IPython.core.display.HTML object>"
      ]
     },
     "metadata": {},
     "output_type": "display_data"
    },
    {
     "data": {
      "text/html": [
       "<p style=\"color: purple; margin-bottom: 0;\"><strong>Tier:</strong> f, u</p>"
      ],
      "text/plain": [
       "<IPython.core.display.HTML object>"
      ]
     },
     "metadata": {},
     "output_type": "display_data"
    },
    {
     "data": {
      "text/html": [
       "<p style=\"color: purple; margin-bottom: 10px;\">*ffu</p>"
      ],
      "text/plain": [
       "<IPython.core.display.HTML object>"
      ]
     },
     "metadata": {},
     "output_type": "display_data"
    },
    {
     "data": {
      "text/html": [
       "<p style=\"color: purple; margin-bottom: 0;\"><strong>Tier:</strong> f, u, z</p>"
      ],
      "text/plain": [
       "<IPython.core.display.HTML object>"
      ]
     },
     "metadata": {},
     "output_type": "display_data"
    },
    {
     "data": {
      "text/html": [
       "<p style=\"color: purple; margin-bottom: 10px;\">*>uz, *fuz, *fzu, *ufz</p>"
      ],
      "text/plain": [
       "<IPython.core.display.HTML object>"
      ]
     },
     "metadata": {},
     "output_type": "display_data"
    },
    {
     "data": {
      "text/html": [
       "<p style=\"color: purple; margin-bottom: 0;\"><strong>Tier:</strong> f, z</p>"
      ],
      "text/plain": [
       "<IPython.core.display.HTML object>"
      ]
     },
     "metadata": {},
     "output_type": "display_data"
    },
    {
     "data": {
      "text/html": [
       "<p style=\"color: purple; margin-bottom: 10px;\">*fzf, *zfz, *zzf</p>"
      ],
      "text/plain": [
       "<IPython.core.display.HTML object>"
      ]
     },
     "metadata": {},
     "output_type": "display_data"
    },
    {
     "data": {
      "text/html": [
       "<p style=\"color: purple; margin-bottom: 0;\"><strong>Tier:</strong> i, s</p>"
      ],
      "text/plain": [
       "<IPython.core.display.HTML object>"
      ]
     },
     "metadata": {},
     "output_type": "display_data"
    },
    {
     "data": {
      "text/html": [
       "<p style=\"color: purple; margin-bottom: 10px;\">*>ii, *iis</p>"
      ],
      "text/plain": [
       "<IPython.core.display.HTML object>"
      ]
     },
     "metadata": {},
     "output_type": "display_data"
    },
    {
     "data": {
      "text/html": [
       "<p style=\"color: purple; margin-bottom: 0;\"><strong>Tier:</strong> i, s, u</p>"
      ],
      "text/plain": [
       "<IPython.core.display.HTML object>"
      ]
     },
     "metadata": {},
     "output_type": "display_data"
    },
    {
     "data": {
      "text/html": [
       "<p style=\"color: purple; margin-bottom: 10px;\">*isu, *sii, *su<, *usu, *uui, *uuu</p>"
      ],
      "text/plain": [
       "<IPython.core.display.HTML object>"
      ]
     },
     "metadata": {},
     "output_type": "display_data"
    },
    {
     "data": {
      "text/html": [
       "<p style=\"color: purple; margin-bottom: 0;\"><strong>Tier:</strong> i, s, u, z</p>"
      ],
      "text/plain": [
       "<IPython.core.display.HTML object>"
      ]
     },
     "metadata": {},
     "output_type": "display_data"
    },
    {
     "data": {
      "text/html": [
       "<p style=\"color: purple; margin-bottom: 10px;\">*>su, *>zu, *sui, *zis, *zus</p>"
      ],
      "text/plain": [
       "<IPython.core.display.HTML object>"
      ]
     },
     "metadata": {},
     "output_type": "display_data"
    },
    {
     "data": {
      "text/html": [
       "<p style=\"color: purple; margin-bottom: 0;\"><strong>Tier:</strong> i, s, z</p>"
      ],
      "text/plain": [
       "<IPython.core.display.HTML object>"
      ]
     },
     "metadata": {},
     "output_type": "display_data"
    },
    {
     "data": {
      "text/html": [
       "<p style=\"color: purple; margin-bottom: 10px;\">*siz, *zsi</p>"
      ],
      "text/plain": [
       "<IPython.core.display.HTML object>"
      ]
     },
     "metadata": {},
     "output_type": "display_data"
    },
    {
     "data": {
      "text/html": [
       "<p style=\"color: purple; margin-bottom: 0;\"><strong>Tier:</strong> i, u</p>"
      ],
      "text/plain": [
       "<IPython.core.display.HTML object>"
      ]
     },
     "metadata": {},
     "output_type": "display_data"
    },
    {
     "data": {
      "text/html": [
       "<p style=\"color: purple; margin-bottom: 10px;\">*iii</p>"
      ],
      "text/plain": [
       "<IPython.core.display.HTML object>"
      ]
     },
     "metadata": {},
     "output_type": "display_data"
    },
    {
     "data": {
      "text/html": [
       "<p style=\"color: purple; margin-bottom: 0;\"><strong>Tier:</strong> i, u, z</p>"
      ],
      "text/plain": [
       "<IPython.core.display.HTML object>"
      ]
     },
     "metadata": {},
     "output_type": "display_data"
    },
    {
     "data": {
      "text/html": [
       "<p style=\"color: purple; margin-bottom: 10px;\">*izu, *uzi</p>"
      ],
      "text/plain": [
       "<IPython.core.display.HTML object>"
      ]
     },
     "metadata": {},
     "output_type": "display_data"
    },
    {
     "data": {
      "text/html": [
       "<p style=\"color: purple; margin-bottom: 0;\"><strong>Tier:</strong> i, z</p>"
      ],
      "text/plain": [
       "<IPython.core.display.HTML object>"
      ]
     },
     "metadata": {},
     "output_type": "display_data"
    },
    {
     "data": {
      "text/html": [
       "<p style=\"color: purple; margin-bottom: 10px;\">*iiz, *izz, *zii, *zzi</p>"
      ],
      "text/plain": [
       "<IPython.core.display.HTML object>"
      ]
     },
     "metadata": {},
     "output_type": "display_data"
    },
    {
     "data": {
      "text/html": [
       "<p style=\"color: purple; margin-bottom: 0;\"><strong>Tier:</strong> s, u, z</p>"
      ],
      "text/plain": [
       "<IPython.core.display.HTML object>"
      ]
     },
     "metadata": {},
     "output_type": "display_data"
    },
    {
     "data": {
      "text/html": [
       "<p style=\"color: purple; margin-bottom: 10px;\">*uzs, *zsu, *zuu, *zzu</p>"
      ],
      "text/plain": [
       "<IPython.core.display.HTML object>"
      ]
     },
     "metadata": {},
     "output_type": "display_data"
    },
    {
     "data": {
      "text/html": [
       "<p style=\"color: purple; margin-bottom: 0;\"><strong>Tier:</strong> s, z</p>"
      ],
      "text/plain": [
       "<IPython.core.display.HTML object>"
      ]
     },
     "metadata": {},
     "output_type": "display_data"
    },
    {
     "data": {
      "text/html": [
       "<p style=\"color: purple; margin-bottom: 10px;\">*zzz</p>"
      ],
      "text/plain": [
       "<IPython.core.display.HTML object>"
      ]
     },
     "metadata": {},
     "output_type": "display_data"
    },
    {
     "data": {
      "text/html": [
       "<p style=\"color: purple; margin-bottom: 0;\"><strong>Tier:</strong> u, z</p>"
      ],
      "text/plain": [
       "<IPython.core.display.HTML object>"
      ]
     },
     "metadata": {},
     "output_type": "display_data"
    },
    {
     "data": {
      "text/html": [
       "<p style=\"color: purple; margin-bottom: 10px;\">*uzz</p>"
      ],
      "text/plain": [
       "<IPython.core.display.HTML object>"
      ]
     },
     "metadata": {},
     "output_type": "display_data"
    },
    {
     "name": "stdout",
     "output_type": "stream",
     "text": [
      "\n"
     ]
    },
    {
     "data": {
      "text/html": [
       "<hr><hr>"
      ],
      "text/plain": [
       "<IPython.core.display.HTML object>"
      ]
     },
     "metadata": {},
     "output_type": "display_data"
    },
    {
     "ename": "KeyboardInterrupt",
     "evalue": "",
     "output_type": "error",
     "traceback": [
      "\u001b[0;31m---------------------------------------------------------------------------\u001b[0m",
      "\u001b[0;31mKeyboardInterrupt\u001b[0m                         Traceback (most recent call last)",
      "\u001b[0;32m<ipython-input-124-ed0f0ffb5fd0>\u001b[0m in \u001b[0;36m<module>\u001b[0;34m\u001b[0m\n\u001b[1;32m     49\u001b[0m \u001b[0;34m\u001b[0m\u001b[0m\n\u001b[1;32m     50\u001b[0m     \u001b[0;31m# Fingers crossed!\u001b[0m\u001b[0;34m\u001b[0m\u001b[0;34m\u001b[0m\u001b[0;34m\u001b[0m\u001b[0m\n\u001b[0;32m---> 51\u001b[0;31m     \u001b[0;32mif\u001b[0m \u001b[0;32mnot\u001b[0m \u001b[0mtest\u001b[0m\u001b[0;34m(\u001b[0m\u001b[0mG1\u001b[0m\u001b[0;34m,\u001b[0m \u001b[0mG2\u001b[0m\u001b[0;34m,\u001b[0m \u001b[0mdata\u001b[0m\u001b[0;34m,\u001b[0m \u001b[0mk\u001b[0m\u001b[0;34m,\u001b[0m \u001b[0;36m8\u001b[0m\u001b[0;34m)\u001b[0m\u001b[0;34m:\u001b[0m\u001b[0;34m\u001b[0m\u001b[0;34m\u001b[0m\u001b[0m\n\u001b[0m\u001b[1;32m     52\u001b[0m         \u001b[0mprint\u001b[0m\u001b[0;34m(\u001b[0m\u001b[0;34m'The last dataset produced a mismatch.'\u001b[0m\u001b[0;34m)\u001b[0m\u001b[0;34m\u001b[0m\u001b[0;34m\u001b[0m\u001b[0m\n\u001b[1;32m     53\u001b[0m         \u001b[0;32mbreak\u001b[0m\u001b[0;34m\u001b[0m\u001b[0;34m\u001b[0m\u001b[0m\n",
      "\u001b[0;32m<ipython-input-123-5d0beea51fa2>\u001b[0m in \u001b[0;36mtest\u001b[0;34m(G1, G2, data, k, limit)\u001b[0m\n\u001b[1;32m     12\u001b[0m     \u001b[0;32mfor\u001b[0m \u001b[0mn\u001b[0m \u001b[0;32min\u001b[0m \u001b[0mrange\u001b[0m\u001b[0;34m(\u001b[0m\u001b[0;36m1\u001b[0m\u001b[0;34m,\u001b[0m \u001b[0mlimit\u001b[0m\u001b[0;34m)\u001b[0m\u001b[0;34m:\u001b[0m\u001b[0;34m\u001b[0m\u001b[0;34m\u001b[0m\u001b[0m\n\u001b[1;32m     13\u001b[0m         \u001b[0;32mfor\u001b[0m \u001b[0mstring\u001b[0m \u001b[0;32min\u001b[0m \u001b[0mitertools\u001b[0m\u001b[0;34m.\u001b[0m\u001b[0mproduct\u001b[0m\u001b[0;34m(\u001b[0m\u001b[0malpha\u001b[0m\u001b[0;34m,\u001b[0m \u001b[0mrepeat\u001b[0m\u001b[0;34m=\u001b[0m\u001b[0mn\u001b[0m\u001b[0;34m)\u001b[0m\u001b[0;34m:\u001b[0m\u001b[0;34m\u001b[0m\u001b[0;34m\u001b[0m\u001b[0m\n\u001b[0;32m---> 14\u001b[0;31m             \u001b[0;32mif\u001b[0m \u001b[0mscan\u001b[0m\u001b[0;34m(\u001b[0m\u001b[0mstring\u001b[0m\u001b[0;34m,\u001b[0m \u001b[0mk\u001b[0m\u001b[0;34m,\u001b[0m \u001b[0mG1\u001b[0m\u001b[0;34m)\u001b[0m \u001b[0;34m!=\u001b[0m \u001b[0mscan\u001b[0m\u001b[0;34m(\u001b[0m\u001b[0mstring\u001b[0m\u001b[0;34m,\u001b[0m \u001b[0mk\u001b[0m\u001b[0;34m,\u001b[0m \u001b[0mG2\u001b[0m\u001b[0;34m)\u001b[0m\u001b[0;34m:\u001b[0m\u001b[0;34m\u001b[0m\u001b[0;34m\u001b[0m\u001b[0m\n\u001b[0m\u001b[1;32m     15\u001b[0m                 \u001b[0mprint\u001b[0m\u001b[0;34m(\u001b[0m\u001b[0mstring\u001b[0m\u001b[0;34m,\u001b[0m \u001b[0mscan\u001b[0m\u001b[0;34m(\u001b[0m\u001b[0mstring\u001b[0m\u001b[0;34m,\u001b[0m \u001b[0mk\u001b[0m\u001b[0;34m,\u001b[0m \u001b[0mG1\u001b[0m\u001b[0;34m)\u001b[0m\u001b[0;34m,\u001b[0m \u001b[0mscan\u001b[0m\u001b[0;34m(\u001b[0m\u001b[0mstring\u001b[0m\u001b[0;34m,\u001b[0m \u001b[0mk\u001b[0m\u001b[0;34m,\u001b[0m \u001b[0mG2\u001b[0m\u001b[0;34m)\u001b[0m\u001b[0;34m)\u001b[0m\u001b[0;34m\u001b[0m\u001b[0;34m\u001b[0m\u001b[0m\n\u001b[1;32m     16\u001b[0m                 \u001b[0;32mreturn\u001b[0m \u001b[0;32mFalse\u001b[0m\u001b[0;34m\u001b[0m\u001b[0;34m\u001b[0m\u001b[0m\n",
      "\u001b[0;32m<ipython-input-123-5d0beea51fa2>\u001b[0m in \u001b[0;36mscan\u001b[0;34m(string, k, grammar, edges)\u001b[0m\n\u001b[1;32m      3\u001b[0m         \u001b[0mprojection\u001b[0m \u001b[0;34m=\u001b[0m \u001b[0mproject\u001b[0m\u001b[0;34m(\u001b[0m\u001b[0mstring\u001b[0m\u001b[0;34m,\u001b[0m \u001b[0mk\u001b[0m\u001b[0;34m,\u001b[0m \u001b[0mtier\u001b[0m\u001b[0;34m,\u001b[0m \u001b[0medges\u001b[0m\u001b[0;34m)\u001b[0m\u001b[0;34m\u001b[0m\u001b[0;34m\u001b[0m\u001b[0m\n\u001b[1;32m      4\u001b[0m         \u001b[0;32mfor\u001b[0m \u001b[0moffset\u001b[0m \u001b[0;32min\u001b[0m \u001b[0mrange\u001b[0m\u001b[0;34m(\u001b[0m\u001b[0mlen\u001b[0m\u001b[0;34m(\u001b[0m\u001b[0mprojection\u001b[0m\u001b[0;34m)\u001b[0m \u001b[0;34m-\u001b[0m \u001b[0mk\u001b[0m \u001b[0;34m+\u001b[0m \u001b[0;36m1\u001b[0m\u001b[0;34m)\u001b[0m\u001b[0;34m:\u001b[0m\u001b[0;34m\u001b[0m\u001b[0;34m\u001b[0m\u001b[0m\n\u001b[0;32m----> 5\u001b[0;31m             \u001b[0mk_gram\u001b[0m \u001b[0;34m=\u001b[0m \u001b[0mprojection\u001b[0m\u001b[0;34m[\u001b[0m\u001b[0moffset\u001b[0m\u001b[0;34m:\u001b[0m\u001b[0;34m(\u001b[0m\u001b[0moffset\u001b[0m \u001b[0;34m+\u001b[0m \u001b[0mk\u001b[0m\u001b[0;34m)\u001b[0m\u001b[0;34m]\u001b[0m\u001b[0;34m\u001b[0m\u001b[0;34m\u001b[0m\u001b[0m\n\u001b[0m\u001b[1;32m      6\u001b[0m             \u001b[0;32mif\u001b[0m \u001b[0mk_gram\u001b[0m \u001b[0;32min\u001b[0m \u001b[0mgrammar\u001b[0m\u001b[0;34m[\u001b[0m\u001b[0mtier\u001b[0m\u001b[0;34m]\u001b[0m\u001b[0;34m:\u001b[0m\u001b[0;34m\u001b[0m\u001b[0;34m\u001b[0m\u001b[0m\n\u001b[1;32m      7\u001b[0m                 \u001b[0;32mreturn\u001b[0m \u001b[0;32mFalse\u001b[0m\u001b[0;34m\u001b[0m\u001b[0;34m\u001b[0m\u001b[0m\n",
      "\u001b[0;31mKeyboardInterrupt\u001b[0m: "
     ]
    }
   ],
   "source": [
    "from IPython.display import display, HTML\n",
    "\n",
    "while True:\n",
    "    # Alphabet size\n",
    "    m = random.randint(2, len(letters) + 1)\n",
    "    alpha = letters[:m]\n",
    "    \n",
    "    # Dataset size\n",
    "    n = random.randint(1, 30)\n",
    "    data = set()\n",
    "    while len(data) < n:\n",
    "        L = random.randint(1, 10)\n",
    "        data.add(''.join(random.choice(alpha) for pos in range(L)))\n",
    "    data = tuple(data)\n",
    "    \n",
    "    # Go!\n",
    "    G1 = mtslia(data, k)\n",
    "    G2 = brute_force(data, k)\n",
    "    \n",
    "    display(HTML('<h2>Dataset</h2>'))\n",
    "    print('\\n'.join(data))\n",
    "    print()  \n",
    "\n",
    "    # Print MTSLIA's constraints\n",
    "    display(HTML('<h2><em>k</em>-MTSLIA</h2>'))\n",
    "    for tier in sorted(G1):\n",
    "        if not tier or not G1[tier]:\n",
    "            continue\n",
    "        display(HTML('<p style=\"color: teal; margin-bottom: 0;\"><strong>Tier:</strong> %s</p>' % ', '.join(tier)))\n",
    "        constraints = []\n",
    "        for constraint in sorted(G1[tier]):\n",
    "            constraints += ['*' + ''.join(constraint)]\n",
    "        display(HTML('<p style=\"color: teal; margin-bottom: 10px;\">%s</p>' % ', '.join(constraints)))\n",
    "    print()\n",
    "    \n",
    "    # Print brute-force constraints\n",
    "    display(HTML('<h2>Brute force</h2>'))\n",
    "    for tier in sorted(G2):\n",
    "        if not tier or not G2[tier]:\n",
    "            continue\n",
    "        display(HTML('<p style=\"color: purple; margin-bottom: 0;\"><strong>Tier:</strong> %s</p>' % ', '.join(tier)))\n",
    "        constraints = []\n",
    "        for constraint in sorted(G2[tier]):\n",
    "            constraints += ['*' + ''.join(constraint)]\n",
    "        display(HTML('<p style=\"color: purple; margin-bottom: 10px;\">%s</p>' % ', '.join(constraints)))\n",
    "    print()\n",
    "    \n",
    "    display(HTML('<hr><hr>'))\n",
    "    \n",
    "    # Fingers crossed!\n",
    "    if not test(G1, G2, data, k, 8):\n",
    "        print('The last dataset produced a mismatch.')\n",
    "        break"
   ]
  },
  {
   "cell_type": "code",
   "execution_count": null,
   "metadata": {},
   "outputs": [],
   "source": []
  },
  {
   "cell_type": "code",
   "execution_count": null,
   "metadata": {},
   "outputs": [],
   "source": []
  }
 ],
 "metadata": {
  "kernelspec": {
   "display_name": "Python 3",
   "language": "python",
   "name": "python3"
  },
  "language_info": {
   "codemirror_mode": {
    "name": "ipython",
    "version": 3
   },
   "file_extension": ".py",
   "mimetype": "text/x-python",
   "name": "python",
   "nbconvert_exporter": "python",
   "pygments_lexer": "ipython3",
   "version": "3.6.9"
  }
 },
 "nbformat": 4,
 "nbformat_minor": 4
}
