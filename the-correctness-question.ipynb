{
 "cells": [
  {
   "cell_type": "markdown",
   "metadata": {},
   "source": [
    "# Is the following _k_-MTSLIA a correct one?\n",
    "\n",
    "Well, is it?"
   ]
  },
  {
   "cell_type": "code",
   "execution_count": 115,
   "metadata": {},
   "outputs": [],
   "source": [
    "import random\n",
    "import itertools\n",
    "import collections"
   ]
  },
  {
   "cell_type": "code",
   "execution_count": 116,
   "metadata": {},
   "outputs": [],
   "source": [
    "def extract_alphabet(data):\n",
    "    alpha = set()\n",
    "    for datum in data:\n",
    "        alpha |= set(datum)\n",
    "    return alpha\n",
    "\n",
    "def extract_local_k_grams(data, k, edges):\n",
    "    attested = set()\n",
    "    for datum in data:\n",
    "        datum = (edges[0],) + tuple(datum) + (edges[1],) \n",
    "        for offset in range(len(datum) - k + 1):\n",
    "            attested.add(tuple(datum[offset:(offset + k)]))\n",
    "    return attested\n",
    "\n",
    "def valid_k_gram(k_gram, edges):\n",
    "    k = len(k_gram)\n",
    "    return any(True for L, R in itertools.combinations(range(k + 1), 2) \\\n",
    "               if  all(k_gram[i] == edges[0]  for i in range(L)) \\\n",
    "               and all(k_gram[i] == edges[1]  for i in range(R, k)) \\\n",
    "               and not any(k_gram[i] in edges for i in range(L, R)))\n",
    "\n",
    "def mtslia(data, k=2, edges=('>', '<')):\n",
    "    alpha = extract_alphabet(data)\n",
    "    attested = extract_local_k_grams(data, k, edges)\n",
    "    grammar = collections.defaultdict(set)\n",
    "    for k_gram in itertools.product(alpha | {*edges}, repeat=k):\n",
    "        if k_gram in attested:\n",
    "            continue\n",
    "        if not valid_k_gram(k_gram, edges):\n",
    "            continue\n",
    "        projection = []\n",
    "        for m, datum in enumerate(data):\n",
    "            projection += [(m, -(i + 1), edges[0]) for i in range(k)]\n",
    "            for n, segment in enumerate(datum):\n",
    "                if segment in k_gram:\n",
    "                    projection += [(m, n, segment)]\n",
    "            projection += [(m, len(datum) + i, edges[1]) for i in range(k)]\n",
    "        projection.sort()\n",
    "        blocker_sets = set()\n",
    "        for offset in range(len(projection) - k + 1):\n",
    "            M, N, segments = zip(*projection[offset:(offset + k)])\n",
    "            if segments == k_gram and all(m == M[0] for m in M):\n",
    "                blocker_set = set()\n",
    "                for n1, n2 in zip(N[:-1], N[1:]):\n",
    "                    blocker_set |= set(data[M[0]][(n1 + 1):n2])\n",
    "                blocker_sets.add(tuple(sorted(blocker_set)))\n",
    "        blockers = set(blocker for blocker_set in blocker_sets for blocker in blocker_set)\n",
    "        if blocker_sets:\n",
    "            if () in blocker_sets:\n",
    "                continue\n",
    "            for blocker in sorted(blockers, reverse=True):\n",
    "                if all(blockers - {blocker} & set(blocker_set) for blocker_set in blocker_sets):\n",
    "                    blockers -= {blocker}\n",
    "        tier = tuple(sorted({*k_gram, *blockers} - {*edges}))\n",
    "        grammar[tier].add(k_gram)\n",
    "    return dict(grammar)"
   ]
  },
  {
   "cell_type": "markdown",
   "metadata": {},
   "source": [
    "# A 100% fictitious dataset\n",
    "\n",
    "```\n",
    "i       u    High (Height 3)\n",
    "  e   o      Mid  (Height 2)\n",
    "    a        Low  (Height 1)\n",
    "```\n",
    "\n",
    " - Constraint 1: any stretch of 3 syllables cannot have all 3 heights\n",
    " - Constraint 2: front-back harmony; /a/ is neutral"
   ]
  },
  {
   "cell_type": "code",
   "execution_count": 117,
   "metadata": {},
   "outputs": [],
   "source": [
    "data = ['dununono', 'dudo', 'toto', 'notato', 'deninen', 'nenenat', 'idde', 'inintenedi']"
   ]
  },
  {
   "cell_type": "markdown",
   "metadata": {},
   "source": [
    "## 2-MTSLIA's take on the dataset"
   ]
  },
  {
   "cell_type": "code",
   "execution_count": 118,
   "metadata": {},
   "outputs": [
    {
     "data": {
      "text/plain": [
       "{('e', 'i', 'n', 'o', 'u'): {('n', 'n')},\n",
       " ('d', 'e', 'n'): {('>', 'e'), ('n', 'd')},\n",
       " ('a', 'n'): {('>', 'a'), ('a', 'n')},\n",
       " ('a',): {('a', 'a')},\n",
       " ('a', 'd'): {('a', 'd'), ('d', 'a')},\n",
       " ('a', 'u'): {('a', 'u'), ('u', 'a')},\n",
       " ('a', 'e'): {('a', 'e')},\n",
       " ('a', 'i'): {('a', 'i'), ('i', 'a')},\n",
       " ('a', 'o', 't'): {('a', 'o'), ('o', 'a'), ('t', 't')},\n",
       " ('a', 't'): {('a', '<')},\n",
       " ('d', 'e', 'n', 'u'): {('d', 'n')},\n",
       " ('d', 't'): {('d', 't')},\n",
       " ('d', 'e', 'i', 'o'): {('d', '<')},\n",
       " ('d', 'u'): {('>', 'u')},\n",
       " ('d', 'n', 'o', 't'): {('>', 'o')},\n",
       " ('n', 'u'): {('u', 'u')},\n",
       " ('e', 'u'): {('e', 'u'), ('u', 'e')},\n",
       " ('t', 'u'): {('t', 'u'), ('u', 't')},\n",
       " ('i', 'u'): {('i', 'u'), ('u', 'i')},\n",
       " ('d', 'n', 'o', 'u'): {('u', 'o')},\n",
       " ('d', 'n', 'u'): {('u', '<')},\n",
       " ('a', 'e', 'n'): {('e', 'a')},\n",
       " ('e', 'n'): {('e', 'e')},\n",
       " ('a', 'e', 't'): {('e', 't')},\n",
       " ('d', 'e', 'i', 'n'): {('e', 'i'), ('i', 'e')},\n",
       " ('e', 'o'): {('e', 'o'), ('o', 'e')},\n",
       " ('e', 'n', 't'): {('t', 'n')},\n",
       " ('d', 'e', 't'): {('t', 'd')},\n",
       " ('d', 'i', 't'): {('t', 'i')},\n",
       " ('i', 'n', 't'): {('i', 't')},\n",
       " ('i', 'n'): {('i', 'i')},\n",
       " ('i', 'o'): {('i', 'o'), ('o', 'i')},\n",
       " ('d', 'o'): {('o', 'd')},\n",
       " ('o', 'u'): {('o', 'u')},\n",
       " ('n', 'o', 't'): {('o', 'o')}}"
      ]
     },
     "execution_count": 118,
     "metadata": {},
     "output_type": "execute_result"
    }
   ],
   "source": [
    "mtslia(data, 2)"
   ]
  },
  {
   "cell_type": "markdown",
   "metadata": {},
   "source": [
    "## 3-MTSLIA gives a second opinion"
   ]
  },
  {
   "cell_type": "code",
   "execution_count": 119,
   "metadata": {},
   "outputs": [
    {
     "data": {
      "text/plain": [
       "{('e', 'n', 'o'): {('e', 'n', 'o'),\n",
       "  ('e', 'o', 'n'),\n",
       "  ('n', 'e', 'o'),\n",
       "  ('n', 'n', '<'),\n",
       "  ('n', 'n', 'n'),\n",
       "  ('n', 'o', 'e'),\n",
       "  ('o', 'e', 'n'),\n",
       "  ('o', 'n', 'e')},\n",
       " ('a', 'e', 'n'): {('a', 'e', 'n'),\n",
       "  ('a', 'n', 'e'),\n",
       "  ('e', 'a', '<'),\n",
       "  ('e', 'a', 'n'),\n",
       "  ('e', 'e', 'a'),\n",
       "  ('n', 'a', 'e'),\n",
       "  ('n', 'e', 'a'),\n",
       "  ('n', 'n', 'a')},\n",
       " ('d', 'e', 'n'): {('>', '>', 'e'),\n",
       "  ('>', 'e', 'n'),\n",
       "  ('d', 'n', 'e'),\n",
       "  ('e', 'd', 'n'),\n",
       "  ('e', 'e', 'd'),\n",
       "  ('e', 'n', 'd'),\n",
       "  ('n', 'd', '<'),\n",
       "  ('n', 'd', 'e'),\n",
       "  ('n', 'e', '<'),\n",
       "  ('n', 'n', 'd')},\n",
       " ('n', 'u'): {('>', 'n', 'u'),\n",
       "  ('n', 'n', 'u'),\n",
       "  ('n', 'u', '<'),\n",
       "  ('n', 'u', 'u'),\n",
       "  ('u', 'n', '<'),\n",
       "  ('u', 'u', '<'),\n",
       "  ('u', 'u', 'n')},\n",
       " ('e', 'i', 'n'): {('e', 'i', 'e'),\n",
       "  ('e', 'i', 'n'),\n",
       "  ('e', 'n', 'n'),\n",
       "  ('i', 'e', 'e'),\n",
       "  ('i', 'e', 'n'),\n",
       "  ('i', 'i', 'e'),\n",
       "  ('i', 'n', 'n'),\n",
       "  ('n', 'i', 'e'),\n",
       "  ('n', 'n', 'e')},\n",
       " ('a', 'i', 'n', 't'): {('n', 'n', 't')},\n",
       " ('d', 'i', 'n'): {('>', 'n', 'i'),\n",
       "  ('d', 'i', 'n'),\n",
       "  ('i', 'd', 'n'),\n",
       "  ('i', 'n', 'd'),\n",
       "  ('n', 'i', '<'),\n",
       "  ('n', 'i', 'd'),\n",
       "  ('n', 'n', 'i')},\n",
       " ('n', 'o', 'u'): {('n', 'n', 'o'),\n",
       "  ('n', 'o', 'u'),\n",
       "  ('n', 'u', 'o'),\n",
       "  ('o', 'n', 'u'),\n",
       "  ('o', 'u', 'n'),\n",
       "  ('u', 'n', 'n'),\n",
       "  ('u', 'o', 'n'),\n",
       "  ('u', 'o', 'o'),\n",
       "  ('u', 'u', 'o')},\n",
       " ('a', 'n'): {('>', '>', 'a'),\n",
       "  ('>', 'a', '<'),\n",
       "  ('>', 'a', 'n'),\n",
       "  ('>', 'n', '<'),\n",
       "  ('a', 'a', 'n'),\n",
       "  ('a', 'n', '<'),\n",
       "  ('a', 'n', 'a'),\n",
       "  ('a', 'n', 'n'),\n",
       "  ('n', 'a', 'a'),\n",
       "  ('n', 'a', 'n')},\n",
       " ('a', 'd', 'n'): {('a', 'd', 'n'),\n",
       "  ('a', 'n', 'd'),\n",
       "  ('d', 'a', 'n'),\n",
       "  ('d', 'n', 'a'),\n",
       "  ('n', 'a', 'd'),\n",
       "  ('n', 'd', 'a')},\n",
       " ('a', 'n', 'u'): {('a', 'n', 'u'),\n",
       "  ('a', 'u', 'n'),\n",
       "  ('n', 'a', 'u'),\n",
       "  ('n', 'u', 'a'),\n",
       "  ('u', 'a', 'n'),\n",
       "  ('u', 'n', 'a')},\n",
       " ('a', 'i', 'n'): {('a', 'i', 'n'),\n",
       "  ('a', 'n', 'i'),\n",
       "  ('i', 'a', 'n'),\n",
       "  ('i', 'n', 'a'),\n",
       "  ('n', 'a', 'i'),\n",
       "  ('n', 'i', 'a')},\n",
       " ('a', 'n', 'o'): {('>', 'n', 'a'),\n",
       "  ('>', 'o', 'a'),\n",
       "  ('a', 'n', 'o'),\n",
       "  ('a', 'o', 'n'),\n",
       "  ('n', 'a', 'o'),\n",
       "  ('n', 'o', 'o'),\n",
       "  ('o', 'a', 'n'),\n",
       "  ('o', 'n', 'a')},\n",
       " ('a', 'n', 't'): {('>', 't', 'a'),\n",
       "  ('a', 'n', 't'),\n",
       "  ('a', 't', 'n'),\n",
       "  ('n', 'a', '<'),\n",
       "  ('n', 't', '<'),\n",
       "  ('n', 't', 't'),\n",
       "  ('t', 'a', 'n'),\n",
       "  ('t', 'n', 'a')},\n",
       " ('d', 'n'): {('>', 'd', '<'),\n",
       "  ('>', 'n', 'd'),\n",
       "  ('d', 'd', 'n'),\n",
       "  ('d', 'n', '<'),\n",
       "  ('d', 'n', 'd'),\n",
       "  ('n', 'd', 'd'),\n",
       "  ('n', 'd', 'n')},\n",
       " ('d', 'n', 'u'): {('>', 'u', 'n'),\n",
       "  ('d', 'n', 'u'),\n",
       "  ('d', 'u', 'u'),\n",
       "  ('n', 'd', 'u'),\n",
       "  ('n', 'u', 'd'),\n",
       "  ('u', '<', '<'),\n",
       "  ('u', 'd', 'n'),\n",
       "  ('u', 'n', 'd')},\n",
       " ('d', 'n', 't'): {('d', 'n', 't'),\n",
       "  ('d', 't', 'n'),\n",
       "  ('n', 'd', 't'),\n",
       "  ('n', 't', 'd'),\n",
       "  ('t', 'd', 'n'),\n",
       "  ('t', 'n', '<')},\n",
       " ('d', 'e', 'i', 'n'): {('>', 'n', 'n'),\n",
       "  ('d', 'e', 'i'),\n",
       "  ('d', 'n', 'i'),\n",
       "  ('i', 'e', '<'),\n",
       "  ('n', 'd', 'i'),\n",
       "  ('n', 'e', 'i')},\n",
       " ('d', 'n', 'o'): {('>', 'd', 'o'),\n",
       "  ('d', 'n', 'o'),\n",
       "  ('d', 'o', 'n'),\n",
       "  ('d', 'o', 'o'),\n",
       "  ('n', 'd', 'o'),\n",
       "  ('n', 'o', 'd'),\n",
       "  ('o', 'd', 'n'),\n",
       "  ('o', 'n', 'd')},\n",
       " ('e', 'n', 'u'): {('e', 'n', 'u'),\n",
       "  ('e', 'u', 'n'),\n",
       "  ('n', 'e', 'u'),\n",
       "  ('n', 'u', 'e'),\n",
       "  ('u', 'e', 'n'),\n",
       "  ('u', 'n', 'e')},\n",
       " ('n', 't', 'u'): {('n', 't', 'u'),\n",
       "  ('n', 'u', 't'),\n",
       "  ('t', 'n', 'u'),\n",
       "  ('t', 'u', 'n'),\n",
       "  ('u', 'n', 't'),\n",
       "  ('u', 't', 'n')},\n",
       " ('i', 'n', 'u'): {('i', 'n', 'u'),\n",
       "  ('i', 'u', 'n'),\n",
       "  ('n', 'i', 'u'),\n",
       "  ('n', 'u', 'i'),\n",
       "  ('u', 'i', 'n'),\n",
       "  ('u', 'n', 'i')},\n",
       " ('e', 'n'): {('>', 'e', 'e'), ('e', 'e', 'n'), ('n', 'e', 'e')},\n",
       " ('e', 'n', 't'): {('e', 't', 'n'),\n",
       "  ('n', 'e', 't'),\n",
       "  ('n', 't', 'n'),\n",
       "  ('t', 'e', 'e'),\n",
       "  ('t', 'n', 'e')},\n",
       " ('a', 'n', 'o', 't'): {('n', 'o', 'a'), ('n', 't', 'a')},\n",
       " ('i', 'n', 't'): {('i', 'i', 't'),\n",
       "  ('i', 't', 'n'),\n",
       "  ('n', 'i', 't'),\n",
       "  ('n', 't', 'i'),\n",
       "  ('t', 'i', 'n')},\n",
       " ('n', 'o', 't'): {('>', 'n', 't'),\n",
       "  ('>', 'o', 't'),\n",
       "  ('n', 't', 'o'),\n",
       "  ('o', 'n', 't'),\n",
       "  ('o', 'o', '<'),\n",
       "  ('o', 't', 'n'),\n",
       "  ('t', 'n', 'o'),\n",
       "  ('t', 'o', 'n')},\n",
       " ('i', 'n'): {('>', 'i', 'i'),\n",
       "  ('i', 'i', 'n'),\n",
       "  ('i', 'n', '<'),\n",
       "  ('n', 'i', 'i')},\n",
       " ('i', 'n', 'o'): {('i', 'n', 'o'),\n",
       "  ('i', 'o', 'n'),\n",
       "  ('n', 'i', 'o'),\n",
       "  ('n', 'o', 'i'),\n",
       "  ('o', 'i', 'n'),\n",
       "  ('o', 'n', 'i')},\n",
       " ('a',): {('>', 'a', 'a'), ('a', 'a', '<'), ('a', 'a', 'a')},\n",
       " ('a', 'd'): {('>', 'a', 'd'),\n",
       "  ('>', 'd', 'a'),\n",
       "  ('a', 'a', 'd'),\n",
       "  ('a', 'd', '<'),\n",
       "  ('a', 'd', 'a'),\n",
       "  ('a', 'd', 'd'),\n",
       "  ('d', 'a', '<'),\n",
       "  ('d', 'a', 'a'),\n",
       "  ('d', 'a', 'd'),\n",
       "  ('d', 'd', 'a')},\n",
       " ('a', 'u'): {('>', 'a', 'u'),\n",
       "  ('>', 'u', 'a'),\n",
       "  ('a', 'a', 'u'),\n",
       "  ('a', 'u', '<'),\n",
       "  ('a', 'u', 'a'),\n",
       "  ('a', 'u', 'u'),\n",
       "  ('u', 'a', '<'),\n",
       "  ('u', 'a', 'a'),\n",
       "  ('u', 'a', 'u'),\n",
       "  ('u', 'u', 'a')},\n",
       " ('a', 'e'): {('>', 'a', 'e'),\n",
       "  ('>', 'e', 'a'),\n",
       "  ('a', 'a', 'e'),\n",
       "  ('a', 'e', '<'),\n",
       "  ('a', 'e', 'a'),\n",
       "  ('a', 'e', 'e'),\n",
       "  ('e', 'a', 'a'),\n",
       "  ('e', 'a', 'e')},\n",
       " ('a', 't'): {('a', '<', '<'),\n",
       "  ('a', 'a', 't'),\n",
       "  ('a', 't', 'a'),\n",
       "  ('a', 't', 't'),\n",
       "  ('t', 'a', '<'),\n",
       "  ('t', 'a', 'a'),\n",
       "  ('t', 't', 'a')},\n",
       " ('a', 'i'): {('>', 'a', 'i'),\n",
       "  ('>', 'i', 'a'),\n",
       "  ('a', 'a', 'i'),\n",
       "  ('a', 'i', '<'),\n",
       "  ('a', 'i', 'a'),\n",
       "  ('a', 'i', 'i'),\n",
       "  ('i', 'a', '<'),\n",
       "  ('i', 'a', 'a'),\n",
       "  ('i', 'a', 'i'),\n",
       "  ('i', 'i', 'a')},\n",
       " ('a', 'o'): {('>', 'a', 'o'),\n",
       "  ('a', 'a', 'o'),\n",
       "  ('a', 'o', 'a'),\n",
       "  ('a', 'o', 'o'),\n",
       "  ('o', 'a', '<'),\n",
       "  ('o', 'a', 'a'),\n",
       "  ('o', 'o', 'a')},\n",
       " ('a', 'd', 'u'): {('a', 'd', 'u'),\n",
       "  ('a', 'u', 'd'),\n",
       "  ('d', 'a', 'u'),\n",
       "  ('d', 'u', 'a'),\n",
       "  ('u', 'a', 'd'),\n",
       "  ('u', 'd', 'a')},\n",
       " ('a', 'd', 'e'): {('a', 'd', 'e'),\n",
       "  ('a', 'e', 'd'),\n",
       "  ('d', 'a', 'e'),\n",
       "  ('d', 'e', 'a'),\n",
       "  ('e', 'a', 'd'),\n",
       "  ('e', 'd', 'a')},\n",
       " ('a', 'd', 't'): {('>', 't', '<'),\n",
       "  ('a', 'd', 't'),\n",
       "  ('a', 't', 'd'),\n",
       "  ('d', 'a', 't'),\n",
       "  ('d', 't', 'a'),\n",
       "  ('t', 'a', 'd'),\n",
       "  ('t', 'd', 'a')},\n",
       " ('a', 'd', 'i'): {('a', 'd', 'i'),\n",
       "  ('a', 'i', 'd'),\n",
       "  ('d', 'a', 'i'),\n",
       "  ('d', 'i', 'a'),\n",
       "  ('i', 'a', 'd'),\n",
       "  ('i', 'd', 'a')},\n",
       " ('a', 'd', 'o'): {('a', 'd', 'o'),\n",
       "  ('a', 'o', 'd'),\n",
       "  ('d', 'a', 'o'),\n",
       "  ('d', 'o', 'a'),\n",
       "  ('o', 'a', 'd'),\n",
       "  ('o', 'd', 'a')},\n",
       " ('a', 'e', 'u'): {('a', 'e', 'u'),\n",
       "  ('a', 'u', 'e'),\n",
       "  ('e', 'a', 'u'),\n",
       "  ('e', 'u', 'a'),\n",
       "  ('u', 'a', 'e'),\n",
       "  ('u', 'e', 'a')},\n",
       " ('a', 't', 'u'): {('a', 't', 'u'),\n",
       "  ('a', 'u', 't'),\n",
       "  ('t', 'a', 'u'),\n",
       "  ('t', 'u', 'a'),\n",
       "  ('u', 'a', 't'),\n",
       "  ('u', 't', 'a')},\n",
       " ('a', 'i', 'u'): {('a', 'i', 'u'),\n",
       "  ('a', 'u', 'i'),\n",
       "  ('i', 'a', 'u'),\n",
       "  ('i', 'u', 'a'),\n",
       "  ('u', 'a', 'i'),\n",
       "  ('u', 'i', 'a')},\n",
       " ('a', 'o', 'u'): {('a', 'o', 'u'),\n",
       "  ('a', 'u', 'o'),\n",
       "  ('o', 'a', 'u'),\n",
       "  ('o', 'u', 'a'),\n",
       "  ('u', 'a', 'o'),\n",
       "  ('u', 'o', 'a')},\n",
       " ('a', 'e', 't'): {('>', 'a', 't'),\n",
       "  ('a', 'e', 't'),\n",
       "  ('a', 't', 'e'),\n",
       "  ('e', 'e', 't'),\n",
       "  ('e', 't', '<'),\n",
       "  ('e', 't', 'a'),\n",
       "  ('t', 'a', 'e'),\n",
       "  ('t', 'e', 'a')},\n",
       " ('a', 'e', 'i'): {('a', 'e', 'i'),\n",
       "  ('a', 'i', 'e'),\n",
       "  ('e', 'a', 'i'),\n",
       "  ('e', 'e', '<'),\n",
       "  ('e', 'i', 'a'),\n",
       "  ('i', 'a', 'e'),\n",
       "  ('i', 'e', 'a')},\n",
       " ('a', 'e', 'o'): {('a', 'e', 'o'),\n",
       "  ('a', 'o', 'e'),\n",
       "  ('e', 'a', 'o'),\n",
       "  ('e', 'o', 'a'),\n",
       "  ('o', 'a', 'e'),\n",
       "  ('o', 'e', 'a')},\n",
       " ('a', 'i', 't'): {('a', 'i', 't'),\n",
       "  ('a', 't', 'i'),\n",
       "  ('i', 'a', 't'),\n",
       "  ('i', 't', 'a'),\n",
       "  ('t', 'a', 'i'),\n",
       "  ('t', 'i', 'a')},\n",
       " ('a', 'i', 'o'): {('a', 'i', 'o'),\n",
       "  ('a', 'o', 'i'),\n",
       "  ('i', 'a', 'o'),\n",
       "  ('i', 'o', 'a'),\n",
       "  ('o', 'a', 'i'),\n",
       "  ('o', 'i', 'a')},\n",
       " ('a', 'o', 't'): {('a', 'o', '<'),\n",
       "  ('a', 'o', 't'),\n",
       "  ('o', 'a', 'o'),\n",
       "  ('o', 'a', 't'),\n",
       "  ('o', 't', 't'),\n",
       "  ('t', 'a', 'o'),\n",
       "  ('t', 'o', 'a'),\n",
       "  ('t', 't', 'o')},\n",
       " ('d', 'e', 'n', 'u'): {('>', 'd', 'n'), ('d', 'n', 'n')},\n",
       " ('d',): {('d', 'd', 'd')},\n",
       " ('d', 'u'): {('>', '>', 'u'),\n",
       "  ('>', 'u', '<'),\n",
       "  ('>', 'u', 'd'),\n",
       "  ('>', 'u', 'u'),\n",
       "  ('d', 'd', 'u'),\n",
       "  ('d', 'u', '<'),\n",
       "  ('u', 'd', 'd'),\n",
       "  ('u', 'd', 'u'),\n",
       "  ('u', 'u', 'd')},\n",
       " ('d', 't'): {('>', 'd', 't'),\n",
       "  ('d', 'd', 't'),\n",
       "  ('d', 't', '<'),\n",
       "  ('d', 't', 'd'),\n",
       "  ('d', 't', 't'),\n",
       "  ('t', 'd', 'd'),\n",
       "  ('t', 'd', 't'),\n",
       "  ('t', 't', 'd')},\n",
       " ('d', 'i'): {('>', 'i', '<'),\n",
       "  ('d', 'd', 'i'),\n",
       "  ('d', 'i', 'd'),\n",
       "  ('d', 'i', 'i'),\n",
       "  ('i', 'd', '<'),\n",
       "  ('i', 'i', '<'),\n",
       "  ('i', 'i', 'i')},\n",
       " ('d', 'o', 'u'): {('>', 'u', 'o'),\n",
       "  ('d', 'd', 'o'),\n",
       "  ('d', 'o', 'u'),\n",
       "  ('d', 'u', 'o'),\n",
       "  ('o', 'd', 'u'),\n",
       "  ('o', 'u', 'd'),\n",
       "  ('u', 'd', '<'),\n",
       "  ('u', 'o', '<'),\n",
       "  ('u', 'o', 'd')},\n",
       " ('d', 'e', 'o'): {('d', 'd', '<'),\n",
       "  ('d', 'e', 'o'),\n",
       "  ('d', 'o', 'e'),\n",
       "  ('e', 'd', 'o'),\n",
       "  ('e', 'o', 'd'),\n",
       "  ('o', 'd', 'e'),\n",
       "  ('o', 'e', 'd')},\n",
       " ('d', 'e', 'u'): {('d', 'e', 'u'),\n",
       "  ('d', 'u', 'e'),\n",
       "  ('e', 'd', 'u'),\n",
       "  ('e', 'u', 'd'),\n",
       "  ('u', 'd', 'e'),\n",
       "  ('u', 'e', 'd')},\n",
       " ('d', 't', 'u'): {('d', 't', 'u'),\n",
       "  ('d', 'u', 't'),\n",
       "  ('t', 'd', 'u'),\n",
       "  ('t', 'u', 'd'),\n",
       "  ('u', 'd', 't'),\n",
       "  ('u', 't', 'd')},\n",
       " ('d', 'i', 'u'): {('>', 'd', 'd'),\n",
       "  ('d', 'i', 'u'),\n",
       "  ('d', 'u', 'i'),\n",
       "  ('i', 'd', 'u'),\n",
       "  ('i', 'u', 'd'),\n",
       "  ('u', 'd', 'i'),\n",
       "  ('u', 'i', 'd')},\n",
       " ('d', 'e'): {('>', 'e', '<'),\n",
       "  ('>', 'e', 'd'),\n",
       "  ('d', 'e', 'd'),\n",
       "  ('e', 'd', 'd'),\n",
       "  ('e', 'd', 'e')},\n",
       " ('d', 'e', 'i'): {('>', 'd', 'i'),\n",
       "  ('>', 'e', 'i'),\n",
       "  ('>', 'i', 'e'),\n",
       "  ('d', 'e', 'e'),\n",
       "  ('d', 'i', 'e'),\n",
       "  ('e', 'd', '<'),\n",
       "  ('e', 'e', 'i'),\n",
       "  ('e', 'i', '<'),\n",
       "  ('e', 'i', 'd'),\n",
       "  ('i', 'd', 'e'),\n",
       "  ('i', 'd', 'i'),\n",
       "  ('i', 'e', 'd'),\n",
       "  ('i', 'i', 'd')},\n",
       " ('d', 'e', 't'): {('>', 't', 'd'),\n",
       "  ('d', 'e', 't'),\n",
       "  ('d', 't', 'e'),\n",
       "  ('e', 'd', 't'),\n",
       "  ('e', 't', 'd'),\n",
       "  ('t', 'd', '<'),\n",
       "  ('t', 'd', 'e'),\n",
       "  ('t', 'e', 'd')},\n",
       " ('d', 'i', 't'): {('d', 'i', 't'),\n",
       "  ('d', 't', 'i'),\n",
       "  ('i', 'd', 't'),\n",
       "  ('i', 't', 'i'),\n",
       "  ('t', 'i', '<'),\n",
       "  ('t', 'i', 'd')},\n",
       " ('d', 'o', 't'): {('>', 'o', 'o'),\n",
       "  ('d', 'o', 't'),\n",
       "  ('d', 't', 'o'),\n",
       "  ('o', 'd', 't'),\n",
       "  ('o', 't', 'd'),\n",
       "  ('t', 'd', 'o'),\n",
       "  ('t', 'o', 'd')},\n",
       " ('d', 'i', 'o'): {('d', 'i', 'o'),\n",
       "  ('d', 'o', 'i'),\n",
       "  ('i', 'd', 'o'),\n",
       "  ('i', 'o', 'd'),\n",
       "  ('o', 'd', 'i'),\n",
       "  ('o', 'i', 'd')},\n",
       " ('d', 'o'): {('>', 'o', '<'),\n",
       "  ('>', 'o', 'd'),\n",
       "  ('d', 'o', 'd'),\n",
       "  ('o', 'd', '<'),\n",
       "  ('o', 'd', 'd'),\n",
       "  ('o', 'd', 'o'),\n",
       "  ('o', 'o', 'd')},\n",
       " ('d', 'e', 'i', 'o'): {('d', '<', '<')},\n",
       " ('d', 'n', 'o', 't'): {('>', '>', 'o')},\n",
       " ('e', 'u'): {('>', 'e', 'u'),\n",
       "  ('>', 'u', 'e'),\n",
       "  ('e', 'e', 'u'),\n",
       "  ('e', 'u', '<'),\n",
       "  ('e', 'u', 'e'),\n",
       "  ('e', 'u', 'u'),\n",
       "  ('u', 'e', '<'),\n",
       "  ('u', 'e', 'e'),\n",
       "  ('u', 'e', 'u'),\n",
       "  ('u', 'u', 'e')},\n",
       " ('t', 'u'): {('>', 't', 'u'),\n",
       "  ('>', 'u', 't'),\n",
       "  ('t', 't', 'u'),\n",
       "  ('t', 'u', '<'),\n",
       "  ('t', 'u', 't'),\n",
       "  ('t', 'u', 'u'),\n",
       "  ('u', 't', '<'),\n",
       "  ('u', 't', 't'),\n",
       "  ('u', 't', 'u'),\n",
       "  ('u', 'u', 't')},\n",
       " ('i', 'u'): {('>', 'i', 'u'),\n",
       "  ('>', 'u', 'i'),\n",
       "  ('i', 'i', 'u'),\n",
       "  ('i', 'u', '<'),\n",
       "  ('i', 'u', 'i'),\n",
       "  ('i', 'u', 'u'),\n",
       "  ('u', 'i', '<'),\n",
       "  ('u', 'i', 'i'),\n",
       "  ('u', 'i', 'u'),\n",
       "  ('u', 'u', 'i')},\n",
       " ('e', 't'): {('>', 'e', 't'),\n",
       "  ('e', 't', 'e'),\n",
       "  ('e', 't', 't'),\n",
       "  ('t', 'e', '<'),\n",
       "  ('t', 'e', 't'),\n",
       "  ('t', 't', 'e')},\n",
       " ('e', 'o'): {('>', 'e', 'o'),\n",
       "  ('>', 'o', 'e'),\n",
       "  ('e', 'e', 'o'),\n",
       "  ('e', 'o', '<'),\n",
       "  ('e', 'o', 'e'),\n",
       "  ('e', 'o', 'o'),\n",
       "  ('o', 'e', '<'),\n",
       "  ('o', 'e', 'e'),\n",
       "  ('o', 'e', 'o'),\n",
       "  ('o', 'o', 'e')},\n",
       " ('n', 't'): {('>', 't', 'n'),\n",
       "  ('t', 'n', 'n'),\n",
       "  ('t', 'n', 't'),\n",
       "  ('t', 't', 'n')},\n",
       " ('e', 'i', 't'): {('>', 't', 'e'),\n",
       "  ('e', 'i', 't'),\n",
       "  ('e', 't', 'i'),\n",
       "  ('i', 'e', 't'),\n",
       "  ('t', 'e', 'i'),\n",
       "  ('t', 'i', 'e')},\n",
       " ('o', 't'): {('>', 't', 't'),\n",
       "  ('o', 'o', 't'),\n",
       "  ('o', 't', '<'),\n",
       "  ('t', 'o', 'o'),\n",
       "  ('t', 't', '<')},\n",
       " ('i', 't'): {('>', 'i', 't'),\n",
       "  ('>', 't', 'i'),\n",
       "  ('i', 't', '<'),\n",
       "  ('i', 't', 't'),\n",
       "  ('t', 'i', 'i'),\n",
       "  ('t', 'i', 't'),\n",
       "  ('t', 't', 'i')},\n",
       " ('i', 'o'): {('>', 'i', 'o'),\n",
       "  ('>', 'o', 'i'),\n",
       "  ('i', 'i', 'o'),\n",
       "  ('i', 'o', '<'),\n",
       "  ('i', 'o', 'i'),\n",
       "  ('i', 'o', 'o'),\n",
       "  ('o', 'i', '<'),\n",
       "  ('o', 'i', 'i'),\n",
       "  ('o', 'i', 'o'),\n",
       "  ('o', 'o', 'i')},\n",
       " ('n', 'o'): {('>', 'o', 'n'),\n",
       "  ('o', 'n', '<'),\n",
       "  ('o', 'n', 'n'),\n",
       "  ('o', 'o', 'n')},\n",
       " ('o', 'u'): {('>', 'o', 'u'),\n",
       "  ('o', 'o', 'u'),\n",
       "  ('o', 'u', '<'),\n",
       "  ('o', 'u', 'o'),\n",
       "  ('o', 'u', 'u'),\n",
       "  ('u', 'o', 'u')},\n",
       " ('u',): {('u', 'u', 'u')},\n",
       " ('e', 't', 'u'): {('e', 't', 'u'),\n",
       "  ('e', 'u', 't'),\n",
       "  ('t', 'e', 'u'),\n",
       "  ('t', 'u', 'e'),\n",
       "  ('u', 'e', 't'),\n",
       "  ('u', 't', 'e')},\n",
       " ('e', 'i', 'u'): {('e', 'i', 'u'),\n",
       "  ('e', 'u', 'i'),\n",
       "  ('i', 'e', 'u'),\n",
       "  ('i', 'u', 'e'),\n",
       "  ('u', 'e', 'i'),\n",
       "  ('u', 'i', 'e')},\n",
       " ('e', 'o', 'u'): {('e', 'o', 'u'),\n",
       "  ('e', 'u', 'o'),\n",
       "  ('o', 'e', 'u'),\n",
       "  ('o', 'u', 'e'),\n",
       "  ('u', 'e', 'o'),\n",
       "  ('u', 'o', 'e')},\n",
       " ('i', 't', 'u'): {('i', 't', 'u'),\n",
       "  ('i', 'u', 't'),\n",
       "  ('t', 'i', 'u'),\n",
       "  ('t', 'u', 'i'),\n",
       "  ('u', 'i', 't'),\n",
       "  ('u', 't', 'i')},\n",
       " ('o', 't', 'u'): {('o', 't', 'u'),\n",
       "  ('o', 'u', 't'),\n",
       "  ('t', 'o', 'u'),\n",
       "  ('t', 'u', 'o'),\n",
       "  ('u', 'o', 't'),\n",
       "  ('u', 't', 'o')},\n",
       " ('i', 'o', 'u'): {('i', 'o', 'u'),\n",
       "  ('i', 'u', 'o'),\n",
       "  ('o', 'i', 'u'),\n",
       "  ('o', 'u', 'i'),\n",
       "  ('u', 'i', 'o'),\n",
       "  ('u', 'o', 'i')},\n",
       " ('a', 'e', 'n', 't'): {('e', 'a', 't'), ('e', 'n', 't')},\n",
       " ('e',): {('e', 'e', 'e')},\n",
       " ('e', 'o', 't'): {('e', 'o', 't'),\n",
       "  ('e', 't', 'o'),\n",
       "  ('o', 'e', 't'),\n",
       "  ('o', 't', 'e'),\n",
       "  ('t', 'e', 'o'),\n",
       "  ('t', 'o', 'e')},\n",
       " ('e', 'i'): {('e', 'i', 'i'), ('i', 'e', 'i')},\n",
       " ('e', 'i', 'o'): {('e', 'i', 'o'),\n",
       "  ('e', 'o', 'i'),\n",
       "  ('i', 'e', 'o'),\n",
       "  ('i', 'o', 'e'),\n",
       "  ('o', 'e', 'i'),\n",
       "  ('o', 'i', 'e')},\n",
       " ('d', 'e', 'n', 't'): {('t', 'n', 'd')},\n",
       " ('d', 'i', 'n', 't'): {('t', 'n', 'i')},\n",
       " ('d', 'e', 'i', 't'): {('i', 't', 'd'), ('t', 'd', 'i')},\n",
       " ('t',): {('t', 't', 't')},\n",
       " ('i', 'o', 't'): {('i', 'o', 't'),\n",
       "  ('i', 't', 'o'),\n",
       "  ('o', 'i', 't'),\n",
       "  ('o', 't', 'i'),\n",
       "  ('t', 'i', 'o'),\n",
       "  ('t', 'o', 'i')},\n",
       " ('e', 'i', 'n', 't'): {('i', 't', 'e')},\n",
       " ('o',): {('o', 'o', 'o')}}"
      ]
     },
     "execution_count": 119,
     "metadata": {},
     "output_type": "execute_result"
    }
   ],
   "source": [
    "mtslia(data, 3)"
   ]
  },
  {
   "cell_type": "markdown",
   "metadata": {},
   "source": [
    "# A brute-force MTSL inference algorithm"
   ]
  },
  {
   "cell_type": "markdown",
   "metadata": {},
   "source": [
    "Intentionally discards overlapping tiers. Has a very unwieldy section responsible for that."
   ]
  },
  {
   "cell_type": "code",
   "execution_count": 120,
   "metadata": {},
   "outputs": [],
   "source": [
    "def project(datum, k, tier, edges):\n",
    "    result = tuple()\n",
    "    for segment in datum:\n",
    "        if segment in tier:\n",
    "            result += (segment,)\n",
    "    return (edges[0],) * (k - 1) + result + (edges[1],) * (k - 1)\n",
    "\n",
    "def brute_force(data, k=2, edges=('>', '<')):\n",
    "    alpha = tuple(sorted(extract_alphabet(data)))\n",
    "    grammar = {}\n",
    "    overlap_check = collections.defaultdict(set)\n",
    "    for mask in itertools.product((True, False), repeat=len(alpha)):\n",
    "        tier = tuple(itertools.compress(alpha, mask))\n",
    "        unattested = set(kg for kg in itertools.product(tier + edges, repeat=k) if valid_k_gram(kg, edges))\n",
    "        for datum in data:\n",
    "            projection = project(datum, k, tier, edges)\n",
    "            for offset in range(len(projection) - k + 1):\n",
    "                k_gram = projection[offset:(offset + k)]\n",
    "                if k_gram in unattested:\n",
    "                    unattested.remove(k_gram)\n",
    "        if unattested:\n",
    "            # <unwieldy-section>\n",
    "            skip = set()\n",
    "            for kg in unattested:\n",
    "                if overlap_check[kg]:\n",
    "                    updated = True\n",
    "                    while updated:\n",
    "                        updated = False\n",
    "                        for rival in set(overlap_check[kg]):\n",
    "                            if not set(tier).issubset(rival) and not set(rival).issubset(tier):\n",
    "                                if rival < tier:\n",
    "                                    skip.add(kg)\n",
    "                                else:\n",
    "                                    grammar[rival].remove(kg)\n",
    "                                    overlap_check[kg].remove(rival)\n",
    "                                    updated = True\n",
    "                                    break\n",
    "                            else:\n",
    "                                subset, superset = tier, rival\n",
    "                                if set(superset).issubset(subset):\n",
    "                                    subset, superset = superset, subset\n",
    "                                if superset == tier:\n",
    "                                    skip.add(kg)\n",
    "                                else:\n",
    "                                    grammar[superset].remove(kg)\n",
    "                                    overlap_check[kg].remove(superset)\n",
    "                                    updated = True\n",
    "                                    break\n",
    "                if kg not in skip:\n",
    "                    overlap_check[kg].add(tier)\n",
    "            # </unwieldy-section>\n",
    "            grammar[tier] = unattested - skip\n",
    "    return grammar"
   ]
  },
  {
   "cell_type": "markdown",
   "metadata": {},
   "source": [
    "# Randomized shootout"
   ]
  },
  {
   "cell_type": "markdown",
   "metadata": {},
   "source": [
    "Use alphabets that are prefixes of the following:"
   ]
  },
  {
   "cell_type": "code",
   "execution_count": 121,
   "metadata": {},
   "outputs": [],
   "source": [
    "letters = 'aiuzsf'"
   ]
  },
  {
   "cell_type": "markdown",
   "metadata": {},
   "source": [
    "We are interested in _k_ = 3:"
   ]
  },
  {
   "cell_type": "code",
   "execution_count": 122,
   "metadata": {},
   "outputs": [],
   "source": [
    "k = 3"
   ]
  },
  {
   "cell_type": "markdown",
   "metadata": {},
   "source": [
    "Define some testing machinery:"
   ]
  },
  {
   "cell_type": "code",
   "execution_count": 123,
   "metadata": {},
   "outputs": [],
   "source": [
    "def scan(string, k, grammar, edges=('>', '<')):\n",
    "    for tier in grammar:\n",
    "        projection = project(string, k, tier, edges)\n",
    "        for offset in range(len(projection) - k + 1):\n",
    "            k_gram = projection[offset:(offset + k)]\n",
    "            if k_gram in grammar[tier]:\n",
    "                return False\n",
    "    return True\n",
    "\n",
    "def test(G1, G2, data, k, limit):\n",
    "    alpha = extract_alphabet(data)\n",
    "    for n in range(1, limit):\n",
    "        for string in itertools.product(alpha, repeat=n):\n",
    "            if scan(string, k, G1) != scan(string, k, G2):\n",
    "                print(string, scan(string, k, G1), scan(string, k, G2))\n",
    "                return False\n",
    "    return True"
   ]
  },
  {
   "cell_type": "markdown",
   "metadata": {},
   "source": [
    "Repeatedly feed our _k_-MTSLIA and the brute-force version random identical datasets:"
   ]
  },
  {
   "cell_type": "code",
   "execution_count": 125,
   "metadata": {},
   "outputs": [
    {
     "data": {
      "text/html": [
       "<h2>Dataset</h2>"
      ],
      "text/plain": [
       "<IPython.core.display.HTML object>"
      ]
     },
     "metadata": {},
     "output_type": "display_data"
    },
    {
     "name": "stdout",
     "output_type": "stream",
     "text": [
      "iauzufua\n",
      "iuuzuz\n",
      "fzfuu\n",
      "au\n",
      "fa\n",
      "fz\n",
      "\n"
     ]
    },
    {
     "data": {
      "text/html": [
       "<h2><em>k</em>-MTSLIA</h2>"
      ],
      "text/plain": [
       "<IPython.core.display.HTML object>"
      ]
     },
     "metadata": {},
     "output_type": "display_data"
    },
    {
     "data": {
      "text/html": [
       "<p style=\"color: teal; margin-bottom: 0; overflow: hidden;\"><strong>Tier:</strong> a</p>"
      ],
      "text/plain": [
       "<IPython.core.display.HTML object>"
      ]
     },
     "metadata": {},
     "output_type": "display_data"
    },
    {
     "data": {
      "text/html": [
       "<p style=\"color: teal; margin-bottom: 10px; overflow: hidden;\">*aaa</p>"
      ],
      "text/plain": [
       "<IPython.core.display.HTML object>"
      ]
     },
     "metadata": {},
     "output_type": "display_data"
    },
    {
     "data": {
      "text/html": [
       "<p style=\"color: teal; margin-bottom: 0; overflow: hidden;\"><strong>Tier:</strong> a, f</p>"
      ],
      "text/plain": [
       "<IPython.core.display.HTML object>"
      ]
     },
     "metadata": {},
     "output_type": "display_data"
    },
    {
     "data": {
      "text/html": [
       "<p style=\"color: teal; margin-bottom: 10px; overflow: hidden;\">*>aa, *aa<, *aaf, *af<, *aff, *faa, *faf, *ffa</p>"
      ],
      "text/plain": [
       "<IPython.core.display.HTML object>"
      ]
     },
     "metadata": {},
     "output_type": "display_data"
    },
    {
     "data": {
      "text/html": [
       "<p style=\"color: teal; margin-bottom: 0; overflow: hidden;\"><strong>Tier:</strong> a, f, i</p>"
      ],
      "text/plain": [
       "<IPython.core.display.HTML object>"
      ]
     },
     "metadata": {},
     "output_type": "display_data"
    },
    {
     "data": {
      "text/html": [
       "<p style=\"color: teal; margin-bottom: 10px; overflow: hidden;\">*>af, *>if, *afi, *aif, *fai, *fia, *iaa, *if<, *ifa</p>"
      ],
      "text/plain": [
       "<IPython.core.display.HTML object>"
      ]
     },
     "metadata": {},
     "output_type": "display_data"
    },
    {
     "data": {
      "text/html": [
       "<p style=\"color: teal; margin-bottom: 0; overflow: hidden;\"><strong>Tier:</strong> a, f, i, u</p>"
      ],
      "text/plain": [
       "<IPython.core.display.HTML object>"
      ]
     },
     "metadata": {},
     "output_type": "display_data"
    },
    {
     "data": {
      "text/html": [
       "<p style=\"color: teal; margin-bottom: 10px; overflow: hidden;\">*>>u, *iaf</p>"
      ],
      "text/plain": [
       "<IPython.core.display.HTML object>"
      ]
     },
     "metadata": {},
     "output_type": "display_data"
    },
    {
     "data": {
      "text/html": [
       "<p style=\"color: teal; margin-bottom: 0; overflow: hidden;\"><strong>Tier:</strong> a, f, i, z</p>"
      ],
      "text/plain": [
       "<IPython.core.display.HTML object>"
      ]
     },
     "metadata": {},
     "output_type": "display_data"
    },
    {
     "data": {
      "text/html": [
       "<p style=\"color: teal; margin-bottom: 10px; overflow: hidden;\">*izf</p>"
      ],
      "text/plain": [
       "<IPython.core.display.HTML object>"
      ]
     },
     "metadata": {},
     "output_type": "display_data"
    },
    {
     "data": {
      "text/html": [
       "<p style=\"color: teal; margin-bottom: 0; overflow: hidden;\"><strong>Tier:</strong> a, f, u</p>"
      ],
      "text/plain": [
       "<IPython.core.display.HTML object>"
      ]
     },
     "metadata": {},
     "output_type": "display_data"
    },
    {
     "data": {
      "text/html": [
       "<p style=\"color: teal; margin-bottom: 10px; overflow: hidden;\">*>a<, *afa, *afu, *auf, *fau, *fu<, *uaf, *ufa, *uua</p>"
      ],
      "text/plain": [
       "<IPython.core.display.HTML object>"
      ]
     },
     "metadata": {},
     "output_type": "display_data"
    },
    {
     "data": {
      "text/html": [
       "<p style=\"color: teal; margin-bottom: 0; overflow: hidden;\"><strong>Tier:</strong> a, f, u, z</p>"
      ],
      "text/plain": [
       "<IPython.core.display.HTML object>"
      ]
     },
     "metadata": {},
     "output_type": "display_data"
    },
    {
     "data": {
      "text/html": [
       "<p style=\"color: teal; margin-bottom: 10px; overflow: hidden;\">*azf, *f<<, *zfa</p>"
      ],
      "text/plain": [
       "<IPython.core.display.HTML object>"
      ]
     },
     "metadata": {},
     "output_type": "display_data"
    },
    {
     "data": {
      "text/html": [
       "<p style=\"color: teal; margin-bottom: 0; overflow: hidden;\"><strong>Tier:</strong> a, f, z</p>"
      ],
      "text/plain": [
       "<IPython.core.display.HTML object>"
      ]
     },
     "metadata": {},
     "output_type": "display_data"
    },
    {
     "data": {
      "text/html": [
       "<p style=\"color: teal; margin-bottom: 10px; overflow: hidden;\">*>f<, *>zf, *afz, *aza, *faz, *fza, *za<, *zaf</p>"
      ],
      "text/plain": [
       "<IPython.core.display.HTML object>"
      ]
     },
     "metadata": {},
     "output_type": "display_data"
    },
    {
     "data": {
      "text/html": [
       "<p style=\"color: teal; margin-bottom: 0; overflow: hidden;\"><strong>Tier:</strong> a, i</p>"
      ],
      "text/plain": [
       "<IPython.core.display.HTML object>"
      ]
     },
     "metadata": {},
     "output_type": "display_data"
    },
    {
     "data": {
      "text/html": [
       "<p style=\"color: teal; margin-bottom: 10px; overflow: hidden;\">*>ai, *aai, *ai<, *aia, *aii, *ia<, *iai, *iia</p>"
      ],
      "text/plain": [
       "<IPython.core.display.HTML object>"
      ]
     },
     "metadata": {},
     "output_type": "display_data"
    },
    {
     "data": {
      "text/html": [
       "<p style=\"color: teal; margin-bottom: 0; overflow: hidden;\"><strong>Tier:</strong> a, i, u</p>"
      ],
      "text/plain": [
       "<IPython.core.display.HTML object>"
      ]
     },
     "metadata": {},
     "output_type": "display_data"
    },
    {
     "data": {
      "text/html": [
       "<p style=\"color: teal; margin-bottom: 10px; overflow: hidden;\">*aiu, *aui, *iua, *uai, *uia</p>"
      ],
      "text/plain": [
       "<IPython.core.display.HTML object>"
      ]
     },
     "metadata": {},
     "output_type": "display_data"
    },
    {
     "data": {
      "text/html": [
       "<p style=\"color: teal; margin-bottom: 0; overflow: hidden;\"><strong>Tier:</strong> a, i, u, z</p>"
      ],
      "text/plain": [
       "<IPython.core.display.HTML object>"
      ]
     },
     "metadata": {},
     "output_type": "display_data"
    },
    {
     "data": {
      "text/html": [
       "<p style=\"color: teal; margin-bottom: 10px; overflow: hidden;\">*iaz, *iuz</p>"
      ],
      "text/plain": [
       "<IPython.core.display.HTML object>"
      ]
     },
     "metadata": {},
     "output_type": "display_data"
    },
    {
     "data": {
      "text/html": [
       "<p style=\"color: teal; margin-bottom: 0; overflow: hidden;\"><strong>Tier:</strong> a, i, z</p>"
      ],
      "text/plain": [
       "<IPython.core.display.HTML object>"
      ]
     },
     "metadata": {},
     "output_type": "display_data"
    },
    {
     "data": {
      "text/html": [
       "<p style=\"color: teal; margin-bottom: 10px; overflow: hidden;\">*>az, *aiz, *azi, *iz<, *iza, *zai, *zia</p>"
      ],
      "text/plain": [
       "<IPython.core.display.HTML object>"
      ]
     },
     "metadata": {},
     "output_type": "display_data"
    },
    {
     "data": {
      "text/html": [
       "<p style=\"color: teal; margin-bottom: 0; overflow: hidden;\"><strong>Tier:</strong> a, u</p>"
      ],
      "text/plain": [
       "<IPython.core.display.HTML object>"
      ]
     },
     "metadata": {},
     "output_type": "display_data"
    },
    {
     "data": {
      "text/html": [
       "<p style=\"color: teal; margin-bottom: 10px; overflow: hidden;\">*>u<, *>ua, *aau, *aua, *uaa, *uau</p>"
      ],
      "text/plain": [
       "<IPython.core.display.HTML object>"
      ]
     },
     "metadata": {},
     "output_type": "display_data"
    },
    {
     "data": {
      "text/html": [
       "<p style=\"color: teal; margin-bottom: 0; overflow: hidden;\"><strong>Tier:</strong> a, u, z</p>"
      ],
      "text/plain": [
       "<IPython.core.display.HTML object>"
      ]
     },
     "metadata": {},
     "output_type": "display_data"
    },
    {
     "data": {
      "text/html": [
       "<p style=\"color: teal; margin-bottom: 10px; overflow: hidden;\">*>uz, *auu, *azu, *uaz, *uza, *zau, *zua</p>"
      ],
      "text/plain": [
       "<IPython.core.display.HTML object>"
      ]
     },
     "metadata": {},
     "output_type": "display_data"
    },
    {
     "data": {
      "text/html": [
       "<p style=\"color: teal; margin-bottom: 0; overflow: hidden;\"><strong>Tier:</strong> a, z</p>"
      ],
      "text/plain": [
       "<IPython.core.display.HTML object>"
      ]
     },
     "metadata": {},
     "output_type": "display_data"
    },
    {
     "data": {
      "text/html": [
       "<p style=\"color: teal; margin-bottom: 10px; overflow: hidden;\">*>za, *aaz, *az<, *azz, *zaa, *zaz, *zza</p>"
      ],
      "text/plain": [
       "<IPython.core.display.HTML object>"
      ]
     },
     "metadata": {},
     "output_type": "display_data"
    },
    {
     "data": {
      "text/html": [
       "<p style=\"color: teal; margin-bottom: 0; overflow: hidden;\"><strong>Tier:</strong> f</p>"
      ],
      "text/plain": [
       "<IPython.core.display.HTML object>"
      ]
     },
     "metadata": {},
     "output_type": "display_data"
    },
    {
     "data": {
      "text/html": [
       "<p style=\"color: teal; margin-bottom: 10px; overflow: hidden;\">*fff</p>"
      ],
      "text/plain": [
       "<IPython.core.display.HTML object>"
      ]
     },
     "metadata": {},
     "output_type": "display_data"
    },
    {
     "data": {
      "text/html": [
       "<p style=\"color: teal; margin-bottom: 0; overflow: hidden;\"><strong>Tier:</strong> f, i</p>"
      ],
      "text/plain": [
       "<IPython.core.display.HTML object>"
      ]
     },
     "metadata": {},
     "output_type": "display_data"
    },
    {
     "data": {
      "text/html": [
       "<p style=\"color: teal; margin-bottom: 10px; overflow: hidden;\">*>fi, *ffi, *fi<, *fif, *fii, *iff, *ifi, *iif</p>"
      ],
      "text/plain": [
       "<IPython.core.display.HTML object>"
      ]
     },
     "metadata": {},
     "output_type": "display_data"
    },
    {
     "data": {
      "text/html": [
       "<p style=\"color: teal; margin-bottom: 0; overflow: hidden;\"><strong>Tier:</strong> f, i, u</p>"
      ],
      "text/plain": [
       "<IPython.core.display.HTML object>"
      ]
     },
     "metadata": {},
     "output_type": "display_data"
    },
    {
     "data": {
      "text/html": [
       "<p style=\"color: teal; margin-bottom: 10px; overflow: hidden;\">*>uu, *fiu, *fui, *ifu, *iuf, *ufi, *uif</p>"
      ],
      "text/plain": [
       "<IPython.core.display.HTML object>"
      ]
     },
     "metadata": {},
     "output_type": "display_data"
    },
    {
     "data": {
      "text/html": [
       "<p style=\"color: teal; margin-bottom: 0; overflow: hidden;\"><strong>Tier:</strong> f, i, z</p>"
      ],
      "text/plain": [
       "<IPython.core.display.HTML object>"
      ]
     },
     "metadata": {},
     "output_type": "display_data"
    },
    {
     "data": {
      "text/html": [
       "<p style=\"color: teal; margin-bottom: 10px; overflow: hidden;\">*>>z, *fiz, *fzi, *ifz, *zfi, *zif</p>"
      ],
      "text/plain": [
       "<IPython.core.display.HTML object>"
      ]
     },
     "metadata": {},
     "output_type": "display_data"
    },
    {
     "data": {
      "text/html": [
       "<p style=\"color: teal; margin-bottom: 0; overflow: hidden;\"><strong>Tier:</strong> f, u</p>"
      ],
      "text/plain": [
       "<IPython.core.display.HTML object>"
      ]
     },
     "metadata": {},
     "output_type": "display_data"
    },
    {
     "data": {
      "text/html": [
       "<p style=\"color: teal; margin-bottom: 10px; overflow: hidden;\">*>fu, *>uf, *ff<, *fuf, *uf<, *uff</p>"
      ],
      "text/plain": [
       "<IPython.core.display.HTML object>"
      ]
     },
     "metadata": {},
     "output_type": "display_data"
    },
    {
     "data": {
      "text/html": [
       "<p style=\"color: teal; margin-bottom: 0; overflow: hidden;\"><strong>Tier:</strong> f, u, z</p>"
      ],
      "text/plain": [
       "<IPython.core.display.HTML object>"
      ]
     },
     "metadata": {},
     "output_type": "display_data"
    },
    {
     "data": {
      "text/html": [
       "<p style=\"color: teal; margin-bottom: 10px; overflow: hidden;\">*>zu, *ffu, *fuz, *fzu, *ufz, *uuf, *uzf, *zf<, *zuu</p>"
      ],
      "text/plain": [
       "<IPython.core.display.HTML object>"
      ]
     },
     "metadata": {},
     "output_type": "display_data"
    },
    {
     "data": {
      "text/html": [
       "<p style=\"color: teal; margin-bottom: 0; overflow: hidden;\"><strong>Tier:</strong> f, z</p>"
      ],
      "text/plain": [
       "<IPython.core.display.HTML object>"
      ]
     },
     "metadata": {},
     "output_type": "display_data"
    },
    {
     "data": {
      "text/html": [
       "<p style=\"color: teal; margin-bottom: 10px; overflow: hidden;\">*>ff, *>z<, *ffz, *fzz, *zff, *zfz, *zzf</p>"
      ],
      "text/plain": [
       "<IPython.core.display.HTML object>"
      ]
     },
     "metadata": {},
     "output_type": "display_data"
    },
    {
     "data": {
      "text/html": [
       "<p style=\"color: teal; margin-bottom: 0; overflow: hidden;\"><strong>Tier:</strong> i</p>"
      ],
      "text/plain": [
       "<IPython.core.display.HTML object>"
      ]
     },
     "metadata": {},
     "output_type": "display_data"
    },
    {
     "data": {
      "text/html": [
       "<p style=\"color: teal; margin-bottom: 10px; overflow: hidden;\">*>ii, *ii<, *iii</p>"
      ],
      "text/plain": [
       "<IPython.core.display.HTML object>"
      ]
     },
     "metadata": {},
     "output_type": "display_data"
    },
    {
     "data": {
      "text/html": [
       "<p style=\"color: teal; margin-bottom: 0; overflow: hidden;\"><strong>Tier:</strong> i, u</p>"
      ],
      "text/plain": [
       "<IPython.core.display.HTML object>"
      ]
     },
     "metadata": {},
     "output_type": "display_data"
    },
    {
     "data": {
      "text/html": [
       "<p style=\"color: teal; margin-bottom: 10px; overflow: hidden;\">*>i<, *>ui, *i<<, *iiu, *iu<, *iui, *ui<, *uii, *uiu, *uui</p>"
      ],
      "text/plain": [
       "<IPython.core.display.HTML object>"
      ]
     },
     "metadata": {},
     "output_type": "display_data"
    },
    {
     "data": {
      "text/html": [
       "<p style=\"color: teal; margin-bottom: 0; overflow: hidden;\"><strong>Tier:</strong> i, u, z</p>"
      ],
      "text/plain": [
       "<IPython.core.display.HTML object>"
      ]
     },
     "metadata": {},
     "output_type": "display_data"
    },
    {
     "data": {
      "text/html": [
       "<p style=\"color: teal; margin-bottom: 10px; overflow: hidden;\">*>iz, *izu, *izz, *uiz, *uzi, *ziu, *zui</p>"
      ],
      "text/plain": [
       "<IPython.core.display.HTML object>"
      ]
     },
     "metadata": {},
     "output_type": "display_data"
    },
    {
     "data": {
      "text/html": [
       "<p style=\"color: teal; margin-bottom: 0; overflow: hidden;\"><strong>Tier:</strong> i, z</p>"
      ],
      "text/plain": [
       "<IPython.core.display.HTML object>"
      ]
     },
     "metadata": {},
     "output_type": "display_data"
    },
    {
     "data": {
      "text/html": [
       "<p style=\"color: teal; margin-bottom: 10px; overflow: hidden;\">*>zi, *>zz, *iiz, *izi, *zi<, *zii, *ziz, *zzi</p>"
      ],
      "text/plain": [
       "<IPython.core.display.HTML object>"
      ]
     },
     "metadata": {},
     "output_type": "display_data"
    },
    {
     "data": {
      "text/html": [
       "<p style=\"color: teal; margin-bottom: 0; overflow: hidden;\"><strong>Tier:</strong> u, z</p>"
      ],
      "text/plain": [
       "<IPython.core.display.HTML object>"
      ]
     },
     "metadata": {},
     "output_type": "display_data"
    },
    {
     "data": {
      "text/html": [
       "<p style=\"color: teal; margin-bottom: 10px; overflow: hidden;\">*uuu, *uzz, *zu<, *zz<, *zzu</p>"
      ],
      "text/plain": [
       "<IPython.core.display.HTML object>"
      ]
     },
     "metadata": {},
     "output_type": "display_data"
    },
    {
     "data": {
      "text/html": [
       "<p style=\"color: teal; margin-bottom: 0; overflow: hidden;\"><strong>Tier:</strong> z</p>"
      ],
      "text/plain": [
       "<IPython.core.display.HTML object>"
      ]
     },
     "metadata": {},
     "output_type": "display_data"
    },
    {
     "data": {
      "text/html": [
       "<p style=\"color: teal; margin-bottom: 10px; overflow: hidden;\">*zzz</p>"
      ],
      "text/plain": [
       "<IPython.core.display.HTML object>"
      ]
     },
     "metadata": {},
     "output_type": "display_data"
    },
    {
     "name": "stdout",
     "output_type": "stream",
     "text": [
      "\n"
     ]
    },
    {
     "data": {
      "text/html": [
       "<h2>Brute force</h2>"
      ],
      "text/plain": [
       "<IPython.core.display.HTML object>"
      ]
     },
     "metadata": {},
     "output_type": "display_data"
    },
    {
     "data": {
      "text/html": [
       "<p style=\"color: purple; margin-bottom: 0; overflow: hidden;\"><strong>Tier:</strong> a</p>"
      ],
      "text/plain": [
       "<IPython.core.display.HTML object>"
      ]
     },
     "metadata": {},
     "output_type": "display_data"
    },
    {
     "data": {
      "text/html": [
       "<p style=\"color: purple; margin-bottom: 10px; overflow: hidden;\">*aaa</p>"
      ],
      "text/plain": [
       "<IPython.core.display.HTML object>"
      ]
     },
     "metadata": {},
     "output_type": "display_data"
    },
    {
     "data": {
      "text/html": [
       "<p style=\"color: purple; margin-bottom: 0; overflow: hidden;\"><strong>Tier:</strong> a, f</p>"
      ],
      "text/plain": [
       "<IPython.core.display.HTML object>"
      ]
     },
     "metadata": {},
     "output_type": "display_data"
    },
    {
     "data": {
      "text/html": [
       "<p style=\"color: purple; margin-bottom: 10px; overflow: hidden;\">*>aa, *aa<, *aaf, *af<, *aff, *faa, *faf, *ffa</p>"
      ],
      "text/plain": [
       "<IPython.core.display.HTML object>"
      ]
     },
     "metadata": {},
     "output_type": "display_data"
    },
    {
     "data": {
      "text/html": [
       "<p style=\"color: purple; margin-bottom: 0; overflow: hidden;\"><strong>Tier:</strong> a, f, i</p>"
      ],
      "text/plain": [
       "<IPython.core.display.HTML object>"
      ]
     },
     "metadata": {},
     "output_type": "display_data"
    },
    {
     "data": {
      "text/html": [
       "<p style=\"color: purple; margin-bottom: 10px; overflow: hidden;\">*>af, *>if, *afi, *aif, *fai, *fia, *iaa, *if<, *ifa</p>"
      ],
      "text/plain": [
       "<IPython.core.display.HTML object>"
      ]
     },
     "metadata": {},
     "output_type": "display_data"
    },
    {
     "data": {
      "text/html": [
       "<p style=\"color: purple; margin-bottom: 0; overflow: hidden;\"><strong>Tier:</strong> a, f, i, u</p>"
      ],
      "text/plain": [
       "<IPython.core.display.HTML object>"
      ]
     },
     "metadata": {},
     "output_type": "display_data"
    },
    {
     "data": {
      "text/html": [
       "<p style=\"color: purple; margin-bottom: 10px; overflow: hidden;\">*>>u, *iaf</p>"
      ],
      "text/plain": [
       "<IPython.core.display.HTML object>"
      ]
     },
     "metadata": {},
     "output_type": "display_data"
    },
    {
     "data": {
      "text/html": [
       "<p style=\"color: purple; margin-bottom: 0; overflow: hidden;\"><strong>Tier:</strong> a, f, i, z</p>"
      ],
      "text/plain": [
       "<IPython.core.display.HTML object>"
      ]
     },
     "metadata": {},
     "output_type": "display_data"
    },
    {
     "data": {
      "text/html": [
       "<p style=\"color: purple; margin-bottom: 10px; overflow: hidden;\">*izf</p>"
      ],
      "text/plain": [
       "<IPython.core.display.HTML object>"
      ]
     },
     "metadata": {},
     "output_type": "display_data"
    },
    {
     "data": {
      "text/html": [
       "<p style=\"color: purple; margin-bottom: 0; overflow: hidden;\"><strong>Tier:</strong> a, f, u</p>"
      ],
      "text/plain": [
       "<IPython.core.display.HTML object>"
      ]
     },
     "metadata": {},
     "output_type": "display_data"
    },
    {
     "data": {
      "text/html": [
       "<p style=\"color: purple; margin-bottom: 10px; overflow: hidden;\">*>a<, *afa, *afu, *auf, *fau, *fu<, *uaf, *ufa, *uua</p>"
      ],
      "text/plain": [
       "<IPython.core.display.HTML object>"
      ]
     },
     "metadata": {},
     "output_type": "display_data"
    },
    {
     "data": {
      "text/html": [
       "<p style=\"color: purple; margin-bottom: 0; overflow: hidden;\"><strong>Tier:</strong> a, f, u, z</p>"
      ],
      "text/plain": [
       "<IPython.core.display.HTML object>"
      ]
     },
     "metadata": {},
     "output_type": "display_data"
    },
    {
     "data": {
      "text/html": [
       "<p style=\"color: purple; margin-bottom: 10px; overflow: hidden;\">*azf, *f<<, *zfa</p>"
      ],
      "text/plain": [
       "<IPython.core.display.HTML object>"
      ]
     },
     "metadata": {},
     "output_type": "display_data"
    },
    {
     "data": {
      "text/html": [
       "<p style=\"color: purple; margin-bottom: 0; overflow: hidden;\"><strong>Tier:</strong> a, f, z</p>"
      ],
      "text/plain": [
       "<IPython.core.display.HTML object>"
      ]
     },
     "metadata": {},
     "output_type": "display_data"
    },
    {
     "data": {
      "text/html": [
       "<p style=\"color: purple; margin-bottom: 10px; overflow: hidden;\">*>f<, *>zf, *afz, *aza, *faz, *fza, *za<, *zaf</p>"
      ],
      "text/plain": [
       "<IPython.core.display.HTML object>"
      ]
     },
     "metadata": {},
     "output_type": "display_data"
    },
    {
     "data": {
      "text/html": [
       "<p style=\"color: purple; margin-bottom: 0; overflow: hidden;\"><strong>Tier:</strong> a, i</p>"
      ],
      "text/plain": [
       "<IPython.core.display.HTML object>"
      ]
     },
     "metadata": {},
     "output_type": "display_data"
    },
    {
     "data": {
      "text/html": [
       "<p style=\"color: purple; margin-bottom: 10px; overflow: hidden;\">*>ai, *aai, *ai<, *aia, *aii, *ia<, *iai, *iia</p>"
      ],
      "text/plain": [
       "<IPython.core.display.HTML object>"
      ]
     },
     "metadata": {},
     "output_type": "display_data"
    },
    {
     "data": {
      "text/html": [
       "<p style=\"color: purple; margin-bottom: 0; overflow: hidden;\"><strong>Tier:</strong> a, i, u</p>"
      ],
      "text/plain": [
       "<IPython.core.display.HTML object>"
      ]
     },
     "metadata": {},
     "output_type": "display_data"
    },
    {
     "data": {
      "text/html": [
       "<p style=\"color: purple; margin-bottom: 10px; overflow: hidden;\">*aiu, *aui, *iua, *uai, *uia</p>"
      ],
      "text/plain": [
       "<IPython.core.display.HTML object>"
      ]
     },
     "metadata": {},
     "output_type": "display_data"
    },
    {
     "data": {
      "text/html": [
       "<p style=\"color: purple; margin-bottom: 0; overflow: hidden;\"><strong>Tier:</strong> a, i, u, z</p>"
      ],
      "text/plain": [
       "<IPython.core.display.HTML object>"
      ]
     },
     "metadata": {},
     "output_type": "display_data"
    },
    {
     "data": {
      "text/html": [
       "<p style=\"color: purple; margin-bottom: 10px; overflow: hidden;\">*iaz, *iuz</p>"
      ],
      "text/plain": [
       "<IPython.core.display.HTML object>"
      ]
     },
     "metadata": {},
     "output_type": "display_data"
    },
    {
     "data": {
      "text/html": [
       "<p style=\"color: purple; margin-bottom: 0; overflow: hidden;\"><strong>Tier:</strong> a, i, z</p>"
      ],
      "text/plain": [
       "<IPython.core.display.HTML object>"
      ]
     },
     "metadata": {},
     "output_type": "display_data"
    },
    {
     "data": {
      "text/html": [
       "<p style=\"color: purple; margin-bottom: 10px; overflow: hidden;\">*>az, *aiz, *azi, *iz<, *iza, *zai, *zia</p>"
      ],
      "text/plain": [
       "<IPython.core.display.HTML object>"
      ]
     },
     "metadata": {},
     "output_type": "display_data"
    },
    {
     "data": {
      "text/html": [
       "<p style=\"color: purple; margin-bottom: 0; overflow: hidden;\"><strong>Tier:</strong> a, u</p>"
      ],
      "text/plain": [
       "<IPython.core.display.HTML object>"
      ]
     },
     "metadata": {},
     "output_type": "display_data"
    },
    {
     "data": {
      "text/html": [
       "<p style=\"color: purple; margin-bottom: 10px; overflow: hidden;\">*>u<, *>ua, *aau, *aua, *uaa, *uau</p>"
      ],
      "text/plain": [
       "<IPython.core.display.HTML object>"
      ]
     },
     "metadata": {},
     "output_type": "display_data"
    },
    {
     "data": {
      "text/html": [
       "<p style=\"color: purple; margin-bottom: 0; overflow: hidden;\"><strong>Tier:</strong> a, u, z</p>"
      ],
      "text/plain": [
       "<IPython.core.display.HTML object>"
      ]
     },
     "metadata": {},
     "output_type": "display_data"
    },
    {
     "data": {
      "text/html": [
       "<p style=\"color: purple; margin-bottom: 10px; overflow: hidden;\">*>uz, *auu, *azu, *uaz, *uza, *zau, *zua</p>"
      ],
      "text/plain": [
       "<IPython.core.display.HTML object>"
      ]
     },
     "metadata": {},
     "output_type": "display_data"
    },
    {
     "data": {
      "text/html": [
       "<p style=\"color: purple; margin-bottom: 0; overflow: hidden;\"><strong>Tier:</strong> a, z</p>"
      ],
      "text/plain": [
       "<IPython.core.display.HTML object>"
      ]
     },
     "metadata": {},
     "output_type": "display_data"
    },
    {
     "data": {
      "text/html": [
       "<p style=\"color: purple; margin-bottom: 10px; overflow: hidden;\">*>za, *aaz, *az<, *azz, *zaa, *zaz, *zza</p>"
      ],
      "text/plain": [
       "<IPython.core.display.HTML object>"
      ]
     },
     "metadata": {},
     "output_type": "display_data"
    },
    {
     "data": {
      "text/html": [
       "<p style=\"color: purple; margin-bottom: 0; overflow: hidden;\"><strong>Tier:</strong> f</p>"
      ],
      "text/plain": [
       "<IPython.core.display.HTML object>"
      ]
     },
     "metadata": {},
     "output_type": "display_data"
    },
    {
     "data": {
      "text/html": [
       "<p style=\"color: purple; margin-bottom: 10px; overflow: hidden;\">*fff</p>"
      ],
      "text/plain": [
       "<IPython.core.display.HTML object>"
      ]
     },
     "metadata": {},
     "output_type": "display_data"
    },
    {
     "data": {
      "text/html": [
       "<p style=\"color: purple; margin-bottom: 0; overflow: hidden;\"><strong>Tier:</strong> f, i</p>"
      ],
      "text/plain": [
       "<IPython.core.display.HTML object>"
      ]
     },
     "metadata": {},
     "output_type": "display_data"
    },
    {
     "data": {
      "text/html": [
       "<p style=\"color: purple; margin-bottom: 10px; overflow: hidden;\">*>fi, *ffi, *fi<, *fif, *fii, *iff, *ifi, *iif</p>"
      ],
      "text/plain": [
       "<IPython.core.display.HTML object>"
      ]
     },
     "metadata": {},
     "output_type": "display_data"
    },
    {
     "data": {
      "text/html": [
       "<p style=\"color: purple; margin-bottom: 0; overflow: hidden;\"><strong>Tier:</strong> f, i, u</p>"
      ],
      "text/plain": [
       "<IPython.core.display.HTML object>"
      ]
     },
     "metadata": {},
     "output_type": "display_data"
    },
    {
     "data": {
      "text/html": [
       "<p style=\"color: purple; margin-bottom: 10px; overflow: hidden;\">*>uu, *fiu, *fui, *ifu, *iuf, *ufi, *uif</p>"
      ],
      "text/plain": [
       "<IPython.core.display.HTML object>"
      ]
     },
     "metadata": {},
     "output_type": "display_data"
    },
    {
     "data": {
      "text/html": [
       "<p style=\"color: purple; margin-bottom: 0; overflow: hidden;\"><strong>Tier:</strong> f, i, z</p>"
      ],
      "text/plain": [
       "<IPython.core.display.HTML object>"
      ]
     },
     "metadata": {},
     "output_type": "display_data"
    },
    {
     "data": {
      "text/html": [
       "<p style=\"color: purple; margin-bottom: 10px; overflow: hidden;\">*>>z, *fiz, *fzi, *ifz, *zfi, *zif</p>"
      ],
      "text/plain": [
       "<IPython.core.display.HTML object>"
      ]
     },
     "metadata": {},
     "output_type": "display_data"
    },
    {
     "data": {
      "text/html": [
       "<p style=\"color: purple; margin-bottom: 0; overflow: hidden;\"><strong>Tier:</strong> f, u</p>"
      ],
      "text/plain": [
       "<IPython.core.display.HTML object>"
      ]
     },
     "metadata": {},
     "output_type": "display_data"
    },
    {
     "data": {
      "text/html": [
       "<p style=\"color: purple; margin-bottom: 10px; overflow: hidden;\">*>fu, *>uf, *ff<, *fuf, *uf<, *uff</p>"
      ],
      "text/plain": [
       "<IPython.core.display.HTML object>"
      ]
     },
     "metadata": {},
     "output_type": "display_data"
    },
    {
     "data": {
      "text/html": [
       "<p style=\"color: purple; margin-bottom: 0; overflow: hidden;\"><strong>Tier:</strong> f, u, z</p>"
      ],
      "text/plain": [
       "<IPython.core.display.HTML object>"
      ]
     },
     "metadata": {},
     "output_type": "display_data"
    },
    {
     "data": {
      "text/html": [
       "<p style=\"color: purple; margin-bottom: 10px; overflow: hidden;\">*>zu, *ffu, *fuz, *fzu, *ufz, *uuf, *uzf, *zf<, *zuu</p>"
      ],
      "text/plain": [
       "<IPython.core.display.HTML object>"
      ]
     },
     "metadata": {},
     "output_type": "display_data"
    },
    {
     "data": {
      "text/html": [
       "<p style=\"color: purple; margin-bottom: 0; overflow: hidden;\"><strong>Tier:</strong> f, z</p>"
      ],
      "text/plain": [
       "<IPython.core.display.HTML object>"
      ]
     },
     "metadata": {},
     "output_type": "display_data"
    },
    {
     "data": {
      "text/html": [
       "<p style=\"color: purple; margin-bottom: 10px; overflow: hidden;\">*>ff, *>z<, *ffz, *fzz, *zff, *zfz, *zzf</p>"
      ],
      "text/plain": [
       "<IPython.core.display.HTML object>"
      ]
     },
     "metadata": {},
     "output_type": "display_data"
    },
    {
     "data": {
      "text/html": [
       "<p style=\"color: purple; margin-bottom: 0; overflow: hidden;\"><strong>Tier:</strong> i</p>"
      ],
      "text/plain": [
       "<IPython.core.display.HTML object>"
      ]
     },
     "metadata": {},
     "output_type": "display_data"
    },
    {
     "data": {
      "text/html": [
       "<p style=\"color: purple; margin-bottom: 10px; overflow: hidden;\">*>ii, *ii<, *iii</p>"
      ],
      "text/plain": [
       "<IPython.core.display.HTML object>"
      ]
     },
     "metadata": {},
     "output_type": "display_data"
    },
    {
     "data": {
      "text/html": [
       "<p style=\"color: purple; margin-bottom: 0; overflow: hidden;\"><strong>Tier:</strong> i, u</p>"
      ],
      "text/plain": [
       "<IPython.core.display.HTML object>"
      ]
     },
     "metadata": {},
     "output_type": "display_data"
    },
    {
     "data": {
      "text/html": [
       "<p style=\"color: purple; margin-bottom: 10px; overflow: hidden;\">*>i<, *>ui, *i<<, *iiu, *iu<, *iui, *ui<, *uii, *uiu, *uui</p>"
      ],
      "text/plain": [
       "<IPython.core.display.HTML object>"
      ]
     },
     "metadata": {},
     "output_type": "display_data"
    },
    {
     "data": {
      "text/html": [
       "<p style=\"color: purple; margin-bottom: 0; overflow: hidden;\"><strong>Tier:</strong> i, u, z</p>"
      ],
      "text/plain": [
       "<IPython.core.display.HTML object>"
      ]
     },
     "metadata": {},
     "output_type": "display_data"
    },
    {
     "data": {
      "text/html": [
       "<p style=\"color: purple; margin-bottom: 10px; overflow: hidden;\">*>iz, *izu, *izz, *uiz, *uzi, *ziu, *zui</p>"
      ],
      "text/plain": [
       "<IPython.core.display.HTML object>"
      ]
     },
     "metadata": {},
     "output_type": "display_data"
    },
    {
     "data": {
      "text/html": [
       "<p style=\"color: purple; margin-bottom: 0; overflow: hidden;\"><strong>Tier:</strong> i, z</p>"
      ],
      "text/plain": [
       "<IPython.core.display.HTML object>"
      ]
     },
     "metadata": {},
     "output_type": "display_data"
    },
    {
     "data": {
      "text/html": [
       "<p style=\"color: purple; margin-bottom: 10px; overflow: hidden;\">*>zi, *>zz, *iiz, *izi, *zi<, *zii, *ziz, *zzi</p>"
      ],
      "text/plain": [
       "<IPython.core.display.HTML object>"
      ]
     },
     "metadata": {},
     "output_type": "display_data"
    },
    {
     "data": {
      "text/html": [
       "<p style=\"color: purple; margin-bottom: 0; overflow: hidden;\"><strong>Tier:</strong> u, z</p>"
      ],
      "text/plain": [
       "<IPython.core.display.HTML object>"
      ]
     },
     "metadata": {},
     "output_type": "display_data"
    },
    {
     "data": {
      "text/html": [
       "<p style=\"color: purple; margin-bottom: 10px; overflow: hidden;\">*uuu, *uzz, *zu<, *zz<, *zzu</p>"
      ],
      "text/plain": [
       "<IPython.core.display.HTML object>"
      ]
     },
     "metadata": {},
     "output_type": "display_data"
    },
    {
     "data": {
      "text/html": [
       "<p style=\"color: purple; margin-bottom: 0; overflow: hidden;\"><strong>Tier:</strong> z</p>"
      ],
      "text/plain": [
       "<IPython.core.display.HTML object>"
      ]
     },
     "metadata": {},
     "output_type": "display_data"
    },
    {
     "data": {
      "text/html": [
       "<p style=\"color: purple; margin-bottom: 10px; overflow: hidden;\">*zzz</p>"
      ],
      "text/plain": [
       "<IPython.core.display.HTML object>"
      ]
     },
     "metadata": {},
     "output_type": "display_data"
    },
    {
     "name": "stdout",
     "output_type": "stream",
     "text": [
      "\n"
     ]
    },
    {
     "data": {
      "text/html": [
       "<hr><hr>"
      ],
      "text/plain": [
       "<IPython.core.display.HTML object>"
      ]
     },
     "metadata": {},
     "output_type": "display_data"
    },
    {
     "data": {
      "text/html": [
       "<h2>Dataset</h2>"
      ],
      "text/plain": [
       "<IPython.core.display.HTML object>"
      ]
     },
     "metadata": {},
     "output_type": "display_data"
    },
    {
     "name": "stdout",
     "output_type": "stream",
     "text": [
      "aazuiszzui\n",
      "auiauua\n",
      "uzz\n",
      "zsizsai\n",
      "ua\n",
      "uuaau\n",
      "az\n",
      "iz\n",
      "uziuszuzi\n",
      "zaszuaai\n",
      "s\n",
      "ss\n",
      "zazuziiz\n",
      "uiu\n",
      "uiaiziis\n",
      "\n"
     ]
    },
    {
     "data": {
      "text/html": [
       "<h2><em>k</em>-MTSLIA</h2>"
      ],
      "text/plain": [
       "<IPython.core.display.HTML object>"
      ]
     },
     "metadata": {},
     "output_type": "display_data"
    },
    {
     "data": {
      "text/html": [
       "<p style=\"color: teal; margin-bottom: 0; overflow: hidden;\"><strong>Tier:</strong> a, i</p>"
      ],
      "text/plain": [
       "<IPython.core.display.HTML object>"
      ]
     },
     "metadata": {},
     "output_type": "display_data"
    },
    {
     "data": {
      "text/html": [
       "<p style=\"color: teal; margin-bottom: 10px; overflow: hidden;\">*ia<, *iia</p>"
      ],
      "text/plain": [
       "<IPython.core.display.HTML object>"
      ]
     },
     "metadata": {},
     "output_type": "display_data"
    },
    {
     "data": {
      "text/html": [
       "<p style=\"color: teal; margin-bottom: 0; overflow: hidden;\"><strong>Tier:</strong> a, i, s</p>"
      ],
      "text/plain": [
       "<IPython.core.display.HTML object>"
      ]
     },
     "metadata": {},
     "output_type": "display_data"
    },
    {
     "data": {
      "text/html": [
       "<p style=\"color: teal; margin-bottom: 10px; overflow: hidden;\">*>ii, *aaa, *aas, *as<, *asi, *ias, *sa<, *sia, *ssa</p>"
      ],
      "text/plain": [
       "<IPython.core.display.HTML object>"
      ]
     },
     "metadata": {},
     "output_type": "display_data"
    },
    {
     "data": {
      "text/html": [
       "<p style=\"color: teal; margin-bottom: 0; overflow: hidden;\"><strong>Tier:</strong> a, i, s, u</p>"
      ],
      "text/plain": [
       "<IPython.core.display.HTML object>"
      ]
     },
     "metadata": {},
     "output_type": "display_data"
    },
    {
     "data": {
      "text/html": [
       "<p style=\"color: teal; margin-bottom: 10px; overflow: hidden;\">*>ia, *ais, *aua, *aus, *isi, *iuu, *si<, *uas</p>"
      ],
      "text/plain": [
       "<IPython.core.display.HTML object>"
      ]
     },
     "metadata": {},
     "output_type": "display_data"
    },
    {
     "data": {
      "text/html": [
       "<p style=\"color: teal; margin-bottom: 0; overflow: hidden;\"><strong>Tier:</strong> a, i, s, z</p>"
      ],
      "text/plain": [
       "<IPython.core.display.HTML object>"
      ]
     },
     "metadata": {},
     "output_type": "display_data"
    },
    {
     "data": {
      "text/html": [
       "<p style=\"color: teal; margin-bottom: 10px; overflow: hidden;\">*azs, *isa, *iza, *szi, *zai, *zsz</p>"
      ],
      "text/plain": [
       "<IPython.core.display.HTML object>"
      ]
     },
     "metadata": {},
     "output_type": "display_data"
    },
    {
     "data": {
      "text/html": [
       "<p style=\"color: teal; margin-bottom: 0; overflow: hidden;\"><strong>Tier:</strong> a, i, u</p>"
      ],
      "text/plain": [
       "<IPython.core.display.HTML object>"
      ]
     },
     "metadata": {},
     "output_type": "display_data"
    },
    {
     "data": {
      "text/html": [
       "<p style=\"color: teal; margin-bottom: 10px; overflow: hidden;\">*>ai, *aa<, *aia, *aiu, *iaa, *iua, *uai, *uau, *uu<, *uuu</p>"
      ],
      "text/plain": [
       "<IPython.core.display.HTML object>"
      ]
     },
     "metadata": {},
     "output_type": "display_data"
    },
    {
     "data": {
      "text/html": [
       "<p style=\"color: teal; margin-bottom: 0; overflow: hidden;\"><strong>Tier:</strong> a, i, u, z</p>"
      ],
      "text/plain": [
       "<IPython.core.display.HTML object>"
      ]
     },
     "metadata": {},
     "output_type": "display_data"
    },
    {
     "data": {
      "text/html": [
       "<p style=\"color: teal; margin-bottom: 10px; overflow: hidden;\">*>zz, *azi, *uaz, *uii</p>"
      ],
      "text/plain": [
       "<IPython.core.display.HTML object>"
      ]
     },
     "metadata": {},
     "output_type": "display_data"
    },
    {
     "data": {
      "text/html": [
       "<p style=\"color: teal; margin-bottom: 0; overflow: hidden;\"><strong>Tier:</strong> a, i, z</p>"
      ],
      "text/plain": [
       "<IPython.core.display.HTML object>"
      ]
     },
     "metadata": {},
     "output_type": "display_data"
    },
    {
     "data": {
      "text/html": [
       "<p style=\"color: teal; margin-bottom: 10px; overflow: hidden;\">*>z<, *aii, *iaz, *za<, *zia, *zza, *zzz</p>"
      ],
      "text/plain": [
       "<IPython.core.display.HTML object>"
      ]
     },
     "metadata": {},
     "output_type": "display_data"
    },
    {
     "data": {
      "text/html": [
       "<p style=\"color: teal; margin-bottom: 0; overflow: hidden;\"><strong>Tier:</strong> a, s</p>"
      ],
      "text/plain": [
       "<IPython.core.display.HTML object>"
      ]
     },
     "metadata": {},
     "output_type": "display_data"
    },
    {
     "data": {
      "text/html": [
       "<p style=\"color: teal; margin-bottom: 10px; overflow: hidden;\">*>sa, *ass, *sas</p>"
      ],
      "text/plain": [
       "<IPython.core.display.HTML object>"
      ]
     },
     "metadata": {},
     "output_type": "display_data"
    },
    {
     "data": {
      "text/html": [
       "<p style=\"color: teal; margin-bottom: 0; overflow: hidden;\"><strong>Tier:</strong> a, s, u</p>"
      ],
      "text/plain": [
       "<IPython.core.display.HTML object>"
      ]
     },
     "metadata": {},
     "output_type": "display_data"
    },
    {
     "data": {
      "text/html": [
       "<p style=\"color: teal; margin-bottom: 10px; overflow: hidden;\">*>su, *>us, *asa, *saa, *sau, *us<, *usa</p>"
      ],
      "text/plain": [
       "<IPython.core.display.HTML object>"
      ]
     },
     "metadata": {},
     "output_type": "display_data"
    },
    {
     "data": {
      "text/html": [
       "<p style=\"color: teal; margin-bottom: 0; overflow: hidden;\"><strong>Tier:</strong> a, s, u, z</p>"
      ],
      "text/plain": [
       "<IPython.core.display.HTML object>"
      ]
     },
     "metadata": {},
     "output_type": "display_data"
    },
    {
     "data": {
      "text/html": [
       "<p style=\"color: teal; margin-bottom: 10px; overflow: hidden;\">*asu, *sua, *sza, *uzs</p>"
      ],
      "text/plain": [
       "<IPython.core.display.HTML object>"
      ]
     },
     "metadata": {},
     "output_type": "display_data"
    },
    {
     "data": {
      "text/html": [
       "<p style=\"color: teal; margin-bottom: 0; overflow: hidden;\"><strong>Tier:</strong> a, s, z</p>"
      ],
      "text/plain": [
       "<IPython.core.display.HTML object>"
      ]
     },
     "metadata": {},
     "output_type": "display_data"
    },
    {
     "data": {
      "text/html": [
       "<p style=\"color: teal; margin-bottom: 10px; overflow: hidden;\">*>as, *aza, *saz, *sz<</p>"
      ],
      "text/plain": [
       "<IPython.core.display.HTML object>"
      ]
     },
     "metadata": {},
     "output_type": "display_data"
    },
    {
     "data": {
      "text/html": [
       "<p style=\"color: teal; margin-bottom: 0; overflow: hidden;\"><strong>Tier:</strong> a, u, z</p>"
      ],
      "text/plain": [
       "<IPython.core.display.HTML object>"
      ]
     },
     "metadata": {},
     "output_type": "display_data"
    },
    {
     "data": {
      "text/html": [
       "<p style=\"color: teal; margin-bottom: 10px; overflow: hidden;\">*>a<, *>u<, *>zu, *auz, *azz, *uza, *zaa, *zau</p>"
      ],
      "text/plain": [
       "<IPython.core.display.HTML object>"
      ]
     },
     "metadata": {},
     "output_type": "display_data"
    },
    {
     "data": {
      "text/html": [
       "<p style=\"color: teal; margin-bottom: 0; overflow: hidden;\"><strong>Tier:</strong> i, s</p>"
      ],
      "text/plain": [
       "<IPython.core.display.HTML object>"
      ]
     },
     "metadata": {},
     "output_type": "display_data"
    },
    {
     "data": {
      "text/html": [
       "<p style=\"color: teal; margin-bottom: 10px; overflow: hidden;\">*iss, *sii, *ssi</p>"
      ],
      "text/plain": [
       "<IPython.core.display.HTML object>"
      ]
     },
     "metadata": {},
     "output_type": "display_data"
    },
    {
     "data": {
      "text/html": [
       "<p style=\"color: teal; margin-bottom: 0; overflow: hidden;\"><strong>Tier:</strong> i, s, u</p>"
      ],
      "text/plain": [
       "<IPython.core.display.HTML object>"
      ]
     },
     "metadata": {},
     "output_type": "display_data"
    },
    {
     "data": {
      "text/html": [
       "<p style=\"color: teal; margin-bottom: 10px; overflow: hidden;\">*>is, *iui, *siu, *su<, *usi, *uui, *uus</p>"
      ],
      "text/plain": [
       "<IPython.core.display.HTML object>"
      ]
     },
     "metadata": {},
     "output_type": "display_data"
    },
    {
     "data": {
      "text/html": [
       "<p style=\"color: teal; margin-bottom: 0; overflow: hidden;\"><strong>Tier:</strong> i, s, u, z</p>"
      ],
      "text/plain": [
       "<IPython.core.display.HTML object>"
      ]
     },
     "metadata": {},
     "output_type": "display_data"
    },
    {
     "data": {
      "text/html": [
       "<p style=\"color: teal; margin-bottom: 10px; overflow: hidden;\">*>zi, *isu, *iuz, *sui, *uiz, *uzu, *zis, *zus</p>"
      ],
      "text/plain": [
       "<IPython.core.display.HTML object>"
      ]
     },
     "metadata": {},
     "output_type": "display_data"
    },
    {
     "data": {
      "text/html": [
       "<p style=\"color: teal; margin-bottom: 0; overflow: hidden;\"><strong>Tier:</strong> i, s, z</p>"
      ],
      "text/plain": [
       "<IPython.core.display.HTML object>"
      ]
     },
     "metadata": {},
     "output_type": "display_data"
    },
    {
     "data": {
      "text/html": [
       "<p style=\"color: teal; margin-bottom: 10px; overflow: hidden;\">*>si, *ii<, *izz, *sis, *szs, *ziz, *zs<</p>"
      ],
      "text/plain": [
       "<IPython.core.display.HTML object>"
      ]
     },
     "metadata": {},
     "output_type": "display_data"
    },
    {
     "data": {
      "text/html": [
       "<p style=\"color: teal; margin-bottom: 0; overflow: hidden;\"><strong>Tier:</strong> i, u</p>"
      ],
      "text/plain": [
       "<IPython.core.display.HTML object>"
      ]
     },
     "metadata": {},
     "output_type": "display_data"
    },
    {
     "data": {
      "text/html": [
       "<p style=\"color: teal; margin-bottom: 10px; overflow: hidden;\">*>iu, *iiu</p>"
      ],
      "text/plain": [
       "<IPython.core.display.HTML object>"
      ]
     },
     "metadata": {},
     "output_type": "display_data"
    },
    {
     "data": {
      "text/html": [
       "<p style=\"color: teal; margin-bottom: 0; overflow: hidden;\"><strong>Tier:</strong> i, u, z</p>"
      ],
      "text/plain": [
       "<IPython.core.display.HTML object>"
      ]
     },
     "metadata": {},
     "output_type": "display_data"
    },
    {
     "data": {
      "text/html": [
       "<p style=\"color: teal; margin-bottom: 10px; overflow: hidden;\">*>i<, *izu, *uz<, *zu<, *zzi</p>"
      ],
      "text/plain": [
       "<IPython.core.display.HTML object>"
      ]
     },
     "metadata": {},
     "output_type": "display_data"
    },
    {
     "data": {
      "text/html": [
       "<p style=\"color: teal; margin-bottom: 0; overflow: hidden;\"><strong>Tier:</strong> i, z</p>"
      ],
      "text/plain": [
       "<IPython.core.display.HTML object>"
      ]
     },
     "metadata": {},
     "output_type": "display_data"
    },
    {
     "data": {
      "text/html": [
       "<p style=\"color: teal; margin-bottom: 10px; overflow: hidden;\">*iii</p>"
      ],
      "text/plain": [
       "<IPython.core.display.HTML object>"
      ]
     },
     "metadata": {},
     "output_type": "display_data"
    },
    {
     "data": {
      "text/html": [
       "<p style=\"color: teal; margin-bottom: 0; overflow: hidden;\"><strong>Tier:</strong> s</p>"
      ],
      "text/plain": [
       "<IPython.core.display.HTML object>"
      ]
     },
     "metadata": {},
     "output_type": "display_data"
    },
    {
     "data": {
      "text/html": [
       "<p style=\"color: teal; margin-bottom: 10px; overflow: hidden;\">*sss</p>"
      ],
      "text/plain": [
       "<IPython.core.display.HTML object>"
      ]
     },
     "metadata": {},
     "output_type": "display_data"
    },
    {
     "data": {
      "text/html": [
       "<p style=\"color: teal; margin-bottom: 0; overflow: hidden;\"><strong>Tier:</strong> s, u</p>"
      ],
      "text/plain": [
       "<IPython.core.display.HTML object>"
      ]
     },
     "metadata": {},
     "output_type": "display_data"
    },
    {
     "data": {
      "text/html": [
       "<p style=\"color: teal; margin-bottom: 10px; overflow: hidden;\">*ssu, *sus, *suu, *uss</p>"
      ],
      "text/plain": [
       "<IPython.core.display.HTML object>"
      ]
     },
     "metadata": {},
     "output_type": "display_data"
    },
    {
     "data": {
      "text/html": [
       "<p style=\"color: teal; margin-bottom: 0; overflow: hidden;\"><strong>Tier:</strong> s, u, z</p>"
      ],
      "text/plain": [
       "<IPython.core.display.HTML object>"
      ]
     },
     "metadata": {},
     "output_type": "display_data"
    },
    {
     "data": {
      "text/html": [
       "<p style=\"color: teal; margin-bottom: 10px; overflow: hidden;\">*suz, *usu, *zsu</p>"
      ],
      "text/plain": [
       "<IPython.core.display.HTML object>"
      ]
     },
     "metadata": {},
     "output_type": "display_data"
    },
    {
     "data": {
      "text/html": [
       "<p style=\"color: teal; margin-bottom: 0; overflow: hidden;\"><strong>Tier:</strong> s, z</p>"
      ],
      "text/plain": [
       "<IPython.core.display.HTML object>"
      ]
     },
     "metadata": {},
     "output_type": "display_data"
    },
    {
     "data": {
      "text/html": [
       "<p style=\"color: teal; margin-bottom: 10px; overflow: hidden;\">*>sz, *ssz, *zss, *zzs</p>"
      ],
      "text/plain": [
       "<IPython.core.display.HTML object>"
      ]
     },
     "metadata": {},
     "output_type": "display_data"
    },
    {
     "data": {
      "text/html": [
       "<p style=\"color: teal; margin-bottom: 0; overflow: hidden;\"><strong>Tier:</strong> u, z</p>"
      ],
      "text/plain": [
       "<IPython.core.display.HTML object>"
      ]
     },
     "metadata": {},
     "output_type": "display_data"
    },
    {
     "data": {
      "text/html": [
       "<p style=\"color: teal; margin-bottom: 10px; overflow: hidden;\">*uuz, *zuu</p>"
      ],
      "text/plain": [
       "<IPython.core.display.HTML object>"
      ]
     },
     "metadata": {},
     "output_type": "display_data"
    },
    {
     "name": "stdout",
     "output_type": "stream",
     "text": [
      "\n"
     ]
    },
    {
     "data": {
      "text/html": [
       "<h2>Brute force</h2>"
      ],
      "text/plain": [
       "<IPython.core.display.HTML object>"
      ]
     },
     "metadata": {},
     "output_type": "display_data"
    },
    {
     "data": {
      "text/html": [
       "<p style=\"color: purple; margin-bottom: 0; overflow: hidden;\"><strong>Tier:</strong> a, i</p>"
      ],
      "text/plain": [
       "<IPython.core.display.HTML object>"
      ]
     },
     "metadata": {},
     "output_type": "display_data"
    },
    {
     "data": {
      "text/html": [
       "<p style=\"color: purple; margin-bottom: 10px; overflow: hidden;\">*ia<, *iia</p>"
      ],
      "text/plain": [
       "<IPython.core.display.HTML object>"
      ]
     },
     "metadata": {},
     "output_type": "display_data"
    },
    {
     "data": {
      "text/html": [
       "<p style=\"color: purple; margin-bottom: 0; overflow: hidden;\"><strong>Tier:</strong> a, i, s</p>"
      ],
      "text/plain": [
       "<IPython.core.display.HTML object>"
      ]
     },
     "metadata": {},
     "output_type": "display_data"
    },
    {
     "data": {
      "text/html": [
       "<p style=\"color: purple; margin-bottom: 10px; overflow: hidden;\">*>ii, *aaa, *aas, *as<, *asi, *ias, *sa<, *sia, *ssa</p>"
      ],
      "text/plain": [
       "<IPython.core.display.HTML object>"
      ]
     },
     "metadata": {},
     "output_type": "display_data"
    },
    {
     "data": {
      "text/html": [
       "<p style=\"color: purple; margin-bottom: 0; overflow: hidden;\"><strong>Tier:</strong> a, i, s, u</p>"
      ],
      "text/plain": [
       "<IPython.core.display.HTML object>"
      ]
     },
     "metadata": {},
     "output_type": "display_data"
    },
    {
     "data": {
      "text/html": [
       "<p style=\"color: purple; margin-bottom: 10px; overflow: hidden;\">*>ia, *ais, *aua, *aus, *isi, *iuu, *si<, *uas</p>"
      ],
      "text/plain": [
       "<IPython.core.display.HTML object>"
      ]
     },
     "metadata": {},
     "output_type": "display_data"
    },
    {
     "data": {
      "text/html": [
       "<p style=\"color: purple; margin-bottom: 0; overflow: hidden;\"><strong>Tier:</strong> a, i, s, z</p>"
      ],
      "text/plain": [
       "<IPython.core.display.HTML object>"
      ]
     },
     "metadata": {},
     "output_type": "display_data"
    },
    {
     "data": {
      "text/html": [
       "<p style=\"color: purple; margin-bottom: 10px; overflow: hidden;\">*azs, *isa, *iza, *szi, *zai, *zsz</p>"
      ],
      "text/plain": [
       "<IPython.core.display.HTML object>"
      ]
     },
     "metadata": {},
     "output_type": "display_data"
    },
    {
     "data": {
      "text/html": [
       "<p style=\"color: purple; margin-bottom: 0; overflow: hidden;\"><strong>Tier:</strong> a, i, u</p>"
      ],
      "text/plain": [
       "<IPython.core.display.HTML object>"
      ]
     },
     "metadata": {},
     "output_type": "display_data"
    },
    {
     "data": {
      "text/html": [
       "<p style=\"color: purple; margin-bottom: 10px; overflow: hidden;\">*>ai, *aa<, *aia, *aiu, *iaa, *iua, *uai, *uau, *uu<, *uuu</p>"
      ],
      "text/plain": [
       "<IPython.core.display.HTML object>"
      ]
     },
     "metadata": {},
     "output_type": "display_data"
    },
    {
     "data": {
      "text/html": [
       "<p style=\"color: purple; margin-bottom: 0; overflow: hidden;\"><strong>Tier:</strong> a, i, u, z</p>"
      ],
      "text/plain": [
       "<IPython.core.display.HTML object>"
      ]
     },
     "metadata": {},
     "output_type": "display_data"
    },
    {
     "data": {
      "text/html": [
       "<p style=\"color: purple; margin-bottom: 10px; overflow: hidden;\">*>zz, *azi, *uaz, *uii</p>"
      ],
      "text/plain": [
       "<IPython.core.display.HTML object>"
      ]
     },
     "metadata": {},
     "output_type": "display_data"
    },
    {
     "data": {
      "text/html": [
       "<p style=\"color: purple; margin-bottom: 0; overflow: hidden;\"><strong>Tier:</strong> a, i, z</p>"
      ],
      "text/plain": [
       "<IPython.core.display.HTML object>"
      ]
     },
     "metadata": {},
     "output_type": "display_data"
    },
    {
     "data": {
      "text/html": [
       "<p style=\"color: purple; margin-bottom: 10px; overflow: hidden;\">*>z<, *aii, *iaz, *za<, *zia, *zza, *zzz</p>"
      ],
      "text/plain": [
       "<IPython.core.display.HTML object>"
      ]
     },
     "metadata": {},
     "output_type": "display_data"
    },
    {
     "data": {
      "text/html": [
       "<p style=\"color: purple; margin-bottom: 0; overflow: hidden;\"><strong>Tier:</strong> a, s</p>"
      ],
      "text/plain": [
       "<IPython.core.display.HTML object>"
      ]
     },
     "metadata": {},
     "output_type": "display_data"
    },
    {
     "data": {
      "text/html": [
       "<p style=\"color: purple; margin-bottom: 10px; overflow: hidden;\">*>sa, *ass, *sas</p>"
      ],
      "text/plain": [
       "<IPython.core.display.HTML object>"
      ]
     },
     "metadata": {},
     "output_type": "display_data"
    },
    {
     "data": {
      "text/html": [
       "<p style=\"color: purple; margin-bottom: 0; overflow: hidden;\"><strong>Tier:</strong> a, s, u</p>"
      ],
      "text/plain": [
       "<IPython.core.display.HTML object>"
      ]
     },
     "metadata": {},
     "output_type": "display_data"
    },
    {
     "data": {
      "text/html": [
       "<p style=\"color: purple; margin-bottom: 10px; overflow: hidden;\">*>su, *>us, *asa, *saa, *sau, *us<, *usa</p>"
      ],
      "text/plain": [
       "<IPython.core.display.HTML object>"
      ]
     },
     "metadata": {},
     "output_type": "display_data"
    },
    {
     "data": {
      "text/html": [
       "<p style=\"color: purple; margin-bottom: 0; overflow: hidden;\"><strong>Tier:</strong> a, s, u, z</p>"
      ],
      "text/plain": [
       "<IPython.core.display.HTML object>"
      ]
     },
     "metadata": {},
     "output_type": "display_data"
    },
    {
     "data": {
      "text/html": [
       "<p style=\"color: purple; margin-bottom: 10px; overflow: hidden;\">*asu, *sua, *sza, *uzs</p>"
      ],
      "text/plain": [
       "<IPython.core.display.HTML object>"
      ]
     },
     "metadata": {},
     "output_type": "display_data"
    },
    {
     "data": {
      "text/html": [
       "<p style=\"color: purple; margin-bottom: 0; overflow: hidden;\"><strong>Tier:</strong> a, s, z</p>"
      ],
      "text/plain": [
       "<IPython.core.display.HTML object>"
      ]
     },
     "metadata": {},
     "output_type": "display_data"
    },
    {
     "data": {
      "text/html": [
       "<p style=\"color: purple; margin-bottom: 10px; overflow: hidden;\">*>as, *aza, *saz, *sz<</p>"
      ],
      "text/plain": [
       "<IPython.core.display.HTML object>"
      ]
     },
     "metadata": {},
     "output_type": "display_data"
    },
    {
     "data": {
      "text/html": [
       "<p style=\"color: purple; margin-bottom: 0; overflow: hidden;\"><strong>Tier:</strong> a, u, z</p>"
      ],
      "text/plain": [
       "<IPython.core.display.HTML object>"
      ]
     },
     "metadata": {},
     "output_type": "display_data"
    },
    {
     "data": {
      "text/html": [
       "<p style=\"color: purple; margin-bottom: 10px; overflow: hidden;\">*>a<, *>u<, *>zu, *auz, *azz, *uza, *zaa, *zau</p>"
      ],
      "text/plain": [
       "<IPython.core.display.HTML object>"
      ]
     },
     "metadata": {},
     "output_type": "display_data"
    },
    {
     "data": {
      "text/html": [
       "<p style=\"color: purple; margin-bottom: 0; overflow: hidden;\"><strong>Tier:</strong> i, s</p>"
      ],
      "text/plain": [
       "<IPython.core.display.HTML object>"
      ]
     },
     "metadata": {},
     "output_type": "display_data"
    },
    {
     "data": {
      "text/html": [
       "<p style=\"color: purple; margin-bottom: 10px; overflow: hidden;\">*iss, *sii, *ssi</p>"
      ],
      "text/plain": [
       "<IPython.core.display.HTML object>"
      ]
     },
     "metadata": {},
     "output_type": "display_data"
    },
    {
     "data": {
      "text/html": [
       "<p style=\"color: purple; margin-bottom: 0; overflow: hidden;\"><strong>Tier:</strong> i, s, u</p>"
      ],
      "text/plain": [
       "<IPython.core.display.HTML object>"
      ]
     },
     "metadata": {},
     "output_type": "display_data"
    },
    {
     "data": {
      "text/html": [
       "<p style=\"color: purple; margin-bottom: 10px; overflow: hidden;\">*>is, *iui, *siu, *su<, *usi, *uui, *uus</p>"
      ],
      "text/plain": [
       "<IPython.core.display.HTML object>"
      ]
     },
     "metadata": {},
     "output_type": "display_data"
    },
    {
     "data": {
      "text/html": [
       "<p style=\"color: purple; margin-bottom: 0; overflow: hidden;\"><strong>Tier:</strong> i, s, u, z</p>"
      ],
      "text/plain": [
       "<IPython.core.display.HTML object>"
      ]
     },
     "metadata": {},
     "output_type": "display_data"
    },
    {
     "data": {
      "text/html": [
       "<p style=\"color: purple; margin-bottom: 10px; overflow: hidden;\">*>zi, *isu, *iuz, *sui, *uiz, *uzu, *zis, *zus</p>"
      ],
      "text/plain": [
       "<IPython.core.display.HTML object>"
      ]
     },
     "metadata": {},
     "output_type": "display_data"
    },
    {
     "data": {
      "text/html": [
       "<p style=\"color: purple; margin-bottom: 0; overflow: hidden;\"><strong>Tier:</strong> i, s, z</p>"
      ],
      "text/plain": [
       "<IPython.core.display.HTML object>"
      ]
     },
     "metadata": {},
     "output_type": "display_data"
    },
    {
     "data": {
      "text/html": [
       "<p style=\"color: purple; margin-bottom: 10px; overflow: hidden;\">*>si, *ii<, *izz, *sis, *szs, *ziz, *zs<</p>"
      ],
      "text/plain": [
       "<IPython.core.display.HTML object>"
      ]
     },
     "metadata": {},
     "output_type": "display_data"
    },
    {
     "data": {
      "text/html": [
       "<p style=\"color: purple; margin-bottom: 0; overflow: hidden;\"><strong>Tier:</strong> i, u</p>"
      ],
      "text/plain": [
       "<IPython.core.display.HTML object>"
      ]
     },
     "metadata": {},
     "output_type": "display_data"
    },
    {
     "data": {
      "text/html": [
       "<p style=\"color: purple; margin-bottom: 10px; overflow: hidden;\">*>iu, *iiu</p>"
      ],
      "text/plain": [
       "<IPython.core.display.HTML object>"
      ]
     },
     "metadata": {},
     "output_type": "display_data"
    },
    {
     "data": {
      "text/html": [
       "<p style=\"color: purple; margin-bottom: 0; overflow: hidden;\"><strong>Tier:</strong> i, u, z</p>"
      ],
      "text/plain": [
       "<IPython.core.display.HTML object>"
      ]
     },
     "metadata": {},
     "output_type": "display_data"
    },
    {
     "data": {
      "text/html": [
       "<p style=\"color: purple; margin-bottom: 10px; overflow: hidden;\">*>i<, *izu, *uz<, *zu<, *zzi</p>"
      ],
      "text/plain": [
       "<IPython.core.display.HTML object>"
      ]
     },
     "metadata": {},
     "output_type": "display_data"
    },
    {
     "data": {
      "text/html": [
       "<p style=\"color: purple; margin-bottom: 0; overflow: hidden;\"><strong>Tier:</strong> i, z</p>"
      ],
      "text/plain": [
       "<IPython.core.display.HTML object>"
      ]
     },
     "metadata": {},
     "output_type": "display_data"
    },
    {
     "data": {
      "text/html": [
       "<p style=\"color: purple; margin-bottom: 10px; overflow: hidden;\">*iii</p>"
      ],
      "text/plain": [
       "<IPython.core.display.HTML object>"
      ]
     },
     "metadata": {},
     "output_type": "display_data"
    },
    {
     "data": {
      "text/html": [
       "<p style=\"color: purple; margin-bottom: 0; overflow: hidden;\"><strong>Tier:</strong> s</p>"
      ],
      "text/plain": [
       "<IPython.core.display.HTML object>"
      ]
     },
     "metadata": {},
     "output_type": "display_data"
    },
    {
     "data": {
      "text/html": [
       "<p style=\"color: purple; margin-bottom: 10px; overflow: hidden;\">*sss</p>"
      ],
      "text/plain": [
       "<IPython.core.display.HTML object>"
      ]
     },
     "metadata": {},
     "output_type": "display_data"
    },
    {
     "data": {
      "text/html": [
       "<p style=\"color: purple; margin-bottom: 0; overflow: hidden;\"><strong>Tier:</strong> s, u</p>"
      ],
      "text/plain": [
       "<IPython.core.display.HTML object>"
      ]
     },
     "metadata": {},
     "output_type": "display_data"
    },
    {
     "data": {
      "text/html": [
       "<p style=\"color: purple; margin-bottom: 10px; overflow: hidden;\">*ssu, *sus, *suu, *uss</p>"
      ],
      "text/plain": [
       "<IPython.core.display.HTML object>"
      ]
     },
     "metadata": {},
     "output_type": "display_data"
    },
    {
     "data": {
      "text/html": [
       "<p style=\"color: purple; margin-bottom: 0; overflow: hidden;\"><strong>Tier:</strong> s, u, z</p>"
      ],
      "text/plain": [
       "<IPython.core.display.HTML object>"
      ]
     },
     "metadata": {},
     "output_type": "display_data"
    },
    {
     "data": {
      "text/html": [
       "<p style=\"color: purple; margin-bottom: 10px; overflow: hidden;\">*suz, *usu, *zsu</p>"
      ],
      "text/plain": [
       "<IPython.core.display.HTML object>"
      ]
     },
     "metadata": {},
     "output_type": "display_data"
    },
    {
     "data": {
      "text/html": [
       "<p style=\"color: purple; margin-bottom: 0; overflow: hidden;\"><strong>Tier:</strong> s, z</p>"
      ],
      "text/plain": [
       "<IPython.core.display.HTML object>"
      ]
     },
     "metadata": {},
     "output_type": "display_data"
    },
    {
     "data": {
      "text/html": [
       "<p style=\"color: purple; margin-bottom: 10px; overflow: hidden;\">*>sz, *ssz, *zss, *zzs</p>"
      ],
      "text/plain": [
       "<IPython.core.display.HTML object>"
      ]
     },
     "metadata": {},
     "output_type": "display_data"
    },
    {
     "data": {
      "text/html": [
       "<p style=\"color: purple; margin-bottom: 0; overflow: hidden;\"><strong>Tier:</strong> u, z</p>"
      ],
      "text/plain": [
       "<IPython.core.display.HTML object>"
      ]
     },
     "metadata": {},
     "output_type": "display_data"
    },
    {
     "data": {
      "text/html": [
       "<p style=\"color: purple; margin-bottom: 10px; overflow: hidden;\">*uuz, *zuu</p>"
      ],
      "text/plain": [
       "<IPython.core.display.HTML object>"
      ]
     },
     "metadata": {},
     "output_type": "display_data"
    },
    {
     "name": "stdout",
     "output_type": "stream",
     "text": [
      "\n"
     ]
    },
    {
     "data": {
      "text/html": [
       "<hr><hr>"
      ],
      "text/plain": [
       "<IPython.core.display.HTML object>"
      ]
     },
     "metadata": {},
     "output_type": "display_data"
    },
    {
     "data": {
      "text/html": [
       "<h2>Dataset</h2>"
      ],
      "text/plain": [
       "<IPython.core.display.HTML object>"
      ]
     },
     "metadata": {},
     "output_type": "display_data"
    },
    {
     "name": "stdout",
     "output_type": "stream",
     "text": [
      "aiii\n",
      "ii\n",
      "ia\n",
      "aaaa\n",
      "aai\n",
      "iiaii\n",
      "aiaaiaa\n",
      "i\n",
      "aaia\n",
      "iiii\n",
      "\n"
     ]
    },
    {
     "data": {
      "text/html": [
       "<h2><em>k</em>-MTSLIA</h2>"
      ],
      "text/plain": [
       "<IPython.core.display.HTML object>"
      ]
     },
     "metadata": {},
     "output_type": "display_data"
    },
    {
     "data": {
      "text/html": [
       "<p style=\"color: teal; margin-bottom: 0; overflow: hidden;\"><strong>Tier:</strong> a, i</p>"
      ],
      "text/plain": [
       "<IPython.core.display.HTML object>"
      ]
     },
     "metadata": {},
     "output_type": "display_data"
    },
    {
     "data": {
      "text/html": [
       "<p style=\"color: teal; margin-bottom: 10px; overflow: hidden;\">*>a<</p>"
      ],
      "text/plain": [
       "<IPython.core.display.HTML object>"
      ]
     },
     "metadata": {},
     "output_type": "display_data"
    },
    {
     "name": "stdout",
     "output_type": "stream",
     "text": [
      "\n"
     ]
    },
    {
     "data": {
      "text/html": [
       "<h2>Brute force</h2>"
      ],
      "text/plain": [
       "<IPython.core.display.HTML object>"
      ]
     },
     "metadata": {},
     "output_type": "display_data"
    },
    {
     "data": {
      "text/html": [
       "<p style=\"color: purple; margin-bottom: 0; overflow: hidden;\"><strong>Tier:</strong> a, i</p>"
      ],
      "text/plain": [
       "<IPython.core.display.HTML object>"
      ]
     },
     "metadata": {},
     "output_type": "display_data"
    },
    {
     "data": {
      "text/html": [
       "<p style=\"color: purple; margin-bottom: 10px; overflow: hidden;\">*>a<</p>"
      ],
      "text/plain": [
       "<IPython.core.display.HTML object>"
      ]
     },
     "metadata": {},
     "output_type": "display_data"
    },
    {
     "name": "stdout",
     "output_type": "stream",
     "text": [
      "\n"
     ]
    },
    {
     "data": {
      "text/html": [
       "<hr><hr>"
      ],
      "text/plain": [
       "<IPython.core.display.HTML object>"
      ]
     },
     "metadata": {},
     "output_type": "display_data"
    },
    {
     "data": {
      "text/html": [
       "<h2>Dataset</h2>"
      ],
      "text/plain": [
       "<IPython.core.display.HTML object>"
      ]
     },
     "metadata": {},
     "output_type": "display_data"
    },
    {
     "name": "stdout",
     "output_type": "stream",
     "text": [
      "as\n",
      "iizza\n",
      "ai\n",
      "ii\n",
      "zaii\n",
      "uzzsszis\n",
      "aazausszi\n",
      "uazssias\n",
      "iiuszuuuz\n",
      "uussziz\n",
      "ssizzauii\n",
      "asz\n",
      "azuuiaui\n",
      "uu\n",
      "zazsiauza\n",
      "suau\n",
      "aia\n",
      "uss\n",
      "issiuz\n",
      "\n"
     ]
    },
    {
     "data": {
      "text/html": [
       "<h2><em>k</em>-MTSLIA</h2>"
      ],
      "text/plain": [
       "<IPython.core.display.HTML object>"
      ]
     },
     "metadata": {},
     "output_type": "display_data"
    },
    {
     "data": {
      "text/html": [
       "<p style=\"color: teal; margin-bottom: 0; overflow: hidden;\"><strong>Tier:</strong> a, i</p>"
      ],
      "text/plain": [
       "<IPython.core.display.HTML object>"
      ]
     },
     "metadata": {},
     "output_type": "display_data"
    },
    {
     "data": {
      "text/html": [
       "<p style=\"color: teal; margin-bottom: 10px; overflow: hidden;\">*iii</p>"
      ],
      "text/plain": [
       "<IPython.core.display.HTML object>"
      ]
     },
     "metadata": {},
     "output_type": "display_data"
    },
    {
     "data": {
      "text/html": [
       "<p style=\"color: teal; margin-bottom: 0; overflow: hidden;\"><strong>Tier:</strong> a, i, s</p>"
      ],
      "text/plain": [
       "<IPython.core.display.HTML object>"
      ]
     },
     "metadata": {},
     "output_type": "display_data"
    },
    {
     "data": {
      "text/html": [
       "<p style=\"color: teal; margin-bottom: 10px; overflow: hidden;\">*>a<, *>i<, *>ia, *>s<, *>si, *aai, *ais, *asa, *isa, *saa, *sai, *sas, *sii, *ssa</p>"
      ],
      "text/plain": [
       "<IPython.core.display.HTML object>"
      ]
     },
     "metadata": {},
     "output_type": "display_data"
    },
    {
     "data": {
      "text/html": [
       "<p style=\"color: teal; margin-bottom: 0; overflow: hidden;\"><strong>Tier:</strong> a, i, s, u</p>"
      ],
      "text/plain": [
       "<IPython.core.display.HTML object>"
      ]
     },
     "metadata": {},
     "output_type": "display_data"
    },
    {
     "data": {
      "text/html": [
       "<p style=\"color: teal; margin-bottom: 10px; overflow: hidden;\">*sau, *uai</p>"
      ],
      "text/plain": [
       "<IPython.core.display.HTML object>"
      ]
     },
     "metadata": {},
     "output_type": "display_data"
    },
    {
     "data": {
      "text/html": [
       "<p style=\"color: teal; margin-bottom: 0; overflow: hidden;\"><strong>Tier:</strong> a, i, s, u, z</p>"
      ],
      "text/plain": [
       "<IPython.core.display.HTML object>"
      ]
     },
     "metadata": {},
     "output_type": "display_data"
    },
    {
     "data": {
      "text/html": [
       "<p style=\"color: teal; margin-bottom: 10px; overflow: hidden;\">*azi, *zia</p>"
      ],
      "text/plain": [
       "<IPython.core.display.HTML object>"
      ]
     },
     "metadata": {},
     "output_type": "display_data"
    },
    {
     "data": {
      "text/html": [
       "<p style=\"color: teal; margin-bottom: 0; overflow: hidden;\"><strong>Tier:</strong> a, i, s, z</p>"
      ],
      "text/plain": [
       "<IPython.core.display.HTML object>"
      ]
     },
     "metadata": {},
     "output_type": "display_data"
    },
    {
     "data": {
      "text/html": [
       "<p style=\"color: teal; margin-bottom: 10px; overflow: hidden;\">*>sz, *>zi, *asi, *saz, *sis, *zsa, *zzi</p>"
      ],
      "text/plain": [
       "<IPython.core.display.HTML object>"
      ]
     },
     "metadata": {},
     "output_type": "display_data"
    },
    {
     "data": {
      "text/html": [
       "<p style=\"color: teal; margin-bottom: 0; overflow: hidden;\"><strong>Tier:</strong> a, i, u</p>"
      ],
      "text/plain": [
       "<IPython.core.display.HTML object>"
      ]
     },
     "metadata": {},
     "output_type": "display_data"
    },
    {
     "data": {
      "text/html": [
       "<p style=\"color: teal; margin-bottom: 10px; overflow: hidden;\">*>iu, *aa<, *aiu, *iaa, *iai, *iua, *iui, *uaa, *uiu, *uua</p>"
      ],
      "text/plain": [
       "<IPython.core.display.HTML object>"
      ]
     },
     "metadata": {},
     "output_type": "display_data"
    },
    {
     "data": {
      "text/html": [
       "<p style=\"color: teal; margin-bottom: 0; overflow: hidden;\"><strong>Tier:</strong> a, i, u, z</p>"
      ],
      "text/plain": [
       "<IPython.core.display.HTML object>"
      ]
     },
     "metadata": {},
     "output_type": "display_data"
    },
    {
     "data": {
      "text/html": [
       "<p style=\"color: teal; margin-bottom: 10px; overflow: hidden;\">*>zz, *iaz, *ziu, *zui, *zz<</p>"
      ],
      "text/plain": [
       "<IPython.core.display.HTML object>"
      ]
     },
     "metadata": {},
     "output_type": "display_data"
    },
    {
     "data": {
      "text/html": [
       "<p style=\"color: teal; margin-bottom: 0; overflow: hidden;\"><strong>Tier:</strong> a, i, z</p>"
      ],
      "text/plain": [
       "<IPython.core.display.HTML object>"
      ]
     },
     "metadata": {},
     "output_type": "display_data"
    },
    {
     "data": {
      "text/html": [
       "<p style=\"color: teal; margin-bottom: 10px; overflow: hidden;\">*>z<, *aiz, *iia, *iza, *zii</p>"
      ],
      "text/plain": [
       "<IPython.core.display.HTML object>"
      ]
     },
     "metadata": {},
     "output_type": "display_data"
    },
    {
     "data": {
      "text/html": [
       "<p style=\"color: teal; margin-bottom: 0; overflow: hidden;\"><strong>Tier:</strong> a, s, u</p>"
      ],
      "text/plain": [
       "<IPython.core.display.HTML object>"
      ]
     },
     "metadata": {},
     "output_type": "display_data"
    },
    {
     "data": {
      "text/html": [
       "<p style=\"color: teal; margin-bottom: 10px; overflow: hidden;\">*>sa, *aas, *asu, *sa<, *usa</p>"
      ],
      "text/plain": [
       "<IPython.core.display.HTML object>"
      ]
     },
     "metadata": {},
     "output_type": "display_data"
    },
    {
     "data": {
      "text/html": [
       "<p style=\"color: teal; margin-bottom: 0; overflow: hidden;\"><strong>Tier:</strong> a, s, u, z</p>"
      ],
      "text/plain": [
       "<IPython.core.display.HTML object>"
      ]
     },
     "metadata": {},
     "output_type": "display_data"
    },
    {
     "data": {
      "text/html": [
       "<p style=\"color: teal; margin-bottom: 10px; overflow: hidden;\">*ass, *suu, *uas, *uzs, *zas, *zsu, *zus</p>"
      ],
      "text/plain": [
       "<IPython.core.display.HTML object>"
      ]
     },
     "metadata": {},
     "output_type": "display_data"
    },
    {
     "data": {
      "text/html": [
       "<p style=\"color: teal; margin-bottom: 0; overflow: hidden;\"><strong>Tier:</strong> a, s, z</p>"
      ],
      "text/plain": [
       "<IPython.core.display.HTML object>"
      ]
     },
     "metadata": {},
     "output_type": "display_data"
    },
    {
     "data": {
      "text/html": [
       "<p style=\"color: teal; margin-bottom: 10px; overflow: hidden;\">*>zs, *az<, *sza, *zsz</p>"
      ],
      "text/plain": [
       "<IPython.core.display.HTML object>"
      ]
     },
     "metadata": {},
     "output_type": "display_data"
    },
    {
     "data": {
      "text/html": [
       "<p style=\"color: teal; margin-bottom: 0; overflow: hidden;\"><strong>Tier:</strong> a, u, z</p>"
      ],
      "text/plain": [
       "<IPython.core.display.HTML object>"
      ]
     },
     "metadata": {},
     "output_type": "display_data"
    },
    {
     "data": {
      "text/html": [
       "<p style=\"color: teal; margin-bottom: 10px; overflow: hidden;\">*>au, *>zu, *aau, *aua, *auu, *ua<, *zu<, *zua, *zuz, *zzu</p>"
      ],
      "text/plain": [
       "<IPython.core.display.HTML object>"
      ]
     },
     "metadata": {},
     "output_type": "display_data"
    },
    {
     "data": {
      "text/html": [
       "<p style=\"color: teal; margin-bottom: 0; overflow: hidden;\"><strong>Tier:</strong> a, z</p>"
      ],
      "text/plain": [
       "<IPython.core.display.HTML object>"
      ]
     },
     "metadata": {},
     "output_type": "display_data"
    },
    {
     "data": {
      "text/html": [
       "<p style=\"color: teal; margin-bottom: 10px; overflow: hidden;\">*aaa, *azz, *zaa</p>"
      ],
      "text/plain": [
       "<IPython.core.display.HTML object>"
      ]
     },
     "metadata": {},
     "output_type": "display_data"
    },
    {
     "data": {
      "text/html": [
       "<p style=\"color: teal; margin-bottom: 0; overflow: hidden;\"><strong>Tier:</strong> i, s</p>"
      ],
      "text/plain": [
       "<IPython.core.display.HTML object>"
      ]
     },
     "metadata": {},
     "output_type": "display_data"
    },
    {
     "data": {
      "text/html": [
       "<p style=\"color: teal; margin-bottom: 10px; overflow: hidden;\">*isi, *sss</p>"
      ],
      "text/plain": [
       "<IPython.core.display.HTML object>"
      ]
     },
     "metadata": {},
     "output_type": "display_data"
    },
    {
     "data": {
      "text/html": [
       "<p style=\"color: teal; margin-bottom: 0; overflow: hidden;\"><strong>Tier:</strong> i, s, u</p>"
      ],
      "text/plain": [
       "<IPython.core.display.HTML object>"
      ]
     },
     "metadata": {},
     "output_type": "display_data"
    },
    {
     "data": {
      "text/html": [
       "<p style=\"color: teal; margin-bottom: 10px; overflow: hidden;\">*>ui, *iis, *isu, *iuu, *ssu, *su<, *sui, *uis, *usi</p>"
      ],
      "text/plain": [
       "<IPython.core.display.HTML object>"
      ]
     },
     "metadata": {},
     "output_type": "display_data"
    },
    {
     "data": {
      "text/html": [
       "<p style=\"color: teal; margin-bottom: 0; overflow: hidden;\"><strong>Tier:</strong> i, s, u, z</p>"
      ],
      "text/plain": [
       "<IPython.core.display.HTML object>"
      ]
     },
     "metadata": {},
     "output_type": "display_data"
    },
    {
     "data": {
      "text/html": [
       "<p style=\"color: teal; margin-bottom: 10px; overflow: hidden;\">*isz, *suz, *szz, *uzi</p>"
      ],
      "text/plain": [
       "<IPython.core.display.HTML object>"
      ]
     },
     "metadata": {},
     "output_type": "display_data"
    },
    {
     "data": {
      "text/html": [
       "<p style=\"color: teal; margin-bottom: 0; overflow: hidden;\"><strong>Tier:</strong> i, s, z</p>"
      ],
      "text/plain": [
       "<IPython.core.display.HTML object>"
      ]
     },
     "metadata": {},
     "output_type": "display_data"
    },
    {
     "data": {
      "text/html": [
       "<p style=\"color: teal; margin-bottom: 10px; overflow: hidden;\">*>iz, *izs, *si<, *szs, *zs<</p>"
      ],
      "text/plain": [
       "<IPython.core.display.HTML object>"
      ]
     },
     "metadata": {},
     "output_type": "display_data"
    },
    {
     "data": {
      "text/html": [
       "<p style=\"color: teal; margin-bottom: 0; overflow: hidden;\"><strong>Tier:</strong> i, u, z</p>"
      ],
      "text/plain": [
       "<IPython.core.display.HTML object>"
      ]
     },
     "metadata": {},
     "output_type": "display_data"
    },
    {
     "data": {
      "text/html": [
       "<p style=\"color: teal; margin-bottom: 10px; overflow: hidden;\">*iu<, *izu, *uiz</p>"
      ],
      "text/plain": [
       "<IPython.core.display.HTML object>"
      ]
     },
     "metadata": {},
     "output_type": "display_data"
    },
    {
     "data": {
      "text/html": [
       "<p style=\"color: teal; margin-bottom: 0; overflow: hidden;\"><strong>Tier:</strong> i, z</p>"
      ],
      "text/plain": [
       "<IPython.core.display.HTML object>"
      ]
     },
     "metadata": {},
     "output_type": "display_data"
    },
    {
     "data": {
      "text/html": [
       "<p style=\"color: teal; margin-bottom: 10px; overflow: hidden;\">*izi</p>"
      ],
      "text/plain": [
       "<IPython.core.display.HTML object>"
      ]
     },
     "metadata": {},
     "output_type": "display_data"
    },
    {
     "data": {
      "text/html": [
       "<p style=\"color: teal; margin-bottom: 0; overflow: hidden;\"><strong>Tier:</strong> s, u</p>"
      ],
      "text/plain": [
       "<IPython.core.display.HTML object>"
      ]
     },
     "metadata": {},
     "output_type": "display_data"
    },
    {
     "data": {
      "text/html": [
       "<p style=\"color: teal; margin-bottom: 10px; overflow: hidden;\">*>u<, *sus, *us<</p>"
      ],
      "text/plain": [
       "<IPython.core.display.HTML object>"
      ]
     },
     "metadata": {},
     "output_type": "display_data"
    },
    {
     "data": {
      "text/html": [
       "<p style=\"color: teal; margin-bottom: 0; overflow: hidden;\"><strong>Tier:</strong> s, u, z</p>"
      ],
      "text/plain": [
       "<IPython.core.display.HTML object>"
      ]
     },
     "metadata": {},
     "output_type": "display_data"
    },
    {
     "data": {
      "text/html": [
       "<p style=\"color: teal; margin-bottom: 10px; overflow: hidden;\">*usu, *uzu</p>"
      ],
      "text/plain": [
       "<IPython.core.display.HTML object>"
      ]
     },
     "metadata": {},
     "output_type": "display_data"
    },
    {
     "data": {
      "text/html": [
       "<p style=\"color: teal; margin-bottom: 0; overflow: hidden;\"><strong>Tier:</strong> s, z</p>"
      ],
      "text/plain": [
       "<IPython.core.display.HTML object>"
      ]
     },
     "metadata": {},
     "output_type": "display_data"
    },
    {
     "data": {
      "text/html": [
       "<p style=\"color: teal; margin-bottom: 10px; overflow: hidden;\">*zzz</p>"
      ],
      "text/plain": [
       "<IPython.core.display.HTML object>"
      ]
     },
     "metadata": {},
     "output_type": "display_data"
    },
    {
     "name": "stdout",
     "output_type": "stream",
     "text": [
      "\n"
     ]
    },
    {
     "data": {
      "text/html": [
       "<h2>Brute force</h2>"
      ],
      "text/plain": [
       "<IPython.core.display.HTML object>"
      ]
     },
     "metadata": {},
     "output_type": "display_data"
    },
    {
     "data": {
      "text/html": [
       "<p style=\"color: purple; margin-bottom: 0; overflow: hidden;\"><strong>Tier:</strong> a, i</p>"
      ],
      "text/plain": [
       "<IPython.core.display.HTML object>"
      ]
     },
     "metadata": {},
     "output_type": "display_data"
    },
    {
     "data": {
      "text/html": [
       "<p style=\"color: purple; margin-bottom: 10px; overflow: hidden;\">*iii</p>"
      ],
      "text/plain": [
       "<IPython.core.display.HTML object>"
      ]
     },
     "metadata": {},
     "output_type": "display_data"
    },
    {
     "data": {
      "text/html": [
       "<p style=\"color: purple; margin-bottom: 0; overflow: hidden;\"><strong>Tier:</strong> a, i, s</p>"
      ],
      "text/plain": [
       "<IPython.core.display.HTML object>"
      ]
     },
     "metadata": {},
     "output_type": "display_data"
    },
    {
     "data": {
      "text/html": [
       "<p style=\"color: purple; margin-bottom: 10px; overflow: hidden;\">*>a<, *>i<, *>ia, *>s<, *>si, *aai, *ais, *asa, *isa, *saa, *sai, *sas, *sii, *ssa</p>"
      ],
      "text/plain": [
       "<IPython.core.display.HTML object>"
      ]
     },
     "metadata": {},
     "output_type": "display_data"
    },
    {
     "data": {
      "text/html": [
       "<p style=\"color: purple; margin-bottom: 0; overflow: hidden;\"><strong>Tier:</strong> a, i, s, u</p>"
      ],
      "text/plain": [
       "<IPython.core.display.HTML object>"
      ]
     },
     "metadata": {},
     "output_type": "display_data"
    },
    {
     "data": {
      "text/html": [
       "<p style=\"color: purple; margin-bottom: 10px; overflow: hidden;\">*sau, *uai</p>"
      ],
      "text/plain": [
       "<IPython.core.display.HTML object>"
      ]
     },
     "metadata": {},
     "output_type": "display_data"
    },
    {
     "data": {
      "text/html": [
       "<p style=\"color: purple; margin-bottom: 0; overflow: hidden;\"><strong>Tier:</strong> a, i, s, u, z</p>"
      ],
      "text/plain": [
       "<IPython.core.display.HTML object>"
      ]
     },
     "metadata": {},
     "output_type": "display_data"
    },
    {
     "data": {
      "text/html": [
       "<p style=\"color: purple; margin-bottom: 10px; overflow: hidden;\">*azi, *zia</p>"
      ],
      "text/plain": [
       "<IPython.core.display.HTML object>"
      ]
     },
     "metadata": {},
     "output_type": "display_data"
    },
    {
     "data": {
      "text/html": [
       "<p style=\"color: purple; margin-bottom: 0; overflow: hidden;\"><strong>Tier:</strong> a, i, s, z</p>"
      ],
      "text/plain": [
       "<IPython.core.display.HTML object>"
      ]
     },
     "metadata": {},
     "output_type": "display_data"
    },
    {
     "data": {
      "text/html": [
       "<p style=\"color: purple; margin-bottom: 10px; overflow: hidden;\">*>sz, *>zi, *asi, *saz, *sis, *zsa, *zzi</p>"
      ],
      "text/plain": [
       "<IPython.core.display.HTML object>"
      ]
     },
     "metadata": {},
     "output_type": "display_data"
    },
    {
     "data": {
      "text/html": [
       "<p style=\"color: purple; margin-bottom: 0; overflow: hidden;\"><strong>Tier:</strong> a, i, u</p>"
      ],
      "text/plain": [
       "<IPython.core.display.HTML object>"
      ]
     },
     "metadata": {},
     "output_type": "display_data"
    },
    {
     "data": {
      "text/html": [
       "<p style=\"color: purple; margin-bottom: 10px; overflow: hidden;\">*>iu, *aa<, *aiu, *iaa, *iai, *iua, *iui, *uaa, *uiu, *uua</p>"
      ],
      "text/plain": [
       "<IPython.core.display.HTML object>"
      ]
     },
     "metadata": {},
     "output_type": "display_data"
    },
    {
     "data": {
      "text/html": [
       "<p style=\"color: purple; margin-bottom: 0; overflow: hidden;\"><strong>Tier:</strong> a, i, u, z</p>"
      ],
      "text/plain": [
       "<IPython.core.display.HTML object>"
      ]
     },
     "metadata": {},
     "output_type": "display_data"
    },
    {
     "data": {
      "text/html": [
       "<p style=\"color: purple; margin-bottom: 10px; overflow: hidden;\">*>zz, *iaz, *ziu, *zui, *zz<</p>"
      ],
      "text/plain": [
       "<IPython.core.display.HTML object>"
      ]
     },
     "metadata": {},
     "output_type": "display_data"
    },
    {
     "data": {
      "text/html": [
       "<p style=\"color: purple; margin-bottom: 0; overflow: hidden;\"><strong>Tier:</strong> a, i, z</p>"
      ],
      "text/plain": [
       "<IPython.core.display.HTML object>"
      ]
     },
     "metadata": {},
     "output_type": "display_data"
    },
    {
     "data": {
      "text/html": [
       "<p style=\"color: purple; margin-bottom: 10px; overflow: hidden;\">*>z<, *aiz, *iia, *iza, *zii</p>"
      ],
      "text/plain": [
       "<IPython.core.display.HTML object>"
      ]
     },
     "metadata": {},
     "output_type": "display_data"
    },
    {
     "data": {
      "text/html": [
       "<p style=\"color: purple; margin-bottom: 0; overflow: hidden;\"><strong>Tier:</strong> a, s, u</p>"
      ],
      "text/plain": [
       "<IPython.core.display.HTML object>"
      ]
     },
     "metadata": {},
     "output_type": "display_data"
    },
    {
     "data": {
      "text/html": [
       "<p style=\"color: purple; margin-bottom: 10px; overflow: hidden;\">*>sa, *aas, *asu, *sa<, *usa</p>"
      ],
      "text/plain": [
       "<IPython.core.display.HTML object>"
      ]
     },
     "metadata": {},
     "output_type": "display_data"
    },
    {
     "data": {
      "text/html": [
       "<p style=\"color: purple; margin-bottom: 0; overflow: hidden;\"><strong>Tier:</strong> a, s, u, z</p>"
      ],
      "text/plain": [
       "<IPython.core.display.HTML object>"
      ]
     },
     "metadata": {},
     "output_type": "display_data"
    },
    {
     "data": {
      "text/html": [
       "<p style=\"color: purple; margin-bottom: 10px; overflow: hidden;\">*ass, *suu, *uas, *uzs, *zas, *zsu, *zus</p>"
      ],
      "text/plain": [
       "<IPython.core.display.HTML object>"
      ]
     },
     "metadata": {},
     "output_type": "display_data"
    },
    {
     "data": {
      "text/html": [
       "<p style=\"color: purple; margin-bottom: 0; overflow: hidden;\"><strong>Tier:</strong> a, s, z</p>"
      ],
      "text/plain": [
       "<IPython.core.display.HTML object>"
      ]
     },
     "metadata": {},
     "output_type": "display_data"
    },
    {
     "data": {
      "text/html": [
       "<p style=\"color: purple; margin-bottom: 10px; overflow: hidden;\">*>zs, *az<, *sza, *zsz</p>"
      ],
      "text/plain": [
       "<IPython.core.display.HTML object>"
      ]
     },
     "metadata": {},
     "output_type": "display_data"
    },
    {
     "data": {
      "text/html": [
       "<p style=\"color: purple; margin-bottom: 0; overflow: hidden;\"><strong>Tier:</strong> a, u, z</p>"
      ],
      "text/plain": [
       "<IPython.core.display.HTML object>"
      ]
     },
     "metadata": {},
     "output_type": "display_data"
    },
    {
     "data": {
      "text/html": [
       "<p style=\"color: purple; margin-bottom: 10px; overflow: hidden;\">*>au, *>zu, *aau, *aua, *auu, *ua<, *zu<, *zua, *zuz, *zzu</p>"
      ],
      "text/plain": [
       "<IPython.core.display.HTML object>"
      ]
     },
     "metadata": {},
     "output_type": "display_data"
    },
    {
     "data": {
      "text/html": [
       "<p style=\"color: purple; margin-bottom: 0; overflow: hidden;\"><strong>Tier:</strong> a, z</p>"
      ],
      "text/plain": [
       "<IPython.core.display.HTML object>"
      ]
     },
     "metadata": {},
     "output_type": "display_data"
    },
    {
     "data": {
      "text/html": [
       "<p style=\"color: purple; margin-bottom: 10px; overflow: hidden;\">*aaa, *azz, *zaa</p>"
      ],
      "text/plain": [
       "<IPython.core.display.HTML object>"
      ]
     },
     "metadata": {},
     "output_type": "display_data"
    },
    {
     "data": {
      "text/html": [
       "<p style=\"color: purple; margin-bottom: 0; overflow: hidden;\"><strong>Tier:</strong> i, s</p>"
      ],
      "text/plain": [
       "<IPython.core.display.HTML object>"
      ]
     },
     "metadata": {},
     "output_type": "display_data"
    },
    {
     "data": {
      "text/html": [
       "<p style=\"color: purple; margin-bottom: 10px; overflow: hidden;\">*isi, *sss</p>"
      ],
      "text/plain": [
       "<IPython.core.display.HTML object>"
      ]
     },
     "metadata": {},
     "output_type": "display_data"
    },
    {
     "data": {
      "text/html": [
       "<p style=\"color: purple; margin-bottom: 0; overflow: hidden;\"><strong>Tier:</strong> i, s, u</p>"
      ],
      "text/plain": [
       "<IPython.core.display.HTML object>"
      ]
     },
     "metadata": {},
     "output_type": "display_data"
    },
    {
     "data": {
      "text/html": [
       "<p style=\"color: purple; margin-bottom: 10px; overflow: hidden;\">*>ui, *iis, *isu, *iuu, *ssu, *su<, *sui, *uis, *usi</p>"
      ],
      "text/plain": [
       "<IPython.core.display.HTML object>"
      ]
     },
     "metadata": {},
     "output_type": "display_data"
    },
    {
     "data": {
      "text/html": [
       "<p style=\"color: purple; margin-bottom: 0; overflow: hidden;\"><strong>Tier:</strong> i, s, u, z</p>"
      ],
      "text/plain": [
       "<IPython.core.display.HTML object>"
      ]
     },
     "metadata": {},
     "output_type": "display_data"
    },
    {
     "data": {
      "text/html": [
       "<p style=\"color: purple; margin-bottom: 10px; overflow: hidden;\">*isz, *suz, *szz, *uzi</p>"
      ],
      "text/plain": [
       "<IPython.core.display.HTML object>"
      ]
     },
     "metadata": {},
     "output_type": "display_data"
    },
    {
     "data": {
      "text/html": [
       "<p style=\"color: purple; margin-bottom: 0; overflow: hidden;\"><strong>Tier:</strong> i, s, z</p>"
      ],
      "text/plain": [
       "<IPython.core.display.HTML object>"
      ]
     },
     "metadata": {},
     "output_type": "display_data"
    },
    {
     "data": {
      "text/html": [
       "<p style=\"color: purple; margin-bottom: 10px; overflow: hidden;\">*>iz, *izs, *si<, *szs, *zs<</p>"
      ],
      "text/plain": [
       "<IPython.core.display.HTML object>"
      ]
     },
     "metadata": {},
     "output_type": "display_data"
    },
    {
     "data": {
      "text/html": [
       "<p style=\"color: purple; margin-bottom: 0; overflow: hidden;\"><strong>Tier:</strong> i, u, z</p>"
      ],
      "text/plain": [
       "<IPython.core.display.HTML object>"
      ]
     },
     "metadata": {},
     "output_type": "display_data"
    },
    {
     "data": {
      "text/html": [
       "<p style=\"color: purple; margin-bottom: 10px; overflow: hidden;\">*iu<, *izu, *uiz</p>"
      ],
      "text/plain": [
       "<IPython.core.display.HTML object>"
      ]
     },
     "metadata": {},
     "output_type": "display_data"
    },
    {
     "data": {
      "text/html": [
       "<p style=\"color: purple; margin-bottom: 0; overflow: hidden;\"><strong>Tier:</strong> i, z</p>"
      ],
      "text/plain": [
       "<IPython.core.display.HTML object>"
      ]
     },
     "metadata": {},
     "output_type": "display_data"
    },
    {
     "data": {
      "text/html": [
       "<p style=\"color: purple; margin-bottom: 10px; overflow: hidden;\">*izi</p>"
      ],
      "text/plain": [
       "<IPython.core.display.HTML object>"
      ]
     },
     "metadata": {},
     "output_type": "display_data"
    },
    {
     "data": {
      "text/html": [
       "<p style=\"color: purple; margin-bottom: 0; overflow: hidden;\"><strong>Tier:</strong> s, u</p>"
      ],
      "text/plain": [
       "<IPython.core.display.HTML object>"
      ]
     },
     "metadata": {},
     "output_type": "display_data"
    },
    {
     "data": {
      "text/html": [
       "<p style=\"color: purple; margin-bottom: 10px; overflow: hidden;\">*>u<, *sus, *us<</p>"
      ],
      "text/plain": [
       "<IPython.core.display.HTML object>"
      ]
     },
     "metadata": {},
     "output_type": "display_data"
    },
    {
     "data": {
      "text/html": [
       "<p style=\"color: purple; margin-bottom: 0; overflow: hidden;\"><strong>Tier:</strong> s, u, z</p>"
      ],
      "text/plain": [
       "<IPython.core.display.HTML object>"
      ]
     },
     "metadata": {},
     "output_type": "display_data"
    },
    {
     "data": {
      "text/html": [
       "<p style=\"color: purple; margin-bottom: 10px; overflow: hidden;\">*usu, *uzu</p>"
      ],
      "text/plain": [
       "<IPython.core.display.HTML object>"
      ]
     },
     "metadata": {},
     "output_type": "display_data"
    },
    {
     "data": {
      "text/html": [
       "<p style=\"color: purple; margin-bottom: 0; overflow: hidden;\"><strong>Tier:</strong> s, z</p>"
      ],
      "text/plain": [
       "<IPython.core.display.HTML object>"
      ]
     },
     "metadata": {},
     "output_type": "display_data"
    },
    {
     "data": {
      "text/html": [
       "<p style=\"color: purple; margin-bottom: 10px; overflow: hidden;\">*zzz</p>"
      ],
      "text/plain": [
       "<IPython.core.display.HTML object>"
      ]
     },
     "metadata": {},
     "output_type": "display_data"
    },
    {
     "name": "stdout",
     "output_type": "stream",
     "text": [
      "\n"
     ]
    },
    {
     "data": {
      "text/html": [
       "<hr><hr>"
      ],
      "text/plain": [
       "<IPython.core.display.HTML object>"
      ]
     },
     "metadata": {},
     "output_type": "display_data"
    },
    {
     "data": {
      "text/html": [
       "<h2>Dataset</h2>"
      ],
      "text/plain": [
       "<IPython.core.display.HTML object>"
      ]
     },
     "metadata": {},
     "output_type": "display_data"
    },
    {
     "name": "stdout",
     "output_type": "stream",
     "text": [
      "izauau\n",
      "ziii\n",
      "uazi\n",
      "zuzz\n",
      "z\n",
      "auu\n",
      "aiu\n",
      "\n"
     ]
    },
    {
     "data": {
      "text/html": [
       "<h2><em>k</em>-MTSLIA</h2>"
      ],
      "text/plain": [
       "<IPython.core.display.HTML object>"
      ]
     },
     "metadata": {},
     "output_type": "display_data"
    },
    {
     "data": {
      "text/html": [
       "<p style=\"color: teal; margin-bottom: 0; overflow: hidden;\"><strong>Tier:</strong> a</p>"
      ],
      "text/plain": [
       "<IPython.core.display.HTML object>"
      ]
     },
     "metadata": {},
     "output_type": "display_data"
    },
    {
     "data": {
      "text/html": [
       "<p style=\"color: teal; margin-bottom: 10px; overflow: hidden;\">*aaa</p>"
      ],
      "text/plain": [
       "<IPython.core.display.HTML object>"
      ]
     },
     "metadata": {},
     "output_type": "display_data"
    },
    {
     "data": {
      "text/html": [
       "<p style=\"color: teal; margin-bottom: 0; overflow: hidden;\"><strong>Tier:</strong> a, i</p>"
      ],
      "text/plain": [
       "<IPython.core.display.HTML object>"
      ]
     },
     "metadata": {},
     "output_type": "display_data"
    },
    {
     "data": {
      "text/html": [
       "<p style=\"color: teal; margin-bottom: 10px; overflow: hidden;\">*>aa, *>i<, *aai, *aia, *aii, *ia<, *iai, *iia</p>"
      ],
      "text/plain": [
       "<IPython.core.display.HTML object>"
      ]
     },
     "metadata": {},
     "output_type": "display_data"
    },
    {
     "data": {
      "text/html": [
       "<p style=\"color: teal; margin-bottom: 0; overflow: hidden;\"><strong>Tier:</strong> a, i, u</p>"
      ],
      "text/plain": [
       "<IPython.core.display.HTML object>"
      ]
     },
     "metadata": {},
     "output_type": "display_data"
    },
    {
     "data": {
      "text/html": [
       "<p style=\"color: teal; margin-bottom: 10px; overflow: hidden;\">*>iu, *>ui, *a<<, *aui, *iaa, *iua, *iuu, *ua<, *ui<, *uia</p>"
      ],
      "text/plain": [
       "<IPython.core.display.HTML object>"
      ]
     },
     "metadata": {},
     "output_type": "display_data"
    },
    {
     "data": {
      "text/html": [
       "<p style=\"color: teal; margin-bottom: 0; overflow: hidden;\"><strong>Tier:</strong> a, i, u, z</p>"
      ],
      "text/plain": [
       "<IPython.core.display.HTML object>"
      ]
     },
     "metadata": {},
     "output_type": "display_data"
    },
    {
     "data": {
      "text/html": [
       "<p style=\"color: teal; margin-bottom: 10px; overflow: hidden;\">*ai<, *iau, *izu, *uai, *uzi</p>"
      ],
      "text/plain": [
       "<IPython.core.display.HTML object>"
      ]
     },
     "metadata": {},
     "output_type": "display_data"
    },
    {
     "data": {
      "text/html": [
       "<p style=\"color: teal; margin-bottom: 0; overflow: hidden;\"><strong>Tier:</strong> a, i, z</p>"
      ],
      "text/plain": [
       "<IPython.core.display.HTML object>"
      ]
     },
     "metadata": {},
     "output_type": "display_data"
    },
    {
     "data": {
      "text/html": [
       "<p style=\"color: teal; margin-bottom: 10px; overflow: hidden;\">*>ia, *>za, *aiz, *az<, *iaz, *iz<, *zai, *zia</p>"
      ],
      "text/plain": [
       "<IPython.core.display.HTML object>"
      ]
     },
     "metadata": {},
     "output_type": "display_data"
    },
    {
     "data": {
      "text/html": [
       "<p style=\"color: teal; margin-bottom: 0; overflow: hidden;\"><strong>Tier:</strong> a, u</p>"
      ],
      "text/plain": [
       "<IPython.core.display.HTML object>"
      ]
     },
     "metadata": {},
     "output_type": "display_data"
    },
    {
     "data": {
      "text/html": [
       "<p style=\"color: teal; margin-bottom: 10px; overflow: hidden;\">*>a<, *>uu, *aa<, *aau, *uaa, *uua</p>"
      ],
      "text/plain": [
       "<IPython.core.display.HTML object>"
      ]
     },
     "metadata": {},
     "output_type": "display_data"
    },
    {
     "data": {
      "text/html": [
       "<p style=\"color: teal; margin-bottom: 0; overflow: hidden;\"><strong>Tier:</strong> a, u, z</p>"
      ],
      "text/plain": [
       "<IPython.core.display.HTML object>"
      ]
     },
     "metadata": {},
     "output_type": "display_data"
    },
    {
     "data": {
      "text/html": [
       "<p style=\"color: teal; margin-bottom: 10px; overflow: hidden;\">*>az, *>u<, *>uz, *auz, *azu, *uz<, *uza, *zaa, *zua, *zuu</p>"
      ],
      "text/plain": [
       "<IPython.core.display.HTML object>"
      ]
     },
     "metadata": {},
     "output_type": "display_data"
    },
    {
     "data": {
      "text/html": [
       "<p style=\"color: teal; margin-bottom: 0; overflow: hidden;\"><strong>Tier:</strong> a, z</p>"
      ],
      "text/plain": [
       "<IPython.core.display.HTML object>"
      ]
     },
     "metadata": {},
     "output_type": "display_data"
    },
    {
     "data": {
      "text/html": [
       "<p style=\"color: teal; margin-bottom: 10px; overflow: hidden;\">*aaz, *aza, *azz, *za<, *zaz, *zza</p>"
      ],
      "text/plain": [
       "<IPython.core.display.HTML object>"
      ]
     },
     "metadata": {},
     "output_type": "display_data"
    },
    {
     "data": {
      "text/html": [
       "<p style=\"color: teal; margin-bottom: 0; overflow: hidden;\"><strong>Tier:</strong> i, u</p>"
      ],
      "text/plain": [
       "<IPython.core.display.HTML object>"
      ]
     },
     "metadata": {},
     "output_type": "display_data"
    },
    {
     "data": {
      "text/html": [
       "<p style=\"color: teal; margin-bottom: 10px; overflow: hidden;\">*iiu, *iui, *uii, *uiu, *uui</p>"
      ],
      "text/plain": [
       "<IPython.core.display.HTML object>"
      ]
     },
     "metadata": {},
     "output_type": "display_data"
    },
    {
     "data": {
      "text/html": [
       "<p style=\"color: teal; margin-bottom: 0; overflow: hidden;\"><strong>Tier:</strong> i, u, z</p>"
      ],
      "text/plain": [
       "<IPython.core.display.HTML object>"
      ]
     },
     "metadata": {},
     "output_type": "display_data"
    },
    {
     "data": {
      "text/html": [
       "<p style=\"color: teal; margin-bottom: 10px; overflow: hidden;\">*iuz, *uiz, *ziu, *zui</p>"
      ],
      "text/plain": [
       "<IPython.core.display.HTML object>"
      ]
     },
     "metadata": {},
     "output_type": "display_data"
    },
    {
     "data": {
      "text/html": [
       "<p style=\"color: teal; margin-bottom: 0; overflow: hidden;\"><strong>Tier:</strong> i, z</p>"
      ],
      "text/plain": [
       "<IPython.core.display.HTML object>"
      ]
     },
     "metadata": {},
     "output_type": "display_data"
    },
    {
     "data": {
      "text/html": [
       "<p style=\"color: teal; margin-bottom: 10px; overflow: hidden;\">*>ii, *iiz, *izi, *izz, *ziz, *zzi</p>"
      ],
      "text/plain": [
       "<IPython.core.display.HTML object>"
      ]
     },
     "metadata": {},
     "output_type": "display_data"
    },
    {
     "data": {
      "text/html": [
       "<p style=\"color: teal; margin-bottom: 0; overflow: hidden;\"><strong>Tier:</strong> u</p>"
      ],
      "text/plain": [
       "<IPython.core.display.HTML object>"
      ]
     },
     "metadata": {},
     "output_type": "display_data"
    },
    {
     "data": {
      "text/html": [
       "<p style=\"color: teal; margin-bottom: 10px; overflow: hidden;\">*uuu</p>"
      ],
      "text/plain": [
       "<IPython.core.display.HTML object>"
      ]
     },
     "metadata": {},
     "output_type": "display_data"
    },
    {
     "data": {
      "text/html": [
       "<p style=\"color: teal; margin-bottom: 0; overflow: hidden;\"><strong>Tier:</strong> u, z</p>"
      ],
      "text/plain": [
       "<IPython.core.display.HTML object>"
      ]
     },
     "metadata": {},
     "output_type": "display_data"
    },
    {
     "data": {
      "text/html": [
       "<p style=\"color: teal; margin-bottom: 10px; overflow: hidden;\">*>zz, *uuz, *uzu, *zu<, *zzu, *zzz</p>"
      ],
      "text/plain": [
       "<IPython.core.display.HTML object>"
      ]
     },
     "metadata": {},
     "output_type": "display_data"
    },
    {
     "name": "stdout",
     "output_type": "stream",
     "text": [
      "\n"
     ]
    },
    {
     "data": {
      "text/html": [
       "<h2>Brute force</h2>"
      ],
      "text/plain": [
       "<IPython.core.display.HTML object>"
      ]
     },
     "metadata": {},
     "output_type": "display_data"
    },
    {
     "data": {
      "text/html": [
       "<p style=\"color: purple; margin-bottom: 0; overflow: hidden;\"><strong>Tier:</strong> a</p>"
      ],
      "text/plain": [
       "<IPython.core.display.HTML object>"
      ]
     },
     "metadata": {},
     "output_type": "display_data"
    },
    {
     "data": {
      "text/html": [
       "<p style=\"color: purple; margin-bottom: 10px; overflow: hidden;\">*aaa</p>"
      ],
      "text/plain": [
       "<IPython.core.display.HTML object>"
      ]
     },
     "metadata": {},
     "output_type": "display_data"
    },
    {
     "data": {
      "text/html": [
       "<p style=\"color: purple; margin-bottom: 0; overflow: hidden;\"><strong>Tier:</strong> a, i</p>"
      ],
      "text/plain": [
       "<IPython.core.display.HTML object>"
      ]
     },
     "metadata": {},
     "output_type": "display_data"
    },
    {
     "data": {
      "text/html": [
       "<p style=\"color: purple; margin-bottom: 10px; overflow: hidden;\">*>aa, *>i<, *aai, *aia, *aii, *ia<, *iai, *iia</p>"
      ],
      "text/plain": [
       "<IPython.core.display.HTML object>"
      ]
     },
     "metadata": {},
     "output_type": "display_data"
    },
    {
     "data": {
      "text/html": [
       "<p style=\"color: purple; margin-bottom: 0; overflow: hidden;\"><strong>Tier:</strong> a, i, u</p>"
      ],
      "text/plain": [
       "<IPython.core.display.HTML object>"
      ]
     },
     "metadata": {},
     "output_type": "display_data"
    },
    {
     "data": {
      "text/html": [
       "<p style=\"color: purple; margin-bottom: 10px; overflow: hidden;\">*>iu, *>ui, *a<<, *aui, *iaa, *iua, *iuu, *ua<, *ui<, *uia</p>"
      ],
      "text/plain": [
       "<IPython.core.display.HTML object>"
      ]
     },
     "metadata": {},
     "output_type": "display_data"
    },
    {
     "data": {
      "text/html": [
       "<p style=\"color: purple; margin-bottom: 0; overflow: hidden;\"><strong>Tier:</strong> a, i, u, z</p>"
      ],
      "text/plain": [
       "<IPython.core.display.HTML object>"
      ]
     },
     "metadata": {},
     "output_type": "display_data"
    },
    {
     "data": {
      "text/html": [
       "<p style=\"color: purple; margin-bottom: 10px; overflow: hidden;\">*ai<, *iau, *izu, *uai, *uzi</p>"
      ],
      "text/plain": [
       "<IPython.core.display.HTML object>"
      ]
     },
     "metadata": {},
     "output_type": "display_data"
    },
    {
     "data": {
      "text/html": [
       "<p style=\"color: purple; margin-bottom: 0; overflow: hidden;\"><strong>Tier:</strong> a, i, z</p>"
      ],
      "text/plain": [
       "<IPython.core.display.HTML object>"
      ]
     },
     "metadata": {},
     "output_type": "display_data"
    },
    {
     "data": {
      "text/html": [
       "<p style=\"color: purple; margin-bottom: 10px; overflow: hidden;\">*>ia, *>za, *aiz, *az<, *iaz, *iz<, *zai, *zia</p>"
      ],
      "text/plain": [
       "<IPython.core.display.HTML object>"
      ]
     },
     "metadata": {},
     "output_type": "display_data"
    },
    {
     "data": {
      "text/html": [
       "<p style=\"color: purple; margin-bottom: 0; overflow: hidden;\"><strong>Tier:</strong> a, u</p>"
      ],
      "text/plain": [
       "<IPython.core.display.HTML object>"
      ]
     },
     "metadata": {},
     "output_type": "display_data"
    },
    {
     "data": {
      "text/html": [
       "<p style=\"color: purple; margin-bottom: 10px; overflow: hidden;\">*>a<, *>uu, *aa<, *aau, *uaa, *uua</p>"
      ],
      "text/plain": [
       "<IPython.core.display.HTML object>"
      ]
     },
     "metadata": {},
     "output_type": "display_data"
    },
    {
     "data": {
      "text/html": [
       "<p style=\"color: purple; margin-bottom: 0; overflow: hidden;\"><strong>Tier:</strong> a, u, z</p>"
      ],
      "text/plain": [
       "<IPython.core.display.HTML object>"
      ]
     },
     "metadata": {},
     "output_type": "display_data"
    },
    {
     "data": {
      "text/html": [
       "<p style=\"color: purple; margin-bottom: 10px; overflow: hidden;\">*>az, *>u<, *>uz, *auz, *azu, *uz<, *uza, *zaa, *zua, *zuu</p>"
      ],
      "text/plain": [
       "<IPython.core.display.HTML object>"
      ]
     },
     "metadata": {},
     "output_type": "display_data"
    },
    {
     "data": {
      "text/html": [
       "<p style=\"color: purple; margin-bottom: 0; overflow: hidden;\"><strong>Tier:</strong> a, z</p>"
      ],
      "text/plain": [
       "<IPython.core.display.HTML object>"
      ]
     },
     "metadata": {},
     "output_type": "display_data"
    },
    {
     "data": {
      "text/html": [
       "<p style=\"color: purple; margin-bottom: 10px; overflow: hidden;\">*aaz, *aza, *azz, *za<, *zaz, *zza</p>"
      ],
      "text/plain": [
       "<IPython.core.display.HTML object>"
      ]
     },
     "metadata": {},
     "output_type": "display_data"
    },
    {
     "data": {
      "text/html": [
       "<p style=\"color: purple; margin-bottom: 0; overflow: hidden;\"><strong>Tier:</strong> i, u</p>"
      ],
      "text/plain": [
       "<IPython.core.display.HTML object>"
      ]
     },
     "metadata": {},
     "output_type": "display_data"
    },
    {
     "data": {
      "text/html": [
       "<p style=\"color: purple; margin-bottom: 10px; overflow: hidden;\">*iiu, *iui, *uii, *uiu, *uui</p>"
      ],
      "text/plain": [
       "<IPython.core.display.HTML object>"
      ]
     },
     "metadata": {},
     "output_type": "display_data"
    },
    {
     "data": {
      "text/html": [
       "<p style=\"color: purple; margin-bottom: 0; overflow: hidden;\"><strong>Tier:</strong> i, u, z</p>"
      ],
      "text/plain": [
       "<IPython.core.display.HTML object>"
      ]
     },
     "metadata": {},
     "output_type": "display_data"
    },
    {
     "data": {
      "text/html": [
       "<p style=\"color: purple; margin-bottom: 10px; overflow: hidden;\">*iuz, *uiz, *ziu, *zui</p>"
      ],
      "text/plain": [
       "<IPython.core.display.HTML object>"
      ]
     },
     "metadata": {},
     "output_type": "display_data"
    },
    {
     "data": {
      "text/html": [
       "<p style=\"color: purple; margin-bottom: 0; overflow: hidden;\"><strong>Tier:</strong> i, z</p>"
      ],
      "text/plain": [
       "<IPython.core.display.HTML object>"
      ]
     },
     "metadata": {},
     "output_type": "display_data"
    },
    {
     "data": {
      "text/html": [
       "<p style=\"color: purple; margin-bottom: 10px; overflow: hidden;\">*>ii, *iiz, *izi, *izz, *ziz, *zzi</p>"
      ],
      "text/plain": [
       "<IPython.core.display.HTML object>"
      ]
     },
     "metadata": {},
     "output_type": "display_data"
    },
    {
     "data": {
      "text/html": [
       "<p style=\"color: purple; margin-bottom: 0; overflow: hidden;\"><strong>Tier:</strong> u</p>"
      ],
      "text/plain": [
       "<IPython.core.display.HTML object>"
      ]
     },
     "metadata": {},
     "output_type": "display_data"
    },
    {
     "data": {
      "text/html": [
       "<p style=\"color: purple; margin-bottom: 10px; overflow: hidden;\">*uuu</p>"
      ],
      "text/plain": [
       "<IPython.core.display.HTML object>"
      ]
     },
     "metadata": {},
     "output_type": "display_data"
    },
    {
     "data": {
      "text/html": [
       "<p style=\"color: purple; margin-bottom: 0; overflow: hidden;\"><strong>Tier:</strong> u, z</p>"
      ],
      "text/plain": [
       "<IPython.core.display.HTML object>"
      ]
     },
     "metadata": {},
     "output_type": "display_data"
    },
    {
     "data": {
      "text/html": [
       "<p style=\"color: purple; margin-bottom: 10px; overflow: hidden;\">*>zz, *uuz, *uzu, *zu<, *zzu, *zzz</p>"
      ],
      "text/plain": [
       "<IPython.core.display.HTML object>"
      ]
     },
     "metadata": {},
     "output_type": "display_data"
    },
    {
     "name": "stdout",
     "output_type": "stream",
     "text": [
      "\n"
     ]
    },
    {
     "data": {
      "text/html": [
       "<hr><hr>"
      ],
      "text/plain": [
       "<IPython.core.display.HTML object>"
      ]
     },
     "metadata": {},
     "output_type": "display_data"
    },
    {
     "data": {
      "text/html": [
       "<h2>Dataset</h2>"
      ],
      "text/plain": [
       "<IPython.core.display.HTML object>"
      ]
     },
     "metadata": {},
     "output_type": "display_data"
    },
    {
     "name": "stdout",
     "output_type": "stream",
     "text": [
      "azuaau\n",
      "iiaiziuui\n",
      "uauiai\n",
      "iuzu\n",
      "iauzuui\n",
      "z\n",
      "uuzuiauuua\n",
      "iizuauzaz\n",
      "aui\n",
      "iziziu\n",
      "iuiizz\n",
      "zziaziuaai\n",
      "uzuauauz\n",
      "uiz\n",
      "iziiuzzi\n",
      "u\n",
      "uziizzzai\n",
      "iiaiuauizi\n",
      "aiu\n",
      "iaiizazaa\n",
      "iuau\n",
      "ai\n",
      "aa\n",
      "auuiiuuzai\n",
      "iaaizuziui\n",
      "\n"
     ]
    },
    {
     "data": {
      "text/html": [
       "<h2><em>k</em>-MTSLIA</h2>"
      ],
      "text/plain": [
       "<IPython.core.display.HTML object>"
      ]
     },
     "metadata": {},
     "output_type": "display_data"
    },
    {
     "data": {
      "text/html": [
       "<p style=\"color: teal; margin-bottom: 0; overflow: hidden;\"><strong>Tier:</strong> a, i</p>"
      ],
      "text/plain": [
       "<IPython.core.display.HTML object>"
      ]
     },
     "metadata": {},
     "output_type": "display_data"
    },
    {
     "data": {
      "text/html": [
       "<p style=\"color: teal; margin-bottom: 10px; overflow: hidden;\">*>a<</p>"
      ],
      "text/plain": [
       "<IPython.core.display.HTML object>"
      ]
     },
     "metadata": {},
     "output_type": "display_data"
    },
    {
     "data": {
      "text/html": [
       "<p style=\"color: teal; margin-bottom: 0; overflow: hidden;\"><strong>Tier:</strong> a, i, u</p>"
      ],
      "text/plain": [
       "<IPython.core.display.HTML object>"
      ]
     },
     "metadata": {},
     "output_type": "display_data"
    },
    {
     "data": {
      "text/html": [
       "<p style=\"color: teal; margin-bottom: 10px; overflow: hidden;\">*>i<, *aia, *ia<</p>"
      ],
      "text/plain": [
       "<IPython.core.display.HTML object>"
      ]
     },
     "metadata": {},
     "output_type": "display_data"
    },
    {
     "data": {
      "text/html": [
       "<p style=\"color: teal; margin-bottom: 0; overflow: hidden;\"><strong>Tier:</strong> a, i, u, z</p>"
      ],
      "text/plain": [
       "<IPython.core.display.HTML object>"
      ]
     },
     "metadata": {},
     "output_type": "display_data"
    },
    {
     "data": {
      "text/html": [
       "<p style=\"color: teal; margin-bottom: 10px; overflow: hidden;\">*>zu, *aaz, *ii<, *iii, *uai, *uiu, *uu<</p>"
      ],
      "text/plain": [
       "<IPython.core.display.HTML object>"
      ]
     },
     "metadata": {},
     "output_type": "display_data"
    },
    {
     "data": {
      "text/html": [
       "<p style=\"color: teal; margin-bottom: 0; overflow: hidden;\"><strong>Tier:</strong> a, i, z</p>"
      ],
      "text/plain": [
       "<IPython.core.display.HTML object>"
      ]
     },
     "metadata": {},
     "output_type": "display_data"
    },
    {
     "data": {
      "text/html": [
       "<p style=\"color: teal; margin-bottom: 10px; overflow: hidden;\">*azz, *za<</p>"
      ],
      "text/plain": [
       "<IPython.core.display.HTML object>"
      ]
     },
     "metadata": {},
     "output_type": "display_data"
    },
    {
     "data": {
      "text/html": [
       "<p style=\"color: teal; margin-bottom: 0; overflow: hidden;\"><strong>Tier:</strong> a, u, z</p>"
      ],
      "text/plain": [
       "<IPython.core.display.HTML object>"
      ]
     },
     "metadata": {},
     "output_type": "display_data"
    },
    {
     "data": {
      "text/html": [
       "<p style=\"color: teal; margin-bottom: 10px; overflow: hidden;\">*>za, *uaz, *zau</p>"
      ],
      "text/plain": [
       "<IPython.core.display.HTML object>"
      ]
     },
     "metadata": {},
     "output_type": "display_data"
    },
    {
     "data": {
      "text/html": [
       "<p style=\"color: teal; margin-bottom: 0; overflow: hidden;\"><strong>Tier:</strong> a, z</p>"
      ],
      "text/plain": [
       "<IPython.core.display.HTML object>"
      ]
     },
     "metadata": {},
     "output_type": "display_data"
    },
    {
     "data": {
      "text/html": [
       "<p style=\"color: teal; margin-bottom: 10px; overflow: hidden;\">*aaa</p>"
      ],
      "text/plain": [
       "<IPython.core.display.HTML object>"
      ]
     },
     "metadata": {},
     "output_type": "display_data"
    },
    {
     "data": {
      "text/html": [
       "<p style=\"color: teal; margin-bottom: 0; overflow: hidden;\"><strong>Tier:</strong> i, u, z</p>"
      ],
      "text/plain": [
       "<IPython.core.display.HTML object>"
      ]
     },
     "metadata": {},
     "output_type": "display_data"
    },
    {
     "data": {
      "text/html": [
       "<p style=\"color: teal; margin-bottom: 10px; overflow: hidden;\">*>zi, *zzu</p>"
      ],
      "text/plain": [
       "<IPython.core.display.HTML object>"
      ]
     },
     "metadata": {},
     "output_type": "display_data"
    },
    {
     "name": "stdout",
     "output_type": "stream",
     "text": [
      "\n"
     ]
    },
    {
     "data": {
      "text/html": [
       "<h2>Brute force</h2>"
      ],
      "text/plain": [
       "<IPython.core.display.HTML object>"
      ]
     },
     "metadata": {},
     "output_type": "display_data"
    },
    {
     "data": {
      "text/html": [
       "<p style=\"color: purple; margin-bottom: 0; overflow: hidden;\"><strong>Tier:</strong> a, i</p>"
      ],
      "text/plain": [
       "<IPython.core.display.HTML object>"
      ]
     },
     "metadata": {},
     "output_type": "display_data"
    },
    {
     "data": {
      "text/html": [
       "<p style=\"color: purple; margin-bottom: 10px; overflow: hidden;\">*>a<</p>"
      ],
      "text/plain": [
       "<IPython.core.display.HTML object>"
      ]
     },
     "metadata": {},
     "output_type": "display_data"
    },
    {
     "data": {
      "text/html": [
       "<p style=\"color: purple; margin-bottom: 0; overflow: hidden;\"><strong>Tier:</strong> a, i, u</p>"
      ],
      "text/plain": [
       "<IPython.core.display.HTML object>"
      ]
     },
     "metadata": {},
     "output_type": "display_data"
    },
    {
     "data": {
      "text/html": [
       "<p style=\"color: purple; margin-bottom: 10px; overflow: hidden;\">*>i<, *aia, *ia<</p>"
      ],
      "text/plain": [
       "<IPython.core.display.HTML object>"
      ]
     },
     "metadata": {},
     "output_type": "display_data"
    },
    {
     "data": {
      "text/html": [
       "<p style=\"color: purple; margin-bottom: 0; overflow: hidden;\"><strong>Tier:</strong> a, i, u, z</p>"
      ],
      "text/plain": [
       "<IPython.core.display.HTML object>"
      ]
     },
     "metadata": {},
     "output_type": "display_data"
    },
    {
     "data": {
      "text/html": [
       "<p style=\"color: purple; margin-bottom: 10px; overflow: hidden;\">*>zu, *aaz, *ii<, *iii, *uai, *uiu, *uu<</p>"
      ],
      "text/plain": [
       "<IPython.core.display.HTML object>"
      ]
     },
     "metadata": {},
     "output_type": "display_data"
    },
    {
     "data": {
      "text/html": [
       "<p style=\"color: purple; margin-bottom: 0; overflow: hidden;\"><strong>Tier:</strong> a, i, z</p>"
      ],
      "text/plain": [
       "<IPython.core.display.HTML object>"
      ]
     },
     "metadata": {},
     "output_type": "display_data"
    },
    {
     "data": {
      "text/html": [
       "<p style=\"color: purple; margin-bottom: 10px; overflow: hidden;\">*azz, *za<</p>"
      ],
      "text/plain": [
       "<IPython.core.display.HTML object>"
      ]
     },
     "metadata": {},
     "output_type": "display_data"
    },
    {
     "data": {
      "text/html": [
       "<p style=\"color: purple; margin-bottom: 0; overflow: hidden;\"><strong>Tier:</strong> a, u, z</p>"
      ],
      "text/plain": [
       "<IPython.core.display.HTML object>"
      ]
     },
     "metadata": {},
     "output_type": "display_data"
    },
    {
     "data": {
      "text/html": [
       "<p style=\"color: purple; margin-bottom: 10px; overflow: hidden;\">*>za, *uaz, *zau</p>"
      ],
      "text/plain": [
       "<IPython.core.display.HTML object>"
      ]
     },
     "metadata": {},
     "output_type": "display_data"
    },
    {
     "data": {
      "text/html": [
       "<p style=\"color: purple; margin-bottom: 0; overflow: hidden;\"><strong>Tier:</strong> a, z</p>"
      ],
      "text/plain": [
       "<IPython.core.display.HTML object>"
      ]
     },
     "metadata": {},
     "output_type": "display_data"
    },
    {
     "data": {
      "text/html": [
       "<p style=\"color: purple; margin-bottom: 10px; overflow: hidden;\">*aaa</p>"
      ],
      "text/plain": [
       "<IPython.core.display.HTML object>"
      ]
     },
     "metadata": {},
     "output_type": "display_data"
    },
    {
     "data": {
      "text/html": [
       "<p style=\"color: purple; margin-bottom: 0; overflow: hidden;\"><strong>Tier:</strong> i, u, z</p>"
      ],
      "text/plain": [
       "<IPython.core.display.HTML object>"
      ]
     },
     "metadata": {},
     "output_type": "display_data"
    },
    {
     "data": {
      "text/html": [
       "<p style=\"color: purple; margin-bottom: 10px; overflow: hidden;\">*>zi, *zzu</p>"
      ],
      "text/plain": [
       "<IPython.core.display.HTML object>"
      ]
     },
     "metadata": {},
     "output_type": "display_data"
    },
    {
     "name": "stdout",
     "output_type": "stream",
     "text": [
      "\n"
     ]
    },
    {
     "data": {
      "text/html": [
       "<hr><hr>"
      ],
      "text/plain": [
       "<IPython.core.display.HTML object>"
      ]
     },
     "metadata": {},
     "output_type": "display_data"
    },
    {
     "data": {
      "text/html": [
       "<h2>Dataset</h2>"
      ],
      "text/plain": [
       "<IPython.core.display.HTML object>"
      ]
     },
     "metadata": {},
     "output_type": "display_data"
    },
    {
     "name": "stdout",
     "output_type": "stream",
     "text": [
      "uiszs\n",
      "auz\n",
      "auai\n",
      "fsfsfz\n",
      "zzafsaiss\n",
      "azszzi\n",
      "iuuu\n",
      "sizazaisuz\n",
      "z\n",
      "uziis\n",
      "zauszuuu\n",
      "uiizia\n",
      "ffaifufaff\n",
      "uaai\n",
      "s\n",
      "zzuazus\n",
      "fzaauas\n",
      "zzfisazzii\n",
      "uzfs\n",
      "zazssaui\n",
      "\n"
     ]
    },
    {
     "data": {
      "text/html": [
       "<h2><em>k</em>-MTSLIA</h2>"
      ],
      "text/plain": [
       "<IPython.core.display.HTML object>"
      ]
     },
     "metadata": {},
     "output_type": "display_data"
    },
    {
     "data": {
      "text/html": [
       "<p style=\"color: teal; margin-bottom: 0; overflow: hidden;\"><strong>Tier:</strong> a, f</p>"
      ],
      "text/plain": [
       "<IPython.core.display.HTML object>"
      ]
     },
     "metadata": {},
     "output_type": "display_data"
    },
    {
     "data": {
      "text/html": [
       "<p style=\"color: teal; margin-bottom: 10px; overflow: hidden;\">*aaf, *af<</p>"
      ],
      "text/plain": [
       "<IPython.core.display.HTML object>"
      ]
     },
     "metadata": {},
     "output_type": "display_data"
    },
    {
     "data": {
      "text/html": [
       "<p style=\"color: teal; margin-bottom: 0; overflow: hidden;\"><strong>Tier:</strong> a, f, i</p>"
      ],
      "text/plain": [
       "<IPython.core.display.HTML object>"
      ]
     },
     "metadata": {},
     "output_type": "display_data"
    },
    {
     "data": {
      "text/html": [
       "<p style=\"color: teal; margin-bottom: 10px; overflow: hidden;\">*afi, *aia, *fa<, *ffi, *fi<, *fif, *fii, *iaf, *ifa</p>"
      ],
      "text/plain": [
       "<IPython.core.display.HTML object>"
      ]
     },
     "metadata": {},
     "output_type": "display_data"
    },
    {
     "data": {
      "text/html": [
       "<p style=\"color: teal; margin-bottom: 0; overflow: hidden;\"><strong>Tier:</strong> a, f, i, s</p>"
      ],
      "text/plain": [
       "<IPython.core.display.HTML object>"
      ]
     },
     "metadata": {},
     "output_type": "display_data"
    },
    {
     "data": {
      "text/html": [
       "<p style=\"color: teal; margin-bottom: 10px; overflow: hidden;\">*>ai, *>ss, *fia, *fsi</p>"
      ],
      "text/plain": [
       "<IPython.core.display.HTML object>"
      ]
     },
     "metadata": {},
     "output_type": "display_data"
    },
    {
     "data": {
      "text/html": [
       "<p style=\"color: teal; margin-bottom: 0; overflow: hidden;\"><strong>Tier:</strong> a, f, i, s, u</p>"
      ],
      "text/plain": [
       "<IPython.core.display.HTML object>"
      ]
     },
     "metadata": {},
     "output_type": "display_data"
    },
    {
     "data": {
      "text/html": [
       "<p style=\"color: teal; margin-bottom: 10px; overflow: hidden;\">*>us, *aiu, *ua<</p>"
      ],
      "text/plain": [
       "<IPython.core.display.HTML object>"
      ]
     },
     "metadata": {},
     "output_type": "display_data"
    },
    {
     "data": {
      "text/html": [
       "<p style=\"color: teal; margin-bottom: 0; overflow: hidden;\"><strong>Tier:</strong> a, f, i, s, u, z</p>"
      ],
      "text/plain": [
       "<IPython.core.display.HTML object>"
      ]
     },
     "metadata": {},
     "output_type": "display_data"
    },
    {
     "data": {
      "text/html": [
       "<p style=\"color: teal; margin-bottom: 10px; overflow: hidden;\">*zas</p>"
      ],
      "text/plain": [
       "<IPython.core.display.HTML object>"
      ]
     },
     "metadata": {},
     "output_type": "display_data"
    },
    {
     "data": {
      "text/html": [
       "<p style=\"color: teal; margin-bottom: 0; overflow: hidden;\"><strong>Tier:</strong> a, f, i, s, z</p>"
      ],
      "text/plain": [
       "<IPython.core.display.HTML object>"
      ]
     },
     "metadata": {},
     "output_type": "display_data"
    },
    {
     "data": {
      "text/html": [
       "<p style=\"color: teal; margin-bottom: 10px; overflow: hidden;\">*>zs, *zis</p>"
      ],
      "text/plain": [
       "<IPython.core.display.HTML object>"
      ]
     },
     "metadata": {},
     "output_type": "display_data"
    },
    {
     "data": {
      "text/html": [
       "<p style=\"color: teal; margin-bottom: 0; overflow: hidden;\"><strong>Tier:</strong> a, f, i, u</p>"
      ],
      "text/plain": [
       "<IPython.core.display.HTML object>"
      ]
     },
     "metadata": {},
     "output_type": "display_data"
    },
    {
     "data": {
      "text/html": [
       "<p style=\"color: teal; margin-bottom: 10px; overflow: hidden;\">*>u<, *afu, *iua</p>"
      ],
      "text/plain": [
       "<IPython.core.display.HTML object>"
      ]
     },
     "metadata": {},
     "output_type": "display_data"
    },
    {
     "data": {
      "text/html": [
       "<p style=\"color: teal; margin-bottom: 0; overflow: hidden;\"><strong>Tier:</strong> a, f, i, z</p>"
      ],
      "text/plain": [
       "<IPython.core.display.HTML object>"
      ]
     },
     "metadata": {},
     "output_type": "display_data"
    },
    {
     "data": {
      "text/html": [
       "<p style=\"color: teal; margin-bottom: 10px; overflow: hidden;\">*faz, *fiz, *zfa</p>"
      ],
      "text/plain": [
       "<IPython.core.display.HTML object>"
      ]
     },
     "metadata": {},
     "output_type": "display_data"
    },
    {
     "data": {
      "text/html": [
       "<p style=\"color: teal; margin-bottom: 0; overflow: hidden;\"><strong>Tier:</strong> a, f, s</p>"
      ],
      "text/plain": [
       "<IPython.core.display.HTML object>"
      ]
     },
     "metadata": {},
     "output_type": "display_data"
    },
    {
     "data": {
      "text/html": [
       "<p style=\"color: teal; margin-bottom: 10px; overflow: hidden;\">*afa, *asa, *asf, *fas, *fff, *fss, *saf, *sfa</p>"
      ],
      "text/plain": [
       "<IPython.core.display.HTML object>"
      ]
     },
     "metadata": {},
     "output_type": "display_data"
    },
    {
     "data": {
      "text/html": [
       "<p style=\"color: teal; margin-bottom: 0; overflow: hidden;\"><strong>Tier:</strong> a, f, s, u</p>"
      ],
      "text/plain": [
       "<IPython.core.display.HTML object>"
      ]
     },
     "metadata": {},
     "output_type": "display_data"
    },
    {
     "data": {
      "text/html": [
       "<p style=\"color: teal; margin-bottom: 10px; overflow: hidden;\">*>aa, *fus</p>"
      ],
      "text/plain": [
       "<IPython.core.display.HTML object>"
      ]
     },
     "metadata": {},
     "output_type": "display_data"
    },
    {
     "data": {
      "text/html": [
       "<p style=\"color: teal; margin-bottom: 0; overflow: hidden;\"><strong>Tier:</strong> a, f, s, z</p>"
      ],
      "text/plain": [
       "<IPython.core.display.HTML object>"
      ]
     },
     "metadata": {},
     "output_type": "display_data"
    },
    {
     "data": {
      "text/html": [
       "<p style=\"color: teal; margin-bottom: 10px; overflow: hidden;\">*fsz, *fzs, *zsa, *zzs</p>"
      ],
      "text/plain": [
       "<IPython.core.display.HTML object>"
      ]
     },
     "metadata": {},
     "output_type": "display_data"
    },
    {
     "data": {
      "text/html": [
       "<p style=\"color: teal; margin-bottom: 0; overflow: hidden;\"><strong>Tier:</strong> a, f, u</p>"
      ],
      "text/plain": [
       "<IPython.core.display.HTML object>"
      ]
     },
     "metadata": {},
     "output_type": "display_data"
    },
    {
     "data": {
      "text/html": [
       "<p style=\"color: teal; margin-bottom: 10px; overflow: hidden;\">*>fu, *auf, *fau, *ffu, *fu<, *fua, *uaf, *uff</p>"
      ],
      "text/plain": [
       "<IPython.core.display.HTML object>"
      ]
     },
     "metadata": {},
     "output_type": "display_data"
    },
    {
     "data": {
      "text/html": [
       "<p style=\"color: teal; margin-bottom: 0; overflow: hidden;\"><strong>Tier:</strong> a, f, u, z</p>"
      ],
      "text/plain": [
       "<IPython.core.display.HTML object>"
      ]
     },
     "metadata": {},
     "output_type": "display_data"
    },
    {
     "data": {
      "text/html": [
       "<p style=\"color: teal; margin-bottom: 10px; overflow: hidden;\">*fzu</p>"
      ],
      "text/plain": [
       "<IPython.core.display.HTML object>"
      ]
     },
     "metadata": {},
     "output_type": "display_data"
    },
    {
     "data": {
      "text/html": [
       "<p style=\"color: teal; margin-bottom: 0; overflow: hidden;\"><strong>Tier:</strong> a, f, z</p>"
      ],
      "text/plain": [
       "<IPython.core.display.HTML object>"
      ]
     },
     "metadata": {},
     "output_type": "display_data"
    },
    {
     "data": {
      "text/html": [
       "<p style=\"color: teal; margin-bottom: 10px; overflow: hidden;\">*>af, *>fa, *afz, *azf, *faa, *fzz, *zfz</p>"
      ],
      "text/plain": [
       "<IPython.core.display.HTML object>"
      ]
     },
     "metadata": {},
     "output_type": "display_data"
    },
    {
     "data": {
      "text/html": [
       "<p style=\"color: teal; margin-bottom: 0; overflow: hidden;\"><strong>Tier:</strong> a, i, s</p>"
      ],
      "text/plain": [
       "<IPython.core.display.HTML object>"
      ]
     },
     "metadata": {},
     "output_type": "display_data"
    },
    {
     "data": {
      "text/html": [
       "<p style=\"color: teal; margin-bottom: 10px; overflow: hidden;\">*>ia, *>sa, *aa<, *iai, *ias, *isi, *sa<, *saa, *sas, *sii, *sis, *ssi</p>"
      ],
      "text/plain": [
       "<IPython.core.display.HTML object>"
      ]
     },
     "metadata": {},
     "output_type": "display_data"
    },
    {
     "data": {
      "text/html": [
       "<p style=\"color: teal; margin-bottom: 0; overflow: hidden;\"><strong>Tier:</strong> a, i, s, u</p>"
      ],
      "text/plain": [
       "<IPython.core.display.HTML object>"
      ]
     },
     "metadata": {},
     "output_type": "display_data"
    },
    {
     "data": {
      "text/html": [
       "<p style=\"color: teal; margin-bottom: 10px; overflow: hidden;\">*aas, *asu, *iu<, *sui</p>"
      ],
      "text/plain": [
       "<IPython.core.display.HTML object>"
      ]
     },
     "metadata": {},
     "output_type": "display_data"
    },
    {
     "data": {
      "text/html": [
       "<p style=\"color: teal; margin-bottom: 0; overflow: hidden;\"><strong>Tier:</strong> a, i, s, z</p>"
      ],
      "text/plain": [
       "<IPython.core.display.HTML object>"
      ]
     },
     "metadata": {},
     "output_type": "display_data"
    },
    {
     "data": {
      "text/html": [
       "<p style=\"color: teal; margin-bottom: 10px; overflow: hidden;\">*aiz, *asi, *ass, *iaz, *si<, *sia, *sza, *zsi</p>"
      ],
      "text/plain": [
       "<IPython.core.display.HTML object>"
      ]
     },
     "metadata": {},
     "output_type": "display_data"
    },
    {
     "data": {
      "text/html": [
       "<p style=\"color: teal; margin-bottom: 0; overflow: hidden;\"><strong>Tier:</strong> a, i, u</p>"
      ],
      "text/plain": [
       "<IPython.core.display.HTML object>"
      ]
     },
     "metadata": {},
     "output_type": "display_data"
    },
    {
     "data": {
      "text/html": [
       "<p style=\"color: teal; margin-bottom: 10px; overflow: hidden;\">*>a<, *>i<, *>ii, *>uu, *iau, *iiu, *uia</p>"
      ],
      "text/plain": [
       "<IPython.core.display.HTML object>"
      ]
     },
     "metadata": {},
     "output_type": "display_data"
    },
    {
     "data": {
      "text/html": [
       "<p style=\"color: teal; margin-bottom: 0; overflow: hidden;\"><strong>Tier:</strong> a, i, u, z</p>"
      ],
      "text/plain": [
       "<IPython.core.display.HTML object>"
      ]
     },
     "metadata": {},
     "output_type": "display_data"
    },
    {
     "data": {
      "text/html": [
       "<p style=\"color: teal; margin-bottom: 10px; overflow: hidden;\">*au<, *uza, *ziu, *zui</p>"
      ],
      "text/plain": [
       "<IPython.core.display.HTML object>"
      ]
     },
     "metadata": {},
     "output_type": "display_data"
    },
    {
     "data": {
      "text/html": [
       "<p style=\"color: teal; margin-bottom: 0; overflow: hidden;\"><strong>Tier:</strong> a, i, z</p>"
      ],
      "text/plain": [
       "<IPython.core.display.HTML object>"
      ]
     },
     "metadata": {},
     "output_type": "display_data"
    },
    {
     "data": {
      "text/html": [
       "<p style=\"color: teal; margin-bottom: 10px; overflow: hidden;\">*aii, *azi, *iaa, *iia, *izz, *za<, *ziz, *zz<</p>"
      ],
      "text/plain": [
       "<IPython.core.display.HTML object>"
      ]
     },
     "metadata": {},
     "output_type": "display_data"
    },
    {
     "data": {
      "text/html": [
       "<p style=\"color: teal; margin-bottom: 0; overflow: hidden;\"><strong>Tier:</strong> a, s</p>"
      ],
      "text/plain": [
       "<IPython.core.display.HTML object>"
      ]
     },
     "metadata": {},
     "output_type": "display_data"
    },
    {
     "data": {
      "text/html": [
       "<p style=\"color: teal; margin-bottom: 10px; overflow: hidden;\">*sss</p>"
      ],
      "text/plain": [
       "<IPython.core.display.HTML object>"
      ]
     },
     "metadata": {},
     "output_type": "display_data"
    },
    {
     "data": {
      "text/html": [
       "<p style=\"color: teal; margin-bottom: 0; overflow: hidden;\"><strong>Tier:</strong> a, s, u</p>"
      ],
      "text/plain": [
       "<IPython.core.display.HTML object>"
      ]
     },
     "metadata": {},
     "output_type": "display_data"
    },
    {
     "data": {
      "text/html": [
       "<p style=\"color: teal; margin-bottom: 10px; overflow: hidden;\">*auu, *ssu, *sua, *usa, *uus</p>"
      ],
      "text/plain": [
       "<IPython.core.display.HTML object>"
      ]
     },
     "metadata": {},
     "output_type": "display_data"
    },
    {
     "data": {
      "text/html": [
       "<p style=\"color: teal; margin-bottom: 0; overflow: hidden;\"><strong>Tier:</strong> a, s, u, z</p>"
      ],
      "text/plain": [
       "<IPython.core.display.HTML object>"
      ]
     },
     "metadata": {},
     "output_type": "display_data"
    },
    {
     "data": {
      "text/html": [
       "<p style=\"color: teal; margin-bottom: 10px; overflow: hidden;\">*asz, *su<, *uzu, *zsu</p>"
      ],
      "text/plain": [
       "<IPython.core.display.HTML object>"
      ]
     },
     "metadata": {},
     "output_type": "display_data"
    },
    {
     "data": {
      "text/html": [
       "<p style=\"color: teal; margin-bottom: 0; overflow: hidden;\"><strong>Tier:</strong> a, s, z</p>"
      ],
      "text/plain": [
       "<IPython.core.display.HTML object>"
      ]
     },
     "metadata": {},
     "output_type": "display_data"
    },
    {
     "data": {
      "text/html": [
       "<p style=\"color: teal; margin-bottom: 10px; overflow: hidden;\">*>as, *zzz</p>"
      ],
      "text/plain": [
       "<IPython.core.display.HTML object>"
      ]
     },
     "metadata": {},
     "output_type": "display_data"
    },
    {
     "data": {
      "text/html": [
       "<p style=\"color: teal; margin-bottom: 0; overflow: hidden;\"><strong>Tier:</strong> a, u</p>"
      ],
      "text/plain": [
       "<IPython.core.display.HTML object>"
      ]
     },
     "metadata": {},
     "output_type": "display_data"
    },
    {
     "data": {
      "text/html": [
       "<p style=\"color: teal; margin-bottom: 10px; overflow: hidden;\">*aaa, *uua</p>"
      ],
      "text/plain": [
       "<IPython.core.display.HTML object>"
      ]
     },
     "metadata": {},
     "output_type": "display_data"
    },
    {
     "data": {
      "text/html": [
       "<p style=\"color: teal; margin-bottom: 0; overflow: hidden;\"><strong>Tier:</strong> a, u, z</p>"
      ],
      "text/plain": [
       "<IPython.core.display.HTML object>"
      ]
     },
     "metadata": {},
     "output_type": "display_data"
    },
    {
     "data": {
      "text/html": [
       "<p style=\"color: teal; margin-bottom: 10px; overflow: hidden;\">*>zu, *az<, *uau, *zuz</p>"
      ],
      "text/plain": [
       "<IPython.core.display.HTML object>"
      ]
     },
     "metadata": {},
     "output_type": "display_data"
    },
    {
     "data": {
      "text/html": [
       "<p style=\"color: teal; margin-bottom: 0; overflow: hidden;\"><strong>Tier:</strong> a, z</p>"
      ],
      "text/plain": [
       "<IPython.core.display.HTML object>"
      ]
     },
     "metadata": {},
     "output_type": "display_data"
    },
    {
     "data": {
      "text/html": [
       "<p style=\"color: teal; margin-bottom: 10px; overflow: hidden;\">*aaz</p>"
      ],
      "text/plain": [
       "<IPython.core.display.HTML object>"
      ]
     },
     "metadata": {},
     "output_type": "display_data"
    },
    {
     "data": {
      "text/html": [
       "<p style=\"color: teal; margin-bottom: 0; overflow: hidden;\"><strong>Tier:</strong> f, i</p>"
      ],
      "text/plain": [
       "<IPython.core.display.HTML object>"
      ]
     },
     "metadata": {},
     "output_type": "display_data"
    },
    {
     "data": {
      "text/html": [
       "<p style=\"color: teal; margin-bottom: 10px; overflow: hidden;\">*>if, *if<, *ifi, *iif</p>"
      ],
      "text/plain": [
       "<IPython.core.display.HTML object>"
      ]
     },
     "metadata": {},
     "output_type": "display_data"
    },
    {
     "data": {
      "text/html": [
       "<p style=\"color: teal; margin-bottom: 0; overflow: hidden;\"><strong>Tier:</strong> f, i, s</p>"
      ],
      "text/plain": [
       "<IPython.core.display.HTML object>"
      ]
     },
     "metadata": {},
     "output_type": "display_data"
    },
    {
     "data": {
      "text/html": [
       "<p style=\"color: teal; margin-bottom: 10px; overflow: hidden;\">*ifs, *isf, *sfi, *sif</p>"
      ],
      "text/plain": [
       "<IPython.core.display.HTML object>"
      ]
     },
     "metadata": {},
     "output_type": "display_data"
    },
    {
     "data": {
      "text/html": [
       "<p style=\"color: teal; margin-bottom: 0; overflow: hidden;\"><strong>Tier:</strong> f, i, s, u</p>"
      ],
      "text/plain": [
       "<IPython.core.display.HTML object>"
      ]
     },
     "metadata": {},
     "output_type": "display_data"
    },
    {
     "data": {
      "text/html": [
       "<p style=\"color: teal; margin-bottom: 10px; overflow: hidden;\">*>is</p>"
      ],
      "text/plain": [
       "<IPython.core.display.HTML object>"
      ]
     },
     "metadata": {},
     "output_type": "display_data"
    },
    {
     "data": {
      "text/html": [
       "<p style=\"color: teal; margin-bottom: 0; overflow: hidden;\"><strong>Tier:</strong> f, i, s, u, z</p>"
      ],
      "text/plain": [
       "<IPython.core.display.HTML object>"
      ]
     },
     "metadata": {},
     "output_type": "display_data"
    },
    {
     "data": {
      "text/html": [
       "<p style=\"color: teal; margin-bottom: 10px; overflow: hidden;\">*uzs</p>"
      ],
      "text/plain": [
       "<IPython.core.display.HTML object>"
      ]
     },
     "metadata": {},
     "output_type": "display_data"
    },
    {
     "data": {
      "text/html": [
       "<p style=\"color: teal; margin-bottom: 0; overflow: hidden;\"><strong>Tier:</strong> f, i, u</p>"
      ],
      "text/plain": [
       "<IPython.core.display.HTML object>"
      ]
     },
     "metadata": {},
     "output_type": "display_data"
    },
    {
     "data": {
      "text/html": [
       "<p style=\"color: teal; margin-bottom: 10px; overflow: hidden;\">*fiu, *fui, *iff, *iuf, *ufi, *uif</p>"
      ],
      "text/plain": [
       "<IPython.core.display.HTML object>"
      ]
     },
     "metadata": {},
     "output_type": "display_data"
    },
    {
     "data": {
      "text/html": [
       "<p style=\"color: teal; margin-bottom: 0; overflow: hidden;\"><strong>Tier:</strong> f, i, z</p>"
      ],
      "text/plain": [
       "<IPython.core.display.HTML object>"
      ]
     },
     "metadata": {},
     "output_type": "display_data"
    },
    {
     "data": {
      "text/html": [
       "<p style=\"color: teal; margin-bottom: 10px; overflow: hidden;\">*>fi, *fzi, *ifz, *izf, *zif</p>"
      ],
      "text/plain": [
       "<IPython.core.display.HTML object>"
      ]
     },
     "metadata": {},
     "output_type": "display_data"
    },
    {
     "data": {
      "text/html": [
       "<p style=\"color: teal; margin-bottom: 0; overflow: hidden;\"><strong>Tier:</strong> f, s</p>"
      ],
      "text/plain": [
       "<IPython.core.display.HTML object>"
      ]
     },
     "metadata": {},
     "output_type": "display_data"
    },
    {
     "data": {
      "text/html": [
       "<p style=\"color: teal; margin-bottom: 10px; overflow: hidden;\">*>f<, *>sf, *ffs, *sff, *ssf</p>"
      ],
      "text/plain": [
       "<IPython.core.display.HTML object>"
      ]
     },
     "metadata": {},
     "output_type": "display_data"
    },
    {
     "data": {
      "text/html": [
       "<p style=\"color: teal; margin-bottom: 0; overflow: hidden;\"><strong>Tier:</strong> f, s, u</p>"
      ],
      "text/plain": [
       "<IPython.core.display.HTML object>"
      ]
     },
     "metadata": {},
     "output_type": "display_data"
    },
    {
     "data": {
      "text/html": [
       "<p style=\"color: teal; margin-bottom: 10px; overflow: hidden;\">*fsu, *sfu, *suf, *uf<, *usf</p>"
      ],
      "text/plain": [
       "<IPython.core.display.HTML object>"
      ]
     },
     "metadata": {},
     "output_type": "display_data"
    },
    {
     "data": {
      "text/html": [
       "<p style=\"color: teal; margin-bottom: 0; overflow: hidden;\"><strong>Tier:</strong> f, s, u, z</p>"
      ],
      "text/plain": [
       "<IPython.core.display.HTML object>"
      ]
     },
     "metadata": {},
     "output_type": "display_data"
    },
    {
     "data": {
      "text/html": [
       "<p style=\"color: teal; margin-bottom: 10px; overflow: hidden;\">*sz<, *ufs</p>"
      ],
      "text/plain": [
       "<IPython.core.display.HTML object>"
      ]
     },
     "metadata": {},
     "output_type": "display_data"
    },
    {
     "data": {
      "text/html": [
       "<p style=\"color: teal; margin-bottom: 0; overflow: hidden;\"><strong>Tier:</strong> f, s, z</p>"
      ],
      "text/plain": [
       "<IPython.core.display.HTML object>"
      ]
     },
     "metadata": {},
     "output_type": "display_data"
    },
    {
     "data": {
      "text/html": [
       "<p style=\"color: teal; margin-bottom: 10px; overflow: hidden;\">*ffz, *sf<, *ssz, *szf, *zf<, *zsf</p>"
      ],
      "text/plain": [
       "<IPython.core.display.HTML object>"
      ]
     },
     "metadata": {},
     "output_type": "display_data"
    },
    {
     "data": {
      "text/html": [
       "<p style=\"color: teal; margin-bottom: 0; overflow: hidden;\"><strong>Tier:</strong> f, u</p>"
      ],
      "text/plain": [
       "<IPython.core.display.HTML object>"
      ]
     },
     "metadata": {},
     "output_type": "display_data"
    },
    {
     "data": {
      "text/html": [
       "<p style=\"color: teal; margin-bottom: 10px; overflow: hidden;\">*fuu, *ufu, *uuf</p>"
      ],
      "text/plain": [
       "<IPython.core.display.HTML object>"
      ]
     },
     "metadata": {},
     "output_type": "display_data"
    },
    {
     "data": {
      "text/html": [
       "<p style=\"color: teal; margin-bottom: 0; overflow: hidden;\"><strong>Tier:</strong> f, u, z</p>"
      ],
      "text/plain": [
       "<IPython.core.display.HTML object>"
      ]
     },
     "metadata": {},
     "output_type": "display_data"
    },
    {
     "data": {
      "text/html": [
       "<p style=\"color: teal; margin-bottom: 10px; overflow: hidden;\">*>uf, *>zf, *fuz, *ufz, *zfu, *zuf</p>"
      ],
      "text/plain": [
       "<IPython.core.display.HTML object>"
      ]
     },
     "metadata": {},
     "output_type": "display_data"
    },
    {
     "data": {
      "text/html": [
       "<p style=\"color: teal; margin-bottom: 0; overflow: hidden;\"><strong>Tier:</strong> f, z</p>"
      ],
      "text/plain": [
       "<IPython.core.display.HTML object>"
      ]
     },
     "metadata": {},
     "output_type": "display_data"
    },
    {
     "data": {
      "text/html": [
       "<p style=\"color: teal; margin-bottom: 10px; overflow: hidden;\">*fzf, *zff</p>"
      ],
      "text/plain": [
       "<IPython.core.display.HTML object>"
      ]
     },
     "metadata": {},
     "output_type": "display_data"
    },
    {
     "data": {
      "text/html": [
       "<p style=\"color: teal; margin-bottom: 0; overflow: hidden;\"><strong>Tier:</strong> i, s, u</p>"
      ],
      "text/plain": [
       "<IPython.core.display.HTML object>"
      ]
     },
     "metadata": {},
     "output_type": "display_data"
    },
    {
     "data": {
      "text/html": [
       "<p style=\"color: teal; margin-bottom: 10px; overflow: hidden;\">*ius, *siu, *usi, *uss</p>"
      ],
      "text/plain": [
       "<IPython.core.display.HTML object>"
      ]
     },
     "metadata": {},
     "output_type": "display_data"
    },
    {
     "data": {
      "text/html": [
       "<p style=\"color: teal; margin-bottom: 0; overflow: hidden;\"><strong>Tier:</strong> i, s, u, z</p>"
      ],
      "text/plain": [
       "<IPython.core.display.HTML object>"
      ]
     },
     "metadata": {},
     "output_type": "display_data"
    },
    {
     "data": {
      "text/html": [
       "<p style=\"color: teal; margin-bottom: 10px; overflow: hidden;\">*iuz, *uiz</p>"
      ],
      "text/plain": [
       "<IPython.core.display.HTML object>"
      ]
     },
     "metadata": {},
     "output_type": "display_data"
    },
    {
     "data": {
      "text/html": [
       "<p style=\"color: teal; margin-bottom: 0; overflow: hidden;\"><strong>Tier:</strong> i, s, z</p>"
      ],
      "text/plain": [
       "<IPython.core.display.HTML object>"
      ]
     },
     "metadata": {},
     "output_type": "display_data"
    },
    {
     "data": {
      "text/html": [
       "<p style=\"color: teal; margin-bottom: 10px; overflow: hidden;\">*>iz, *>sz, *iz<, *izs, *szi</p>"
      ],
      "text/plain": [
       "<IPython.core.display.HTML object>"
      ]
     },
     "metadata": {},
     "output_type": "display_data"
    },
    {
     "data": {
      "text/html": [
       "<p style=\"color: teal; margin-bottom: 0; overflow: hidden;\"><strong>Tier:</strong> i, u</p>"
      ],
      "text/plain": [
       "<IPython.core.display.HTML object>"
      ]
     },
     "metadata": {},
     "output_type": "display_data"
    },
    {
     "data": {
      "text/html": [
       "<p style=\"color: teal; margin-bottom: 10px; overflow: hidden;\">*iui, *uiu, *uui</p>"
      ],
      "text/plain": [
       "<IPython.core.display.HTML object>"
      ]
     },
     "metadata": {},
     "output_type": "display_data"
    },
    {
     "data": {
      "text/html": [
       "<p style=\"color: teal; margin-bottom: 0; overflow: hidden;\"><strong>Tier:</strong> i, u, z</p>"
      ],
      "text/plain": [
       "<IPython.core.display.HTML object>"
      ]
     },
     "metadata": {},
     "output_type": "display_data"
    },
    {
     "data": {
      "text/html": [
       "<p style=\"color: teal; margin-bottom: 10px; overflow: hidden;\">*>zi, *izu</p>"
      ],
      "text/plain": [
       "<IPython.core.display.HTML object>"
      ]
     },
     "metadata": {},
     "output_type": "display_data"
    },
    {
     "data": {
      "text/html": [
       "<p style=\"color: teal; margin-bottom: 0; overflow: hidden;\"><strong>Tier:</strong> i, z</p>"
      ],
      "text/plain": [
       "<IPython.core.display.HTML object>"
      ]
     },
     "metadata": {},
     "output_type": "display_data"
    },
    {
     "data": {
      "text/html": [
       "<p style=\"color: teal; margin-bottom: 10px; overflow: hidden;\">*iii</p>"
      ],
      "text/plain": [
       "<IPython.core.display.HTML object>"
      ]
     },
     "metadata": {},
     "output_type": "display_data"
    },
    {
     "data": {
      "text/html": [
       "<p style=\"color: teal; margin-bottom: 0; overflow: hidden;\"><strong>Tier:</strong> s, u</p>"
      ],
      "text/plain": [
       "<IPython.core.display.HTML object>"
      ]
     },
     "metadata": {},
     "output_type": "display_data"
    },
    {
     "data": {
      "text/html": [
       "<p style=\"color: teal; margin-bottom: 10px; overflow: hidden;\">*>su, *sus</p>"
      ],
      "text/plain": [
       "<IPython.core.display.HTML object>"
      ]
     },
     "metadata": {},
     "output_type": "display_data"
    },
    {
     "data": {
      "text/html": [
       "<p style=\"color: teal; margin-bottom: 0; overflow: hidden;\"><strong>Tier:</strong> s, u, z</p>"
      ],
      "text/plain": [
       "<IPython.core.display.HTML object>"
      ]
     },
     "metadata": {},
     "output_type": "display_data"
    },
    {
     "data": {
      "text/html": [
       "<p style=\"color: teal; margin-bottom: 10px; overflow: hidden;\">*suu, *usu, *zu<</p>"
      ],
      "text/plain": [
       "<IPython.core.display.HTML object>"
      ]
     },
     "metadata": {},
     "output_type": "display_data"
    },
    {
     "data": {
      "text/html": [
       "<p style=\"color: teal; margin-bottom: 0; overflow: hidden;\"><strong>Tier:</strong> u, z</p>"
      ],
      "text/plain": [
       "<IPython.core.display.HTML object>"
      ]
     },
     "metadata": {},
     "output_type": "display_data"
    },
    {
     "data": {
      "text/html": [
       "<p style=\"color: teal; margin-bottom: 10px; overflow: hidden;\">*uuz, *uzz</p>"
      ],
      "text/plain": [
       "<IPython.core.display.HTML object>"
      ]
     },
     "metadata": {},
     "output_type": "display_data"
    },
    {
     "name": "stdout",
     "output_type": "stream",
     "text": [
      "\n"
     ]
    },
    {
     "data": {
      "text/html": [
       "<h2>Brute force</h2>"
      ],
      "text/plain": [
       "<IPython.core.display.HTML object>"
      ]
     },
     "metadata": {},
     "output_type": "display_data"
    },
    {
     "data": {
      "text/html": [
       "<p style=\"color: purple; margin-bottom: 0; overflow: hidden;\"><strong>Tier:</strong> a, f</p>"
      ],
      "text/plain": [
       "<IPython.core.display.HTML object>"
      ]
     },
     "metadata": {},
     "output_type": "display_data"
    },
    {
     "data": {
      "text/html": [
       "<p style=\"color: purple; margin-bottom: 10px; overflow: hidden;\">*aaf, *af<</p>"
      ],
      "text/plain": [
       "<IPython.core.display.HTML object>"
      ]
     },
     "metadata": {},
     "output_type": "display_data"
    },
    {
     "data": {
      "text/html": [
       "<p style=\"color: purple; margin-bottom: 0; overflow: hidden;\"><strong>Tier:</strong> a, f, i</p>"
      ],
      "text/plain": [
       "<IPython.core.display.HTML object>"
      ]
     },
     "metadata": {},
     "output_type": "display_data"
    },
    {
     "data": {
      "text/html": [
       "<p style=\"color: purple; margin-bottom: 10px; overflow: hidden;\">*afi, *aia, *fa<, *ffi, *fi<, *fif, *fii, *iaf, *ifa</p>"
      ],
      "text/plain": [
       "<IPython.core.display.HTML object>"
      ]
     },
     "metadata": {},
     "output_type": "display_data"
    },
    {
     "data": {
      "text/html": [
       "<p style=\"color: purple; margin-bottom: 0; overflow: hidden;\"><strong>Tier:</strong> a, f, i, s</p>"
      ],
      "text/plain": [
       "<IPython.core.display.HTML object>"
      ]
     },
     "metadata": {},
     "output_type": "display_data"
    },
    {
     "data": {
      "text/html": [
       "<p style=\"color: purple; margin-bottom: 10px; overflow: hidden;\">*>ai, *>ss, *fia, *fsi</p>"
      ],
      "text/plain": [
       "<IPython.core.display.HTML object>"
      ]
     },
     "metadata": {},
     "output_type": "display_data"
    },
    {
     "data": {
      "text/html": [
       "<p style=\"color: purple; margin-bottom: 0; overflow: hidden;\"><strong>Tier:</strong> a, f, i, s, u</p>"
      ],
      "text/plain": [
       "<IPython.core.display.HTML object>"
      ]
     },
     "metadata": {},
     "output_type": "display_data"
    },
    {
     "data": {
      "text/html": [
       "<p style=\"color: purple; margin-bottom: 10px; overflow: hidden;\">*>us, *aiu, *ua<</p>"
      ],
      "text/plain": [
       "<IPython.core.display.HTML object>"
      ]
     },
     "metadata": {},
     "output_type": "display_data"
    },
    {
     "data": {
      "text/html": [
       "<p style=\"color: purple; margin-bottom: 0; overflow: hidden;\"><strong>Tier:</strong> a, f, i, s, u, z</p>"
      ],
      "text/plain": [
       "<IPython.core.display.HTML object>"
      ]
     },
     "metadata": {},
     "output_type": "display_data"
    },
    {
     "data": {
      "text/html": [
       "<p style=\"color: purple; margin-bottom: 10px; overflow: hidden;\">*zas</p>"
      ],
      "text/plain": [
       "<IPython.core.display.HTML object>"
      ]
     },
     "metadata": {},
     "output_type": "display_data"
    },
    {
     "data": {
      "text/html": [
       "<p style=\"color: purple; margin-bottom: 0; overflow: hidden;\"><strong>Tier:</strong> a, f, i, s, z</p>"
      ],
      "text/plain": [
       "<IPython.core.display.HTML object>"
      ]
     },
     "metadata": {},
     "output_type": "display_data"
    },
    {
     "data": {
      "text/html": [
       "<p style=\"color: purple; margin-bottom: 10px; overflow: hidden;\">*>zs, *zis</p>"
      ],
      "text/plain": [
       "<IPython.core.display.HTML object>"
      ]
     },
     "metadata": {},
     "output_type": "display_data"
    },
    {
     "data": {
      "text/html": [
       "<p style=\"color: purple; margin-bottom: 0; overflow: hidden;\"><strong>Tier:</strong> a, f, i, u</p>"
      ],
      "text/plain": [
       "<IPython.core.display.HTML object>"
      ]
     },
     "metadata": {},
     "output_type": "display_data"
    },
    {
     "data": {
      "text/html": [
       "<p style=\"color: purple; margin-bottom: 10px; overflow: hidden;\">*>u<, *afu, *iua</p>"
      ],
      "text/plain": [
       "<IPython.core.display.HTML object>"
      ]
     },
     "metadata": {},
     "output_type": "display_data"
    },
    {
     "data": {
      "text/html": [
       "<p style=\"color: purple; margin-bottom: 0; overflow: hidden;\"><strong>Tier:</strong> a, f, i, z</p>"
      ],
      "text/plain": [
       "<IPython.core.display.HTML object>"
      ]
     },
     "metadata": {},
     "output_type": "display_data"
    },
    {
     "data": {
      "text/html": [
       "<p style=\"color: purple; margin-bottom: 10px; overflow: hidden;\">*faz, *fiz, *zfa</p>"
      ],
      "text/plain": [
       "<IPython.core.display.HTML object>"
      ]
     },
     "metadata": {},
     "output_type": "display_data"
    },
    {
     "data": {
      "text/html": [
       "<p style=\"color: purple; margin-bottom: 0; overflow: hidden;\"><strong>Tier:</strong> a, f, s</p>"
      ],
      "text/plain": [
       "<IPython.core.display.HTML object>"
      ]
     },
     "metadata": {},
     "output_type": "display_data"
    },
    {
     "data": {
      "text/html": [
       "<p style=\"color: purple; margin-bottom: 10px; overflow: hidden;\">*afa, *asa, *asf, *fas, *fff, *fss, *saf, *sfa</p>"
      ],
      "text/plain": [
       "<IPython.core.display.HTML object>"
      ]
     },
     "metadata": {},
     "output_type": "display_data"
    },
    {
     "data": {
      "text/html": [
       "<p style=\"color: purple; margin-bottom: 0; overflow: hidden;\"><strong>Tier:</strong> a, f, s, u</p>"
      ],
      "text/plain": [
       "<IPython.core.display.HTML object>"
      ]
     },
     "metadata": {},
     "output_type": "display_data"
    },
    {
     "data": {
      "text/html": [
       "<p style=\"color: purple; margin-bottom: 10px; overflow: hidden;\">*>aa, *fus</p>"
      ],
      "text/plain": [
       "<IPython.core.display.HTML object>"
      ]
     },
     "metadata": {},
     "output_type": "display_data"
    },
    {
     "data": {
      "text/html": [
       "<p style=\"color: purple; margin-bottom: 0; overflow: hidden;\"><strong>Tier:</strong> a, f, s, z</p>"
      ],
      "text/plain": [
       "<IPython.core.display.HTML object>"
      ]
     },
     "metadata": {},
     "output_type": "display_data"
    },
    {
     "data": {
      "text/html": [
       "<p style=\"color: purple; margin-bottom: 10px; overflow: hidden;\">*fsz, *fzs, *zsa, *zzs</p>"
      ],
      "text/plain": [
       "<IPython.core.display.HTML object>"
      ]
     },
     "metadata": {},
     "output_type": "display_data"
    },
    {
     "data": {
      "text/html": [
       "<p style=\"color: purple; margin-bottom: 0; overflow: hidden;\"><strong>Tier:</strong> a, f, u</p>"
      ],
      "text/plain": [
       "<IPython.core.display.HTML object>"
      ]
     },
     "metadata": {},
     "output_type": "display_data"
    },
    {
     "data": {
      "text/html": [
       "<p style=\"color: purple; margin-bottom: 10px; overflow: hidden;\">*>fu, *auf, *fau, *ffu, *fu<, *fua, *uaf, *uff</p>"
      ],
      "text/plain": [
       "<IPython.core.display.HTML object>"
      ]
     },
     "metadata": {},
     "output_type": "display_data"
    },
    {
     "data": {
      "text/html": [
       "<p style=\"color: purple; margin-bottom: 0; overflow: hidden;\"><strong>Tier:</strong> a, f, u, z</p>"
      ],
      "text/plain": [
       "<IPython.core.display.HTML object>"
      ]
     },
     "metadata": {},
     "output_type": "display_data"
    },
    {
     "data": {
      "text/html": [
       "<p style=\"color: purple; margin-bottom: 10px; overflow: hidden;\">*fzu</p>"
      ],
      "text/plain": [
       "<IPython.core.display.HTML object>"
      ]
     },
     "metadata": {},
     "output_type": "display_data"
    },
    {
     "data": {
      "text/html": [
       "<p style=\"color: purple; margin-bottom: 0; overflow: hidden;\"><strong>Tier:</strong> a, f, z</p>"
      ],
      "text/plain": [
       "<IPython.core.display.HTML object>"
      ]
     },
     "metadata": {},
     "output_type": "display_data"
    },
    {
     "data": {
      "text/html": [
       "<p style=\"color: purple; margin-bottom: 10px; overflow: hidden;\">*>af, *>fa, *afz, *azf, *faa, *fzz, *zfz</p>"
      ],
      "text/plain": [
       "<IPython.core.display.HTML object>"
      ]
     },
     "metadata": {},
     "output_type": "display_data"
    },
    {
     "data": {
      "text/html": [
       "<p style=\"color: purple; margin-bottom: 0; overflow: hidden;\"><strong>Tier:</strong> a, i, s</p>"
      ],
      "text/plain": [
       "<IPython.core.display.HTML object>"
      ]
     },
     "metadata": {},
     "output_type": "display_data"
    },
    {
     "data": {
      "text/html": [
       "<p style=\"color: purple; margin-bottom: 10px; overflow: hidden;\">*>ia, *>sa, *aa<, *iai, *ias, *isi, *sa<, *saa, *sas, *sii, *sis, *ssi</p>"
      ],
      "text/plain": [
       "<IPython.core.display.HTML object>"
      ]
     },
     "metadata": {},
     "output_type": "display_data"
    },
    {
     "data": {
      "text/html": [
       "<p style=\"color: purple; margin-bottom: 0; overflow: hidden;\"><strong>Tier:</strong> a, i, s, u</p>"
      ],
      "text/plain": [
       "<IPython.core.display.HTML object>"
      ]
     },
     "metadata": {},
     "output_type": "display_data"
    },
    {
     "data": {
      "text/html": [
       "<p style=\"color: purple; margin-bottom: 10px; overflow: hidden;\">*aas, *asu, *iu<, *sui</p>"
      ],
      "text/plain": [
       "<IPython.core.display.HTML object>"
      ]
     },
     "metadata": {},
     "output_type": "display_data"
    },
    {
     "data": {
      "text/html": [
       "<p style=\"color: purple; margin-bottom: 0; overflow: hidden;\"><strong>Tier:</strong> a, i, s, z</p>"
      ],
      "text/plain": [
       "<IPython.core.display.HTML object>"
      ]
     },
     "metadata": {},
     "output_type": "display_data"
    },
    {
     "data": {
      "text/html": [
       "<p style=\"color: purple; margin-bottom: 10px; overflow: hidden;\">*aiz, *asi, *ass, *iaz, *si<, *sia, *sza, *zsi</p>"
      ],
      "text/plain": [
       "<IPython.core.display.HTML object>"
      ]
     },
     "metadata": {},
     "output_type": "display_data"
    },
    {
     "data": {
      "text/html": [
       "<p style=\"color: purple; margin-bottom: 0; overflow: hidden;\"><strong>Tier:</strong> a, i, u</p>"
      ],
      "text/plain": [
       "<IPython.core.display.HTML object>"
      ]
     },
     "metadata": {},
     "output_type": "display_data"
    },
    {
     "data": {
      "text/html": [
       "<p style=\"color: purple; margin-bottom: 10px; overflow: hidden;\">*>a<, *>i<, *>ii, *>uu, *iau, *iiu, *uia</p>"
      ],
      "text/plain": [
       "<IPython.core.display.HTML object>"
      ]
     },
     "metadata": {},
     "output_type": "display_data"
    },
    {
     "data": {
      "text/html": [
       "<p style=\"color: purple; margin-bottom: 0; overflow: hidden;\"><strong>Tier:</strong> a, i, u, z</p>"
      ],
      "text/plain": [
       "<IPython.core.display.HTML object>"
      ]
     },
     "metadata": {},
     "output_type": "display_data"
    },
    {
     "data": {
      "text/html": [
       "<p style=\"color: purple; margin-bottom: 10px; overflow: hidden;\">*au<, *uza, *ziu, *zui</p>"
      ],
      "text/plain": [
       "<IPython.core.display.HTML object>"
      ]
     },
     "metadata": {},
     "output_type": "display_data"
    },
    {
     "data": {
      "text/html": [
       "<p style=\"color: purple; margin-bottom: 0; overflow: hidden;\"><strong>Tier:</strong> a, i, z</p>"
      ],
      "text/plain": [
       "<IPython.core.display.HTML object>"
      ]
     },
     "metadata": {},
     "output_type": "display_data"
    },
    {
     "data": {
      "text/html": [
       "<p style=\"color: purple; margin-bottom: 10px; overflow: hidden;\">*aii, *azi, *iaa, *iia, *izz, *za<, *ziz, *zz<</p>"
      ],
      "text/plain": [
       "<IPython.core.display.HTML object>"
      ]
     },
     "metadata": {},
     "output_type": "display_data"
    },
    {
     "data": {
      "text/html": [
       "<p style=\"color: purple; margin-bottom: 0; overflow: hidden;\"><strong>Tier:</strong> a, s</p>"
      ],
      "text/plain": [
       "<IPython.core.display.HTML object>"
      ]
     },
     "metadata": {},
     "output_type": "display_data"
    },
    {
     "data": {
      "text/html": [
       "<p style=\"color: purple; margin-bottom: 10px; overflow: hidden;\">*sss</p>"
      ],
      "text/plain": [
       "<IPython.core.display.HTML object>"
      ]
     },
     "metadata": {},
     "output_type": "display_data"
    },
    {
     "data": {
      "text/html": [
       "<p style=\"color: purple; margin-bottom: 0; overflow: hidden;\"><strong>Tier:</strong> a, s, u</p>"
      ],
      "text/plain": [
       "<IPython.core.display.HTML object>"
      ]
     },
     "metadata": {},
     "output_type": "display_data"
    },
    {
     "data": {
      "text/html": [
       "<p style=\"color: purple; margin-bottom: 10px; overflow: hidden;\">*auu, *ssu, *sua, *usa, *uus</p>"
      ],
      "text/plain": [
       "<IPython.core.display.HTML object>"
      ]
     },
     "metadata": {},
     "output_type": "display_data"
    },
    {
     "data": {
      "text/html": [
       "<p style=\"color: purple; margin-bottom: 0; overflow: hidden;\"><strong>Tier:</strong> a, s, u, z</p>"
      ],
      "text/plain": [
       "<IPython.core.display.HTML object>"
      ]
     },
     "metadata": {},
     "output_type": "display_data"
    },
    {
     "data": {
      "text/html": [
       "<p style=\"color: purple; margin-bottom: 10px; overflow: hidden;\">*asz, *su<, *uzu, *zsu</p>"
      ],
      "text/plain": [
       "<IPython.core.display.HTML object>"
      ]
     },
     "metadata": {},
     "output_type": "display_data"
    },
    {
     "data": {
      "text/html": [
       "<p style=\"color: purple; margin-bottom: 0; overflow: hidden;\"><strong>Tier:</strong> a, s, z</p>"
      ],
      "text/plain": [
       "<IPython.core.display.HTML object>"
      ]
     },
     "metadata": {},
     "output_type": "display_data"
    },
    {
     "data": {
      "text/html": [
       "<p style=\"color: purple; margin-bottom: 10px; overflow: hidden;\">*>as, *zzz</p>"
      ],
      "text/plain": [
       "<IPython.core.display.HTML object>"
      ]
     },
     "metadata": {},
     "output_type": "display_data"
    },
    {
     "data": {
      "text/html": [
       "<p style=\"color: purple; margin-bottom: 0; overflow: hidden;\"><strong>Tier:</strong> a, u</p>"
      ],
      "text/plain": [
       "<IPython.core.display.HTML object>"
      ]
     },
     "metadata": {},
     "output_type": "display_data"
    },
    {
     "data": {
      "text/html": [
       "<p style=\"color: purple; margin-bottom: 10px; overflow: hidden;\">*aaa, *uua</p>"
      ],
      "text/plain": [
       "<IPython.core.display.HTML object>"
      ]
     },
     "metadata": {},
     "output_type": "display_data"
    },
    {
     "data": {
      "text/html": [
       "<p style=\"color: purple; margin-bottom: 0; overflow: hidden;\"><strong>Tier:</strong> a, u, z</p>"
      ],
      "text/plain": [
       "<IPython.core.display.HTML object>"
      ]
     },
     "metadata": {},
     "output_type": "display_data"
    },
    {
     "data": {
      "text/html": [
       "<p style=\"color: purple; margin-bottom: 10px; overflow: hidden;\">*>zu, *az<, *uau, *zuz</p>"
      ],
      "text/plain": [
       "<IPython.core.display.HTML object>"
      ]
     },
     "metadata": {},
     "output_type": "display_data"
    },
    {
     "data": {
      "text/html": [
       "<p style=\"color: purple; margin-bottom: 0; overflow: hidden;\"><strong>Tier:</strong> a, z</p>"
      ],
      "text/plain": [
       "<IPython.core.display.HTML object>"
      ]
     },
     "metadata": {},
     "output_type": "display_data"
    },
    {
     "data": {
      "text/html": [
       "<p style=\"color: purple; margin-bottom: 10px; overflow: hidden;\">*aaz</p>"
      ],
      "text/plain": [
       "<IPython.core.display.HTML object>"
      ]
     },
     "metadata": {},
     "output_type": "display_data"
    },
    {
     "data": {
      "text/html": [
       "<p style=\"color: purple; margin-bottom: 0; overflow: hidden;\"><strong>Tier:</strong> f, i</p>"
      ],
      "text/plain": [
       "<IPython.core.display.HTML object>"
      ]
     },
     "metadata": {},
     "output_type": "display_data"
    },
    {
     "data": {
      "text/html": [
       "<p style=\"color: purple; margin-bottom: 10px; overflow: hidden;\">*>if, *if<, *ifi, *iif</p>"
      ],
      "text/plain": [
       "<IPython.core.display.HTML object>"
      ]
     },
     "metadata": {},
     "output_type": "display_data"
    },
    {
     "data": {
      "text/html": [
       "<p style=\"color: purple; margin-bottom: 0; overflow: hidden;\"><strong>Tier:</strong> f, i, s</p>"
      ],
      "text/plain": [
       "<IPython.core.display.HTML object>"
      ]
     },
     "metadata": {},
     "output_type": "display_data"
    },
    {
     "data": {
      "text/html": [
       "<p style=\"color: purple; margin-bottom: 10px; overflow: hidden;\">*ifs, *isf, *sfi, *sif</p>"
      ],
      "text/plain": [
       "<IPython.core.display.HTML object>"
      ]
     },
     "metadata": {},
     "output_type": "display_data"
    },
    {
     "data": {
      "text/html": [
       "<p style=\"color: purple; margin-bottom: 0; overflow: hidden;\"><strong>Tier:</strong> f, i, s, u</p>"
      ],
      "text/plain": [
       "<IPython.core.display.HTML object>"
      ]
     },
     "metadata": {},
     "output_type": "display_data"
    },
    {
     "data": {
      "text/html": [
       "<p style=\"color: purple; margin-bottom: 10px; overflow: hidden;\">*>is</p>"
      ],
      "text/plain": [
       "<IPython.core.display.HTML object>"
      ]
     },
     "metadata": {},
     "output_type": "display_data"
    },
    {
     "data": {
      "text/html": [
       "<p style=\"color: purple; margin-bottom: 0; overflow: hidden;\"><strong>Tier:</strong> f, i, s, u, z</p>"
      ],
      "text/plain": [
       "<IPython.core.display.HTML object>"
      ]
     },
     "metadata": {},
     "output_type": "display_data"
    },
    {
     "data": {
      "text/html": [
       "<p style=\"color: purple; margin-bottom: 10px; overflow: hidden;\">*uzs</p>"
      ],
      "text/plain": [
       "<IPython.core.display.HTML object>"
      ]
     },
     "metadata": {},
     "output_type": "display_data"
    },
    {
     "data": {
      "text/html": [
       "<p style=\"color: purple; margin-bottom: 0; overflow: hidden;\"><strong>Tier:</strong> f, i, u</p>"
      ],
      "text/plain": [
       "<IPython.core.display.HTML object>"
      ]
     },
     "metadata": {},
     "output_type": "display_data"
    },
    {
     "data": {
      "text/html": [
       "<p style=\"color: purple; margin-bottom: 10px; overflow: hidden;\">*fiu, *fui, *iff, *iuf, *ufi, *uif</p>"
      ],
      "text/plain": [
       "<IPython.core.display.HTML object>"
      ]
     },
     "metadata": {},
     "output_type": "display_data"
    },
    {
     "data": {
      "text/html": [
       "<p style=\"color: purple; margin-bottom: 0; overflow: hidden;\"><strong>Tier:</strong> f, i, z</p>"
      ],
      "text/plain": [
       "<IPython.core.display.HTML object>"
      ]
     },
     "metadata": {},
     "output_type": "display_data"
    },
    {
     "data": {
      "text/html": [
       "<p style=\"color: purple; margin-bottom: 10px; overflow: hidden;\">*>fi, *fzi, *ifz, *izf, *zif</p>"
      ],
      "text/plain": [
       "<IPython.core.display.HTML object>"
      ]
     },
     "metadata": {},
     "output_type": "display_data"
    },
    {
     "data": {
      "text/html": [
       "<p style=\"color: purple; margin-bottom: 0; overflow: hidden;\"><strong>Tier:</strong> f, s</p>"
      ],
      "text/plain": [
       "<IPython.core.display.HTML object>"
      ]
     },
     "metadata": {},
     "output_type": "display_data"
    },
    {
     "data": {
      "text/html": [
       "<p style=\"color: purple; margin-bottom: 10px; overflow: hidden;\">*>f<, *>sf, *ffs, *sff, *ssf</p>"
      ],
      "text/plain": [
       "<IPython.core.display.HTML object>"
      ]
     },
     "metadata": {},
     "output_type": "display_data"
    },
    {
     "data": {
      "text/html": [
       "<p style=\"color: purple; margin-bottom: 0; overflow: hidden;\"><strong>Tier:</strong> f, s, u</p>"
      ],
      "text/plain": [
       "<IPython.core.display.HTML object>"
      ]
     },
     "metadata": {},
     "output_type": "display_data"
    },
    {
     "data": {
      "text/html": [
       "<p style=\"color: purple; margin-bottom: 10px; overflow: hidden;\">*fsu, *sfu, *suf, *uf<, *usf</p>"
      ],
      "text/plain": [
       "<IPython.core.display.HTML object>"
      ]
     },
     "metadata": {},
     "output_type": "display_data"
    },
    {
     "data": {
      "text/html": [
       "<p style=\"color: purple; margin-bottom: 0; overflow: hidden;\"><strong>Tier:</strong> f, s, u, z</p>"
      ],
      "text/plain": [
       "<IPython.core.display.HTML object>"
      ]
     },
     "metadata": {},
     "output_type": "display_data"
    },
    {
     "data": {
      "text/html": [
       "<p style=\"color: purple; margin-bottom: 10px; overflow: hidden;\">*sz<, *ufs</p>"
      ],
      "text/plain": [
       "<IPython.core.display.HTML object>"
      ]
     },
     "metadata": {},
     "output_type": "display_data"
    },
    {
     "data": {
      "text/html": [
       "<p style=\"color: purple; margin-bottom: 0; overflow: hidden;\"><strong>Tier:</strong> f, s, z</p>"
      ],
      "text/plain": [
       "<IPython.core.display.HTML object>"
      ]
     },
     "metadata": {},
     "output_type": "display_data"
    },
    {
     "data": {
      "text/html": [
       "<p style=\"color: purple; margin-bottom: 10px; overflow: hidden;\">*ffz, *sf<, *ssz, *szf, *zf<, *zsf</p>"
      ],
      "text/plain": [
       "<IPython.core.display.HTML object>"
      ]
     },
     "metadata": {},
     "output_type": "display_data"
    },
    {
     "data": {
      "text/html": [
       "<p style=\"color: purple; margin-bottom: 0; overflow: hidden;\"><strong>Tier:</strong> f, u</p>"
      ],
      "text/plain": [
       "<IPython.core.display.HTML object>"
      ]
     },
     "metadata": {},
     "output_type": "display_data"
    },
    {
     "data": {
      "text/html": [
       "<p style=\"color: purple; margin-bottom: 10px; overflow: hidden;\">*fuu, *ufu, *uuf</p>"
      ],
      "text/plain": [
       "<IPython.core.display.HTML object>"
      ]
     },
     "metadata": {},
     "output_type": "display_data"
    },
    {
     "data": {
      "text/html": [
       "<p style=\"color: purple; margin-bottom: 0; overflow: hidden;\"><strong>Tier:</strong> f, u, z</p>"
      ],
      "text/plain": [
       "<IPython.core.display.HTML object>"
      ]
     },
     "metadata": {},
     "output_type": "display_data"
    },
    {
     "data": {
      "text/html": [
       "<p style=\"color: purple; margin-bottom: 10px; overflow: hidden;\">*>uf, *>zf, *fuz, *ufz, *zfu, *zuf</p>"
      ],
      "text/plain": [
       "<IPython.core.display.HTML object>"
      ]
     },
     "metadata": {},
     "output_type": "display_data"
    },
    {
     "data": {
      "text/html": [
       "<p style=\"color: purple; margin-bottom: 0; overflow: hidden;\"><strong>Tier:</strong> f, z</p>"
      ],
      "text/plain": [
       "<IPython.core.display.HTML object>"
      ]
     },
     "metadata": {},
     "output_type": "display_data"
    },
    {
     "data": {
      "text/html": [
       "<p style=\"color: purple; margin-bottom: 10px; overflow: hidden;\">*fzf, *zff</p>"
      ],
      "text/plain": [
       "<IPython.core.display.HTML object>"
      ]
     },
     "metadata": {},
     "output_type": "display_data"
    },
    {
     "data": {
      "text/html": [
       "<p style=\"color: purple; margin-bottom: 0; overflow: hidden;\"><strong>Tier:</strong> i, s, u</p>"
      ],
      "text/plain": [
       "<IPython.core.display.HTML object>"
      ]
     },
     "metadata": {},
     "output_type": "display_data"
    },
    {
     "data": {
      "text/html": [
       "<p style=\"color: purple; margin-bottom: 10px; overflow: hidden;\">*ius, *siu, *usi, *uss</p>"
      ],
      "text/plain": [
       "<IPython.core.display.HTML object>"
      ]
     },
     "metadata": {},
     "output_type": "display_data"
    },
    {
     "data": {
      "text/html": [
       "<p style=\"color: purple; margin-bottom: 0; overflow: hidden;\"><strong>Tier:</strong> i, s, u, z</p>"
      ],
      "text/plain": [
       "<IPython.core.display.HTML object>"
      ]
     },
     "metadata": {},
     "output_type": "display_data"
    },
    {
     "data": {
      "text/html": [
       "<p style=\"color: purple; margin-bottom: 10px; overflow: hidden;\">*iuz, *uiz</p>"
      ],
      "text/plain": [
       "<IPython.core.display.HTML object>"
      ]
     },
     "metadata": {},
     "output_type": "display_data"
    },
    {
     "data": {
      "text/html": [
       "<p style=\"color: purple; margin-bottom: 0; overflow: hidden;\"><strong>Tier:</strong> i, s, z</p>"
      ],
      "text/plain": [
       "<IPython.core.display.HTML object>"
      ]
     },
     "metadata": {},
     "output_type": "display_data"
    },
    {
     "data": {
      "text/html": [
       "<p style=\"color: purple; margin-bottom: 10px; overflow: hidden;\">*>iz, *>sz, *iz<, *izs, *szi</p>"
      ],
      "text/plain": [
       "<IPython.core.display.HTML object>"
      ]
     },
     "metadata": {},
     "output_type": "display_data"
    },
    {
     "data": {
      "text/html": [
       "<p style=\"color: purple; margin-bottom: 0; overflow: hidden;\"><strong>Tier:</strong> i, u</p>"
      ],
      "text/plain": [
       "<IPython.core.display.HTML object>"
      ]
     },
     "metadata": {},
     "output_type": "display_data"
    },
    {
     "data": {
      "text/html": [
       "<p style=\"color: purple; margin-bottom: 10px; overflow: hidden;\">*iui, *uiu, *uui</p>"
      ],
      "text/plain": [
       "<IPython.core.display.HTML object>"
      ]
     },
     "metadata": {},
     "output_type": "display_data"
    },
    {
     "data": {
      "text/html": [
       "<p style=\"color: purple; margin-bottom: 0; overflow: hidden;\"><strong>Tier:</strong> i, u, z</p>"
      ],
      "text/plain": [
       "<IPython.core.display.HTML object>"
      ]
     },
     "metadata": {},
     "output_type": "display_data"
    },
    {
     "data": {
      "text/html": [
       "<p style=\"color: purple; margin-bottom: 10px; overflow: hidden;\">*>zi, *izu</p>"
      ],
      "text/plain": [
       "<IPython.core.display.HTML object>"
      ]
     },
     "metadata": {},
     "output_type": "display_data"
    },
    {
     "data": {
      "text/html": [
       "<p style=\"color: purple; margin-bottom: 0; overflow: hidden;\"><strong>Tier:</strong> i, z</p>"
      ],
      "text/plain": [
       "<IPython.core.display.HTML object>"
      ]
     },
     "metadata": {},
     "output_type": "display_data"
    },
    {
     "data": {
      "text/html": [
       "<p style=\"color: purple; margin-bottom: 10px; overflow: hidden;\">*iii</p>"
      ],
      "text/plain": [
       "<IPython.core.display.HTML object>"
      ]
     },
     "metadata": {},
     "output_type": "display_data"
    },
    {
     "data": {
      "text/html": [
       "<p style=\"color: purple; margin-bottom: 0; overflow: hidden;\"><strong>Tier:</strong> s, u</p>"
      ],
      "text/plain": [
       "<IPython.core.display.HTML object>"
      ]
     },
     "metadata": {},
     "output_type": "display_data"
    },
    {
     "data": {
      "text/html": [
       "<p style=\"color: purple; margin-bottom: 10px; overflow: hidden;\">*>su, *sus</p>"
      ],
      "text/plain": [
       "<IPython.core.display.HTML object>"
      ]
     },
     "metadata": {},
     "output_type": "display_data"
    },
    {
     "data": {
      "text/html": [
       "<p style=\"color: purple; margin-bottom: 0; overflow: hidden;\"><strong>Tier:</strong> s, u, z</p>"
      ],
      "text/plain": [
       "<IPython.core.display.HTML object>"
      ]
     },
     "metadata": {},
     "output_type": "display_data"
    },
    {
     "data": {
      "text/html": [
       "<p style=\"color: purple; margin-bottom: 10px; overflow: hidden;\">*suu, *usu, *zu<</p>"
      ],
      "text/plain": [
       "<IPython.core.display.HTML object>"
      ]
     },
     "metadata": {},
     "output_type": "display_data"
    },
    {
     "data": {
      "text/html": [
       "<p style=\"color: purple; margin-bottom: 0; overflow: hidden;\"><strong>Tier:</strong> u, z</p>"
      ],
      "text/plain": [
       "<IPython.core.display.HTML object>"
      ]
     },
     "metadata": {},
     "output_type": "display_data"
    },
    {
     "data": {
      "text/html": [
       "<p style=\"color: purple; margin-bottom: 10px; overflow: hidden;\">*uuz, *uzz</p>"
      ],
      "text/plain": [
       "<IPython.core.display.HTML object>"
      ]
     },
     "metadata": {},
     "output_type": "display_data"
    },
    {
     "name": "stdout",
     "output_type": "stream",
     "text": [
      "\n"
     ]
    },
    {
     "data": {
      "text/html": [
       "<hr><hr>"
      ],
      "text/plain": [
       "<IPython.core.display.HTML object>"
      ]
     },
     "metadata": {},
     "output_type": "display_data"
    },
    {
     "data": {
      "text/html": [
       "<h2>Dataset</h2>"
      ],
      "text/plain": [
       "<IPython.core.display.HTML object>"
      ]
     },
     "metadata": {},
     "output_type": "display_data"
    },
    {
     "name": "stdout",
     "output_type": "stream",
     "text": [
      "iai\n",
      "iaa\n",
      "zz\n",
      "au\n",
      "iisiuusui\n",
      "aazusi\n",
      "az\n",
      "azsazazsa\n",
      "u\n",
      "saaiz\n",
      "\n"
     ]
    },
    {
     "data": {
      "text/html": [
       "<h2><em>k</em>-MTSLIA</h2>"
      ],
      "text/plain": [
       "<IPython.core.display.HTML object>"
      ]
     },
     "metadata": {},
     "output_type": "display_data"
    },
    {
     "data": {
      "text/html": [
       "<p style=\"color: teal; margin-bottom: 0; overflow: hidden;\"><strong>Tier:</strong> a, i</p>"
      ],
      "text/plain": [
       "<IPython.core.display.HTML object>"
      ]
     },
     "metadata": {},
     "output_type": "display_data"
    },
    {
     "data": {
      "text/html": [
       "<p style=\"color: teal; margin-bottom: 10px; overflow: hidden;\">*>ai, *>i<, *aia, *aii, *ia<, *iia</p>"
      ],
      "text/plain": [
       "<IPython.core.display.HTML object>"
      ]
     },
     "metadata": {},
     "output_type": "display_data"
    },
    {
     "data": {
      "text/html": [
       "<p style=\"color: teal; margin-bottom: 0; overflow: hidden;\"><strong>Tier:</strong> a, i, s</p>"
      ],
      "text/plain": [
       "<IPython.core.display.HTML object>"
      ]
     },
     "metadata": {},
     "output_type": "display_data"
    },
    {
     "data": {
      "text/html": [
       "<p style=\"color: teal; margin-bottom: 10px; overflow: hidden;\">*>si, *>ss, *ais, *as<, *ias, *ii<, *isa, *s<<, *sai, *sia, *ss<</p>"
      ],
      "text/plain": [
       "<IPython.core.display.HTML object>"
      ]
     },
     "metadata": {},
     "output_type": "display_data"
    },
    {
     "data": {
      "text/html": [
       "<p style=\"color: teal; margin-bottom: 0; overflow: hidden;\"><strong>Tier:</strong> a, i, s, u</p>"
      ],
      "text/plain": [
       "<IPython.core.display.HTML object>"
      ]
     },
     "metadata": {},
     "output_type": "display_data"
    },
    {
     "data": {
      "text/html": [
       "<p style=\"color: teal; margin-bottom: 10px; overflow: hidden;\">*asi, *aui</p>"
      ],
      "text/plain": [
       "<IPython.core.display.HTML object>"
      ]
     },
     "metadata": {},
     "output_type": "display_data"
    },
    {
     "data": {
      "text/html": [
       "<p style=\"color: teal; margin-bottom: 0; overflow: hidden;\"><strong>Tier:</strong> a, i, s, z</p>"
      ],
      "text/plain": [
       "<IPython.core.display.HTML object>"
      ]
     },
     "metadata": {},
     "output_type": "display_data"
    },
    {
     "data": {
      "text/html": [
       "<p style=\"color: teal; margin-bottom: 10px; overflow: hidden;\">*azi, *siz, *zs<</p>"
      ],
      "text/plain": [
       "<IPython.core.display.HTML object>"
      ]
     },
     "metadata": {},
     "output_type": "display_data"
    },
    {
     "data": {
      "text/html": [
       "<p style=\"color: teal; margin-bottom: 0; overflow: hidden;\"><strong>Tier:</strong> a, i, u</p>"
      ],
      "text/plain": [
       "<IPython.core.display.HTML object>"
      ]
     },
     "metadata": {},
     "output_type": "display_data"
    },
    {
     "data": {
      "text/html": [
       "<p style=\"color: teal; margin-bottom: 10px; overflow: hidden;\">*>ui, *aiu, *iau, *iua, *uai, *uia</p>"
      ],
      "text/plain": [
       "<IPython.core.display.HTML object>"
      ]
     },
     "metadata": {},
     "output_type": "display_data"
    },
    {
     "data": {
      "text/html": [
       "<p style=\"color: teal; margin-bottom: 0; overflow: hidden;\"><strong>Tier:</strong> a, i, u, z</p>"
      ],
      "text/plain": [
       "<IPython.core.display.HTML object>"
      ]
     },
     "metadata": {},
     "output_type": "display_data"
    },
    {
     "data": {
      "text/html": [
       "<p style=\"color: teal; margin-bottom: 10px; overflow: hidden;\">*>a<</p>"
      ],
      "text/plain": [
       "<IPython.core.display.HTML object>"
      ]
     },
     "metadata": {},
     "output_type": "display_data"
    },
    {
     "data": {
      "text/html": [
       "<p style=\"color: teal; margin-bottom: 0; overflow: hidden;\"><strong>Tier:</strong> a, i, z</p>"
      ],
      "text/plain": [
       "<IPython.core.display.HTML object>"
      ]
     },
     "metadata": {},
     "output_type": "display_data"
    },
    {
     "data": {
      "text/html": [
       "<p style=\"color: teal; margin-bottom: 10px; overflow: hidden;\">*>iz, *>zi, *iaz, *iza, *zai, *zia</p>"
      ],
      "text/plain": [
       "<IPython.core.display.HTML object>"
      ]
     },
     "metadata": {},
     "output_type": "display_data"
    },
    {
     "data": {
      "text/html": [
       "<p style=\"color: teal; margin-bottom: 0; overflow: hidden;\"><strong>Tier:</strong> a, s</p>"
      ],
      "text/plain": [
       "<IPython.core.display.HTML object>"
      ]
     },
     "metadata": {},
     "output_type": "display_data"
    },
    {
     "data": {
      "text/html": [
       "<p style=\"color: teal; margin-bottom: 10px; overflow: hidden;\">*>s<, *aaa, *ass, *sas, *ssa</p>"
      ],
      "text/plain": [
       "<IPython.core.display.HTML object>"
      ]
     },
     "metadata": {},
     "output_type": "display_data"
    },
    {
     "data": {
      "text/html": [
       "<p style=\"color: teal; margin-bottom: 0; overflow: hidden;\"><strong>Tier:</strong> a, s, u</p>"
      ],
      "text/plain": [
       "<IPython.core.display.HTML object>"
      ]
     },
     "metadata": {},
     "output_type": "display_data"
    },
    {
     "data": {
      "text/html": [
       "<p style=\"color: teal; margin-bottom: 10px; overflow: hidden;\">*>us, *asu, *sau, *sua, *uas, *usa</p>"
      ],
      "text/plain": [
       "<IPython.core.display.HTML object>"
      ]
     },
     "metadata": {},
     "output_type": "display_data"
    },
    {
     "data": {
      "text/html": [
       "<p style=\"color: teal; margin-bottom: 0; overflow: hidden;\"><strong>Tier:</strong> a, s, u, z</p>"
      ],
      "text/plain": [
       "<IPython.core.display.HTML object>"
      ]
     },
     "metadata": {},
     "output_type": "display_data"
    },
    {
     "data": {
      "text/html": [
       "<p style=\"color: teal; margin-bottom: 10px; overflow: hidden;\">*aus</p>"
      ],
      "text/plain": [
       "<IPython.core.display.HTML object>"
      ]
     },
     "metadata": {},
     "output_type": "display_data"
    },
    {
     "data": {
      "text/html": [
       "<p style=\"color: teal; margin-bottom: 0; overflow: hidden;\"><strong>Tier:</strong> a, s, z</p>"
      ],
      "text/plain": [
       "<IPython.core.display.HTML object>"
      ]
     },
     "metadata": {},
     "output_type": "display_data"
    },
    {
     "data": {
      "text/html": [
       "<p style=\"color: teal; margin-bottom: 10px; overflow: hidden;\">*>as, *>sz, *>zs, *aas, *asa, *asz, *sz<, *sza, *szz, *za<, *zas, *zsz, *zzs</p>"
      ],
      "text/plain": [
       "<IPython.core.display.HTML object>"
      ]
     },
     "metadata": {},
     "output_type": "display_data"
    },
    {
     "data": {
      "text/html": [
       "<p style=\"color: teal; margin-bottom: 0; overflow: hidden;\"><strong>Tier:</strong> a, u</p>"
      ],
      "text/plain": [
       "<IPython.core.display.HTML object>"
      ]
     },
     "metadata": {},
     "output_type": "display_data"
    },
    {
     "data": {
      "text/html": [
       "<p style=\"color: teal; margin-bottom: 10px; overflow: hidden;\">*>ua, *aua, *auu, *ua<, *uaa, *uau, *uua</p>"
      ],
      "text/plain": [
       "<IPython.core.display.HTML object>"
      ]
     },
     "metadata": {},
     "output_type": "display_data"
    },
    {
     "data": {
      "text/html": [
       "<p style=\"color: teal; margin-bottom: 0; overflow: hidden;\"><strong>Tier:</strong> a, u, z</p>"
      ],
      "text/plain": [
       "<IPython.core.display.HTML object>"
      ]
     },
     "metadata": {},
     "output_type": "display_data"
    },
    {
     "data": {
      "text/html": [
       "<p style=\"color: teal; margin-bottom: 10px; overflow: hidden;\">*>zu, *aau, *auz, *uaz, *uza, *zau, *zua</p>"
      ],
      "text/plain": [
       "<IPython.core.display.HTML object>"
      ]
     },
     "metadata": {},
     "output_type": "display_data"
    },
    {
     "data": {
      "text/html": [
       "<p style=\"color: teal; margin-bottom: 0; overflow: hidden;\"><strong>Tier:</strong> a, z</p>"
      ],
      "text/plain": [
       "<IPython.core.display.HTML object>"
      ]
     },
     "metadata": {},
     "output_type": "display_data"
    },
    {
     "data": {
      "text/html": [
       "<p style=\"color: teal; margin-bottom: 10px; overflow: hidden;\">*>z<, *>za, *azz, *zaa, *zza, *zzz</p>"
      ],
      "text/plain": [
       "<IPython.core.display.HTML object>"
      ]
     },
     "metadata": {},
     "output_type": "display_data"
    },
    {
     "data": {
      "text/html": [
       "<p style=\"color: teal; margin-bottom: 0; overflow: hidden;\"><strong>Tier:</strong> i, s</p>"
      ],
      "text/plain": [
       "<IPython.core.display.HTML object>"
      ]
     },
     "metadata": {},
     "output_type": "display_data"
    },
    {
     "data": {
      "text/html": [
       "<p style=\"color: teal; margin-bottom: 10px; overflow: hidden;\">*>is, *iii, *is<, *iss, *sii, *ssi</p>"
      ],
      "text/plain": [
       "<IPython.core.display.HTML object>"
      ]
     },
     "metadata": {},
     "output_type": "display_data"
    },
    {
     "data": {
      "text/html": [
       "<p style=\"color: teal; margin-bottom: 0; overflow: hidden;\"><strong>Tier:</strong> i, s, u</p>"
      ],
      "text/plain": [
       "<IPython.core.display.HTML object>"
      ]
     },
     "metadata": {},
     "output_type": "display_data"
    },
    {
     "data": {
      "text/html": [
       "<p style=\"color: teal; margin-bottom: 10px; overflow: hidden;\">*>su, *iiu, *isu, *ius, *sis, *su<, *suu, *uis, *us<, *uui</p>"
      ],
      "text/plain": [
       "<IPython.core.display.HTML object>"
      ]
     },
     "metadata": {},
     "output_type": "display_data"
    },
    {
     "data": {
      "text/html": [
       "<p style=\"color: teal; margin-bottom: 0; overflow: hidden;\"><strong>Tier:</strong> i, s, u, z</p>"
      ],
      "text/plain": [
       "<IPython.core.display.HTML object>"
      ]
     },
     "metadata": {},
     "output_type": "display_data"
    },
    {
     "data": {
      "text/html": [
       "<p style=\"color: teal; margin-bottom: 10px; overflow: hidden;\">*zsi, *zui</p>"
      ],
      "text/plain": [
       "<IPython.core.display.HTML object>"
      ]
     },
     "metadata": {},
     "output_type": "display_data"
    },
    {
     "data": {
      "text/html": [
       "<p style=\"color: teal; margin-bottom: 0; overflow: hidden;\"><strong>Tier:</strong> i, s, z</p>"
      ],
      "text/plain": [
       "<IPython.core.display.HTML object>"
      ]
     },
     "metadata": {},
     "output_type": "display_data"
    },
    {
     "data": {
      "text/html": [
       "<p style=\"color: teal; margin-bottom: 10px; overflow: hidden;\">*isz, *izs, *szi, *zi<, *zis</p>"
      ],
      "text/plain": [
       "<IPython.core.display.HTML object>"
      ]
     },
     "metadata": {},
     "output_type": "display_data"
    },
    {
     "data": {
      "text/html": [
       "<p style=\"color: teal; margin-bottom: 0; overflow: hidden;\"><strong>Tier:</strong> i, u</p>"
      ],
      "text/plain": [
       "<IPython.core.display.HTML object>"
      ]
     },
     "metadata": {},
     "output_type": "display_data"
    },
    {
     "data": {
      "text/html": [
       "<p style=\"color: teal; margin-bottom: 10px; overflow: hidden;\">*>iu, *>uu, *iu<, *iui, *uii, *uiu, *uu<</p>"
      ],
      "text/plain": [
       "<IPython.core.display.HTML object>"
      ]
     },
     "metadata": {},
     "output_type": "display_data"
    },
    {
     "data": {
      "text/html": [
       "<p style=\"color: teal; margin-bottom: 0; overflow: hidden;\"><strong>Tier:</strong> i, u, z</p>"
      ],
      "text/plain": [
       "<IPython.core.display.HTML object>"
      ]
     },
     "metadata": {},
     "output_type": "display_data"
    },
    {
     "data": {
      "text/html": [
       "<p style=\"color: teal; margin-bottom: 10px; overflow: hidden;\">*iuz, *izu, *uiz, *uzi, *ziu, *zu<</p>"
      ],
      "text/plain": [
       "<IPython.core.display.HTML object>"
      ]
     },
     "metadata": {},
     "output_type": "display_data"
    },
    {
     "data": {
      "text/html": [
       "<p style=\"color: teal; margin-bottom: 0; overflow: hidden;\"><strong>Tier:</strong> i, z</p>"
      ],
      "text/plain": [
       "<IPython.core.display.HTML object>"
      ]
     },
     "metadata": {},
     "output_type": "display_data"
    },
    {
     "data": {
      "text/html": [
       "<p style=\"color: teal; margin-bottom: 10px; overflow: hidden;\">*iiz, *izi, *izz, *zii, *ziz, *zzi</p>"
      ],
      "text/plain": [
       "<IPython.core.display.HTML object>"
      ]
     },
     "metadata": {},
     "output_type": "display_data"
    },
    {
     "data": {
      "text/html": [
       "<p style=\"color: teal; margin-bottom: 0; overflow: hidden;\"><strong>Tier:</strong> s</p>"
      ],
      "text/plain": [
       "<IPython.core.display.HTML object>"
      ]
     },
     "metadata": {},
     "output_type": "display_data"
    },
    {
     "data": {
      "text/html": [
       "<p style=\"color: teal; margin-bottom: 10px; overflow: hidden;\">*sss</p>"
      ],
      "text/plain": [
       "<IPython.core.display.HTML object>"
      ]
     },
     "metadata": {},
     "output_type": "display_data"
    },
    {
     "data": {
      "text/html": [
       "<p style=\"color: teal; margin-bottom: 0; overflow: hidden;\"><strong>Tier:</strong> s, u</p>"
      ],
      "text/plain": [
       "<IPython.core.display.HTML object>"
      ]
     },
     "metadata": {},
     "output_type": "display_data"
    },
    {
     "data": {
      "text/html": [
       "<p style=\"color: teal; margin-bottom: 10px; overflow: hidden;\">*ssu, *sus, *uss, *uuu</p>"
      ],
      "text/plain": [
       "<IPython.core.display.HTML object>"
      ]
     },
     "metadata": {},
     "output_type": "display_data"
    },
    {
     "data": {
      "text/html": [
       "<p style=\"color: teal; margin-bottom: 0; overflow: hidden;\"><strong>Tier:</strong> s, u, z</p>"
      ],
      "text/plain": [
       "<IPython.core.display.HTML object>"
      ]
     },
     "metadata": {},
     "output_type": "display_data"
    },
    {
     "data": {
      "text/html": [
       "<p style=\"color: teal; margin-bottom: 10px; overflow: hidden;\">*suz, *szu, *usz, *uzs, *zsu</p>"
      ],
      "text/plain": [
       "<IPython.core.display.HTML object>"
      ]
     },
     "metadata": {},
     "output_type": "display_data"
    },
    {
     "data": {
      "text/html": [
       "<p style=\"color: teal; margin-bottom: 0; overflow: hidden;\"><strong>Tier:</strong> s, z</p>"
      ],
      "text/plain": [
       "<IPython.core.display.HTML object>"
      ]
     },
     "metadata": {},
     "output_type": "display_data"
    },
    {
     "data": {
      "text/html": [
       "<p style=\"color: teal; margin-bottom: 10px; overflow: hidden;\">*ssz, *szs, *zss</p>"
      ],
      "text/plain": [
       "<IPython.core.display.HTML object>"
      ]
     },
     "metadata": {},
     "output_type": "display_data"
    },
    {
     "data": {
      "text/html": [
       "<p style=\"color: teal; margin-bottom: 0; overflow: hidden;\"><strong>Tier:</strong> u, z</p>"
      ],
      "text/plain": [
       "<IPython.core.display.HTML object>"
      ]
     },
     "metadata": {},
     "output_type": "display_data"
    },
    {
     "data": {
      "text/html": [
       "<p style=\"color: teal; margin-bottom: 10px; overflow: hidden;\">*>uz, *uuz, *uz<, *uzu, *uzz, *zuu, *zuz, *zzu</p>"
      ],
      "text/plain": [
       "<IPython.core.display.HTML object>"
      ]
     },
     "metadata": {},
     "output_type": "display_data"
    },
    {
     "name": "stdout",
     "output_type": "stream",
     "text": [
      "\n"
     ]
    },
    {
     "data": {
      "text/html": [
       "<h2>Brute force</h2>"
      ],
      "text/plain": [
       "<IPython.core.display.HTML object>"
      ]
     },
     "metadata": {},
     "output_type": "display_data"
    },
    {
     "data": {
      "text/html": [
       "<p style=\"color: purple; margin-bottom: 0; overflow: hidden;\"><strong>Tier:</strong> a, i</p>"
      ],
      "text/plain": [
       "<IPython.core.display.HTML object>"
      ]
     },
     "metadata": {},
     "output_type": "display_data"
    },
    {
     "data": {
      "text/html": [
       "<p style=\"color: purple; margin-bottom: 10px; overflow: hidden;\">*>ai, *>i<, *aia, *aii, *ia<, *iia</p>"
      ],
      "text/plain": [
       "<IPython.core.display.HTML object>"
      ]
     },
     "metadata": {},
     "output_type": "display_data"
    },
    {
     "data": {
      "text/html": [
       "<p style=\"color: purple; margin-bottom: 0; overflow: hidden;\"><strong>Tier:</strong> a, i, s</p>"
      ],
      "text/plain": [
       "<IPython.core.display.HTML object>"
      ]
     },
     "metadata": {},
     "output_type": "display_data"
    },
    {
     "data": {
      "text/html": [
       "<p style=\"color: purple; margin-bottom: 10px; overflow: hidden;\">*>si, *>ss, *ais, *as<, *ias, *ii<, *isa, *s<<, *sai, *sia, *ss<</p>"
      ],
      "text/plain": [
       "<IPython.core.display.HTML object>"
      ]
     },
     "metadata": {},
     "output_type": "display_data"
    },
    {
     "data": {
      "text/html": [
       "<p style=\"color: purple; margin-bottom: 0; overflow: hidden;\"><strong>Tier:</strong> a, i, s, u</p>"
      ],
      "text/plain": [
       "<IPython.core.display.HTML object>"
      ]
     },
     "metadata": {},
     "output_type": "display_data"
    },
    {
     "data": {
      "text/html": [
       "<p style=\"color: purple; margin-bottom: 10px; overflow: hidden;\">*asi, *aui</p>"
      ],
      "text/plain": [
       "<IPython.core.display.HTML object>"
      ]
     },
     "metadata": {},
     "output_type": "display_data"
    },
    {
     "data": {
      "text/html": [
       "<p style=\"color: purple; margin-bottom: 0; overflow: hidden;\"><strong>Tier:</strong> a, i, s, z</p>"
      ],
      "text/plain": [
       "<IPython.core.display.HTML object>"
      ]
     },
     "metadata": {},
     "output_type": "display_data"
    },
    {
     "data": {
      "text/html": [
       "<p style=\"color: purple; margin-bottom: 10px; overflow: hidden;\">*azi, *siz, *zs<</p>"
      ],
      "text/plain": [
       "<IPython.core.display.HTML object>"
      ]
     },
     "metadata": {},
     "output_type": "display_data"
    },
    {
     "data": {
      "text/html": [
       "<p style=\"color: purple; margin-bottom: 0; overflow: hidden;\"><strong>Tier:</strong> a, i, u</p>"
      ],
      "text/plain": [
       "<IPython.core.display.HTML object>"
      ]
     },
     "metadata": {},
     "output_type": "display_data"
    },
    {
     "data": {
      "text/html": [
       "<p style=\"color: purple; margin-bottom: 10px; overflow: hidden;\">*>ui, *aiu, *iau, *iua, *uai, *uia</p>"
      ],
      "text/plain": [
       "<IPython.core.display.HTML object>"
      ]
     },
     "metadata": {},
     "output_type": "display_data"
    },
    {
     "data": {
      "text/html": [
       "<p style=\"color: purple; margin-bottom: 0; overflow: hidden;\"><strong>Tier:</strong> a, i, u, z</p>"
      ],
      "text/plain": [
       "<IPython.core.display.HTML object>"
      ]
     },
     "metadata": {},
     "output_type": "display_data"
    },
    {
     "data": {
      "text/html": [
       "<p style=\"color: purple; margin-bottom: 10px; overflow: hidden;\">*>a<</p>"
      ],
      "text/plain": [
       "<IPython.core.display.HTML object>"
      ]
     },
     "metadata": {},
     "output_type": "display_data"
    },
    {
     "data": {
      "text/html": [
       "<p style=\"color: purple; margin-bottom: 0; overflow: hidden;\"><strong>Tier:</strong> a, i, z</p>"
      ],
      "text/plain": [
       "<IPython.core.display.HTML object>"
      ]
     },
     "metadata": {},
     "output_type": "display_data"
    },
    {
     "data": {
      "text/html": [
       "<p style=\"color: purple; margin-bottom: 10px; overflow: hidden;\">*>iz, *>zi, *iaz, *iza, *zai, *zia</p>"
      ],
      "text/plain": [
       "<IPython.core.display.HTML object>"
      ]
     },
     "metadata": {},
     "output_type": "display_data"
    },
    {
     "data": {
      "text/html": [
       "<p style=\"color: purple; margin-bottom: 0; overflow: hidden;\"><strong>Tier:</strong> a, s</p>"
      ],
      "text/plain": [
       "<IPython.core.display.HTML object>"
      ]
     },
     "metadata": {},
     "output_type": "display_data"
    },
    {
     "data": {
      "text/html": [
       "<p style=\"color: purple; margin-bottom: 10px; overflow: hidden;\">*>s<, *aaa, *ass, *sas, *ssa</p>"
      ],
      "text/plain": [
       "<IPython.core.display.HTML object>"
      ]
     },
     "metadata": {},
     "output_type": "display_data"
    },
    {
     "data": {
      "text/html": [
       "<p style=\"color: purple; margin-bottom: 0; overflow: hidden;\"><strong>Tier:</strong> a, s, u</p>"
      ],
      "text/plain": [
       "<IPython.core.display.HTML object>"
      ]
     },
     "metadata": {},
     "output_type": "display_data"
    },
    {
     "data": {
      "text/html": [
       "<p style=\"color: purple; margin-bottom: 10px; overflow: hidden;\">*>us, *asu, *sau, *sua, *uas, *usa</p>"
      ],
      "text/plain": [
       "<IPython.core.display.HTML object>"
      ]
     },
     "metadata": {},
     "output_type": "display_data"
    },
    {
     "data": {
      "text/html": [
       "<p style=\"color: purple; margin-bottom: 0; overflow: hidden;\"><strong>Tier:</strong> a, s, u, z</p>"
      ],
      "text/plain": [
       "<IPython.core.display.HTML object>"
      ]
     },
     "metadata": {},
     "output_type": "display_data"
    },
    {
     "data": {
      "text/html": [
       "<p style=\"color: purple; margin-bottom: 10px; overflow: hidden;\">*aus</p>"
      ],
      "text/plain": [
       "<IPython.core.display.HTML object>"
      ]
     },
     "metadata": {},
     "output_type": "display_data"
    },
    {
     "data": {
      "text/html": [
       "<p style=\"color: purple; margin-bottom: 0; overflow: hidden;\"><strong>Tier:</strong> a, s, z</p>"
      ],
      "text/plain": [
       "<IPython.core.display.HTML object>"
      ]
     },
     "metadata": {},
     "output_type": "display_data"
    },
    {
     "data": {
      "text/html": [
       "<p style=\"color: purple; margin-bottom: 10px; overflow: hidden;\">*>as, *>sz, *>zs, *aas, *asa, *asz, *sz<, *sza, *szz, *za<, *zas, *zsz, *zzs</p>"
      ],
      "text/plain": [
       "<IPython.core.display.HTML object>"
      ]
     },
     "metadata": {},
     "output_type": "display_data"
    },
    {
     "data": {
      "text/html": [
       "<p style=\"color: purple; margin-bottom: 0; overflow: hidden;\"><strong>Tier:</strong> a, u</p>"
      ],
      "text/plain": [
       "<IPython.core.display.HTML object>"
      ]
     },
     "metadata": {},
     "output_type": "display_data"
    },
    {
     "data": {
      "text/html": [
       "<p style=\"color: purple; margin-bottom: 10px; overflow: hidden;\">*>ua, *aua, *auu, *ua<, *uaa, *uau, *uua</p>"
      ],
      "text/plain": [
       "<IPython.core.display.HTML object>"
      ]
     },
     "metadata": {},
     "output_type": "display_data"
    },
    {
     "data": {
      "text/html": [
       "<p style=\"color: purple; margin-bottom: 0; overflow: hidden;\"><strong>Tier:</strong> a, u, z</p>"
      ],
      "text/plain": [
       "<IPython.core.display.HTML object>"
      ]
     },
     "metadata": {},
     "output_type": "display_data"
    },
    {
     "data": {
      "text/html": [
       "<p style=\"color: purple; margin-bottom: 10px; overflow: hidden;\">*>zu, *aau, *auz, *uaz, *uza, *zau, *zua</p>"
      ],
      "text/plain": [
       "<IPython.core.display.HTML object>"
      ]
     },
     "metadata": {},
     "output_type": "display_data"
    },
    {
     "data": {
      "text/html": [
       "<p style=\"color: purple; margin-bottom: 0; overflow: hidden;\"><strong>Tier:</strong> a, z</p>"
      ],
      "text/plain": [
       "<IPython.core.display.HTML object>"
      ]
     },
     "metadata": {},
     "output_type": "display_data"
    },
    {
     "data": {
      "text/html": [
       "<p style=\"color: purple; margin-bottom: 10px; overflow: hidden;\">*>z<, *>za, *azz, *zaa, *zza, *zzz</p>"
      ],
      "text/plain": [
       "<IPython.core.display.HTML object>"
      ]
     },
     "metadata": {},
     "output_type": "display_data"
    },
    {
     "data": {
      "text/html": [
       "<p style=\"color: purple; margin-bottom: 0; overflow: hidden;\"><strong>Tier:</strong> i, s</p>"
      ],
      "text/plain": [
       "<IPython.core.display.HTML object>"
      ]
     },
     "metadata": {},
     "output_type": "display_data"
    },
    {
     "data": {
      "text/html": [
       "<p style=\"color: purple; margin-bottom: 10px; overflow: hidden;\">*>is, *iii, *is<, *iss, *sii, *ssi</p>"
      ],
      "text/plain": [
       "<IPython.core.display.HTML object>"
      ]
     },
     "metadata": {},
     "output_type": "display_data"
    },
    {
     "data": {
      "text/html": [
       "<p style=\"color: purple; margin-bottom: 0; overflow: hidden;\"><strong>Tier:</strong> i, s, u</p>"
      ],
      "text/plain": [
       "<IPython.core.display.HTML object>"
      ]
     },
     "metadata": {},
     "output_type": "display_data"
    },
    {
     "data": {
      "text/html": [
       "<p style=\"color: purple; margin-bottom: 10px; overflow: hidden;\">*>su, *iiu, *isu, *ius, *sis, *su<, *suu, *uis, *us<, *uui</p>"
      ],
      "text/plain": [
       "<IPython.core.display.HTML object>"
      ]
     },
     "metadata": {},
     "output_type": "display_data"
    },
    {
     "data": {
      "text/html": [
       "<p style=\"color: purple; margin-bottom: 0; overflow: hidden;\"><strong>Tier:</strong> i, s, u, z</p>"
      ],
      "text/plain": [
       "<IPython.core.display.HTML object>"
      ]
     },
     "metadata": {},
     "output_type": "display_data"
    },
    {
     "data": {
      "text/html": [
       "<p style=\"color: purple; margin-bottom: 10px; overflow: hidden;\">*zsi, *zui</p>"
      ],
      "text/plain": [
       "<IPython.core.display.HTML object>"
      ]
     },
     "metadata": {},
     "output_type": "display_data"
    },
    {
     "data": {
      "text/html": [
       "<p style=\"color: purple; margin-bottom: 0; overflow: hidden;\"><strong>Tier:</strong> i, s, z</p>"
      ],
      "text/plain": [
       "<IPython.core.display.HTML object>"
      ]
     },
     "metadata": {},
     "output_type": "display_data"
    },
    {
     "data": {
      "text/html": [
       "<p style=\"color: purple; margin-bottom: 10px; overflow: hidden;\">*isz, *izs, *szi, *zi<, *zis</p>"
      ],
      "text/plain": [
       "<IPython.core.display.HTML object>"
      ]
     },
     "metadata": {},
     "output_type": "display_data"
    },
    {
     "data": {
      "text/html": [
       "<p style=\"color: purple; margin-bottom: 0; overflow: hidden;\"><strong>Tier:</strong> i, u</p>"
      ],
      "text/plain": [
       "<IPython.core.display.HTML object>"
      ]
     },
     "metadata": {},
     "output_type": "display_data"
    },
    {
     "data": {
      "text/html": [
       "<p style=\"color: purple; margin-bottom: 10px; overflow: hidden;\">*>iu, *>uu, *iu<, *iui, *uii, *uiu, *uu<</p>"
      ],
      "text/plain": [
       "<IPython.core.display.HTML object>"
      ]
     },
     "metadata": {},
     "output_type": "display_data"
    },
    {
     "data": {
      "text/html": [
       "<p style=\"color: purple; margin-bottom: 0; overflow: hidden;\"><strong>Tier:</strong> i, u, z</p>"
      ],
      "text/plain": [
       "<IPython.core.display.HTML object>"
      ]
     },
     "metadata": {},
     "output_type": "display_data"
    },
    {
     "data": {
      "text/html": [
       "<p style=\"color: purple; margin-bottom: 10px; overflow: hidden;\">*iuz, *izu, *uiz, *uzi, *ziu, *zu<</p>"
      ],
      "text/plain": [
       "<IPython.core.display.HTML object>"
      ]
     },
     "metadata": {},
     "output_type": "display_data"
    },
    {
     "data": {
      "text/html": [
       "<p style=\"color: purple; margin-bottom: 0; overflow: hidden;\"><strong>Tier:</strong> i, z</p>"
      ],
      "text/plain": [
       "<IPython.core.display.HTML object>"
      ]
     },
     "metadata": {},
     "output_type": "display_data"
    },
    {
     "data": {
      "text/html": [
       "<p style=\"color: purple; margin-bottom: 10px; overflow: hidden;\">*iiz, *izi, *izz, *zii, *ziz, *zzi</p>"
      ],
      "text/plain": [
       "<IPython.core.display.HTML object>"
      ]
     },
     "metadata": {},
     "output_type": "display_data"
    },
    {
     "data": {
      "text/html": [
       "<p style=\"color: purple; margin-bottom: 0; overflow: hidden;\"><strong>Tier:</strong> s</p>"
      ],
      "text/plain": [
       "<IPython.core.display.HTML object>"
      ]
     },
     "metadata": {},
     "output_type": "display_data"
    },
    {
     "data": {
      "text/html": [
       "<p style=\"color: purple; margin-bottom: 10px; overflow: hidden;\">*sss</p>"
      ],
      "text/plain": [
       "<IPython.core.display.HTML object>"
      ]
     },
     "metadata": {},
     "output_type": "display_data"
    },
    {
     "data": {
      "text/html": [
       "<p style=\"color: purple; margin-bottom: 0; overflow: hidden;\"><strong>Tier:</strong> s, u</p>"
      ],
      "text/plain": [
       "<IPython.core.display.HTML object>"
      ]
     },
     "metadata": {},
     "output_type": "display_data"
    },
    {
     "data": {
      "text/html": [
       "<p style=\"color: purple; margin-bottom: 10px; overflow: hidden;\">*ssu, *sus, *uss, *uuu</p>"
      ],
      "text/plain": [
       "<IPython.core.display.HTML object>"
      ]
     },
     "metadata": {},
     "output_type": "display_data"
    },
    {
     "data": {
      "text/html": [
       "<p style=\"color: purple; margin-bottom: 0; overflow: hidden;\"><strong>Tier:</strong> s, u, z</p>"
      ],
      "text/plain": [
       "<IPython.core.display.HTML object>"
      ]
     },
     "metadata": {},
     "output_type": "display_data"
    },
    {
     "data": {
      "text/html": [
       "<p style=\"color: purple; margin-bottom: 10px; overflow: hidden;\">*suz, *szu, *usz, *uzs, *zsu</p>"
      ],
      "text/plain": [
       "<IPython.core.display.HTML object>"
      ]
     },
     "metadata": {},
     "output_type": "display_data"
    },
    {
     "data": {
      "text/html": [
       "<p style=\"color: purple; margin-bottom: 0; overflow: hidden;\"><strong>Tier:</strong> s, z</p>"
      ],
      "text/plain": [
       "<IPython.core.display.HTML object>"
      ]
     },
     "metadata": {},
     "output_type": "display_data"
    },
    {
     "data": {
      "text/html": [
       "<p style=\"color: purple; margin-bottom: 10px; overflow: hidden;\">*ssz, *szs, *zss</p>"
      ],
      "text/plain": [
       "<IPython.core.display.HTML object>"
      ]
     },
     "metadata": {},
     "output_type": "display_data"
    },
    {
     "data": {
      "text/html": [
       "<p style=\"color: purple; margin-bottom: 0; overflow: hidden;\"><strong>Tier:</strong> u, z</p>"
      ],
      "text/plain": [
       "<IPython.core.display.HTML object>"
      ]
     },
     "metadata": {},
     "output_type": "display_data"
    },
    {
     "data": {
      "text/html": [
       "<p style=\"color: purple; margin-bottom: 10px; overflow: hidden;\">*>uz, *uuz, *uz<, *uzu, *uzz, *zuu, *zuz, *zzu</p>"
      ],
      "text/plain": [
       "<IPython.core.display.HTML object>"
      ]
     },
     "metadata": {},
     "output_type": "display_data"
    },
    {
     "name": "stdout",
     "output_type": "stream",
     "text": [
      "\n"
     ]
    },
    {
     "data": {
      "text/html": [
       "<hr><hr>"
      ],
      "text/plain": [
       "<IPython.core.display.HTML object>"
      ]
     },
     "metadata": {},
     "output_type": "display_data"
    },
    {
     "data": {
      "text/html": [
       "<h2>Dataset</h2>"
      ],
      "text/plain": [
       "<IPython.core.display.HTML object>"
      ]
     },
     "metadata": {},
     "output_type": "display_data"
    },
    {
     "name": "stdout",
     "output_type": "stream",
     "text": [
      "zauziuaius\n",
      "saazasuaz\n",
      "uz\n",
      "sa\n",
      "zz\n",
      "aui\n",
      "zsas\n",
      "izuiiu\n",
      "uuia\n",
      "u\n",
      "iazzsssa\n",
      "uzuas\n",
      "ui\n",
      "zazsssiuza\n",
      "izi\n",
      "uzua\n",
      "iuuusuasz\n",
      "ziauuziiu\n",
      "uauussuaza\n",
      "uuuiu\n",
      "uzuzisasza\n",
      "\n"
     ]
    },
    {
     "data": {
      "text/html": [
       "<h2><em>k</em>-MTSLIA</h2>"
      ],
      "text/plain": [
       "<IPython.core.display.HTML object>"
      ]
     },
     "metadata": {},
     "output_type": "display_data"
    },
    {
     "data": {
      "text/html": [
       "<p style=\"color: teal; margin-bottom: 0; overflow: hidden;\"><strong>Tier:</strong> a, i</p>"
      ],
      "text/plain": [
       "<IPython.core.display.HTML object>"
      ]
     },
     "metadata": {},
     "output_type": "display_data"
    },
    {
     "data": {
      "text/html": [
       "<p style=\"color: teal; margin-bottom: 10px; overflow: hidden;\">*aai, *iia</p>"
      ],
      "text/plain": [
       "<IPython.core.display.HTML object>"
      ]
     },
     "metadata": {},
     "output_type": "display_data"
    },
    {
     "data": {
      "text/html": [
       "<p style=\"color: teal; margin-bottom: 0; overflow: hidden;\"><strong>Tier:</strong> a, i, s</p>"
      ],
      "text/plain": [
       "<IPython.core.display.HTML object>"
      ]
     },
     "metadata": {},
     "output_type": "display_data"
    },
    {
     "data": {
      "text/html": [
       "<p style=\"color: teal; margin-bottom: 10px; overflow: hidden;\">*>aa, *asi, *iaa, *iis, *iss, *sai, *si<</p>"
      ],
      "text/plain": [
       "<IPython.core.display.HTML object>"
      ]
     },
     "metadata": {},
     "output_type": "display_data"
    },
    {
     "data": {
      "text/html": [
       "<p style=\"color: teal; margin-bottom: 0; overflow: hidden;\"><strong>Tier:</strong> a, i, s, u</p>"
      ],
      "text/plain": [
       "<IPython.core.display.HTML object>"
      ]
     },
     "metadata": {},
     "output_type": "display_data"
    },
    {
     "data": {
      "text/html": [
       "<p style=\"color: teal; margin-bottom: 10px; overflow: hidden;\">*>ai, *>is, *ais, *aus, *sia, *usa</p>"
      ],
      "text/plain": [
       "<IPython.core.display.HTML object>"
      ]
     },
     "metadata": {},
     "output_type": "display_data"
    },
    {
     "data": {
      "text/html": [
       "<p style=\"color: teal; margin-bottom: 0; overflow: hidden;\"><strong>Tier:</strong> a, i, s, u, z</p>"
      ],
      "text/plain": [
       "<IPython.core.display.HTML object>"
      ]
     },
     "metadata": {},
     "output_type": "display_data"
    },
    {
     "data": {
      "text/html": [
       "<p style=\"color: teal; margin-bottom: 10px; overflow: hidden;\">*azi, *suz, *uua</p>"
      ],
      "text/plain": [
       "<IPython.core.display.HTML object>"
      ]
     },
     "metadata": {},
     "output_type": "display_data"
    },
    {
     "data": {
      "text/html": [
       "<p style=\"color: teal; margin-bottom: 0; overflow: hidden;\"><strong>Tier:</strong> a, i, s, z</p>"
      ],
      "text/plain": [
       "<IPython.core.display.HTML object>"
      ]
     },
     "metadata": {},
     "output_type": "display_data"
    },
    {
     "data": {
      "text/html": [
       "<p style=\"color: teal; margin-bottom: 10px; overflow: hidden;\">*ias, *ssz, *ziz</p>"
      ],
      "text/plain": [
       "<IPython.core.display.HTML object>"
      ]
     },
     "metadata": {},
     "output_type": "display_data"
    },
    {
     "data": {
      "text/html": [
       "<p style=\"color: teal; margin-bottom: 0; overflow: hidden;\"><strong>Tier:</strong> a, i, u</p>"
      ],
      "text/plain": [
       "<IPython.core.display.HTML object>"
      ]
     },
     "metadata": {},
     "output_type": "display_data"
    },
    {
     "data": {
      "text/html": [
       "<p style=\"color: teal; margin-bottom: 10px; overflow: hidden;\">*>i<, *ai<, *aia, *aii, *au<, *iai, *uu<</p>"
      ],
      "text/plain": [
       "<IPython.core.display.HTML object>"
      ]
     },
     "metadata": {},
     "output_type": "display_data"
    },
    {
     "data": {
      "text/html": [
       "<p style=\"color: teal; margin-bottom: 0; overflow: hidden;\"><strong>Tier:</strong> a, i, u, z</p>"
      ],
      "text/plain": [
       "<IPython.core.display.HTML object>"
      ]
     },
     "metadata": {},
     "output_type": "display_data"
    },
    {
     "data": {
      "text/html": [
       "<p style=\"color: teal; margin-bottom: 10px; overflow: hidden;\">*>z<, *>zu, *azu, *iui, *iza, *zu<, *zzi</p>"
      ],
      "text/plain": [
       "<IPython.core.display.HTML object>"
      ]
     },
     "metadata": {},
     "output_type": "display_data"
    },
    {
     "data": {
      "text/html": [
       "<p style=\"color: teal; margin-bottom: 0; overflow: hidden;\"><strong>Tier:</strong> a, i, z</p>"
      ],
      "text/plain": [
       "<IPython.core.display.HTML object>"
      ]
     },
     "metadata": {},
     "output_type": "display_data"
    },
    {
     "data": {
      "text/html": [
       "<p style=\"color: teal; margin-bottom: 10px; overflow: hidden;\">*>az, *aiz, *iz<, *izz, *zai</p>"
      ],
      "text/plain": [
       "<IPython.core.display.HTML object>"
      ]
     },
     "metadata": {},
     "output_type": "display_data"
    },
    {
     "data": {
      "text/html": [
       "<p style=\"color: teal; margin-bottom: 0; overflow: hidden;\"><strong>Tier:</strong> a, s</p>"
      ],
      "text/plain": [
       "<IPython.core.display.HTML object>"
      ]
     },
     "metadata": {},
     "output_type": "display_data"
    },
    {
     "data": {
      "text/html": [
       "<p style=\"color: teal; margin-bottom: 10px; overflow: hidden;\">*>s<, *>ss, *ss<</p>"
      ],
      "text/plain": [
       "<IPython.core.display.HTML object>"
      ]
     },
     "metadata": {},
     "output_type": "display_data"
    },
    {
     "data": {
      "text/html": [
       "<p style=\"color: teal; margin-bottom: 0; overflow: hidden;\"><strong>Tier:</strong> a, s, u</p>"
      ],
      "text/plain": [
       "<IPython.core.display.HTML object>"
      ]
     },
     "metadata": {},
     "output_type": "display_data"
    },
    {
     "data": {
      "text/html": [
       "<p style=\"color: teal; margin-bottom: 10px; overflow: hidden;\">*>a<, *aau, *aua, *sau, *su<, *sus</p>"
      ],
      "text/plain": [
       "<IPython.core.display.HTML object>"
      ]
     },
     "metadata": {},
     "output_type": "display_data"
    },
    {
     "data": {
      "text/html": [
       "<p style=\"color: teal; margin-bottom: 0; overflow: hidden;\"><strong>Tier:</strong> a, s, u, z</p>"
      ],
      "text/plain": [
       "<IPython.core.display.HTML object>"
      ]
     },
     "metadata": {},
     "output_type": "display_data"
    },
    {
     "data": {
      "text/html": [
       "<p style=\"color: teal; margin-bottom: 10px; overflow: hidden;\">*>as, *asa, *ass, *saz, *usz, *zsu, *zus</p>"
      ],
      "text/plain": [
       "<IPython.core.display.HTML object>"
      ]
     },
     "metadata": {},
     "output_type": "display_data"
    },
    {
     "data": {
      "text/html": [
       "<p style=\"color: teal; margin-bottom: 0; overflow: hidden;\"><strong>Tier:</strong> a, s, z</p>"
      ],
      "text/plain": [
       "<IPython.core.display.HTML object>"
      ]
     },
     "metadata": {},
     "output_type": "display_data"
    },
    {
     "data": {
      "text/html": [
       "<p style=\"color: teal; margin-bottom: 10px; overflow: hidden;\">*>sz, *aas, *szs, *zaa, *zs<, *zsz, *zza</p>"
      ],
      "text/plain": [
       "<IPython.core.display.HTML object>"
      ]
     },
     "metadata": {},
     "output_type": "display_data"
    },
    {
     "data": {
      "text/html": [
       "<p style=\"color: teal; margin-bottom: 0; overflow: hidden;\"><strong>Tier:</strong> a, u, z</p>"
      ],
      "text/plain": [
       "<IPython.core.display.HTML object>"
      ]
     },
     "metadata": {},
     "output_type": "display_data"
    },
    {
     "data": {
      "text/html": [
       "<p style=\"color: teal; margin-bottom: 10px; overflow: hidden;\">*uaa, *uzz, *zzu</p>"
      ],
      "text/plain": [
       "<IPython.core.display.HTML object>"
      ]
     },
     "metadata": {},
     "output_type": "display_data"
    },
    {
     "data": {
      "text/html": [
       "<p style=\"color: teal; margin-bottom: 0; overflow: hidden;\"><strong>Tier:</strong> a, z</p>"
      ],
      "text/plain": [
       "<IPython.core.display.HTML object>"
      ]
     },
     "metadata": {},
     "output_type": "display_data"
    },
    {
     "data": {
      "text/html": [
       "<p style=\"color: teal; margin-bottom: 10px; overflow: hidden;\">*aa<, *aaa, *zzz</p>"
      ],
      "text/plain": [
       "<IPython.core.display.HTML object>"
      ]
     },
     "metadata": {},
     "output_type": "display_data"
    },
    {
     "data": {
      "text/html": [
       "<p style=\"color: teal; margin-bottom: 0; overflow: hidden;\"><strong>Tier:</strong> i, s</p>"
      ],
      "text/plain": [
       "<IPython.core.display.HTML object>"
      ]
     },
     "metadata": {},
     "output_type": "display_data"
    },
    {
     "data": {
      "text/html": [
       "<p style=\"color: teal; margin-bottom: 10px; overflow: hidden;\">*>si, *isi, *sii, *sis</p>"
      ],
      "text/plain": [
       "<IPython.core.display.HTML object>"
      ]
     },
     "metadata": {},
     "output_type": "display_data"
    },
    {
     "data": {
      "text/html": [
       "<p style=\"color: teal; margin-bottom: 0; overflow: hidden;\"><strong>Tier:</strong> i, s, u</p>"
      ],
      "text/plain": [
       "<IPython.core.display.HTML object>"
      ]
     },
     "metadata": {},
     "output_type": "display_data"
    },
    {
     "data": {
      "text/html": [
       "<p style=\"color: teal; margin-bottom: 10px; overflow: hidden;\">*is<, *isu, *sui, *usi</p>"
      ],
      "text/plain": [
       "<IPython.core.display.HTML object>"
      ]
     },
     "metadata": {},
     "output_type": "display_data"
    },
    {
     "data": {
      "text/html": [
       "<p style=\"color: teal; margin-bottom: 0; overflow: hidden;\"><strong>Tier:</strong> i, s, u, z</p>"
      ],
      "text/plain": [
       "<IPython.core.display.HTML object>"
      ]
     },
     "metadata": {},
     "output_type": "display_data"
    },
    {
     "data": {
      "text/html": [
       "<p style=\"color: teal; margin-bottom: 10px; overflow: hidden;\">*siz, *uis, *uzs</p>"
      ],
      "text/plain": [
       "<IPython.core.display.HTML object>"
      ]
     },
     "metadata": {},
     "output_type": "display_data"
    },
    {
     "data": {
      "text/html": [
       "<p style=\"color: teal; margin-bottom: 0; overflow: hidden;\"><strong>Tier:</strong> i, s, z</p>"
      ],
      "text/plain": [
       "<IPython.core.display.HTML object>"
      ]
     },
     "metadata": {},
     "output_type": "display_data"
    },
    {
     "data": {
      "text/html": [
       "<p style=\"color: teal; margin-bottom: 10px; overflow: hidden;\">*isz, *izs, *szi, *zsi</p>"
      ],
      "text/plain": [
       "<IPython.core.display.HTML object>"
      ]
     },
     "metadata": {},
     "output_type": "display_data"
    },
    {
     "data": {
      "text/html": [
       "<p style=\"color: teal; margin-bottom: 0; overflow: hidden;\"><strong>Tier:</strong> i, u</p>"
      ],
      "text/plain": [
       "<IPython.core.display.HTML object>"
      ]
     },
     "metadata": {},
     "output_type": "display_data"
    },
    {
     "data": {
      "text/html": [
       "<p style=\"color: teal; margin-bottom: 10px; overflow: hidden;\">*iii</p>"
      ],
      "text/plain": [
       "<IPython.core.display.HTML object>"
      ]
     },
     "metadata": {},
     "output_type": "display_data"
    },
    {
     "data": {
      "text/html": [
       "<p style=\"color: teal; margin-bottom: 0; overflow: hidden;\"><strong>Tier:</strong> i, u, z</p>"
      ],
      "text/plain": [
       "<IPython.core.display.HTML object>"
      ]
     },
     "metadata": {},
     "output_type": "display_data"
    },
    {
     "data": {
      "text/html": [
       "<p style=\"color: teal; margin-bottom: 10px; overflow: hidden;\">*ii<, *uiz, *zuu</p>"
      ],
      "text/plain": [
       "<IPython.core.display.HTML object>"
      ]
     },
     "metadata": {},
     "output_type": "display_data"
    },
    {
     "data": {
      "text/html": [
       "<p style=\"color: teal; margin-bottom: 0; overflow: hidden;\"><strong>Tier:</strong> i, z</p>"
      ],
      "text/plain": [
       "<IPython.core.display.HTML object>"
      ]
     },
     "metadata": {},
     "output_type": "display_data"
    },
    {
     "data": {
      "text/html": [
       "<p style=\"color: teal; margin-bottom: 10px; overflow: hidden;\">*>ii, *iiz</p>"
      ],
      "text/plain": [
       "<IPython.core.display.HTML object>"
      ]
     },
     "metadata": {},
     "output_type": "display_data"
    },
    {
     "data": {
      "text/html": [
       "<p style=\"color: teal; margin-bottom: 0; overflow: hidden;\"><strong>Tier:</strong> s, u</p>"
      ],
      "text/plain": [
       "<IPython.core.display.HTML object>"
      ]
     },
     "metadata": {},
     "output_type": "display_data"
    },
    {
     "data": {
      "text/html": [
       "<p style=\"color: teal; margin-bottom: 10px; overflow: hidden;\">*>su, *>us, *suu</p>"
      ],
      "text/plain": [
       "<IPython.core.display.HTML object>"
      ]
     },
     "metadata": {},
     "output_type": "display_data"
    },
    {
     "data": {
      "text/html": [
       "<p style=\"color: teal; margin-bottom: 0; overflow: hidden;\"><strong>Tier:</strong> s, u, z</p>"
      ],
      "text/plain": [
       "<IPython.core.display.HTML object>"
      ]
     },
     "metadata": {},
     "output_type": "display_data"
    },
    {
     "data": {
      "text/html": [
       "<p style=\"color: teal; margin-bottom: 10px; overflow: hidden;\">*szu</p>"
      ],
      "text/plain": [
       "<IPython.core.display.HTML object>"
      ]
     },
     "metadata": {},
     "output_type": "display_data"
    },
    {
     "data": {
      "text/html": [
       "<p style=\"color: teal; margin-bottom: 0; overflow: hidden;\"><strong>Tier:</strong> s, z</p>"
      ],
      "text/plain": [
       "<IPython.core.display.HTML object>"
      ]
     },
     "metadata": {},
     "output_type": "display_data"
    },
    {
     "data": {
      "text/html": [
       "<p style=\"color: teal; margin-bottom: 10px; overflow: hidden;\">*szz</p>"
      ],
      "text/plain": [
       "<IPython.core.display.HTML object>"
      ]
     },
     "metadata": {},
     "output_type": "display_data"
    },
    {
     "name": "stdout",
     "output_type": "stream",
     "text": [
      "\n"
     ]
    },
    {
     "data": {
      "text/html": [
       "<h2>Brute force</h2>"
      ],
      "text/plain": [
       "<IPython.core.display.HTML object>"
      ]
     },
     "metadata": {},
     "output_type": "display_data"
    },
    {
     "data": {
      "text/html": [
       "<p style=\"color: purple; margin-bottom: 0; overflow: hidden;\"><strong>Tier:</strong> a, i</p>"
      ],
      "text/plain": [
       "<IPython.core.display.HTML object>"
      ]
     },
     "metadata": {},
     "output_type": "display_data"
    },
    {
     "data": {
      "text/html": [
       "<p style=\"color: purple; margin-bottom: 10px; overflow: hidden;\">*aai, *iia</p>"
      ],
      "text/plain": [
       "<IPython.core.display.HTML object>"
      ]
     },
     "metadata": {},
     "output_type": "display_data"
    },
    {
     "data": {
      "text/html": [
       "<p style=\"color: purple; margin-bottom: 0; overflow: hidden;\"><strong>Tier:</strong> a, i, s</p>"
      ],
      "text/plain": [
       "<IPython.core.display.HTML object>"
      ]
     },
     "metadata": {},
     "output_type": "display_data"
    },
    {
     "data": {
      "text/html": [
       "<p style=\"color: purple; margin-bottom: 10px; overflow: hidden;\">*>aa, *asi, *iaa, *iis, *iss, *sai, *si<</p>"
      ],
      "text/plain": [
       "<IPython.core.display.HTML object>"
      ]
     },
     "metadata": {},
     "output_type": "display_data"
    },
    {
     "data": {
      "text/html": [
       "<p style=\"color: purple; margin-bottom: 0; overflow: hidden;\"><strong>Tier:</strong> a, i, s, u</p>"
      ],
      "text/plain": [
       "<IPython.core.display.HTML object>"
      ]
     },
     "metadata": {},
     "output_type": "display_data"
    },
    {
     "data": {
      "text/html": [
       "<p style=\"color: purple; margin-bottom: 10px; overflow: hidden;\">*>ai, *>is, *ais, *aus, *sia, *usa</p>"
      ],
      "text/plain": [
       "<IPython.core.display.HTML object>"
      ]
     },
     "metadata": {},
     "output_type": "display_data"
    },
    {
     "data": {
      "text/html": [
       "<p style=\"color: purple; margin-bottom: 0; overflow: hidden;\"><strong>Tier:</strong> a, i, s, u, z</p>"
      ],
      "text/plain": [
       "<IPython.core.display.HTML object>"
      ]
     },
     "metadata": {},
     "output_type": "display_data"
    },
    {
     "data": {
      "text/html": [
       "<p style=\"color: purple; margin-bottom: 10px; overflow: hidden;\">*azi, *suz, *uua</p>"
      ],
      "text/plain": [
       "<IPython.core.display.HTML object>"
      ]
     },
     "metadata": {},
     "output_type": "display_data"
    },
    {
     "data": {
      "text/html": [
       "<p style=\"color: purple; margin-bottom: 0; overflow: hidden;\"><strong>Tier:</strong> a, i, s, z</p>"
      ],
      "text/plain": [
       "<IPython.core.display.HTML object>"
      ]
     },
     "metadata": {},
     "output_type": "display_data"
    },
    {
     "data": {
      "text/html": [
       "<p style=\"color: purple; margin-bottom: 10px; overflow: hidden;\">*ias, *ssz, *ziz</p>"
      ],
      "text/plain": [
       "<IPython.core.display.HTML object>"
      ]
     },
     "metadata": {},
     "output_type": "display_data"
    },
    {
     "data": {
      "text/html": [
       "<p style=\"color: purple; margin-bottom: 0; overflow: hidden;\"><strong>Tier:</strong> a, i, u</p>"
      ],
      "text/plain": [
       "<IPython.core.display.HTML object>"
      ]
     },
     "metadata": {},
     "output_type": "display_data"
    },
    {
     "data": {
      "text/html": [
       "<p style=\"color: purple; margin-bottom: 10px; overflow: hidden;\">*>i<, *ai<, *aia, *aii, *au<, *iai, *uu<</p>"
      ],
      "text/plain": [
       "<IPython.core.display.HTML object>"
      ]
     },
     "metadata": {},
     "output_type": "display_data"
    },
    {
     "data": {
      "text/html": [
       "<p style=\"color: purple; margin-bottom: 0; overflow: hidden;\"><strong>Tier:</strong> a, i, u, z</p>"
      ],
      "text/plain": [
       "<IPython.core.display.HTML object>"
      ]
     },
     "metadata": {},
     "output_type": "display_data"
    },
    {
     "data": {
      "text/html": [
       "<p style=\"color: purple; margin-bottom: 10px; overflow: hidden;\">*>z<, *>zu, *azu, *iui, *iza, *zu<, *zzi</p>"
      ],
      "text/plain": [
       "<IPython.core.display.HTML object>"
      ]
     },
     "metadata": {},
     "output_type": "display_data"
    },
    {
     "data": {
      "text/html": [
       "<p style=\"color: purple; margin-bottom: 0; overflow: hidden;\"><strong>Tier:</strong> a, i, z</p>"
      ],
      "text/plain": [
       "<IPython.core.display.HTML object>"
      ]
     },
     "metadata": {},
     "output_type": "display_data"
    },
    {
     "data": {
      "text/html": [
       "<p style=\"color: purple; margin-bottom: 10px; overflow: hidden;\">*>az, *aiz, *iz<, *izz, *zai</p>"
      ],
      "text/plain": [
       "<IPython.core.display.HTML object>"
      ]
     },
     "metadata": {},
     "output_type": "display_data"
    },
    {
     "data": {
      "text/html": [
       "<p style=\"color: purple; margin-bottom: 0; overflow: hidden;\"><strong>Tier:</strong> a, s</p>"
      ],
      "text/plain": [
       "<IPython.core.display.HTML object>"
      ]
     },
     "metadata": {},
     "output_type": "display_data"
    },
    {
     "data": {
      "text/html": [
       "<p style=\"color: purple; margin-bottom: 10px; overflow: hidden;\">*>s<, *>ss, *ss<</p>"
      ],
      "text/plain": [
       "<IPython.core.display.HTML object>"
      ]
     },
     "metadata": {},
     "output_type": "display_data"
    },
    {
     "data": {
      "text/html": [
       "<p style=\"color: purple; margin-bottom: 0; overflow: hidden;\"><strong>Tier:</strong> a, s, u</p>"
      ],
      "text/plain": [
       "<IPython.core.display.HTML object>"
      ]
     },
     "metadata": {},
     "output_type": "display_data"
    },
    {
     "data": {
      "text/html": [
       "<p style=\"color: purple; margin-bottom: 10px; overflow: hidden;\">*>a<, *aau, *aua, *sau, *su<, *sus</p>"
      ],
      "text/plain": [
       "<IPython.core.display.HTML object>"
      ]
     },
     "metadata": {},
     "output_type": "display_data"
    },
    {
     "data": {
      "text/html": [
       "<p style=\"color: purple; margin-bottom: 0; overflow: hidden;\"><strong>Tier:</strong> a, s, u, z</p>"
      ],
      "text/plain": [
       "<IPython.core.display.HTML object>"
      ]
     },
     "metadata": {},
     "output_type": "display_data"
    },
    {
     "data": {
      "text/html": [
       "<p style=\"color: purple; margin-bottom: 10px; overflow: hidden;\">*>as, *asa, *ass, *saz, *usz, *zsu, *zus</p>"
      ],
      "text/plain": [
       "<IPython.core.display.HTML object>"
      ]
     },
     "metadata": {},
     "output_type": "display_data"
    },
    {
     "data": {
      "text/html": [
       "<p style=\"color: purple; margin-bottom: 0; overflow: hidden;\"><strong>Tier:</strong> a, s, z</p>"
      ],
      "text/plain": [
       "<IPython.core.display.HTML object>"
      ]
     },
     "metadata": {},
     "output_type": "display_data"
    },
    {
     "data": {
      "text/html": [
       "<p style=\"color: purple; margin-bottom: 10px; overflow: hidden;\">*>sz, *aas, *szs, *zaa, *zs<, *zsz, *zza</p>"
      ],
      "text/plain": [
       "<IPython.core.display.HTML object>"
      ]
     },
     "metadata": {},
     "output_type": "display_data"
    },
    {
     "data": {
      "text/html": [
       "<p style=\"color: purple; margin-bottom: 0; overflow: hidden;\"><strong>Tier:</strong> a, u, z</p>"
      ],
      "text/plain": [
       "<IPython.core.display.HTML object>"
      ]
     },
     "metadata": {},
     "output_type": "display_data"
    },
    {
     "data": {
      "text/html": [
       "<p style=\"color: purple; margin-bottom: 10px; overflow: hidden;\">*uaa, *uzz, *zzu</p>"
      ],
      "text/plain": [
       "<IPython.core.display.HTML object>"
      ]
     },
     "metadata": {},
     "output_type": "display_data"
    },
    {
     "data": {
      "text/html": [
       "<p style=\"color: purple; margin-bottom: 0; overflow: hidden;\"><strong>Tier:</strong> a, z</p>"
      ],
      "text/plain": [
       "<IPython.core.display.HTML object>"
      ]
     },
     "metadata": {},
     "output_type": "display_data"
    },
    {
     "data": {
      "text/html": [
       "<p style=\"color: purple; margin-bottom: 10px; overflow: hidden;\">*aa<, *aaa, *zzz</p>"
      ],
      "text/plain": [
       "<IPython.core.display.HTML object>"
      ]
     },
     "metadata": {},
     "output_type": "display_data"
    },
    {
     "data": {
      "text/html": [
       "<p style=\"color: purple; margin-bottom: 0; overflow: hidden;\"><strong>Tier:</strong> i, s</p>"
      ],
      "text/plain": [
       "<IPython.core.display.HTML object>"
      ]
     },
     "metadata": {},
     "output_type": "display_data"
    },
    {
     "data": {
      "text/html": [
       "<p style=\"color: purple; margin-bottom: 10px; overflow: hidden;\">*>si, *isi, *sii, *sis</p>"
      ],
      "text/plain": [
       "<IPython.core.display.HTML object>"
      ]
     },
     "metadata": {},
     "output_type": "display_data"
    },
    {
     "data": {
      "text/html": [
       "<p style=\"color: purple; margin-bottom: 0; overflow: hidden;\"><strong>Tier:</strong> i, s, u</p>"
      ],
      "text/plain": [
       "<IPython.core.display.HTML object>"
      ]
     },
     "metadata": {},
     "output_type": "display_data"
    },
    {
     "data": {
      "text/html": [
       "<p style=\"color: purple; margin-bottom: 10px; overflow: hidden;\">*is<, *isu, *sui, *usi</p>"
      ],
      "text/plain": [
       "<IPython.core.display.HTML object>"
      ]
     },
     "metadata": {},
     "output_type": "display_data"
    },
    {
     "data": {
      "text/html": [
       "<p style=\"color: purple; margin-bottom: 0; overflow: hidden;\"><strong>Tier:</strong> i, s, u, z</p>"
      ],
      "text/plain": [
       "<IPython.core.display.HTML object>"
      ]
     },
     "metadata": {},
     "output_type": "display_data"
    },
    {
     "data": {
      "text/html": [
       "<p style=\"color: purple; margin-bottom: 10px; overflow: hidden;\">*siz, *uis, *uzs</p>"
      ],
      "text/plain": [
       "<IPython.core.display.HTML object>"
      ]
     },
     "metadata": {},
     "output_type": "display_data"
    },
    {
     "data": {
      "text/html": [
       "<p style=\"color: purple; margin-bottom: 0; overflow: hidden;\"><strong>Tier:</strong> i, s, z</p>"
      ],
      "text/plain": [
       "<IPython.core.display.HTML object>"
      ]
     },
     "metadata": {},
     "output_type": "display_data"
    },
    {
     "data": {
      "text/html": [
       "<p style=\"color: purple; margin-bottom: 10px; overflow: hidden;\">*isz, *izs, *szi, *zsi</p>"
      ],
      "text/plain": [
       "<IPython.core.display.HTML object>"
      ]
     },
     "metadata": {},
     "output_type": "display_data"
    },
    {
     "data": {
      "text/html": [
       "<p style=\"color: purple; margin-bottom: 0; overflow: hidden;\"><strong>Tier:</strong> i, u</p>"
      ],
      "text/plain": [
       "<IPython.core.display.HTML object>"
      ]
     },
     "metadata": {},
     "output_type": "display_data"
    },
    {
     "data": {
      "text/html": [
       "<p style=\"color: purple; margin-bottom: 10px; overflow: hidden;\">*iii</p>"
      ],
      "text/plain": [
       "<IPython.core.display.HTML object>"
      ]
     },
     "metadata": {},
     "output_type": "display_data"
    },
    {
     "data": {
      "text/html": [
       "<p style=\"color: purple; margin-bottom: 0; overflow: hidden;\"><strong>Tier:</strong> i, u, z</p>"
      ],
      "text/plain": [
       "<IPython.core.display.HTML object>"
      ]
     },
     "metadata": {},
     "output_type": "display_data"
    },
    {
     "data": {
      "text/html": [
       "<p style=\"color: purple; margin-bottom: 10px; overflow: hidden;\">*ii<, *uiz, *zuu</p>"
      ],
      "text/plain": [
       "<IPython.core.display.HTML object>"
      ]
     },
     "metadata": {},
     "output_type": "display_data"
    },
    {
     "data": {
      "text/html": [
       "<p style=\"color: purple; margin-bottom: 0; overflow: hidden;\"><strong>Tier:</strong> i, z</p>"
      ],
      "text/plain": [
       "<IPython.core.display.HTML object>"
      ]
     },
     "metadata": {},
     "output_type": "display_data"
    },
    {
     "data": {
      "text/html": [
       "<p style=\"color: purple; margin-bottom: 10px; overflow: hidden;\">*>ii, *iiz</p>"
      ],
      "text/plain": [
       "<IPython.core.display.HTML object>"
      ]
     },
     "metadata": {},
     "output_type": "display_data"
    },
    {
     "data": {
      "text/html": [
       "<p style=\"color: purple; margin-bottom: 0; overflow: hidden;\"><strong>Tier:</strong> s, u</p>"
      ],
      "text/plain": [
       "<IPython.core.display.HTML object>"
      ]
     },
     "metadata": {},
     "output_type": "display_data"
    },
    {
     "data": {
      "text/html": [
       "<p style=\"color: purple; margin-bottom: 10px; overflow: hidden;\">*>su, *>us, *suu</p>"
      ],
      "text/plain": [
       "<IPython.core.display.HTML object>"
      ]
     },
     "metadata": {},
     "output_type": "display_data"
    },
    {
     "data": {
      "text/html": [
       "<p style=\"color: purple; margin-bottom: 0; overflow: hidden;\"><strong>Tier:</strong> s, u, z</p>"
      ],
      "text/plain": [
       "<IPython.core.display.HTML object>"
      ]
     },
     "metadata": {},
     "output_type": "display_data"
    },
    {
     "data": {
      "text/html": [
       "<p style=\"color: purple; margin-bottom: 10px; overflow: hidden;\">*szu</p>"
      ],
      "text/plain": [
       "<IPython.core.display.HTML object>"
      ]
     },
     "metadata": {},
     "output_type": "display_data"
    },
    {
     "data": {
      "text/html": [
       "<p style=\"color: purple; margin-bottom: 0; overflow: hidden;\"><strong>Tier:</strong> s, z</p>"
      ],
      "text/plain": [
       "<IPython.core.display.HTML object>"
      ]
     },
     "metadata": {},
     "output_type": "display_data"
    },
    {
     "data": {
      "text/html": [
       "<p style=\"color: purple; margin-bottom: 10px; overflow: hidden;\">*szz</p>"
      ],
      "text/plain": [
       "<IPython.core.display.HTML object>"
      ]
     },
     "metadata": {},
     "output_type": "display_data"
    },
    {
     "name": "stdout",
     "output_type": "stream",
     "text": [
      "\n"
     ]
    },
    {
     "data": {
      "text/html": [
       "<hr><hr>"
      ],
      "text/plain": [
       "<IPython.core.display.HTML object>"
      ]
     },
     "metadata": {},
     "output_type": "display_data"
    },
    {
     "data": {
      "text/html": [
       "<h2>Dataset</h2>"
      ],
      "text/plain": [
       "<IPython.core.display.HTML object>"
      ]
     },
     "metadata": {},
     "output_type": "display_data"
    },
    {
     "name": "stdout",
     "output_type": "stream",
     "text": [
      "iaiiiaiii\n",
      "iia\n",
      "iiai\n",
      "iaa\n",
      "iiaaiii\n",
      "aiii\n",
      "ia\n",
      "iiaaiaii\n",
      "iaaaiaiaii\n",
      "aaiaiaaa\n",
      "aaiaaiaaaa\n",
      "iaaaiaia\n",
      "iaiaaa\n",
      "aiiaaaaiaa\n",
      "iaiaa\n",
      "iiaiiaaaii\n",
      "i\n",
      "aia\n",
      "aaia\n",
      "aaaaaiia\n",
      "\n"
     ]
    },
    {
     "data": {
      "text/html": [
       "<h2><em>k</em>-MTSLIA</h2>"
      ],
      "text/plain": [
       "<IPython.core.display.HTML object>"
      ]
     },
     "metadata": {},
     "output_type": "display_data"
    },
    {
     "data": {
      "text/html": [
       "<p style=\"color: teal; margin-bottom: 0; overflow: hidden;\"><strong>Tier:</strong> a, i</p>"
      ],
      "text/plain": [
       "<IPython.core.display.HTML object>"
      ]
     },
     "metadata": {},
     "output_type": "display_data"
    },
    {
     "data": {
      "text/html": [
       "<p style=\"color: teal; margin-bottom: 10px; overflow: hidden;\">*>a<</p>"
      ],
      "text/plain": [
       "<IPython.core.display.HTML object>"
      ]
     },
     "metadata": {},
     "output_type": "display_data"
    },
    {
     "name": "stdout",
     "output_type": "stream",
     "text": [
      "\n"
     ]
    },
    {
     "data": {
      "text/html": [
       "<h2>Brute force</h2>"
      ],
      "text/plain": [
       "<IPython.core.display.HTML object>"
      ]
     },
     "metadata": {},
     "output_type": "display_data"
    },
    {
     "data": {
      "text/html": [
       "<p style=\"color: purple; margin-bottom: 0; overflow: hidden;\"><strong>Tier:</strong> a, i</p>"
      ],
      "text/plain": [
       "<IPython.core.display.HTML object>"
      ]
     },
     "metadata": {},
     "output_type": "display_data"
    },
    {
     "data": {
      "text/html": [
       "<p style=\"color: purple; margin-bottom: 10px; overflow: hidden;\">*>a<</p>"
      ],
      "text/plain": [
       "<IPython.core.display.HTML object>"
      ]
     },
     "metadata": {},
     "output_type": "display_data"
    },
    {
     "name": "stdout",
     "output_type": "stream",
     "text": [
      "\n"
     ]
    },
    {
     "data": {
      "text/html": [
       "<hr><hr>"
      ],
      "text/plain": [
       "<IPython.core.display.HTML object>"
      ]
     },
     "metadata": {},
     "output_type": "display_data"
    },
    {
     "data": {
      "text/html": [
       "<h2>Dataset</h2>"
      ],
      "text/plain": [
       "<IPython.core.display.HTML object>"
      ]
     },
     "metadata": {},
     "output_type": "display_data"
    },
    {
     "name": "stdout",
     "output_type": "stream",
     "text": [
      "zzzzzaizuz\n",
      "iaa\n",
      "ai\n",
      "iiuzuz\n",
      "aaziiizizi\n",
      "iu\n",
      "auizziiz\n",
      "azazu\n",
      "aiazauii\n",
      "auizuz\n",
      "aiuiiziiuu\n",
      "aiuiuzzizi\n",
      "aii\n",
      "uiizzi\n",
      "u\n",
      "iuazza\n",
      "aiaziz\n",
      "ziuzizzuz\n",
      "uuaz\n",
      "iaazza\n",
      "\n"
     ]
    },
    {
     "data": {
      "text/html": [
       "<h2><em>k</em>-MTSLIA</h2>"
      ],
      "text/plain": [
       "<IPython.core.display.HTML object>"
      ]
     },
     "metadata": {},
     "output_type": "display_data"
    },
    {
     "data": {
      "text/html": [
       "<p style=\"color: teal; margin-bottom: 0; overflow: hidden;\"><strong>Tier:</strong> a, i</p>"
      ],
      "text/plain": [
       "<IPython.core.display.HTML object>"
      ]
     },
     "metadata": {},
     "output_type": "display_data"
    },
    {
     "data": {
      "text/html": [
       "<p style=\"color: teal; margin-bottom: 10px; overflow: hidden;\">*ia<, *iia</p>"
      ],
      "text/plain": [
       "<IPython.core.display.HTML object>"
      ]
     },
     "metadata": {},
     "output_type": "display_data"
    },
    {
     "data": {
      "text/html": [
       "<p style=\"color: teal; margin-bottom: 0; overflow: hidden;\"><strong>Tier:</strong> a, i, u</p>"
      ],
      "text/plain": [
       "<IPython.core.display.HTML object>"
      ]
     },
     "metadata": {},
     "output_type": "display_data"
    },
    {
     "data": {
      "text/html": [
       "<p style=\"color: teal; margin-bottom: 10px; overflow: hidden;\">*>a<, *>i<, *>ua, *auu, *iau, *uai, *uia</p>"
      ],
      "text/plain": [
       "<IPython.core.display.HTML object>"
      ]
     },
     "metadata": {},
     "output_type": "display_data"
    },
    {
     "data": {
      "text/html": [
       "<p style=\"color: teal; margin-bottom: 0; overflow: hidden;\"><strong>Tier:</strong> a, i, u, z</p>"
      ],
      "text/plain": [
       "<IPython.core.display.HTML object>"
      ]
     },
     "metadata": {},
     "output_type": "display_data"
    },
    {
     "data": {
      "text/html": [
       "<p style=\"color: teal; margin-bottom: 10px; overflow: hidden;\">*au<, *auz, *uuz, *zui, *zz<</p>"
      ],
      "text/plain": [
       "<IPython.core.display.HTML object>"
      ]
     },
     "metadata": {},
     "output_type": "display_data"
    },
    {
     "data": {
      "text/html": [
       "<p style=\"color: teal; margin-bottom: 0; overflow: hidden;\"><strong>Tier:</strong> a, i, z</p>"
      ],
      "text/plain": [
       "<IPython.core.display.HTML object>"
      ]
     },
     "metadata": {},
     "output_type": "display_data"
    },
    {
     "data": {
      "text/html": [
       "<p style=\"color: teal; margin-bottom: 10px; overflow: hidden;\">*>iz, *aai, *iai, *iza, *zia</p>"
      ],
      "text/plain": [
       "<IPython.core.display.HTML object>"
      ]
     },
     "metadata": {},
     "output_type": "display_data"
    },
    {
     "data": {
      "text/html": [
       "<p style=\"color: teal; margin-bottom: 0; overflow: hidden;\"><strong>Tier:</strong> a, u</p>"
      ],
      "text/plain": [
       "<IPython.core.display.HTML object>"
      ]
     },
     "metadata": {},
     "output_type": "display_data"
    },
    {
     "data": {
      "text/html": [
       "<p style=\"color: teal; margin-bottom: 10px; overflow: hidden;\">*aua, *uau</p>"
      ],
      "text/plain": [
       "<IPython.core.display.HTML object>"
      ]
     },
     "metadata": {},
     "output_type": "display_data"
    },
    {
     "data": {
      "text/html": [
       "<p style=\"color: teal; margin-bottom: 0; overflow: hidden;\"><strong>Tier:</strong> a, u, z</p>"
      ],
      "text/plain": [
       "<IPython.core.display.HTML object>"
      ]
     },
     "metadata": {},
     "output_type": "display_data"
    },
    {
     "data": {
      "text/html": [
       "<p style=\"color: teal; margin-bottom: 10px; overflow: hidden;\">*aau, *ua<, *uaa, *uza, *zua</p>"
      ],
      "text/plain": [
       "<IPython.core.display.HTML object>"
      ]
     },
     "metadata": {},
     "output_type": "display_data"
    },
    {
     "data": {
      "text/html": [
       "<p style=\"color: teal; margin-bottom: 0; overflow: hidden;\"><strong>Tier:</strong> a, z</p>"
      ],
      "text/plain": [
       "<IPython.core.display.HTML object>"
      ]
     },
     "metadata": {},
     "output_type": "display_data"
    },
    {
     "data": {
      "text/html": [
       "<p style=\"color: teal; margin-bottom: 10px; overflow: hidden;\">*>z<, *>za, *aaa, *zaa</p>"
      ],
      "text/plain": [
       "<IPython.core.display.HTML object>"
      ]
     },
     "metadata": {},
     "output_type": "display_data"
    },
    {
     "data": {
      "text/html": [
       "<p style=\"color: teal; margin-bottom: 0; overflow: hidden;\"><strong>Tier:</strong> i, u</p>"
      ],
      "text/plain": [
       "<IPython.core.display.HTML object>"
      ]
     },
     "metadata": {},
     "output_type": "display_data"
    },
    {
     "data": {
      "text/html": [
       "<p style=\"color: teal; margin-bottom: 10px; overflow: hidden;\">*ui<, *uui, *uuu</p>"
      ],
      "text/plain": [
       "<IPython.core.display.HTML object>"
      ]
     },
     "metadata": {},
     "output_type": "display_data"
    },
    {
     "data": {
      "text/html": [
       "<p style=\"color: teal; margin-bottom: 0; overflow: hidden;\"><strong>Tier:</strong> i, u, z</p>"
      ],
      "text/plain": [
       "<IPython.core.display.HTML object>"
      ]
     },
     "metadata": {},
     "output_type": "display_data"
    },
    {
     "data": {
      "text/html": [
       "<p style=\"color: teal; margin-bottom: 10px; overflow: hidden;\">*>uz, *>zu, *zuu</p>"
      ],
      "text/plain": [
       "<IPython.core.display.HTML object>"
      ]
     },
     "metadata": {},
     "output_type": "display_data"
    },
    {
     "name": "stdout",
     "output_type": "stream",
     "text": [
      "\n"
     ]
    },
    {
     "data": {
      "text/html": [
       "<h2>Brute force</h2>"
      ],
      "text/plain": [
       "<IPython.core.display.HTML object>"
      ]
     },
     "metadata": {},
     "output_type": "display_data"
    },
    {
     "data": {
      "text/html": [
       "<p style=\"color: purple; margin-bottom: 0; overflow: hidden;\"><strong>Tier:</strong> a, i</p>"
      ],
      "text/plain": [
       "<IPython.core.display.HTML object>"
      ]
     },
     "metadata": {},
     "output_type": "display_data"
    },
    {
     "data": {
      "text/html": [
       "<p style=\"color: purple; margin-bottom: 10px; overflow: hidden;\">*ia<, *iia</p>"
      ],
      "text/plain": [
       "<IPython.core.display.HTML object>"
      ]
     },
     "metadata": {},
     "output_type": "display_data"
    },
    {
     "data": {
      "text/html": [
       "<p style=\"color: purple; margin-bottom: 0; overflow: hidden;\"><strong>Tier:</strong> a, i, u</p>"
      ],
      "text/plain": [
       "<IPython.core.display.HTML object>"
      ]
     },
     "metadata": {},
     "output_type": "display_data"
    },
    {
     "data": {
      "text/html": [
       "<p style=\"color: purple; margin-bottom: 10px; overflow: hidden;\">*>a<, *>i<, *>ua, *auu, *iau, *uai, *uia</p>"
      ],
      "text/plain": [
       "<IPython.core.display.HTML object>"
      ]
     },
     "metadata": {},
     "output_type": "display_data"
    },
    {
     "data": {
      "text/html": [
       "<p style=\"color: purple; margin-bottom: 0; overflow: hidden;\"><strong>Tier:</strong> a, i, u, z</p>"
      ],
      "text/plain": [
       "<IPython.core.display.HTML object>"
      ]
     },
     "metadata": {},
     "output_type": "display_data"
    },
    {
     "data": {
      "text/html": [
       "<p style=\"color: purple; margin-bottom: 10px; overflow: hidden;\">*au<, *auz, *uuz, *zui, *zz<</p>"
      ],
      "text/plain": [
       "<IPython.core.display.HTML object>"
      ]
     },
     "metadata": {},
     "output_type": "display_data"
    },
    {
     "data": {
      "text/html": [
       "<p style=\"color: purple; margin-bottom: 0; overflow: hidden;\"><strong>Tier:</strong> a, i, z</p>"
      ],
      "text/plain": [
       "<IPython.core.display.HTML object>"
      ]
     },
     "metadata": {},
     "output_type": "display_data"
    },
    {
     "data": {
      "text/html": [
       "<p style=\"color: purple; margin-bottom: 10px; overflow: hidden;\">*>iz, *aai, *iai, *iza, *zia</p>"
      ],
      "text/plain": [
       "<IPython.core.display.HTML object>"
      ]
     },
     "metadata": {},
     "output_type": "display_data"
    },
    {
     "data": {
      "text/html": [
       "<p style=\"color: purple; margin-bottom: 0; overflow: hidden;\"><strong>Tier:</strong> a, u</p>"
      ],
      "text/plain": [
       "<IPython.core.display.HTML object>"
      ]
     },
     "metadata": {},
     "output_type": "display_data"
    },
    {
     "data": {
      "text/html": [
       "<p style=\"color: purple; margin-bottom: 10px; overflow: hidden;\">*aua, *uau</p>"
      ],
      "text/plain": [
       "<IPython.core.display.HTML object>"
      ]
     },
     "metadata": {},
     "output_type": "display_data"
    },
    {
     "data": {
      "text/html": [
       "<p style=\"color: purple; margin-bottom: 0; overflow: hidden;\"><strong>Tier:</strong> a, u, z</p>"
      ],
      "text/plain": [
       "<IPython.core.display.HTML object>"
      ]
     },
     "metadata": {},
     "output_type": "display_data"
    },
    {
     "data": {
      "text/html": [
       "<p style=\"color: purple; margin-bottom: 10px; overflow: hidden;\">*aau, *ua<, *uaa, *uza, *zua</p>"
      ],
      "text/plain": [
       "<IPython.core.display.HTML object>"
      ]
     },
     "metadata": {},
     "output_type": "display_data"
    },
    {
     "data": {
      "text/html": [
       "<p style=\"color: purple; margin-bottom: 0; overflow: hidden;\"><strong>Tier:</strong> a, z</p>"
      ],
      "text/plain": [
       "<IPython.core.display.HTML object>"
      ]
     },
     "metadata": {},
     "output_type": "display_data"
    },
    {
     "data": {
      "text/html": [
       "<p style=\"color: purple; margin-bottom: 10px; overflow: hidden;\">*>z<, *>za, *aaa, *zaa</p>"
      ],
      "text/plain": [
       "<IPython.core.display.HTML object>"
      ]
     },
     "metadata": {},
     "output_type": "display_data"
    },
    {
     "data": {
      "text/html": [
       "<p style=\"color: purple; margin-bottom: 0; overflow: hidden;\"><strong>Tier:</strong> i, u</p>"
      ],
      "text/plain": [
       "<IPython.core.display.HTML object>"
      ]
     },
     "metadata": {},
     "output_type": "display_data"
    },
    {
     "data": {
      "text/html": [
       "<p style=\"color: purple; margin-bottom: 10px; overflow: hidden;\">*ui<, *uui, *uuu</p>"
      ],
      "text/plain": [
       "<IPython.core.display.HTML object>"
      ]
     },
     "metadata": {},
     "output_type": "display_data"
    },
    {
     "data": {
      "text/html": [
       "<p style=\"color: purple; margin-bottom: 0; overflow: hidden;\"><strong>Tier:</strong> i, u, z</p>"
      ],
      "text/plain": [
       "<IPython.core.display.HTML object>"
      ]
     },
     "metadata": {},
     "output_type": "display_data"
    },
    {
     "data": {
      "text/html": [
       "<p style=\"color: purple; margin-bottom: 10px; overflow: hidden;\">*>uz, *>zu, *zuu</p>"
      ],
      "text/plain": [
       "<IPython.core.display.HTML object>"
      ]
     },
     "metadata": {},
     "output_type": "display_data"
    },
    {
     "name": "stdout",
     "output_type": "stream",
     "text": [
      "\n"
     ]
    },
    {
     "data": {
      "text/html": [
       "<hr><hr>"
      ],
      "text/plain": [
       "<IPython.core.display.HTML object>"
      ]
     },
     "metadata": {},
     "output_type": "display_data"
    },
    {
     "data": {
      "text/html": [
       "<h2>Dataset</h2>"
      ],
      "text/plain": [
       "<IPython.core.display.HTML object>"
      ]
     },
     "metadata": {},
     "output_type": "display_data"
    },
    {
     "name": "stdout",
     "output_type": "stream",
     "text": [
      "auuu\n",
      "iuauau\n",
      "iaai\n",
      "aiaai\n",
      "\n"
     ]
    },
    {
     "data": {
      "text/html": [
       "<h2><em>k</em>-MTSLIA</h2>"
      ],
      "text/plain": [
       "<IPython.core.display.HTML object>"
      ]
     },
     "metadata": {},
     "output_type": "display_data"
    },
    {
     "data": {
      "text/html": [
       "<p style=\"color: teal; margin-bottom: 0; overflow: hidden;\"><strong>Tier:</strong> a, i</p>"
      ],
      "text/plain": [
       "<IPython.core.display.HTML object>"
      ]
     },
     "metadata": {},
     "output_type": "display_data"
    },
    {
     "data": {
      "text/html": [
       "<p style=\"color: teal; margin-bottom: 10px; overflow: hidden;\">*>aa, *>i<, *>ii, *aaa, *aii, *ia<, *iai, *ii<, *iia</p>"
      ],
      "text/plain": [
       "<IPython.core.display.HTML object>"
      ]
     },
     "metadata": {},
     "output_type": "display_data"
    },
    {
     "data": {
      "text/html": [
       "<p style=\"color: teal; margin-bottom: 0; overflow: hidden;\"><strong>Tier:</strong> a, i, u</p>"
      ],
      "text/plain": [
       "<IPython.core.display.HTML object>"
      ]
     },
     "metadata": {},
     "output_type": "display_data"
    },
    {
     "data": {
      "text/html": [
       "<p style=\"color: teal; margin-bottom: 10px; overflow: hidden;\">*>>u, *>ua, *a<<, *aa<, *aiu, *aui, *iau, *iuu, *uai, *uia</p>"
      ],
      "text/plain": [
       "<IPython.core.display.HTML object>"
      ]
     },
     "metadata": {},
     "output_type": "display_data"
    },
    {
     "data": {
      "text/html": [
       "<p style=\"color: teal; margin-bottom: 0; overflow: hidden;\"><strong>Tier:</strong> a, u</p>"
      ],
      "text/plain": [
       "<IPython.core.display.HTML object>"
      ]
     },
     "metadata": {},
     "output_type": "display_data"
    },
    {
     "data": {
      "text/html": [
       "<p style=\"color: teal; margin-bottom: 10px; overflow: hidden;\">*>a<, *>uu, *aau, *ua<, *uaa, *uua</p>"
      ],
      "text/plain": [
       "<IPython.core.display.HTML object>"
      ]
     },
     "metadata": {},
     "output_type": "display_data"
    },
    {
     "data": {
      "text/html": [
       "<p style=\"color: teal; margin-bottom: 0; overflow: hidden;\"><strong>Tier:</strong> i</p>"
      ],
      "text/plain": [
       "<IPython.core.display.HTML object>"
      ]
     },
     "metadata": {},
     "output_type": "display_data"
    },
    {
     "data": {
      "text/html": [
       "<p style=\"color: teal; margin-bottom: 10px; overflow: hidden;\">*iii</p>"
      ],
      "text/plain": [
       "<IPython.core.display.HTML object>"
      ]
     },
     "metadata": {},
     "output_type": "display_data"
    },
    {
     "data": {
      "text/html": [
       "<p style=\"color: teal; margin-bottom: 0; overflow: hidden;\"><strong>Tier:</strong> i, u</p>"
      ],
      "text/plain": [
       "<IPython.core.display.HTML object>"
      ]
     },
     "metadata": {},
     "output_type": "display_data"
    },
    {
     "data": {
      "text/html": [
       "<p style=\"color: teal; margin-bottom: 10px; overflow: hidden;\">*>ui, *iiu, *iu<, *iui, *ui<, *uii, *uiu, *uui</p>"
      ],
      "text/plain": [
       "<IPython.core.display.HTML object>"
      ]
     },
     "metadata": {},
     "output_type": "display_data"
    },
    {
     "data": {
      "text/html": [
       "<p style=\"color: teal; margin-bottom: 0; overflow: hidden;\"><strong>Tier:</strong> u</p>"
      ],
      "text/plain": [
       "<IPython.core.display.HTML object>"
      ]
     },
     "metadata": {},
     "output_type": "display_data"
    },
    {
     "data": {
      "text/html": [
       "<p style=\"color: teal; margin-bottom: 10px; overflow: hidden;\">*>u<</p>"
      ],
      "text/plain": [
       "<IPython.core.display.HTML object>"
      ]
     },
     "metadata": {},
     "output_type": "display_data"
    },
    {
     "name": "stdout",
     "output_type": "stream",
     "text": [
      "\n"
     ]
    },
    {
     "data": {
      "text/html": [
       "<h2>Brute force</h2>"
      ],
      "text/plain": [
       "<IPython.core.display.HTML object>"
      ]
     },
     "metadata": {},
     "output_type": "display_data"
    },
    {
     "data": {
      "text/html": [
       "<p style=\"color: purple; margin-bottom: 0; overflow: hidden;\"><strong>Tier:</strong> a, i</p>"
      ],
      "text/plain": [
       "<IPython.core.display.HTML object>"
      ]
     },
     "metadata": {},
     "output_type": "display_data"
    },
    {
     "data": {
      "text/html": [
       "<p style=\"color: purple; margin-bottom: 10px; overflow: hidden;\">*>aa, *>i<, *>ii, *aaa, *aii, *ia<, *iai, *ii<, *iia</p>"
      ],
      "text/plain": [
       "<IPython.core.display.HTML object>"
      ]
     },
     "metadata": {},
     "output_type": "display_data"
    },
    {
     "data": {
      "text/html": [
       "<p style=\"color: purple; margin-bottom: 0; overflow: hidden;\"><strong>Tier:</strong> a, i, u</p>"
      ],
      "text/plain": [
       "<IPython.core.display.HTML object>"
      ]
     },
     "metadata": {},
     "output_type": "display_data"
    },
    {
     "data": {
      "text/html": [
       "<p style=\"color: purple; margin-bottom: 10px; overflow: hidden;\">*>>u, *>ua, *a<<, *aa<, *aiu, *aui, *iau, *iuu, *uai, *uia</p>"
      ],
      "text/plain": [
       "<IPython.core.display.HTML object>"
      ]
     },
     "metadata": {},
     "output_type": "display_data"
    },
    {
     "data": {
      "text/html": [
       "<p style=\"color: purple; margin-bottom: 0; overflow: hidden;\"><strong>Tier:</strong> a, u</p>"
      ],
      "text/plain": [
       "<IPython.core.display.HTML object>"
      ]
     },
     "metadata": {},
     "output_type": "display_data"
    },
    {
     "data": {
      "text/html": [
       "<p style=\"color: purple; margin-bottom: 10px; overflow: hidden;\">*>a<, *>uu, *aau, *ua<, *uaa, *uua</p>"
      ],
      "text/plain": [
       "<IPython.core.display.HTML object>"
      ]
     },
     "metadata": {},
     "output_type": "display_data"
    },
    {
     "data": {
      "text/html": [
       "<p style=\"color: purple; margin-bottom: 0; overflow: hidden;\"><strong>Tier:</strong> i</p>"
      ],
      "text/plain": [
       "<IPython.core.display.HTML object>"
      ]
     },
     "metadata": {},
     "output_type": "display_data"
    },
    {
     "data": {
      "text/html": [
       "<p style=\"color: purple; margin-bottom: 10px; overflow: hidden;\">*iii</p>"
      ],
      "text/plain": [
       "<IPython.core.display.HTML object>"
      ]
     },
     "metadata": {},
     "output_type": "display_data"
    },
    {
     "data": {
      "text/html": [
       "<p style=\"color: purple; margin-bottom: 0; overflow: hidden;\"><strong>Tier:</strong> i, u</p>"
      ],
      "text/plain": [
       "<IPython.core.display.HTML object>"
      ]
     },
     "metadata": {},
     "output_type": "display_data"
    },
    {
     "data": {
      "text/html": [
       "<p style=\"color: purple; margin-bottom: 10px; overflow: hidden;\">*>ui, *iiu, *iu<, *iui, *ui<, *uii, *uiu, *uui</p>"
      ],
      "text/plain": [
       "<IPython.core.display.HTML object>"
      ]
     },
     "metadata": {},
     "output_type": "display_data"
    },
    {
     "data": {
      "text/html": [
       "<p style=\"color: purple; margin-bottom: 0; overflow: hidden;\"><strong>Tier:</strong> u</p>"
      ],
      "text/plain": [
       "<IPython.core.display.HTML object>"
      ]
     },
     "metadata": {},
     "output_type": "display_data"
    },
    {
     "data": {
      "text/html": [
       "<p style=\"color: purple; margin-bottom: 10px; overflow: hidden;\">*>u<</p>"
      ],
      "text/plain": [
       "<IPython.core.display.HTML object>"
      ]
     },
     "metadata": {},
     "output_type": "display_data"
    },
    {
     "name": "stdout",
     "output_type": "stream",
     "text": [
      "\n"
     ]
    },
    {
     "data": {
      "text/html": [
       "<hr><hr>"
      ],
      "text/plain": [
       "<IPython.core.display.HTML object>"
      ]
     },
     "metadata": {},
     "output_type": "display_data"
    },
    {
     "data": {
      "text/html": [
       "<h2>Dataset</h2>"
      ],
      "text/plain": [
       "<IPython.core.display.HTML object>"
      ]
     },
     "metadata": {},
     "output_type": "display_data"
    },
    {
     "name": "stdout",
     "output_type": "stream",
     "text": [
      "ssuuass\n",
      "siuuzisz\n",
      "sszziazi\n",
      "zuiaius\n",
      "iszzsis\n",
      "uuau\n",
      "u\n",
      "sazussi\n",
      "zaazuss\n",
      "iiuzusi\n",
      "uizssi\n",
      "\n"
     ]
    },
    {
     "data": {
      "text/html": [
       "<h2><em>k</em>-MTSLIA</h2>"
      ],
      "text/plain": [
       "<IPython.core.display.HTML object>"
      ]
     },
     "metadata": {},
     "output_type": "display_data"
    },
    {
     "data": {
      "text/html": [
       "<p style=\"color: teal; margin-bottom: 0; overflow: hidden;\"><strong>Tier:</strong> a</p>"
      ],
      "text/plain": [
       "<IPython.core.display.HTML object>"
      ]
     },
     "metadata": {},
     "output_type": "display_data"
    },
    {
     "data": {
      "text/html": [
       "<p style=\"color: teal; margin-bottom: 10px; overflow: hidden;\">*aaa</p>"
      ],
      "text/plain": [
       "<IPython.core.display.HTML object>"
      ]
     },
     "metadata": {},
     "output_type": "display_data"
    },
    {
     "data": {
      "text/html": [
       "<p style=\"color: teal; margin-bottom: 0; overflow: hidden;\"><strong>Tier:</strong> a, i</p>"
      ],
      "text/plain": [
       "<IPython.core.display.HTML object>"
      ]
     },
     "metadata": {},
     "output_type": "display_data"
    },
    {
     "data": {
      "text/html": [
       "<p style=\"color: teal; margin-bottom: 10px; overflow: hidden;\">*>i<, *aai, *aia, *aii, *ia<, *iaa, *iia</p>"
      ],
      "text/plain": [
       "<IPython.core.display.HTML object>"
      ]
     },
     "metadata": {},
     "output_type": "display_data"
    },
    {
     "data": {
      "text/html": [
       "<p style=\"color: teal; margin-bottom: 0; overflow: hidden;\"><strong>Tier:</strong> a, i, s</p>"
      ],
      "text/plain": [
       "<IPython.core.display.HTML object>"
      ]
     },
     "metadata": {},
     "output_type": "display_data"
    },
    {
     "data": {
      "text/html": [
       "<p style=\"color: teal; margin-bottom: 10px; overflow: hidden;\">*>ai, *>as, *as<, *asi, *ias, *ii<, *isa, *sa<, *sai, *sss</p>"
      ],
      "text/plain": [
       "<IPython.core.display.HTML object>"
      ]
     },
     "metadata": {},
     "output_type": "display_data"
    },
    {
     "data": {
      "text/html": [
       "<p style=\"color: teal; margin-bottom: 0; overflow: hidden;\"><strong>Tier:</strong> a, i, s, u</p>"
      ],
      "text/plain": [
       "<IPython.core.display.HTML object>"
      ]
     },
     "metadata": {},
     "output_type": "display_data"
    },
    {
     "data": {
      "text/html": [
       "<p style=\"color: teal; margin-bottom: 10px; overflow: hidden;\">*>ia, *>su, *>us, *a<<, *ais, *aui, *sii, *ssa, *uii</p>"
      ],
      "text/plain": [
       "<IPython.core.display.HTML object>"
      ]
     },
     "metadata": {},
     "output_type": "display_data"
    },
    {
     "data": {
      "text/html": [
       "<p style=\"color: teal; margin-bottom: 0; overflow: hidden;\"><strong>Tier:</strong> a, i, s, u, z</p>"
      ],
      "text/plain": [
       "<IPython.core.display.HTML object>"
      ]
     },
     "metadata": {},
     "output_type": "display_data"
    },
    {
     "data": {
      "text/html": [
       "<p style=\"color: teal; margin-bottom: 10px; overflow: hidden;\">*aus, *izi</p>"
      ],
      "text/plain": [
       "<IPython.core.display.HTML object>"
      ]
     },
     "metadata": {},
     "output_type": "display_data"
    },
    {
     "data": {
      "text/html": [
       "<p style=\"color: teal; margin-bottom: 0; overflow: hidden;\"><strong>Tier:</strong> a, i, s, z</p>"
      ],
      "text/plain": [
       "<IPython.core.display.HTML object>"
      ]
     },
     "metadata": {},
     "output_type": "display_data"
    },
    {
     "data": {
      "text/html": [
       "<p style=\"color: teal; margin-bottom: 10px; overflow: hidden;\">*>sz, *ai<, *az<, *sia, *szs, *zas, *ziz</p>"
      ],
      "text/plain": [
       "<IPython.core.display.HTML object>"
      ]
     },
     "metadata": {},
     "output_type": "display_data"
    },
    {
     "data": {
      "text/html": [
       "<p style=\"color: teal; margin-bottom: 0; overflow: hidden;\"><strong>Tier:</strong> a, i, u</p>"
      ],
      "text/plain": [
       "<IPython.core.display.HTML object>"
      ]
     },
     "metadata": {},
     "output_type": "display_data"
    },
    {
     "data": {
      "text/html": [
       "<p style=\"color: teal; margin-bottom: 10px; overflow: hidden;\">*>a<, *>ua, *iau, *iua, *uai, *uu<</p>"
      ],
      "text/plain": [
       "<IPython.core.display.HTML object>"
      ]
     },
     "metadata": {},
     "output_type": "display_data"
    },
    {
     "data": {
      "text/html": [
       "<p style=\"color: teal; margin-bottom: 0; overflow: hidden;\"><strong>Tier:</strong> a, i, u, z</p>"
      ],
      "text/plain": [
       "<IPython.core.display.HTML object>"
      ]
     },
     "metadata": {},
     "output_type": "display_data"
    },
    {
     "data": {
      "text/html": [
       "<p style=\"color: teal; margin-bottom: 10px; overflow: hidden;\">*zua</p>"
      ],
      "text/plain": [
       "<IPython.core.display.HTML object>"
      ]
     },
     "metadata": {},
     "output_type": "display_data"
    },
    {
     "data": {
      "text/html": [
       "<p style=\"color: teal; margin-bottom: 0; overflow: hidden;\"><strong>Tier:</strong> a, i, z</p>"
      ],
      "text/plain": [
       "<IPython.core.display.HTML object>"
      ]
     },
     "metadata": {},
     "output_type": "display_data"
    },
    {
     "data": {
      "text/html": [
       "<p style=\"color: teal; margin-bottom: 10px; overflow: hidden;\">*aiz, *iza, *za<, *zai, *zaz, *zii, *zz<, *zza</p>"
      ],
      "text/plain": [
       "<IPython.core.display.HTML object>"
      ]
     },
     "metadata": {},
     "output_type": "display_data"
    },
    {
     "data": {
      "text/html": [
       "<p style=\"color: teal; margin-bottom: 0; overflow: hidden;\"><strong>Tier:</strong> a, s</p>"
      ],
      "text/plain": [
       "<IPython.core.display.HTML object>"
      ]
     },
     "metadata": {},
     "output_type": "display_data"
    },
    {
     "data": {
      "text/html": [
       "<p style=\"color: teal; margin-bottom: 10px; overflow: hidden;\">*aa<, *asa, *saa</p>"
      ],
      "text/plain": [
       "<IPython.core.display.HTML object>"
      ]
     },
     "metadata": {},
     "output_type": "display_data"
    },
    {
     "data": {
      "text/html": [
       "<p style=\"color: teal; margin-bottom: 0; overflow: hidden;\"><strong>Tier:</strong> a, s, u</p>"
      ],
      "text/plain": [
       "<IPython.core.display.HTML object>"
      ]
     },
     "metadata": {},
     "output_type": "display_data"
    },
    {
     "data": {
      "text/html": [
       "<p style=\"color: teal; margin-bottom: 10px; overflow: hidden;\">*>au, *aas, *asu, *sas, *sua, *sus, *ua<, *usa</p>"
      ],
      "text/plain": [
       "<IPython.core.display.HTML object>"
      ]
     },
     "metadata": {},
     "output_type": "display_data"
    },
    {
     "data": {
      "text/html": [
       "<p style=\"color: teal; margin-bottom: 0; overflow: hidden;\"><strong>Tier:</strong> a, s, u, z</p>"
      ],
      "text/plain": [
       "<IPython.core.display.HTML object>"
      ]
     },
     "metadata": {},
     "output_type": "display_data"
    },
    {
     "data": {
      "text/html": [
       "<p style=\"color: teal; margin-bottom: 10px; overflow: hidden;\">*>>a, *azs, *sau, *szu, *uus</p>"
      ],
      "text/plain": [
       "<IPython.core.display.HTML object>"
      ]
     },
     "metadata": {},
     "output_type": "display_data"
    },
    {
     "data": {
      "text/html": [
       "<p style=\"color: teal; margin-bottom: 0; overflow: hidden;\"><strong>Tier:</strong> a, s, z</p>"
      ],
      "text/plain": [
       "<IPython.core.display.HTML object>"
      ]
     },
     "metadata": {},
     "output_type": "display_data"
    },
    {
     "data": {
      "text/html": [
       "<p style=\"color: teal; margin-bottom: 10px; overflow: hidden;\">*>az, *>zz, *asz, *sza, *zsa</p>"
      ],
      "text/plain": [
       "<IPython.core.display.HTML object>"
      ]
     },
     "metadata": {},
     "output_type": "display_data"
    },
    {
     "data": {
      "text/html": [
       "<p style=\"color: teal; margin-bottom: 0; overflow: hidden;\"><strong>Tier:</strong> a, u</p>"
      ],
      "text/plain": [
       "<IPython.core.display.HTML object>"
      ]
     },
     "metadata": {},
     "output_type": "display_data"
    },
    {
     "data": {
      "text/html": [
       "<p style=\"color: teal; margin-bottom: 10px; overflow: hidden;\">*aua, *auu, *uaa, *uuu</p>"
      ],
      "text/plain": [
       "<IPython.core.display.HTML object>"
      ]
     },
     "metadata": {},
     "output_type": "display_data"
    },
    {
     "data": {
      "text/html": [
       "<p style=\"color: teal; margin-bottom: 0; overflow: hidden;\"><strong>Tier:</strong> a, u, z</p>"
      ],
      "text/plain": [
       "<IPython.core.display.HTML object>"
      ]
     },
     "metadata": {},
     "output_type": "display_data"
    },
    {
     "data": {
      "text/html": [
       "<p style=\"color: teal; margin-bottom: 10px; overflow: hidden;\">*aau, *auz, *uaz, *uza, *zau, *zuu, *zzu</p>"
      ],
      "text/plain": [
       "<IPython.core.display.HTML object>"
      ]
     },
     "metadata": {},
     "output_type": "display_data"
    },
    {
     "data": {
      "text/html": [
       "<p style=\"color: teal; margin-bottom: 0; overflow: hidden;\"><strong>Tier:</strong> a, z</p>"
      ],
      "text/plain": [
       "<IPython.core.display.HTML object>"
      ]
     },
     "metadata": {},
     "output_type": "display_data"
    },
    {
     "data": {
      "text/html": [
       "<p style=\"color: teal; margin-bottom: 10px; overflow: hidden;\">*>aa, *aza, *azz, *zzz</p>"
      ],
      "text/plain": [
       "<IPython.core.display.HTML object>"
      ]
     },
     "metadata": {},
     "output_type": "display_data"
    },
    {
     "data": {
      "text/html": [
       "<p style=\"color: teal; margin-bottom: 0; overflow: hidden;\"><strong>Tier:</strong> i, s</p>"
      ],
      "text/plain": [
       "<IPython.core.display.HTML object>"
      ]
     },
     "metadata": {},
     "output_type": "display_data"
    },
    {
     "data": {
      "text/html": [
       "<p style=\"color: teal; margin-bottom: 10px; overflow: hidden;\">*>s<, *iii</p>"
      ],
      "text/plain": [
       "<IPython.core.display.HTML object>"
      ]
     },
     "metadata": {},
     "output_type": "display_data"
    },
    {
     "data": {
      "text/html": [
       "<p style=\"color: teal; margin-bottom: 0; overflow: hidden;\"><strong>Tier:</strong> i, s, u</p>"
      ],
      "text/plain": [
       "<IPython.core.display.HTML object>"
      ]
     },
     "metadata": {},
     "output_type": "display_data"
    },
    {
     "data": {
      "text/html": [
       "<p style=\"color: teal; margin-bottom: 10px; overflow: hidden;\">*>iu, *iis, *isi, *isu, *iu<, *sui, *ui<</p>"
      ],
      "text/plain": [
       "<IPython.core.display.HTML object>"
      ]
     },
     "metadata": {},
     "output_type": "display_data"
    },
    {
     "data": {
      "text/html": [
       "<p style=\"color: teal; margin-bottom: 0; overflow: hidden;\"><strong>Tier:</strong> i, s, u, z</p>"
      ],
      "text/plain": [
       "<IPython.core.display.HTML object>"
      ]
     },
     "metadata": {},
     "output_type": "display_data"
    },
    {
     "data": {
      "text/html": [
       "<p style=\"color: teal; margin-bottom: 10px; overflow: hidden;\">*>iz, *siz, *uis, *uzs</p>"
      ],
      "text/plain": [
       "<IPython.core.display.HTML object>"
      ]
     },
     "metadata": {},
     "output_type": "display_data"
    },
    {
     "data": {
      "text/html": [
       "<p style=\"color: teal; margin-bottom: 0; overflow: hidden;\"><strong>Tier:</strong> i, s, z</p>"
      ],
      "text/plain": [
       "<IPython.core.display.HTML object>"
      ]
     },
     "metadata": {},
     "output_type": "display_data"
    },
    {
     "data": {
      "text/html": [
       "<p style=\"color: teal; margin-bottom: 10px; overflow: hidden;\">*>zs, *iss, *iz<, *izz, *szi, *zs<, *zsz</p>"
      ],
      "text/plain": [
       "<IPython.core.display.HTML object>"
      ]
     },
     "metadata": {},
     "output_type": "display_data"
    },
    {
     "data": {
      "text/html": [
       "<p style=\"color: teal; margin-bottom: 0; overflow: hidden;\"><strong>Tier:</strong> i, u</p>"
      ],
      "text/plain": [
       "<IPython.core.display.HTML object>"
      ]
     },
     "metadata": {},
     "output_type": "display_data"
    },
    {
     "data": {
      "text/html": [
       "<p style=\"color: teal; margin-bottom: 10px; overflow: hidden;\">*iui, *uiu</p>"
      ],
      "text/plain": [
       "<IPython.core.display.HTML object>"
      ]
     },
     "metadata": {},
     "output_type": "display_data"
    },
    {
     "data": {
      "text/html": [
       "<p style=\"color: teal; margin-bottom: 0; overflow: hidden;\"><strong>Tier:</strong> i, u, z</p>"
      ],
      "text/plain": [
       "<IPython.core.display.HTML object>"
      ]
     },
     "metadata": {},
     "output_type": "display_data"
    },
    {
     "data": {
      "text/html": [
       "<p style=\"color: teal; margin-bottom: 10px; overflow: hidden;\">*>uz, *>zi, *iiz, *izu, *uui, *uz<, *uzz, *ziu</p>"
      ],
      "text/plain": [
       "<IPython.core.display.HTML object>"
      ]
     },
     "metadata": {},
     "output_type": "display_data"
    },
    {
     "data": {
      "text/html": [
       "<p style=\"color: teal; margin-bottom: 0; overflow: hidden;\"><strong>Tier:</strong> i, z</p>"
      ],
      "text/plain": [
       "<IPython.core.display.HTML object>"
      ]
     },
     "metadata": {},
     "output_type": "display_data"
    },
    {
     "data": {
      "text/html": [
       "<p style=\"color: teal; margin-bottom: 10px; overflow: hidden;\">*>z<</p>"
      ],
      "text/plain": [
       "<IPython.core.display.HTML object>"
      ]
     },
     "metadata": {},
     "output_type": "display_data"
    },
    {
     "data": {
      "text/html": [
       "<p style=\"color: teal; margin-bottom: 0; overflow: hidden;\"><strong>Tier:</strong> s, u</p>"
      ],
      "text/plain": [
       "<IPython.core.display.HTML object>"
      ]
     },
     "metadata": {},
     "output_type": "display_data"
    },
    {
     "data": {
      "text/html": [
       "<p style=\"color: teal; margin-bottom: 10px; overflow: hidden;\">*su<, *usu</p>"
      ],
      "text/plain": [
       "<IPython.core.display.HTML object>"
      ]
     },
     "metadata": {},
     "output_type": "display_data"
    },
    {
     "data": {
      "text/html": [
       "<p style=\"color: teal; margin-bottom: 0; overflow: hidden;\"><strong>Tier:</strong> s, u, z</p>"
      ],
      "text/plain": [
       "<IPython.core.display.HTML object>"
      ]
     },
     "metadata": {},
     "output_type": "display_data"
    },
    {
     "data": {
      "text/html": [
       "<p style=\"color: teal; margin-bottom: 10px; overflow: hidden;\">*suz, *usz, *zsu, *zu<</p>"
      ],
      "text/plain": [
       "<IPython.core.display.HTML object>"
      ]
     },
     "metadata": {},
     "output_type": "display_data"
    },
    {
     "data": {
      "text/html": [
       "<p style=\"color: teal; margin-bottom: 0; overflow: hidden;\"><strong>Tier:</strong> u, z</p>"
      ],
      "text/plain": [
       "<IPython.core.display.HTML object>"
      ]
     },
     "metadata": {},
     "output_type": "display_data"
    },
    {
     "data": {
      "text/html": [
       "<p style=\"color: teal; margin-bottom: 10px; overflow: hidden;\">*zuz</p>"
      ],
      "text/plain": [
       "<IPython.core.display.HTML object>"
      ]
     },
     "metadata": {},
     "output_type": "display_data"
    },
    {
     "name": "stdout",
     "output_type": "stream",
     "text": [
      "\n"
     ]
    },
    {
     "data": {
      "text/html": [
       "<h2>Brute force</h2>"
      ],
      "text/plain": [
       "<IPython.core.display.HTML object>"
      ]
     },
     "metadata": {},
     "output_type": "display_data"
    },
    {
     "data": {
      "text/html": [
       "<p style=\"color: purple; margin-bottom: 0; overflow: hidden;\"><strong>Tier:</strong> a</p>"
      ],
      "text/plain": [
       "<IPython.core.display.HTML object>"
      ]
     },
     "metadata": {},
     "output_type": "display_data"
    },
    {
     "data": {
      "text/html": [
       "<p style=\"color: purple; margin-bottom: 10px; overflow: hidden;\">*aaa</p>"
      ],
      "text/plain": [
       "<IPython.core.display.HTML object>"
      ]
     },
     "metadata": {},
     "output_type": "display_data"
    },
    {
     "data": {
      "text/html": [
       "<p style=\"color: purple; margin-bottom: 0; overflow: hidden;\"><strong>Tier:</strong> a, i</p>"
      ],
      "text/plain": [
       "<IPython.core.display.HTML object>"
      ]
     },
     "metadata": {},
     "output_type": "display_data"
    },
    {
     "data": {
      "text/html": [
       "<p style=\"color: purple; margin-bottom: 10px; overflow: hidden;\">*>i<, *aai, *aia, *aii, *ia<, *iaa, *iia</p>"
      ],
      "text/plain": [
       "<IPython.core.display.HTML object>"
      ]
     },
     "metadata": {},
     "output_type": "display_data"
    },
    {
     "data": {
      "text/html": [
       "<p style=\"color: purple; margin-bottom: 0; overflow: hidden;\"><strong>Tier:</strong> a, i, s</p>"
      ],
      "text/plain": [
       "<IPython.core.display.HTML object>"
      ]
     },
     "metadata": {},
     "output_type": "display_data"
    },
    {
     "data": {
      "text/html": [
       "<p style=\"color: purple; margin-bottom: 10px; overflow: hidden;\">*>ai, *>as, *as<, *asi, *ias, *ii<, *isa, *sa<, *sai, *sss</p>"
      ],
      "text/plain": [
       "<IPython.core.display.HTML object>"
      ]
     },
     "metadata": {},
     "output_type": "display_data"
    },
    {
     "data": {
      "text/html": [
       "<p style=\"color: purple; margin-bottom: 0; overflow: hidden;\"><strong>Tier:</strong> a, i, s, u</p>"
      ],
      "text/plain": [
       "<IPython.core.display.HTML object>"
      ]
     },
     "metadata": {},
     "output_type": "display_data"
    },
    {
     "data": {
      "text/html": [
       "<p style=\"color: purple; margin-bottom: 10px; overflow: hidden;\">*>ia, *>su, *>us, *a<<, *ais, *aui, *sii, *ssa, *uii</p>"
      ],
      "text/plain": [
       "<IPython.core.display.HTML object>"
      ]
     },
     "metadata": {},
     "output_type": "display_data"
    },
    {
     "data": {
      "text/html": [
       "<p style=\"color: purple; margin-bottom: 0; overflow: hidden;\"><strong>Tier:</strong> a, i, s, u, z</p>"
      ],
      "text/plain": [
       "<IPython.core.display.HTML object>"
      ]
     },
     "metadata": {},
     "output_type": "display_data"
    },
    {
     "data": {
      "text/html": [
       "<p style=\"color: purple; margin-bottom: 10px; overflow: hidden;\">*aus, *izi</p>"
      ],
      "text/plain": [
       "<IPython.core.display.HTML object>"
      ]
     },
     "metadata": {},
     "output_type": "display_data"
    },
    {
     "data": {
      "text/html": [
       "<p style=\"color: purple; margin-bottom: 0; overflow: hidden;\"><strong>Tier:</strong> a, i, s, z</p>"
      ],
      "text/plain": [
       "<IPython.core.display.HTML object>"
      ]
     },
     "metadata": {},
     "output_type": "display_data"
    },
    {
     "data": {
      "text/html": [
       "<p style=\"color: purple; margin-bottom: 10px; overflow: hidden;\">*>sz, *ai<, *az<, *sia, *szs, *zas, *ziz</p>"
      ],
      "text/plain": [
       "<IPython.core.display.HTML object>"
      ]
     },
     "metadata": {},
     "output_type": "display_data"
    },
    {
     "data": {
      "text/html": [
       "<p style=\"color: purple; margin-bottom: 0; overflow: hidden;\"><strong>Tier:</strong> a, i, u</p>"
      ],
      "text/plain": [
       "<IPython.core.display.HTML object>"
      ]
     },
     "metadata": {},
     "output_type": "display_data"
    },
    {
     "data": {
      "text/html": [
       "<p style=\"color: purple; margin-bottom: 10px; overflow: hidden;\">*>a<, *>ua, *iau, *iua, *uai, *uu<</p>"
      ],
      "text/plain": [
       "<IPython.core.display.HTML object>"
      ]
     },
     "metadata": {},
     "output_type": "display_data"
    },
    {
     "data": {
      "text/html": [
       "<p style=\"color: purple; margin-bottom: 0; overflow: hidden;\"><strong>Tier:</strong> a, i, u, z</p>"
      ],
      "text/plain": [
       "<IPython.core.display.HTML object>"
      ]
     },
     "metadata": {},
     "output_type": "display_data"
    },
    {
     "data": {
      "text/html": [
       "<p style=\"color: purple; margin-bottom: 10px; overflow: hidden;\">*zua</p>"
      ],
      "text/plain": [
       "<IPython.core.display.HTML object>"
      ]
     },
     "metadata": {},
     "output_type": "display_data"
    },
    {
     "data": {
      "text/html": [
       "<p style=\"color: purple; margin-bottom: 0; overflow: hidden;\"><strong>Tier:</strong> a, i, z</p>"
      ],
      "text/plain": [
       "<IPython.core.display.HTML object>"
      ]
     },
     "metadata": {},
     "output_type": "display_data"
    },
    {
     "data": {
      "text/html": [
       "<p style=\"color: purple; margin-bottom: 10px; overflow: hidden;\">*aiz, *iza, *za<, *zai, *zaz, *zii, *zz<, *zza</p>"
      ],
      "text/plain": [
       "<IPython.core.display.HTML object>"
      ]
     },
     "metadata": {},
     "output_type": "display_data"
    },
    {
     "data": {
      "text/html": [
       "<p style=\"color: purple; margin-bottom: 0; overflow: hidden;\"><strong>Tier:</strong> a, s</p>"
      ],
      "text/plain": [
       "<IPython.core.display.HTML object>"
      ]
     },
     "metadata": {},
     "output_type": "display_data"
    },
    {
     "data": {
      "text/html": [
       "<p style=\"color: purple; margin-bottom: 10px; overflow: hidden;\">*aa<, *asa, *saa</p>"
      ],
      "text/plain": [
       "<IPython.core.display.HTML object>"
      ]
     },
     "metadata": {},
     "output_type": "display_data"
    },
    {
     "data": {
      "text/html": [
       "<p style=\"color: purple; margin-bottom: 0; overflow: hidden;\"><strong>Tier:</strong> a, s, u</p>"
      ],
      "text/plain": [
       "<IPython.core.display.HTML object>"
      ]
     },
     "metadata": {},
     "output_type": "display_data"
    },
    {
     "data": {
      "text/html": [
       "<p style=\"color: purple; margin-bottom: 10px; overflow: hidden;\">*>au, *aas, *asu, *sas, *sua, *sus, *ua<, *usa</p>"
      ],
      "text/plain": [
       "<IPython.core.display.HTML object>"
      ]
     },
     "metadata": {},
     "output_type": "display_data"
    },
    {
     "data": {
      "text/html": [
       "<p style=\"color: purple; margin-bottom: 0; overflow: hidden;\"><strong>Tier:</strong> a, s, u, z</p>"
      ],
      "text/plain": [
       "<IPython.core.display.HTML object>"
      ]
     },
     "metadata": {},
     "output_type": "display_data"
    },
    {
     "data": {
      "text/html": [
       "<p style=\"color: purple; margin-bottom: 10px; overflow: hidden;\">*>>a, *azs, *sau, *szu, *uus</p>"
      ],
      "text/plain": [
       "<IPython.core.display.HTML object>"
      ]
     },
     "metadata": {},
     "output_type": "display_data"
    },
    {
     "data": {
      "text/html": [
       "<p style=\"color: purple; margin-bottom: 0; overflow: hidden;\"><strong>Tier:</strong> a, s, z</p>"
      ],
      "text/plain": [
       "<IPython.core.display.HTML object>"
      ]
     },
     "metadata": {},
     "output_type": "display_data"
    },
    {
     "data": {
      "text/html": [
       "<p style=\"color: purple; margin-bottom: 10px; overflow: hidden;\">*>az, *>zz, *asz, *sza, *zsa</p>"
      ],
      "text/plain": [
       "<IPython.core.display.HTML object>"
      ]
     },
     "metadata": {},
     "output_type": "display_data"
    },
    {
     "data": {
      "text/html": [
       "<p style=\"color: purple; margin-bottom: 0; overflow: hidden;\"><strong>Tier:</strong> a, u</p>"
      ],
      "text/plain": [
       "<IPython.core.display.HTML object>"
      ]
     },
     "metadata": {},
     "output_type": "display_data"
    },
    {
     "data": {
      "text/html": [
       "<p style=\"color: purple; margin-bottom: 10px; overflow: hidden;\">*aua, *auu, *uaa, *uuu</p>"
      ],
      "text/plain": [
       "<IPython.core.display.HTML object>"
      ]
     },
     "metadata": {},
     "output_type": "display_data"
    },
    {
     "data": {
      "text/html": [
       "<p style=\"color: purple; margin-bottom: 0; overflow: hidden;\"><strong>Tier:</strong> a, u, z</p>"
      ],
      "text/plain": [
       "<IPython.core.display.HTML object>"
      ]
     },
     "metadata": {},
     "output_type": "display_data"
    },
    {
     "data": {
      "text/html": [
       "<p style=\"color: purple; margin-bottom: 10px; overflow: hidden;\">*aau, *auz, *uaz, *uza, *zau, *zuu, *zzu</p>"
      ],
      "text/plain": [
       "<IPython.core.display.HTML object>"
      ]
     },
     "metadata": {},
     "output_type": "display_data"
    },
    {
     "data": {
      "text/html": [
       "<p style=\"color: purple; margin-bottom: 0; overflow: hidden;\"><strong>Tier:</strong> a, z</p>"
      ],
      "text/plain": [
       "<IPython.core.display.HTML object>"
      ]
     },
     "metadata": {},
     "output_type": "display_data"
    },
    {
     "data": {
      "text/html": [
       "<p style=\"color: purple; margin-bottom: 10px; overflow: hidden;\">*>aa, *aza, *azz, *zzz</p>"
      ],
      "text/plain": [
       "<IPython.core.display.HTML object>"
      ]
     },
     "metadata": {},
     "output_type": "display_data"
    },
    {
     "data": {
      "text/html": [
       "<p style=\"color: purple; margin-bottom: 0; overflow: hidden;\"><strong>Tier:</strong> i, s</p>"
      ],
      "text/plain": [
       "<IPython.core.display.HTML object>"
      ]
     },
     "metadata": {},
     "output_type": "display_data"
    },
    {
     "data": {
      "text/html": [
       "<p style=\"color: purple; margin-bottom: 10px; overflow: hidden;\">*>s<, *iii</p>"
      ],
      "text/plain": [
       "<IPython.core.display.HTML object>"
      ]
     },
     "metadata": {},
     "output_type": "display_data"
    },
    {
     "data": {
      "text/html": [
       "<p style=\"color: purple; margin-bottom: 0; overflow: hidden;\"><strong>Tier:</strong> i, s, u</p>"
      ],
      "text/plain": [
       "<IPython.core.display.HTML object>"
      ]
     },
     "metadata": {},
     "output_type": "display_data"
    },
    {
     "data": {
      "text/html": [
       "<p style=\"color: purple; margin-bottom: 10px; overflow: hidden;\">*>iu, *iis, *isi, *isu, *iu<, *sui, *ui<</p>"
      ],
      "text/plain": [
       "<IPython.core.display.HTML object>"
      ]
     },
     "metadata": {},
     "output_type": "display_data"
    },
    {
     "data": {
      "text/html": [
       "<p style=\"color: purple; margin-bottom: 0; overflow: hidden;\"><strong>Tier:</strong> i, s, u, z</p>"
      ],
      "text/plain": [
       "<IPython.core.display.HTML object>"
      ]
     },
     "metadata": {},
     "output_type": "display_data"
    },
    {
     "data": {
      "text/html": [
       "<p style=\"color: purple; margin-bottom: 10px; overflow: hidden;\">*>iz, *siz, *uis, *uzs</p>"
      ],
      "text/plain": [
       "<IPython.core.display.HTML object>"
      ]
     },
     "metadata": {},
     "output_type": "display_data"
    },
    {
     "data": {
      "text/html": [
       "<p style=\"color: purple; margin-bottom: 0; overflow: hidden;\"><strong>Tier:</strong> i, s, z</p>"
      ],
      "text/plain": [
       "<IPython.core.display.HTML object>"
      ]
     },
     "metadata": {},
     "output_type": "display_data"
    },
    {
     "data": {
      "text/html": [
       "<p style=\"color: purple; margin-bottom: 10px; overflow: hidden;\">*>zs, *iss, *iz<, *izz, *szi, *zs<, *zsz</p>"
      ],
      "text/plain": [
       "<IPython.core.display.HTML object>"
      ]
     },
     "metadata": {},
     "output_type": "display_data"
    },
    {
     "data": {
      "text/html": [
       "<p style=\"color: purple; margin-bottom: 0; overflow: hidden;\"><strong>Tier:</strong> i, u</p>"
      ],
      "text/plain": [
       "<IPython.core.display.HTML object>"
      ]
     },
     "metadata": {},
     "output_type": "display_data"
    },
    {
     "data": {
      "text/html": [
       "<p style=\"color: purple; margin-bottom: 10px; overflow: hidden;\">*iui, *uiu</p>"
      ],
      "text/plain": [
       "<IPython.core.display.HTML object>"
      ]
     },
     "metadata": {},
     "output_type": "display_data"
    },
    {
     "data": {
      "text/html": [
       "<p style=\"color: purple; margin-bottom: 0; overflow: hidden;\"><strong>Tier:</strong> i, u, z</p>"
      ],
      "text/plain": [
       "<IPython.core.display.HTML object>"
      ]
     },
     "metadata": {},
     "output_type": "display_data"
    },
    {
     "data": {
      "text/html": [
       "<p style=\"color: purple; margin-bottom: 10px; overflow: hidden;\">*>uz, *>zi, *iiz, *izu, *uui, *uz<, *uzz, *ziu</p>"
      ],
      "text/plain": [
       "<IPython.core.display.HTML object>"
      ]
     },
     "metadata": {},
     "output_type": "display_data"
    },
    {
     "data": {
      "text/html": [
       "<p style=\"color: purple; margin-bottom: 0; overflow: hidden;\"><strong>Tier:</strong> i, z</p>"
      ],
      "text/plain": [
       "<IPython.core.display.HTML object>"
      ]
     },
     "metadata": {},
     "output_type": "display_data"
    },
    {
     "data": {
      "text/html": [
       "<p style=\"color: purple; margin-bottom: 10px; overflow: hidden;\">*>z<</p>"
      ],
      "text/plain": [
       "<IPython.core.display.HTML object>"
      ]
     },
     "metadata": {},
     "output_type": "display_data"
    },
    {
     "data": {
      "text/html": [
       "<p style=\"color: purple; margin-bottom: 0; overflow: hidden;\"><strong>Tier:</strong> s, u</p>"
      ],
      "text/plain": [
       "<IPython.core.display.HTML object>"
      ]
     },
     "metadata": {},
     "output_type": "display_data"
    },
    {
     "data": {
      "text/html": [
       "<p style=\"color: purple; margin-bottom: 10px; overflow: hidden;\">*su<, *usu</p>"
      ],
      "text/plain": [
       "<IPython.core.display.HTML object>"
      ]
     },
     "metadata": {},
     "output_type": "display_data"
    },
    {
     "data": {
      "text/html": [
       "<p style=\"color: purple; margin-bottom: 0; overflow: hidden;\"><strong>Tier:</strong> s, u, z</p>"
      ],
      "text/plain": [
       "<IPython.core.display.HTML object>"
      ]
     },
     "metadata": {},
     "output_type": "display_data"
    },
    {
     "data": {
      "text/html": [
       "<p style=\"color: purple; margin-bottom: 10px; overflow: hidden;\">*suz, *usz, *zsu, *zu<</p>"
      ],
      "text/plain": [
       "<IPython.core.display.HTML object>"
      ]
     },
     "metadata": {},
     "output_type": "display_data"
    },
    {
     "data": {
      "text/html": [
       "<p style=\"color: purple; margin-bottom: 0; overflow: hidden;\"><strong>Tier:</strong> u, z</p>"
      ],
      "text/plain": [
       "<IPython.core.display.HTML object>"
      ]
     },
     "metadata": {},
     "output_type": "display_data"
    },
    {
     "data": {
      "text/html": [
       "<p style=\"color: purple; margin-bottom: 10px; overflow: hidden;\">*zuz</p>"
      ],
      "text/plain": [
       "<IPython.core.display.HTML object>"
      ]
     },
     "metadata": {},
     "output_type": "display_data"
    },
    {
     "name": "stdout",
     "output_type": "stream",
     "text": [
      "\n"
     ]
    },
    {
     "data": {
      "text/html": [
       "<hr><hr>"
      ],
      "text/plain": [
       "<IPython.core.display.HTML object>"
      ]
     },
     "metadata": {},
     "output_type": "display_data"
    },
    {
     "data": {
      "text/html": [
       "<h2>Dataset</h2>"
      ],
      "text/plain": [
       "<IPython.core.display.HTML object>"
      ]
     },
     "metadata": {},
     "output_type": "display_data"
    },
    {
     "name": "stdout",
     "output_type": "stream",
     "text": [
      "aaa\n",
      "a\n",
      "iuaaiiuaia\n",
      "au\n",
      "u\n",
      "aauua\n",
      "\n"
     ]
    },
    {
     "data": {
      "text/html": [
       "<h2><em>k</em>-MTSLIA</h2>"
      ],
      "text/plain": [
       "<IPython.core.display.HTML object>"
      ]
     },
     "metadata": {},
     "output_type": "display_data"
    },
    {
     "data": {
      "text/html": [
       "<p style=\"color: teal; margin-bottom: 0; overflow: hidden;\"><strong>Tier:</strong> a, i</p>"
      ],
      "text/plain": [
       "<IPython.core.display.HTML object>"
      ]
     },
     "metadata": {},
     "output_type": "display_data"
    },
    {
     "data": {
      "text/html": [
       "<p style=\"color: teal; margin-bottom: 10px; overflow: hidden;\">*>ai, *>ii, *ai<, *i<<, *ii<, *iii</p>"
      ],
      "text/plain": [
       "<IPython.core.display.HTML object>"
      ]
     },
     "metadata": {},
     "output_type": "display_data"
    },
    {
     "data": {
      "text/html": [
       "<p style=\"color: teal; margin-bottom: 0; overflow: hidden;\"><strong>Tier:</strong> a, i, u</p>"
      ],
      "text/plain": [
       "<IPython.core.display.HTML object>"
      ]
     },
     "metadata": {},
     "output_type": "display_data"
    },
    {
     "data": {
      "text/html": [
       "<p style=\"color: teal; margin-bottom: 10px; overflow: hidden;\">*>ia, *>ua, *aiu, *aua, *aui, *iaa, *iai, *iau, *iia, *iui, *ui<, *uia, *uii</p>"
      ],
      "text/plain": [
       "<IPython.core.display.HTML object>"
      ]
     },
     "metadata": {},
     "output_type": "display_data"
    },
    {
     "data": {
      "text/html": [
       "<p style=\"color: teal; margin-bottom: 0; overflow: hidden;\"><strong>Tier:</strong> a, u</p>"
      ],
      "text/plain": [
       "<IPython.core.display.HTML object>"
      ]
     },
     "metadata": {},
     "output_type": "display_data"
    },
    {
     "data": {
      "text/html": [
       "<p style=\"color: teal; margin-bottom: 10px; overflow: hidden;\">*>uu, *uau, *uu<</p>"
      ],
      "text/plain": [
       "<IPython.core.display.HTML object>"
      ]
     },
     "metadata": {},
     "output_type": "display_data"
    },
    {
     "data": {
      "text/html": [
       "<p style=\"color: teal; margin-bottom: 0; overflow: hidden;\"><strong>Tier:</strong> i</p>"
      ],
      "text/plain": [
       "<IPython.core.display.HTML object>"
      ]
     },
     "metadata": {},
     "output_type": "display_data"
    },
    {
     "data": {
      "text/html": [
       "<p style=\"color: teal; margin-bottom: 10px; overflow: hidden;\">*>i<</p>"
      ],
      "text/plain": [
       "<IPython.core.display.HTML object>"
      ]
     },
     "metadata": {},
     "output_type": "display_data"
    },
    {
     "data": {
      "text/html": [
       "<p style=\"color: teal; margin-bottom: 0; overflow: hidden;\"><strong>Tier:</strong> i, u</p>"
      ],
      "text/plain": [
       "<IPython.core.display.HTML object>"
      ]
     },
     "metadata": {},
     "output_type": "display_data"
    },
    {
     "data": {
      "text/html": [
       "<p style=\"color: teal; margin-bottom: 10px; overflow: hidden;\">*>ui, *iu<, *iuu, *uiu, *uui</p>"
      ],
      "text/plain": [
       "<IPython.core.display.HTML object>"
      ]
     },
     "metadata": {},
     "output_type": "display_data"
    },
    {
     "data": {
      "text/html": [
       "<p style=\"color: teal; margin-bottom: 0; overflow: hidden;\"><strong>Tier:</strong> u</p>"
      ],
      "text/plain": [
       "<IPython.core.display.HTML object>"
      ]
     },
     "metadata": {},
     "output_type": "display_data"
    },
    {
     "data": {
      "text/html": [
       "<p style=\"color: teal; margin-bottom: 10px; overflow: hidden;\">*uuu</p>"
      ],
      "text/plain": [
       "<IPython.core.display.HTML object>"
      ]
     },
     "metadata": {},
     "output_type": "display_data"
    },
    {
     "name": "stdout",
     "output_type": "stream",
     "text": [
      "\n"
     ]
    },
    {
     "data": {
      "text/html": [
       "<h2>Brute force</h2>"
      ],
      "text/plain": [
       "<IPython.core.display.HTML object>"
      ]
     },
     "metadata": {},
     "output_type": "display_data"
    },
    {
     "data": {
      "text/html": [
       "<p style=\"color: purple; margin-bottom: 0; overflow: hidden;\"><strong>Tier:</strong> a, i</p>"
      ],
      "text/plain": [
       "<IPython.core.display.HTML object>"
      ]
     },
     "metadata": {},
     "output_type": "display_data"
    },
    {
     "data": {
      "text/html": [
       "<p style=\"color: purple; margin-bottom: 10px; overflow: hidden;\">*>ai, *>ii, *ai<, *i<<, *ii<, *iii</p>"
      ],
      "text/plain": [
       "<IPython.core.display.HTML object>"
      ]
     },
     "metadata": {},
     "output_type": "display_data"
    },
    {
     "data": {
      "text/html": [
       "<p style=\"color: purple; margin-bottom: 0; overflow: hidden;\"><strong>Tier:</strong> a, i, u</p>"
      ],
      "text/plain": [
       "<IPython.core.display.HTML object>"
      ]
     },
     "metadata": {},
     "output_type": "display_data"
    },
    {
     "data": {
      "text/html": [
       "<p style=\"color: purple; margin-bottom: 10px; overflow: hidden;\">*>ia, *>ua, *aiu, *aua, *aui, *iaa, *iai, *iau, *iia, *iui, *ui<, *uia, *uii</p>"
      ],
      "text/plain": [
       "<IPython.core.display.HTML object>"
      ]
     },
     "metadata": {},
     "output_type": "display_data"
    },
    {
     "data": {
      "text/html": [
       "<p style=\"color: purple; margin-bottom: 0; overflow: hidden;\"><strong>Tier:</strong> a, u</p>"
      ],
      "text/plain": [
       "<IPython.core.display.HTML object>"
      ]
     },
     "metadata": {},
     "output_type": "display_data"
    },
    {
     "data": {
      "text/html": [
       "<p style=\"color: purple; margin-bottom: 10px; overflow: hidden;\">*>uu, *uau, *uu<</p>"
      ],
      "text/plain": [
       "<IPython.core.display.HTML object>"
      ]
     },
     "metadata": {},
     "output_type": "display_data"
    },
    {
     "data": {
      "text/html": [
       "<p style=\"color: purple; margin-bottom: 0; overflow: hidden;\"><strong>Tier:</strong> i</p>"
      ],
      "text/plain": [
       "<IPython.core.display.HTML object>"
      ]
     },
     "metadata": {},
     "output_type": "display_data"
    },
    {
     "data": {
      "text/html": [
       "<p style=\"color: purple; margin-bottom: 10px; overflow: hidden;\">*>i<</p>"
      ],
      "text/plain": [
       "<IPython.core.display.HTML object>"
      ]
     },
     "metadata": {},
     "output_type": "display_data"
    },
    {
     "data": {
      "text/html": [
       "<p style=\"color: purple; margin-bottom: 0; overflow: hidden;\"><strong>Tier:</strong> i, u</p>"
      ],
      "text/plain": [
       "<IPython.core.display.HTML object>"
      ]
     },
     "metadata": {},
     "output_type": "display_data"
    },
    {
     "data": {
      "text/html": [
       "<p style=\"color: purple; margin-bottom: 10px; overflow: hidden;\">*>ui, *iu<, *iuu, *uiu, *uui</p>"
      ],
      "text/plain": [
       "<IPython.core.display.HTML object>"
      ]
     },
     "metadata": {},
     "output_type": "display_data"
    },
    {
     "data": {
      "text/html": [
       "<p style=\"color: purple; margin-bottom: 0; overflow: hidden;\"><strong>Tier:</strong> u</p>"
      ],
      "text/plain": [
       "<IPython.core.display.HTML object>"
      ]
     },
     "metadata": {},
     "output_type": "display_data"
    },
    {
     "data": {
      "text/html": [
       "<p style=\"color: purple; margin-bottom: 10px; overflow: hidden;\">*uuu</p>"
      ],
      "text/plain": [
       "<IPython.core.display.HTML object>"
      ]
     },
     "metadata": {},
     "output_type": "display_data"
    },
    {
     "name": "stdout",
     "output_type": "stream",
     "text": [
      "\n"
     ]
    },
    {
     "data": {
      "text/html": [
       "<hr><hr>"
      ],
      "text/plain": [
       "<IPython.core.display.HTML object>"
      ]
     },
     "metadata": {},
     "output_type": "display_data"
    },
    {
     "data": {
      "text/html": [
       "<h2>Dataset</h2>"
      ],
      "text/plain": [
       "<IPython.core.display.HTML object>"
      ]
     },
     "metadata": {},
     "output_type": "display_data"
    },
    {
     "name": "stdout",
     "output_type": "stream",
     "text": [
      "uizisuzsa\n",
      "szuuizzaa\n",
      "zssusuii\n",
      "iaszasa\n",
      "usa\n",
      "izussuaa\n",
      "\n"
     ]
    },
    {
     "data": {
      "text/html": [
       "<h2><em>k</em>-MTSLIA</h2>"
      ],
      "text/plain": [
       "<IPython.core.display.HTML object>"
      ]
     },
     "metadata": {},
     "output_type": "display_data"
    },
    {
     "data": {
      "text/html": [
       "<p style=\"color: teal; margin-bottom: 0; overflow: hidden;\"><strong>Tier:</strong> a, i</p>"
      ],
      "text/plain": [
       "<IPython.core.display.HTML object>"
      ]
     },
     "metadata": {},
     "output_type": "display_data"
    },
    {
     "data": {
      "text/html": [
       "<p style=\"color: teal; margin-bottom: 10px; overflow: hidden;\">*>aa, *>ai, *>i<, *aai, *ai<, *aia, *aii, *iai</p>"
      ],
      "text/plain": [
       "<IPython.core.display.HTML object>"
      ]
     },
     "metadata": {},
     "output_type": "display_data"
    },
    {
     "data": {
      "text/html": [
       "<p style=\"color: teal; margin-bottom: 0; overflow: hidden;\"><strong>Tier:</strong> a, i, s</p>"
      ],
      "text/plain": [
       "<IPython.core.display.HTML object>"
      ]
     },
     "metadata": {},
     "output_type": "display_data"
    },
    {
     "data": {
      "text/html": [
       "<p style=\"color: teal; margin-bottom: 10px; overflow: hidden;\">*>>a, *>as, *ais, *asi, *ia<, *iia, *isa, *s<<, *sai, *si<, *ss<</p>"
      ],
      "text/plain": [
       "<IPython.core.display.HTML object>"
      ]
     },
     "metadata": {},
     "output_type": "display_data"
    },
    {
     "data": {
      "text/html": [
       "<p style=\"color: teal; margin-bottom: 0; overflow: hidden;\"><strong>Tier:</strong> a, i, s, u</p>"
      ],
      "text/plain": [
       "<IPython.core.display.HTML object>"
      ]
     },
     "metadata": {},
     "output_type": "display_data"
    },
    {
     "data": {
      "text/html": [
       "<p style=\"color: teal; margin-bottom: 10px; overflow: hidden;\">*>is, *iss, *iua, *sia, *su<, *uua</p>"
      ],
      "text/plain": [
       "<IPython.core.display.HTML object>"
      ]
     },
     "metadata": {},
     "output_type": "display_data"
    },
    {
     "data": {
      "text/html": [
       "<p style=\"color: teal; margin-bottom: 0; overflow: hidden;\"><strong>Tier:</strong> a, i, s, u, z</p>"
      ],
      "text/plain": [
       "<IPython.core.display.HTML object>"
      ]
     },
     "metadata": {},
     "output_type": "display_data"
    },
    {
     "data": {
      "text/html": [
       "<p style=\"color: teal; margin-bottom: 10px; overflow: hidden;\">*isz</p>"
      ],
      "text/plain": [
       "<IPython.core.display.HTML object>"
      ]
     },
     "metadata": {},
     "output_type": "display_data"
    },
    {
     "data": {
      "text/html": [
       "<p style=\"color: teal; margin-bottom: 0; overflow: hidden;\"><strong>Tier:</strong> a, i, s, z</p>"
      ],
      "text/plain": [
       "<IPython.core.display.HTML object>"
      ]
     },
     "metadata": {},
     "output_type": "display_data"
    },
    {
     "data": {
      "text/html": [
       "<p style=\"color: teal; margin-bottom: 10px; overflow: hidden;\">*iaz, *iza</p>"
      ],
      "text/plain": [
       "<IPython.core.display.HTML object>"
      ]
     },
     "metadata": {},
     "output_type": "display_data"
    },
    {
     "data": {
      "text/html": [
       "<p style=\"color: teal; margin-bottom: 0; overflow: hidden;\"><strong>Tier:</strong> a, i, u</p>"
      ],
      "text/plain": [
       "<IPython.core.display.HTML object>"
      ]
     },
     "metadata": {},
     "output_type": "display_data"
    },
    {
     "data": {
      "text/html": [
       "<p style=\"color: teal; margin-bottom: 10px; overflow: hidden;\">*aiu, *aui, *iau, *iu<, *u<<, *uai, *ui<, *uu<</p>"
      ],
      "text/plain": [
       "<IPython.core.display.HTML object>"
      ]
     },
     "metadata": {},
     "output_type": "display_data"
    },
    {
     "data": {
      "text/html": [
       "<p style=\"color: teal; margin-bottom: 0; overflow: hidden;\"><strong>Tier:</strong> a, i, u, z</p>"
      ],
      "text/plain": [
       "<IPython.core.display.HTML object>"
      ]
     },
     "metadata": {},
     "output_type": "display_data"
    },
    {
     "data": {
      "text/html": [
       "<p style=\"color: teal; margin-bottom: 10px; overflow: hidden;\">*uia</p>"
      ],
      "text/plain": [
       "<IPython.core.display.HTML object>"
      ]
     },
     "metadata": {},
     "output_type": "display_data"
    },
    {
     "data": {
      "text/html": [
       "<p style=\"color: teal; margin-bottom: 0; overflow: hidden;\"><strong>Tier:</strong> a, i, z</p>"
      ],
      "text/plain": [
       "<IPython.core.display.HTML object>"
      ]
     },
     "metadata": {},
     "output_type": "display_data"
    },
    {
     "data": {
      "text/html": [
       "<p style=\"color: teal; margin-bottom: 10px; overflow: hidden;\">*>az, *>za, *aiz, *azi, *iaa, *iz<, *z<<, *zai, *zia</p>"
      ],
      "text/plain": [
       "<IPython.core.display.HTML object>"
      ]
     },
     "metadata": {},
     "output_type": "display_data"
    },
    {
     "data": {
      "text/html": [
       "<p style=\"color: teal; margin-bottom: 0; overflow: hidden;\"><strong>Tier:</strong> a, s</p>"
      ],
      "text/plain": [
       "<IPython.core.display.HTML object>"
      ]
     },
     "metadata": {},
     "output_type": "display_data"
    },
    {
     "data": {
      "text/html": [
       "<p style=\"color: teal; margin-bottom: 10px; overflow: hidden;\">*>a<, *>s<, *aaa, *aas, *as<, *ass</p>"
      ],
      "text/plain": [
       "<IPython.core.display.HTML object>"
      ]
     },
     "metadata": {},
     "output_type": "display_data"
    },
    {
     "data": {
      "text/html": [
       "<p style=\"color: teal; margin-bottom: 0; overflow: hidden;\"><strong>Tier:</strong> a, s, u</p>"
      ],
      "text/plain": [
       "<IPython.core.display.HTML object>"
      ]
     },
     "metadata": {},
     "output_type": "display_data"
    },
    {
     "data": {
      "text/html": [
       "<p style=\"color: teal; margin-bottom: 10px; overflow: hidden;\">*>sa, *>ua, *asu, *aus, *saa, *sau, *ssa, *ua<, *uas, *us<</p>"
      ],
      "text/plain": [
       "<IPython.core.display.HTML object>"
      ]
     },
     "metadata": {},
     "output_type": "display_data"
    },
    {
     "data": {
      "text/html": [
       "<p style=\"color: teal; margin-bottom: 0; overflow: hidden;\"><strong>Tier:</strong> a, s, u, z</p>"
      ],
      "text/plain": [
       "<IPython.core.display.HTML object>"
      ]
     },
     "metadata": {},
     "output_type": "display_data"
    },
    {
     "data": {
      "text/html": [
       "<p style=\"color: teal; margin-bottom: 10px; overflow: hidden;\">*szs, *uza</p>"
      ],
      "text/plain": [
       "<IPython.core.display.HTML object>"
      ]
     },
     "metadata": {},
     "output_type": "display_data"
    },
    {
     "data": {
      "text/html": [
       "<p style=\"color: teal; margin-bottom: 0; overflow: hidden;\"><strong>Tier:</strong> a, s, z</p>"
      ],
      "text/plain": [
       "<IPython.core.display.HTML object>"
      ]
     },
     "metadata": {},
     "output_type": "display_data"
    },
    {
     "data": {
      "text/html": [
       "<p style=\"color: teal; margin-bottom: 10px; overflow: hidden;\">*aza, *azs, *sas, *saz, *za<, *zs<</p>"
      ],
      "text/plain": [
       "<IPython.core.display.HTML object>"
      ]
     },
     "metadata": {},
     "output_type": "display_data"
    },
    {
     "data": {
      "text/html": [
       "<p style=\"color: teal; margin-bottom: 0; overflow: hidden;\"><strong>Tier:</strong> a, u</p>"
      ],
      "text/plain": [
       "<IPython.core.display.HTML object>"
      ]
     },
     "metadata": {},
     "output_type": "display_data"
    },
    {
     "data": {
      "text/html": [
       "<p style=\"color: teal; margin-bottom: 10px; overflow: hidden;\">*>au, *>u<, *aau, *au<, *aua, *auu, *uau</p>"
      ],
      "text/plain": [
       "<IPython.core.display.HTML object>"
      ]
     },
     "metadata": {},
     "output_type": "display_data"
    },
    {
     "data": {
      "text/html": [
       "<p style=\"color: teal; margin-bottom: 0; overflow: hidden;\"><strong>Tier:</strong> a, u, z</p>"
      ],
      "text/plain": [
       "<IPython.core.display.HTML object>"
      ]
     },
     "metadata": {},
     "output_type": "display_data"
    },
    {
     "data": {
      "text/html": [
       "<p style=\"color: teal; margin-bottom: 10px; overflow: hidden;\">*auz, *azu, *uaz, *uz<, *zau, *zua</p>"
      ],
      "text/plain": [
       "<IPython.core.display.HTML object>"
      ]
     },
     "metadata": {},
     "output_type": "display_data"
    },
    {
     "data": {
      "text/html": [
       "<p style=\"color: teal; margin-bottom: 0; overflow: hidden;\"><strong>Tier:</strong> a, z</p>"
      ],
      "text/plain": [
       "<IPython.core.display.HTML object>"
      ]
     },
     "metadata": {},
     "output_type": "display_data"
    },
    {
     "data": {
      "text/html": [
       "<p style=\"color: teal; margin-bottom: 10px; overflow: hidden;\">*aaz, *az<, *azz, *zaz, *zz<</p>"
      ],
      "text/plain": [
       "<IPython.core.display.HTML object>"
      ]
     },
     "metadata": {},
     "output_type": "display_data"
    },
    {
     "data": {
      "text/html": [
       "<p style=\"color: teal; margin-bottom: 0; overflow: hidden;\"><strong>Tier:</strong> i</p>"
      ],
      "text/plain": [
       "<IPython.core.display.HTML object>"
      ]
     },
     "metadata": {},
     "output_type": "display_data"
    },
    {
     "data": {
      "text/html": [
       "<p style=\"color: teal; margin-bottom: 10px; overflow: hidden;\">*iii</p>"
      ],
      "text/plain": [
       "<IPython.core.display.HTML object>"
      ]
     },
     "metadata": {},
     "output_type": "display_data"
    },
    {
     "data": {
      "text/html": [
       "<p style=\"color: teal; margin-bottom: 0; overflow: hidden;\"><strong>Tier:</strong> i, s</p>"
      ],
      "text/plain": [
       "<IPython.core.display.HTML object>"
      ]
     },
     "metadata": {},
     "output_type": "display_data"
    },
    {
     "data": {
      "text/html": [
       "<p style=\"color: teal; margin-bottom: 10px; overflow: hidden;\">*is<, *isi, *sis</p>"
      ],
      "text/plain": [
       "<IPython.core.display.HTML object>"
      ]
     },
     "metadata": {},
     "output_type": "display_data"
    },
    {
     "data": {
      "text/html": [
       "<p style=\"color: teal; margin-bottom: 0; overflow: hidden;\"><strong>Tier:</strong> i, s, u</p>"
      ],
      "text/plain": [
       "<IPython.core.display.HTML object>"
      ]
     },
     "metadata": {},
     "output_type": "display_data"
    },
    {
     "data": {
      "text/html": [
       "<p style=\"color: teal; margin-bottom: 10px; overflow: hidden;\">*>si, *iiu, *iuu, *sii, *siu, *ssi, *uis, *usi</p>"
      ],
      "text/plain": [
       "<IPython.core.display.HTML object>"
      ]
     },
     "metadata": {},
     "output_type": "display_data"
    },
    {
     "data": {
      "text/html": [
       "<p style=\"color: teal; margin-bottom: 0; overflow: hidden;\"><strong>Tier:</strong> i, s, u, z</p>"
      ],
      "text/plain": [
       "<IPython.core.display.HTML object>"
      ]
     },
     "metadata": {},
     "output_type": "display_data"
    },
    {
     "data": {
      "text/html": [
       "<p style=\"color: teal; margin-bottom: 10px; overflow: hidden;\">*>zu, *ius, *iuz, *izs, *szi, *ziu, *zsu</p>"
      ],
      "text/plain": [
       "<IPython.core.display.HTML object>"
      ]
     },
     "metadata": {},
     "output_type": "display_data"
    },
    {
     "data": {
      "text/html": [
       "<p style=\"color: teal; margin-bottom: 0; overflow: hidden;\"><strong>Tier:</strong> i, s, z</p>"
      ],
      "text/plain": [
       "<IPython.core.display.HTML object>"
      ]
     },
     "metadata": {},
     "output_type": "display_data"
    },
    {
     "data": {
      "text/html": [
       "<p style=\"color: teal; margin-bottom: 10px; overflow: hidden;\">*>zi, *iis, *siz, *szz, *zii, *zsi, *zsz</p>"
      ],
      "text/plain": [
       "<IPython.core.display.HTML object>"
      ]
     },
     "metadata": {},
     "output_type": "display_data"
    },
    {
     "data": {
      "text/html": [
       "<p style=\"color: teal; margin-bottom: 0; overflow: hidden;\"><strong>Tier:</strong> i, u</p>"
      ],
      "text/plain": [
       "<IPython.core.display.HTML object>"
      ]
     },
     "metadata": {},
     "output_type": "display_data"
    },
    {
     "data": {
      "text/html": [
       "<p style=\"color: teal; margin-bottom: 10px; overflow: hidden;\">*>ii, *iui, *uiu</p>"
      ],
      "text/plain": [
       "<IPython.core.display.HTML object>"
      ]
     },
     "metadata": {},
     "output_type": "display_data"
    },
    {
     "data": {
      "text/html": [
       "<p style=\"color: teal; margin-bottom: 0; overflow: hidden;\"><strong>Tier:</strong> i, u, z</p>"
      ],
      "text/plain": [
       "<IPython.core.display.HTML object>"
      ]
     },
     "metadata": {},
     "output_type": "display_data"
    },
    {
     "data": {
      "text/html": [
       "<p style=\"color: teal; margin-bottom: 10px; overflow: hidden;\">*>iu, *>uz, *uuz, *uzi, *uzu, *uzz, *ziz, *zui, *zuz</p>"
      ],
      "text/plain": [
       "<IPython.core.display.HTML object>"
      ]
     },
     "metadata": {},
     "output_type": "display_data"
    },
    {
     "data": {
      "text/html": [
       "<p style=\"color: teal; margin-bottom: 0; overflow: hidden;\"><strong>Tier:</strong> i, z</p>"
      ],
      "text/plain": [
       "<IPython.core.display.HTML object>"
      ]
     },
     "metadata": {},
     "output_type": "display_data"
    },
    {
     "data": {
      "text/html": [
       "<p style=\"color: teal; margin-bottom: 10px; overflow: hidden;\">*>z<, *>zz, *iiz, *zi<, *zzi, *zzz</p>"
      ],
      "text/plain": [
       "<IPython.core.display.HTML object>"
      ]
     },
     "metadata": {},
     "output_type": "display_data"
    },
    {
     "data": {
      "text/html": [
       "<p style=\"color: teal; margin-bottom: 0; overflow: hidden;\"><strong>Tier:</strong> s, u</p>"
      ],
      "text/plain": [
       "<IPython.core.display.HTML object>"
      ]
     },
     "metadata": {},
     "output_type": "display_data"
    },
    {
     "data": {
      "text/html": [
       "<p style=\"color: teal; margin-bottom: 10px; overflow: hidden;\">*>uu, *sss, *uus</p>"
      ],
      "text/plain": [
       "<IPython.core.display.HTML object>"
      ]
     },
     "metadata": {},
     "output_type": "display_data"
    },
    {
     "data": {
      "text/html": [
       "<p style=\"color: teal; margin-bottom: 0; overflow: hidden;\"><strong>Tier:</strong> s, u, z</p>"
      ],
      "text/plain": [
       "<IPython.core.display.HTML object>"
      ]
     },
     "metadata": {},
     "output_type": "display_data"
    },
    {
     "data": {
      "text/html": [
       "<p style=\"color: teal; margin-bottom: 10px; overflow: hidden;\">*>su, *suu, *usz</p>"
      ],
      "text/plain": [
       "<IPython.core.display.HTML object>"
      ]
     },
     "metadata": {},
     "output_type": "display_data"
    },
    {
     "data": {
      "text/html": [
       "<p style=\"color: teal; margin-bottom: 0; overflow: hidden;\"><strong>Tier:</strong> s, z</p>"
      ],
      "text/plain": [
       "<IPython.core.display.HTML object>"
      ]
     },
     "metadata": {},
     "output_type": "display_data"
    },
    {
     "data": {
      "text/html": [
       "<p style=\"color: teal; margin-bottom: 10px; overflow: hidden;\">*>ss, *ssz, *sz<, *zzs</p>"
      ],
      "text/plain": [
       "<IPython.core.display.HTML object>"
      ]
     },
     "metadata": {},
     "output_type": "display_data"
    },
    {
     "data": {
      "text/html": [
       "<p style=\"color: teal; margin-bottom: 0; overflow: hidden;\"><strong>Tier:</strong> u</p>"
      ],
      "text/plain": [
       "<IPython.core.display.HTML object>"
      ]
     },
     "metadata": {},
     "output_type": "display_data"
    },
    {
     "data": {
      "text/html": [
       "<p style=\"color: teal; margin-bottom: 10px; overflow: hidden;\">*uuu</p>"
      ],
      "text/plain": [
       "<IPython.core.display.HTML object>"
      ]
     },
     "metadata": {},
     "output_type": "display_data"
    },
    {
     "data": {
      "text/html": [
       "<p style=\"color: teal; margin-bottom: 0; overflow: hidden;\"><strong>Tier:</strong> u, z</p>"
      ],
      "text/plain": [
       "<IPython.core.display.HTML object>"
      ]
     },
     "metadata": {},
     "output_type": "display_data"
    },
    {
     "data": {
      "text/html": [
       "<p style=\"color: teal; margin-bottom: 10px; overflow: hidden;\">*zu<, *zzu</p>"
      ],
      "text/plain": [
       "<IPython.core.display.HTML object>"
      ]
     },
     "metadata": {},
     "output_type": "display_data"
    },
    {
     "name": "stdout",
     "output_type": "stream",
     "text": [
      "\n"
     ]
    },
    {
     "data": {
      "text/html": [
       "<h2>Brute force</h2>"
      ],
      "text/plain": [
       "<IPython.core.display.HTML object>"
      ]
     },
     "metadata": {},
     "output_type": "display_data"
    },
    {
     "data": {
      "text/html": [
       "<p style=\"color: purple; margin-bottom: 0; overflow: hidden;\"><strong>Tier:</strong> a, i</p>"
      ],
      "text/plain": [
       "<IPython.core.display.HTML object>"
      ]
     },
     "metadata": {},
     "output_type": "display_data"
    },
    {
     "data": {
      "text/html": [
       "<p style=\"color: purple; margin-bottom: 10px; overflow: hidden;\">*>aa, *>ai, *>i<, *aai, *ai<, *aia, *aii, *iai</p>"
      ],
      "text/plain": [
       "<IPython.core.display.HTML object>"
      ]
     },
     "metadata": {},
     "output_type": "display_data"
    },
    {
     "data": {
      "text/html": [
       "<p style=\"color: purple; margin-bottom: 0; overflow: hidden;\"><strong>Tier:</strong> a, i, s</p>"
      ],
      "text/plain": [
       "<IPython.core.display.HTML object>"
      ]
     },
     "metadata": {},
     "output_type": "display_data"
    },
    {
     "data": {
      "text/html": [
       "<p style=\"color: purple; margin-bottom: 10px; overflow: hidden;\">*>>a, *>as, *ais, *asi, *ia<, *iia, *isa, *s<<, *sai, *si<, *ss<</p>"
      ],
      "text/plain": [
       "<IPython.core.display.HTML object>"
      ]
     },
     "metadata": {},
     "output_type": "display_data"
    },
    {
     "data": {
      "text/html": [
       "<p style=\"color: purple; margin-bottom: 0; overflow: hidden;\"><strong>Tier:</strong> a, i, s, u</p>"
      ],
      "text/plain": [
       "<IPython.core.display.HTML object>"
      ]
     },
     "metadata": {},
     "output_type": "display_data"
    },
    {
     "data": {
      "text/html": [
       "<p style=\"color: purple; margin-bottom: 10px; overflow: hidden;\">*>is, *iss, *iua, *sia, *su<, *uua</p>"
      ],
      "text/plain": [
       "<IPython.core.display.HTML object>"
      ]
     },
     "metadata": {},
     "output_type": "display_data"
    },
    {
     "data": {
      "text/html": [
       "<p style=\"color: purple; margin-bottom: 0; overflow: hidden;\"><strong>Tier:</strong> a, i, s, u, z</p>"
      ],
      "text/plain": [
       "<IPython.core.display.HTML object>"
      ]
     },
     "metadata": {},
     "output_type": "display_data"
    },
    {
     "data": {
      "text/html": [
       "<p style=\"color: purple; margin-bottom: 10px; overflow: hidden;\">*isz</p>"
      ],
      "text/plain": [
       "<IPython.core.display.HTML object>"
      ]
     },
     "metadata": {},
     "output_type": "display_data"
    },
    {
     "data": {
      "text/html": [
       "<p style=\"color: purple; margin-bottom: 0; overflow: hidden;\"><strong>Tier:</strong> a, i, s, z</p>"
      ],
      "text/plain": [
       "<IPython.core.display.HTML object>"
      ]
     },
     "metadata": {},
     "output_type": "display_data"
    },
    {
     "data": {
      "text/html": [
       "<p style=\"color: purple; margin-bottom: 10px; overflow: hidden;\">*iaz, *iza</p>"
      ],
      "text/plain": [
       "<IPython.core.display.HTML object>"
      ]
     },
     "metadata": {},
     "output_type": "display_data"
    },
    {
     "data": {
      "text/html": [
       "<p style=\"color: purple; margin-bottom: 0; overflow: hidden;\"><strong>Tier:</strong> a, i, u</p>"
      ],
      "text/plain": [
       "<IPython.core.display.HTML object>"
      ]
     },
     "metadata": {},
     "output_type": "display_data"
    },
    {
     "data": {
      "text/html": [
       "<p style=\"color: purple; margin-bottom: 10px; overflow: hidden;\">*aiu, *aui, *iau, *iu<, *u<<, *uai, *ui<, *uu<</p>"
      ],
      "text/plain": [
       "<IPython.core.display.HTML object>"
      ]
     },
     "metadata": {},
     "output_type": "display_data"
    },
    {
     "data": {
      "text/html": [
       "<p style=\"color: purple; margin-bottom: 0; overflow: hidden;\"><strong>Tier:</strong> a, i, u, z</p>"
      ],
      "text/plain": [
       "<IPython.core.display.HTML object>"
      ]
     },
     "metadata": {},
     "output_type": "display_data"
    },
    {
     "data": {
      "text/html": [
       "<p style=\"color: purple; margin-bottom: 10px; overflow: hidden;\">*uia</p>"
      ],
      "text/plain": [
       "<IPython.core.display.HTML object>"
      ]
     },
     "metadata": {},
     "output_type": "display_data"
    },
    {
     "data": {
      "text/html": [
       "<p style=\"color: purple; margin-bottom: 0; overflow: hidden;\"><strong>Tier:</strong> a, i, z</p>"
      ],
      "text/plain": [
       "<IPython.core.display.HTML object>"
      ]
     },
     "metadata": {},
     "output_type": "display_data"
    },
    {
     "data": {
      "text/html": [
       "<p style=\"color: purple; margin-bottom: 10px; overflow: hidden;\">*>az, *>za, *aiz, *azi, *iaa, *iz<, *z<<, *zai, *zia</p>"
      ],
      "text/plain": [
       "<IPython.core.display.HTML object>"
      ]
     },
     "metadata": {},
     "output_type": "display_data"
    },
    {
     "data": {
      "text/html": [
       "<p style=\"color: purple; margin-bottom: 0; overflow: hidden;\"><strong>Tier:</strong> a, s</p>"
      ],
      "text/plain": [
       "<IPython.core.display.HTML object>"
      ]
     },
     "metadata": {},
     "output_type": "display_data"
    },
    {
     "data": {
      "text/html": [
       "<p style=\"color: purple; margin-bottom: 10px; overflow: hidden;\">*>a<, *>s<, *aaa, *aas, *as<, *ass</p>"
      ],
      "text/plain": [
       "<IPython.core.display.HTML object>"
      ]
     },
     "metadata": {},
     "output_type": "display_data"
    },
    {
     "data": {
      "text/html": [
       "<p style=\"color: purple; margin-bottom: 0; overflow: hidden;\"><strong>Tier:</strong> a, s, u</p>"
      ],
      "text/plain": [
       "<IPython.core.display.HTML object>"
      ]
     },
     "metadata": {},
     "output_type": "display_data"
    },
    {
     "data": {
      "text/html": [
       "<p style=\"color: purple; margin-bottom: 10px; overflow: hidden;\">*>sa, *>ua, *asu, *aus, *saa, *sau, *ssa, *ua<, *uas, *us<</p>"
      ],
      "text/plain": [
       "<IPython.core.display.HTML object>"
      ]
     },
     "metadata": {},
     "output_type": "display_data"
    },
    {
     "data": {
      "text/html": [
       "<p style=\"color: purple; margin-bottom: 0; overflow: hidden;\"><strong>Tier:</strong> a, s, u, z</p>"
      ],
      "text/plain": [
       "<IPython.core.display.HTML object>"
      ]
     },
     "metadata": {},
     "output_type": "display_data"
    },
    {
     "data": {
      "text/html": [
       "<p style=\"color: purple; margin-bottom: 10px; overflow: hidden;\">*szs, *uza</p>"
      ],
      "text/plain": [
       "<IPython.core.display.HTML object>"
      ]
     },
     "metadata": {},
     "output_type": "display_data"
    },
    {
     "data": {
      "text/html": [
       "<p style=\"color: purple; margin-bottom: 0; overflow: hidden;\"><strong>Tier:</strong> a, s, z</p>"
      ],
      "text/plain": [
       "<IPython.core.display.HTML object>"
      ]
     },
     "metadata": {},
     "output_type": "display_data"
    },
    {
     "data": {
      "text/html": [
       "<p style=\"color: purple; margin-bottom: 10px; overflow: hidden;\">*aza, *azs, *sas, *saz, *za<, *zs<</p>"
      ],
      "text/plain": [
       "<IPython.core.display.HTML object>"
      ]
     },
     "metadata": {},
     "output_type": "display_data"
    },
    {
     "data": {
      "text/html": [
       "<p style=\"color: purple; margin-bottom: 0; overflow: hidden;\"><strong>Tier:</strong> a, u</p>"
      ],
      "text/plain": [
       "<IPython.core.display.HTML object>"
      ]
     },
     "metadata": {},
     "output_type": "display_data"
    },
    {
     "data": {
      "text/html": [
       "<p style=\"color: purple; margin-bottom: 10px; overflow: hidden;\">*>au, *>u<, *aau, *au<, *aua, *auu, *uau</p>"
      ],
      "text/plain": [
       "<IPython.core.display.HTML object>"
      ]
     },
     "metadata": {},
     "output_type": "display_data"
    },
    {
     "data": {
      "text/html": [
       "<p style=\"color: purple; margin-bottom: 0; overflow: hidden;\"><strong>Tier:</strong> a, u, z</p>"
      ],
      "text/plain": [
       "<IPython.core.display.HTML object>"
      ]
     },
     "metadata": {},
     "output_type": "display_data"
    },
    {
     "data": {
      "text/html": [
       "<p style=\"color: purple; margin-bottom: 10px; overflow: hidden;\">*auz, *azu, *uaz, *uz<, *zau, *zua</p>"
      ],
      "text/plain": [
       "<IPython.core.display.HTML object>"
      ]
     },
     "metadata": {},
     "output_type": "display_data"
    },
    {
     "data": {
      "text/html": [
       "<p style=\"color: purple; margin-bottom: 0; overflow: hidden;\"><strong>Tier:</strong> a, z</p>"
      ],
      "text/plain": [
       "<IPython.core.display.HTML object>"
      ]
     },
     "metadata": {},
     "output_type": "display_data"
    },
    {
     "data": {
      "text/html": [
       "<p style=\"color: purple; margin-bottom: 10px; overflow: hidden;\">*aaz, *az<, *azz, *zaz, *zz<</p>"
      ],
      "text/plain": [
       "<IPython.core.display.HTML object>"
      ]
     },
     "metadata": {},
     "output_type": "display_data"
    },
    {
     "data": {
      "text/html": [
       "<p style=\"color: purple; margin-bottom: 0; overflow: hidden;\"><strong>Tier:</strong> i</p>"
      ],
      "text/plain": [
       "<IPython.core.display.HTML object>"
      ]
     },
     "metadata": {},
     "output_type": "display_data"
    },
    {
     "data": {
      "text/html": [
       "<p style=\"color: purple; margin-bottom: 10px; overflow: hidden;\">*iii</p>"
      ],
      "text/plain": [
       "<IPython.core.display.HTML object>"
      ]
     },
     "metadata": {},
     "output_type": "display_data"
    },
    {
     "data": {
      "text/html": [
       "<p style=\"color: purple; margin-bottom: 0; overflow: hidden;\"><strong>Tier:</strong> i, s</p>"
      ],
      "text/plain": [
       "<IPython.core.display.HTML object>"
      ]
     },
     "metadata": {},
     "output_type": "display_data"
    },
    {
     "data": {
      "text/html": [
       "<p style=\"color: purple; margin-bottom: 10px; overflow: hidden;\">*is<, *isi, *sis</p>"
      ],
      "text/plain": [
       "<IPython.core.display.HTML object>"
      ]
     },
     "metadata": {},
     "output_type": "display_data"
    },
    {
     "data": {
      "text/html": [
       "<p style=\"color: purple; margin-bottom: 0; overflow: hidden;\"><strong>Tier:</strong> i, s, u</p>"
      ],
      "text/plain": [
       "<IPython.core.display.HTML object>"
      ]
     },
     "metadata": {},
     "output_type": "display_data"
    },
    {
     "data": {
      "text/html": [
       "<p style=\"color: purple; margin-bottom: 10px; overflow: hidden;\">*>si, *iiu, *iuu, *sii, *siu, *ssi, *uis, *usi</p>"
      ],
      "text/plain": [
       "<IPython.core.display.HTML object>"
      ]
     },
     "metadata": {},
     "output_type": "display_data"
    },
    {
     "data": {
      "text/html": [
       "<p style=\"color: purple; margin-bottom: 0; overflow: hidden;\"><strong>Tier:</strong> i, s, u, z</p>"
      ],
      "text/plain": [
       "<IPython.core.display.HTML object>"
      ]
     },
     "metadata": {},
     "output_type": "display_data"
    },
    {
     "data": {
      "text/html": [
       "<p style=\"color: purple; margin-bottom: 10px; overflow: hidden;\">*>zu, *ius, *iuz, *izs, *szi, *ziu, *zsu</p>"
      ],
      "text/plain": [
       "<IPython.core.display.HTML object>"
      ]
     },
     "metadata": {},
     "output_type": "display_data"
    },
    {
     "data": {
      "text/html": [
       "<p style=\"color: purple; margin-bottom: 0; overflow: hidden;\"><strong>Tier:</strong> i, s, z</p>"
      ],
      "text/plain": [
       "<IPython.core.display.HTML object>"
      ]
     },
     "metadata": {},
     "output_type": "display_data"
    },
    {
     "data": {
      "text/html": [
       "<p style=\"color: purple; margin-bottom: 10px; overflow: hidden;\">*>zi, *iis, *siz, *szz, *zii, *zsi, *zsz</p>"
      ],
      "text/plain": [
       "<IPython.core.display.HTML object>"
      ]
     },
     "metadata": {},
     "output_type": "display_data"
    },
    {
     "data": {
      "text/html": [
       "<p style=\"color: purple; margin-bottom: 0; overflow: hidden;\"><strong>Tier:</strong> i, u</p>"
      ],
      "text/plain": [
       "<IPython.core.display.HTML object>"
      ]
     },
     "metadata": {},
     "output_type": "display_data"
    },
    {
     "data": {
      "text/html": [
       "<p style=\"color: purple; margin-bottom: 10px; overflow: hidden;\">*>ii, *iui, *uiu</p>"
      ],
      "text/plain": [
       "<IPython.core.display.HTML object>"
      ]
     },
     "metadata": {},
     "output_type": "display_data"
    },
    {
     "data": {
      "text/html": [
       "<p style=\"color: purple; margin-bottom: 0; overflow: hidden;\"><strong>Tier:</strong> i, u, z</p>"
      ],
      "text/plain": [
       "<IPython.core.display.HTML object>"
      ]
     },
     "metadata": {},
     "output_type": "display_data"
    },
    {
     "data": {
      "text/html": [
       "<p style=\"color: purple; margin-bottom: 10px; overflow: hidden;\">*>iu, *>uz, *uuz, *uzi, *uzu, *uzz, *ziz, *zui, *zuz</p>"
      ],
      "text/plain": [
       "<IPython.core.display.HTML object>"
      ]
     },
     "metadata": {},
     "output_type": "display_data"
    },
    {
     "data": {
      "text/html": [
       "<p style=\"color: purple; margin-bottom: 0; overflow: hidden;\"><strong>Tier:</strong> i, z</p>"
      ],
      "text/plain": [
       "<IPython.core.display.HTML object>"
      ]
     },
     "metadata": {},
     "output_type": "display_data"
    },
    {
     "data": {
      "text/html": [
       "<p style=\"color: purple; margin-bottom: 10px; overflow: hidden;\">*>z<, *>zz, *iiz, *zi<, *zzi, *zzz</p>"
      ],
      "text/plain": [
       "<IPython.core.display.HTML object>"
      ]
     },
     "metadata": {},
     "output_type": "display_data"
    },
    {
     "data": {
      "text/html": [
       "<p style=\"color: purple; margin-bottom: 0; overflow: hidden;\"><strong>Tier:</strong> s, u</p>"
      ],
      "text/plain": [
       "<IPython.core.display.HTML object>"
      ]
     },
     "metadata": {},
     "output_type": "display_data"
    },
    {
     "data": {
      "text/html": [
       "<p style=\"color: purple; margin-bottom: 10px; overflow: hidden;\">*>uu, *sss, *uus</p>"
      ],
      "text/plain": [
       "<IPython.core.display.HTML object>"
      ]
     },
     "metadata": {},
     "output_type": "display_data"
    },
    {
     "data": {
      "text/html": [
       "<p style=\"color: purple; margin-bottom: 0; overflow: hidden;\"><strong>Tier:</strong> s, u, z</p>"
      ],
      "text/plain": [
       "<IPython.core.display.HTML object>"
      ]
     },
     "metadata": {},
     "output_type": "display_data"
    },
    {
     "data": {
      "text/html": [
       "<p style=\"color: purple; margin-bottom: 10px; overflow: hidden;\">*>su, *suu, *usz</p>"
      ],
      "text/plain": [
       "<IPython.core.display.HTML object>"
      ]
     },
     "metadata": {},
     "output_type": "display_data"
    },
    {
     "data": {
      "text/html": [
       "<p style=\"color: purple; margin-bottom: 0; overflow: hidden;\"><strong>Tier:</strong> s, z</p>"
      ],
      "text/plain": [
       "<IPython.core.display.HTML object>"
      ]
     },
     "metadata": {},
     "output_type": "display_data"
    },
    {
     "data": {
      "text/html": [
       "<p style=\"color: purple; margin-bottom: 10px; overflow: hidden;\">*>ss, *ssz, *sz<, *zzs</p>"
      ],
      "text/plain": [
       "<IPython.core.display.HTML object>"
      ]
     },
     "metadata": {},
     "output_type": "display_data"
    },
    {
     "data": {
      "text/html": [
       "<p style=\"color: purple; margin-bottom: 0; overflow: hidden;\"><strong>Tier:</strong> u</p>"
      ],
      "text/plain": [
       "<IPython.core.display.HTML object>"
      ]
     },
     "metadata": {},
     "output_type": "display_data"
    },
    {
     "data": {
      "text/html": [
       "<p style=\"color: purple; margin-bottom: 10px; overflow: hidden;\">*uuu</p>"
      ],
      "text/plain": [
       "<IPython.core.display.HTML object>"
      ]
     },
     "metadata": {},
     "output_type": "display_data"
    },
    {
     "data": {
      "text/html": [
       "<p style=\"color: purple; margin-bottom: 0; overflow: hidden;\"><strong>Tier:</strong> u, z</p>"
      ],
      "text/plain": [
       "<IPython.core.display.HTML object>"
      ]
     },
     "metadata": {},
     "output_type": "display_data"
    },
    {
     "data": {
      "text/html": [
       "<p style=\"color: purple; margin-bottom: 10px; overflow: hidden;\">*zu<, *zzu</p>"
      ],
      "text/plain": [
       "<IPython.core.display.HTML object>"
      ]
     },
     "metadata": {},
     "output_type": "display_data"
    },
    {
     "name": "stdout",
     "output_type": "stream",
     "text": [
      "\n"
     ]
    },
    {
     "data": {
      "text/html": [
       "<hr><hr>"
      ],
      "text/plain": [
       "<IPython.core.display.HTML object>"
      ]
     },
     "metadata": {},
     "output_type": "display_data"
    },
    {
     "data": {
      "text/html": [
       "<h2>Dataset</h2>"
      ],
      "text/plain": [
       "<IPython.core.display.HTML object>"
      ]
     },
     "metadata": {},
     "output_type": "display_data"
    },
    {
     "name": "stdout",
     "output_type": "stream",
     "text": [
      "z\n",
      "aiufsf\n",
      "sssff\n",
      "uzs\n",
      "afiufu\n",
      "sfifuss\n",
      "uifizs\n",
      "zai\n",
      "zuifisf\n",
      "zui\n",
      "izusu\n",
      "iaiauf\n",
      "iuazszziaa\n",
      "affifassu\n",
      "ua\n",
      "ffafsiuzss\n",
      "f\n",
      "zauusuu\n",
      "fussui\n",
      "fziuifzzaz\n",
      "azza\n",
      "iz\n",
      "iuuuiuuaf\n",
      "fzu\n",
      "iufsu\n",
      "\n"
     ]
    },
    {
     "data": {
      "text/html": [
       "<h2><em>k</em>-MTSLIA</h2>"
      ],
      "text/plain": [
       "<IPython.core.display.HTML object>"
      ]
     },
     "metadata": {},
     "output_type": "display_data"
    },
    {
     "data": {
      "text/html": [
       "<p style=\"color: teal; margin-bottom: 0; overflow: hidden;\"><strong>Tier:</strong> a, f</p>"
      ],
      "text/plain": [
       "<IPython.core.display.HTML object>"
      ]
     },
     "metadata": {},
     "output_type": "display_data"
    },
    {
     "data": {
      "text/html": [
       "<p style=\"color: teal; margin-bottom: 10px; overflow: hidden;\">*>fa, *afa, *faa</p>"
      ],
      "text/plain": [
       "<IPython.core.display.HTML object>"
      ]
     },
     "metadata": {},
     "output_type": "display_data"
    },
    {
     "data": {
      "text/html": [
       "<p style=\"color: teal; margin-bottom: 0; overflow: hidden;\"><strong>Tier:</strong> a, f, i</p>"
      ],
      "text/plain": [
       "<IPython.core.display.HTML object>"
      ]
     },
     "metadata": {},
     "output_type": "display_data"
    },
    {
     "data": {
      "text/html": [
       "<p style=\"color: teal; margin-bottom: 10px; overflow: hidden;\">*aaf, *fai, *fff, *fia, *ia<, *ii<</p>"
      ],
      "text/plain": [
       "<IPython.core.display.HTML object>"
      ]
     },
     "metadata": {},
     "output_type": "display_data"
    },
    {
     "data": {
      "text/html": [
       "<p style=\"color: teal; margin-bottom: 0; overflow: hidden;\"><strong>Tier:</strong> a, f, i, s</p>"
      ],
      "text/plain": [
       "<IPython.core.display.HTML object>"
      ]
     },
     "metadata": {},
     "output_type": "display_data"
    },
    {
     "data": {
      "text/html": [
       "<p style=\"color: teal; margin-bottom: 10px; overflow: hidden;\">*ais, *ffs</p>"
      ],
      "text/plain": [
       "<IPython.core.display.HTML object>"
      ]
     },
     "metadata": {},
     "output_type": "display_data"
    },
    {
     "data": {
      "text/html": [
       "<p style=\"color: teal; margin-bottom: 0; overflow: hidden;\"><strong>Tier:</strong> a, f, i, s, u</p>"
      ],
      "text/plain": [
       "<IPython.core.display.HTML object>"
      ]
     },
     "metadata": {},
     "output_type": "display_data"
    },
    {
     "data": {
      "text/html": [
       "<p style=\"color: teal; margin-bottom: 10px; overflow: hidden;\">*>u<, *ias, *if<, *ifs</p>"
      ],
      "text/plain": [
       "<IPython.core.display.HTML object>"
      ]
     },
     "metadata": {},
     "output_type": "display_data"
    },
    {
     "data": {
      "text/html": [
       "<p style=\"color: teal; margin-bottom: 0; overflow: hidden;\"><strong>Tier:</strong> a, f, i, s, z</p>"
      ],
      "text/plain": [
       "<IPython.core.display.HTML object>"
      ]
     },
     "metadata": {},
     "output_type": "display_data"
    },
    {
     "data": {
      "text/html": [
       "<p style=\"color: teal; margin-bottom: 10px; overflow: hidden;\">*>fi, *asi</p>"
      ],
      "text/plain": [
       "<IPython.core.display.HTML object>"
      ]
     },
     "metadata": {},
     "output_type": "display_data"
    },
    {
     "data": {
      "text/html": [
       "<p style=\"color: teal; margin-bottom: 0; overflow: hidden;\"><strong>Tier:</strong> a, f, i, u</p>"
      ],
      "text/plain": [
       "<IPython.core.display.HTML object>"
      ]
     },
     "metadata": {},
     "output_type": "display_data"
    },
    {
     "data": {
      "text/html": [
       "<p style=\"color: teal; margin-bottom: 10px; overflow: hidden;\">*>uu, *afu, *aif, *iaf, *ufa, *uia</p>"
      ],
      "text/plain": [
       "<IPython.core.display.HTML object>"
      ]
     },
     "metadata": {},
     "output_type": "display_data"
    },
    {
     "data": {
      "text/html": [
       "<p style=\"color: teal; margin-bottom: 0; overflow: hidden;\"><strong>Tier:</strong> a, f, i, u, z</p>"
      ],
      "text/plain": [
       "<IPython.core.display.HTML object>"
      ]
     },
     "metadata": {},
     "output_type": "display_data"
    },
    {
     "data": {
      "text/html": [
       "<p style=\"color: teal; margin-bottom: 10px; overflow: hidden;\">*>zi</p>"
      ],
      "text/plain": [
       "<IPython.core.display.HTML object>"
      ]
     },
     "metadata": {},
     "output_type": "display_data"
    },
    {
     "data": {
      "text/html": [
       "<p style=\"color: teal; margin-bottom: 0; overflow: hidden;\"><strong>Tier:</strong> a, f, i, z</p>"
      ],
      "text/plain": [
       "<IPython.core.display.HTML object>"
      ]
     },
     "metadata": {},
     "output_type": "display_data"
    },
    {
     "data": {
      "text/html": [
       "<p style=\"color: teal; margin-bottom: 10px; overflow: hidden;\">*afz, *aiz, *izz</p>"
      ],
      "text/plain": [
       "<IPython.core.display.HTML object>"
      ]
     },
     "metadata": {},
     "output_type": "display_data"
    },
    {
     "data": {
      "text/html": [
       "<p style=\"color: teal; margin-bottom: 0; overflow: hidden;\"><strong>Tier:</strong> a, f, s</p>"
      ],
      "text/plain": [
       "<IPython.core.display.HTML object>"
      ]
     },
     "metadata": {},
     "output_type": "display_data"
    },
    {
     "data": {
      "text/html": [
       "<p style=\"color: teal; margin-bottom: 10px; overflow: hidden;\">*aas, *asf, *fsa, *saf, *sfa</p>"
      ],
      "text/plain": [
       "<IPython.core.display.HTML object>"
      ]
     },
     "metadata": {},
     "output_type": "display_data"
    },
    {
     "data": {
      "text/html": [
       "<p style=\"color: teal; margin-bottom: 0; overflow: hidden;\"><strong>Tier:</strong> a, f, s, u</p>"
      ],
      "text/plain": [
       "<IPython.core.display.HTML object>"
      ]
     },
     "metadata": {},
     "output_type": "display_data"
    },
    {
     "data": {
      "text/html": [
       "<p style=\"color: teal; margin-bottom: 10px; overflow: hidden;\">*>as, *asu, *au<, *aus, *fau, *fss</p>"
      ],
      "text/plain": [
       "<IPython.core.display.HTML object>"
      ]
     },
     "metadata": {},
     "output_type": "display_data"
    },
    {
     "data": {
      "text/html": [
       "<p style=\"color: teal; margin-bottom: 0; overflow: hidden;\"><strong>Tier:</strong> a, f, s, z</p>"
      ],
      "text/plain": [
       "<IPython.core.display.HTML object>"
      ]
     },
     "metadata": {},
     "output_type": "display_data"
    },
    {
     "data": {
      "text/html": [
       "<p style=\"color: teal; margin-bottom: 10px; overflow: hidden;\">*asz, *fa<, *zzz</p>"
      ],
      "text/plain": [
       "<IPython.core.display.HTML object>"
      ]
     },
     "metadata": {},
     "output_type": "display_data"
    },
    {
     "data": {
      "text/html": [
       "<p style=\"color: teal; margin-bottom: 0; overflow: hidden;\"><strong>Tier:</strong> a, f, u</p>"
      ],
      "text/plain": [
       "<IPython.core.display.HTML object>"
      ]
     },
     "metadata": {},
     "output_type": "display_data"
    },
    {
     "data": {
      "text/html": [
       "<p style=\"color: teal; margin-bottom: 10px; overflow: hidden;\">*fua, *uuf</p>"
      ],
      "text/plain": [
       "<IPython.core.display.HTML object>"
      ]
     },
     "metadata": {},
     "output_type": "display_data"
    },
    {
     "data": {
      "text/html": [
       "<p style=\"color: teal; margin-bottom: 0; overflow: hidden;\"><strong>Tier:</strong> a, f, u, z</p>"
      ],
      "text/plain": [
       "<IPython.core.display.HTML object>"
      ]
     },
     "metadata": {},
     "output_type": "display_data"
    },
    {
     "data": {
      "text/html": [
       "<p style=\"color: teal; margin-bottom: 10px; overflow: hidden;\">*auz, *uzz</p>"
      ],
      "text/plain": [
       "<IPython.core.display.HTML object>"
      ]
     },
     "metadata": {},
     "output_type": "display_data"
    },
    {
     "data": {
      "text/html": [
       "<p style=\"color: teal; margin-bottom: 0; overflow: hidden;\"><strong>Tier:</strong> a, f, z</p>"
      ],
      "text/plain": [
       "<IPython.core.display.HTML object>"
      ]
     },
     "metadata": {},
     "output_type": "display_data"
    },
    {
     "data": {
      "text/html": [
       "<p style=\"color: teal; margin-bottom: 10px; overflow: hidden;\">*>zz, *azf, *faz, *ffz, *fza, *zaf, *zfa</p>"
      ],
      "text/plain": [
       "<IPython.core.display.HTML object>"
      ]
     },
     "metadata": {},
     "output_type": "display_data"
    },
    {
     "data": {
      "text/html": [
       "<p style=\"color: teal; margin-bottom: 0; overflow: hidden;\"><strong>Tier:</strong> a, i</p>"
      ],
      "text/plain": [
       "<IPython.core.display.HTML object>"
      ]
     },
     "metadata": {},
     "output_type": "display_data"
    },
    {
     "data": {
      "text/html": [
       "<p style=\"color: teal; margin-bottom: 10px; overflow: hidden;\">*aaa, *aai, *aii</p>"
      ],
      "text/plain": [
       "<IPython.core.display.HTML object>"
      ]
     },
     "metadata": {},
     "output_type": "display_data"
    },
    {
     "data": {
      "text/html": [
       "<p style=\"color: teal; margin-bottom: 0; overflow: hidden;\"><strong>Tier:</strong> a, i, s</p>"
      ],
      "text/plain": [
       "<IPython.core.display.HTML object>"
      ]
     },
     "metadata": {},
     "output_type": "display_data"
    },
    {
     "data": {
      "text/html": [
       "<p style=\"color: teal; margin-bottom: 10px; overflow: hidden;\">*asa, *isa, *isi, *saa, *sai</p>"
      ],
      "text/plain": [
       "<IPython.core.display.HTML object>"
      ]
     },
     "metadata": {},
     "output_type": "display_data"
    },
    {
     "data": {
      "text/html": [
       "<p style=\"color: teal; margin-bottom: 0; overflow: hidden;\"><strong>Tier:</strong> a, i, s, u</p>"
      ],
      "text/plain": [
       "<IPython.core.display.HTML object>"
      ]
     },
     "metadata": {},
     "output_type": "display_data"
    },
    {
     "data": {
      "text/html": [
       "<p style=\"color: teal; margin-bottom: 10px; overflow: hidden;\">*>is, *iss, *iu<, *si<, *uai, *usi</p>"
      ],
      "text/plain": [
       "<IPython.core.display.HTML object>"
      ]
     },
     "metadata": {},
     "output_type": "display_data"
    },
    {
     "data": {
      "text/html": [
       "<p style=\"color: teal; margin-bottom: 0; overflow: hidden;\"><strong>Tier:</strong> a, i, s, z</p>"
      ],
      "text/plain": [
       "<IPython.core.display.HTML object>"
      ]
     },
     "metadata": {},
     "output_type": "display_data"
    },
    {
     "data": {
      "text/html": [
       "<p style=\"color: teal; margin-bottom: 10px; overflow: hidden;\">*sia</p>"
      ],
      "text/plain": [
       "<IPython.core.display.HTML object>"
      ]
     },
     "metadata": {},
     "output_type": "display_data"
    },
    {
     "data": {
      "text/html": [
       "<p style=\"color: teal; margin-bottom: 0; overflow: hidden;\"><strong>Tier:</strong> a, i, u</p>"
      ],
      "text/plain": [
       "<IPython.core.display.HTML object>"
      ]
     },
     "metadata": {},
     "output_type": "display_data"
    },
    {
     "data": {
      "text/html": [
       "<p style=\"color: teal; margin-bottom: 10px; overflow: hidden;\">*>a<, *>ii, *aau, *aui, *iia, *iiu, *uaa</p>"
      ],
      "text/plain": [
       "<IPython.core.display.HTML object>"
      ]
     },
     "metadata": {},
     "output_type": "display_data"
    },
    {
     "data": {
      "text/html": [
       "<p style=\"color: teal; margin-bottom: 0; overflow: hidden;\"><strong>Tier:</strong> a, i, u, z</p>"
      ],
      "text/plain": [
       "<IPython.core.display.HTML object>"
      ]
     },
     "metadata": {},
     "output_type": "display_data"
    },
    {
     "data": {
      "text/html": [
       "<p style=\"color: teal; margin-bottom: 10px; overflow: hidden;\">*>au, *iaz, *zi<</p>"
      ],
      "text/plain": [
       "<IPython.core.display.HTML object>"
      ]
     },
     "metadata": {},
     "output_type": "display_data"
    },
    {
     "data": {
      "text/html": [
       "<p style=\"color: teal; margin-bottom: 0; overflow: hidden;\"><strong>Tier:</strong> a, i, z</p>"
      ],
      "text/plain": [
       "<IPython.core.display.HTML object>"
      ]
     },
     "metadata": {},
     "output_type": "display_data"
    },
    {
     "data": {
      "text/html": [
       "<p style=\"color: teal; margin-bottom: 10px; overflow: hidden;\">*>aa, *azi, *iza, *zaa</p>"
      ],
      "text/plain": [
       "<IPython.core.display.HTML object>"
      ]
     },
     "metadata": {},
     "output_type": "display_data"
    },
    {
     "data": {
      "text/html": [
       "<p style=\"color: teal; margin-bottom: 0; overflow: hidden;\"><strong>Tier:</strong> a, s</p>"
      ],
      "text/plain": [
       "<IPython.core.display.HTML object>"
      ]
     },
     "metadata": {},
     "output_type": "display_data"
    },
    {
     "data": {
      "text/html": [
       "<p style=\"color: teal; margin-bottom: 10px; overflow: hidden;\">*>sa, *sa<, *sas, *ssa</p>"
      ],
      "text/plain": [
       "<IPython.core.display.HTML object>"
      ]
     },
     "metadata": {},
     "output_type": "display_data"
    },
    {
     "data": {
      "text/html": [
       "<p style=\"color: teal; margin-bottom: 0; overflow: hidden;\"><strong>Tier:</strong> a, s, u</p>"
      ],
      "text/plain": [
       "<IPython.core.display.HTML object>"
      ]
     },
     "metadata": {},
     "output_type": "display_data"
    },
    {
     "data": {
      "text/html": [
       "<p style=\"color: teal; margin-bottom: 10px; overflow: hidden;\">*as<, *sau, *sua, *usa</p>"
      ],
      "text/plain": [
       "<IPython.core.display.HTML object>"
      ]
     },
     "metadata": {},
     "output_type": "display_data"
    },
    {
     "data": {
      "text/html": [
       "<p style=\"color: teal; margin-bottom: 0; overflow: hidden;\"><strong>Tier:</strong> a, s, u, z</p>"
      ],
      "text/plain": [
       "<IPython.core.display.HTML object>"
      ]
     },
     "metadata": {},
     "output_type": "display_data"
    },
    {
     "data": {
      "text/html": [
       "<p style=\"color: teal; margin-bottom: 10px; overflow: hidden;\">*uas, *zas, *zuu</p>"
      ],
      "text/plain": [
       "<IPython.core.display.HTML object>"
      ]
     },
     "metadata": {},
     "output_type": "display_data"
    },
    {
     "data": {
      "text/html": [
       "<p style=\"color: teal; margin-bottom: 0; overflow: hidden;\"><strong>Tier:</strong> a, s, z</p>"
      ],
      "text/plain": [
       "<IPython.core.display.HTML object>"
      ]
     },
     "metadata": {},
     "output_type": "display_data"
    },
    {
     "data": {
      "text/html": [
       "<p style=\"color: teal; margin-bottom: 10px; overflow: hidden;\">*>sz, *saz, *sza, *zsa</p>"
      ],
      "text/plain": [
       "<IPython.core.display.HTML object>"
      ]
     },
     "metadata": {},
     "output_type": "display_data"
    },
    {
     "data": {
      "text/html": [
       "<p style=\"color: teal; margin-bottom: 0; overflow: hidden;\"><strong>Tier:</strong> a, u</p>"
      ],
      "text/plain": [
       "<IPython.core.display.HTML object>"
      ]
     },
     "metadata": {},
     "output_type": "display_data"
    },
    {
     "data": {
      "text/html": [
       "<p style=\"color: teal; margin-bottom: 10px; overflow: hidden;\">*aua, *uau</p>"
      ],
      "text/plain": [
       "<IPython.core.display.HTML object>"
      ]
     },
     "metadata": {},
     "output_type": "display_data"
    },
    {
     "data": {
      "text/html": [
       "<p style=\"color: teal; margin-bottom: 0; overflow: hidden;\"><strong>Tier:</strong> a, u, z</p>"
      ],
      "text/plain": [
       "<IPython.core.display.HTML object>"
      ]
     },
     "metadata": {},
     "output_type": "display_data"
    },
    {
     "data": {
      "text/html": [
       "<p style=\"color: teal; margin-bottom: 10px; overflow: hidden;\">*azu, *uza, *zua</p>"
      ],
      "text/plain": [
       "<IPython.core.display.HTML object>"
      ]
     },
     "metadata": {},
     "output_type": "display_data"
    },
    {
     "data": {
      "text/html": [
       "<p style=\"color: teal; margin-bottom: 0; overflow: hidden;\"><strong>Tier:</strong> a, z</p>"
      ],
      "text/plain": [
       "<IPython.core.display.HTML object>"
      ]
     },
     "metadata": {},
     "output_type": "display_data"
    },
    {
     "data": {
      "text/html": [
       "<p style=\"color: teal; margin-bottom: 10px; overflow: hidden;\">*aaz, *aza, *zz<</p>"
      ],
      "text/plain": [
       "<IPython.core.display.HTML object>"
      ]
     },
     "metadata": {},
     "output_type": "display_data"
    },
    {
     "data": {
      "text/html": [
       "<p style=\"color: teal; margin-bottom: 0; overflow: hidden;\"><strong>Tier:</strong> f, i, s</p>"
      ],
      "text/plain": [
       "<IPython.core.display.HTML object>"
      ]
     },
     "metadata": {},
     "output_type": "display_data"
    },
    {
     "data": {
      "text/html": [
       "<p style=\"color: teal; margin-bottom: 10px; overflow: hidden;\">*>si, *fi<, *iff, *iis, *sif</p>"
      ],
      "text/plain": [
       "<IPython.core.display.HTML object>"
      ]
     },
     "metadata": {},
     "output_type": "display_data"
    },
    {
     "data": {
      "text/html": [
       "<p style=\"color: teal; margin-bottom: 0; overflow: hidden;\"><strong>Tier:</strong> f, i, s, u</p>"
      ],
      "text/plain": [
       "<IPython.core.display.HTML object>"
      ]
     },
     "metadata": {},
     "output_type": "display_data"
    },
    {
     "data": {
      "text/html": [
       "<p style=\"color: teal; margin-bottom: 10px; overflow: hidden;\">*fs<</p>"
      ],
      "text/plain": [
       "<IPython.core.display.HTML object>"
      ]
     },
     "metadata": {},
     "output_type": "display_data"
    },
    {
     "data": {
      "text/html": [
       "<p style=\"color: teal; margin-bottom: 0; overflow: hidden;\"><strong>Tier:</strong> f, i, s, u, z</p>"
      ],
      "text/plain": [
       "<IPython.core.display.HTML object>"
      ]
     },
     "metadata": {},
     "output_type": "display_data"
    },
    {
     "data": {
      "text/html": [
       "<p style=\"color: teal; margin-bottom: 10px; overflow: hidden;\">*ius</p>"
      ],
      "text/plain": [
       "<IPython.core.display.HTML object>"
      ]
     },
     "metadata": {},
     "output_type": "display_data"
    },
    {
     "data": {
      "text/html": [
       "<p style=\"color: teal; margin-bottom: 0; overflow: hidden;\"><strong>Tier:</strong> f, i, s, z</p>"
      ],
      "text/plain": [
       "<IPython.core.display.HTML object>"
      ]
     },
     "metadata": {},
     "output_type": "display_data"
    },
    {
     "data": {
      "text/html": [
       "<p style=\"color: teal; margin-bottom: 10px; overflow: hidden;\">*fsz, *fzs, *is<, *zfs</p>"
      ],
      "text/plain": [
       "<IPython.core.display.HTML object>"
      ]
     },
     "metadata": {},
     "output_type": "display_data"
    },
    {
     "data": {
      "text/html": [
       "<p style=\"color: teal; margin-bottom: 0; overflow: hidden;\"><strong>Tier:</strong> f, i, u</p>"
      ],
      "text/plain": [
       "<IPython.core.display.HTML object>"
      ]
     },
     "metadata": {},
     "output_type": "display_data"
    },
    {
     "data": {
      "text/html": [
       "<p style=\"color: teal; margin-bottom: 10px; overflow: hidden;\">*>if, *>uf, *ffu, *fii, *fuf, *fui, *iif, *ufi, *uii</p>"
      ],
      "text/plain": [
       "<IPython.core.display.HTML object>"
      ]
     },
     "metadata": {},
     "output_type": "display_data"
    },
    {
     "data": {
      "text/html": [
       "<p style=\"color: teal; margin-bottom: 0; overflow: hidden;\"><strong>Tier:</strong> f, i, u, z</p>"
      ],
      "text/plain": [
       "<IPython.core.display.HTML object>"
      ]
     },
     "metadata": {},
     "output_type": "display_data"
    },
    {
     "data": {
      "text/html": [
       "<p style=\"color: teal; margin-bottom: 10px; overflow: hidden;\">*fuz, *fz<, *ufz, *uiz, *zif, *zuf</p>"
      ],
      "text/plain": [
       "<IPython.core.display.HTML object>"
      ]
     },
     "metadata": {},
     "output_type": "display_data"
    },
    {
     "data": {
      "text/html": [
       "<p style=\"color: teal; margin-bottom: 0; overflow: hidden;\"><strong>Tier:</strong> f, i, z</p>"
      ],
      "text/plain": [
       "<IPython.core.display.HTML object>"
      ]
     },
     "metadata": {},
     "output_type": "display_data"
    },
    {
     "data": {
      "text/html": [
       "<p style=\"color: teal; margin-bottom: 10px; overflow: hidden;\">*>i<, *>zf, *fzf, *iiz, *izf, *zff, *zfi, *zfz</p>"
      ],
      "text/plain": [
       "<IPython.core.display.HTML object>"
      ]
     },
     "metadata": {},
     "output_type": "display_data"
    },
    {
     "data": {
      "text/html": [
       "<p style=\"color: teal; margin-bottom: 0; overflow: hidden;\"><strong>Tier:</strong> f, s</p>"
      ],
      "text/plain": [
       "<IPython.core.display.HTML object>"
      ]
     },
     "metadata": {},
     "output_type": "display_data"
    },
    {
     "data": {
      "text/html": [
       "<p style=\"color: teal; margin-bottom: 10px; overflow: hidden;\">*sfs</p>"
      ],
      "text/plain": [
       "<IPython.core.display.HTML object>"
      ]
     },
     "metadata": {},
     "output_type": "display_data"
    },
    {
     "data": {
      "text/html": [
       "<p style=\"color: teal; margin-bottom: 0; overflow: hidden;\"><strong>Tier:</strong> f, s, u</p>"
      ],
      "text/plain": [
       "<IPython.core.display.HTML object>"
      ]
     },
     "metadata": {},
     "output_type": "display_data"
    },
    {
     "data": {
      "text/html": [
       "<p style=\"color: teal; margin-bottom: 10px; overflow: hidden;\">*>fs, *>su, *fuu, *sfu, *suf, *uff, *usf</p>"
      ],
      "text/plain": [
       "<IPython.core.display.HTML object>"
      ]
     },
     "metadata": {},
     "output_type": "display_data"
    },
    {
     "data": {
      "text/html": [
       "<p style=\"color: teal; margin-bottom: 0; overflow: hidden;\"><strong>Tier:</strong> f, s, u, z</p>"
      ],
      "text/plain": [
       "<IPython.core.display.HTML object>"
      ]
     },
     "metadata": {},
     "output_type": "display_data"
    },
    {
     "data": {
      "text/html": [
       "<p style=\"color: teal; margin-bottom: 10px; overflow: hidden;\">*>us, *us<</p>"
      ],
      "text/plain": [
       "<IPython.core.display.HTML object>"
      ]
     },
     "metadata": {},
     "output_type": "display_data"
    },
    {
     "data": {
      "text/html": [
       "<p style=\"color: teal; margin-bottom: 0; overflow: hidden;\"><strong>Tier:</strong> f, s, z</p>"
      ],
      "text/plain": [
       "<IPython.core.display.HTML object>"
      ]
     },
     "metadata": {},
     "output_type": "display_data"
    },
    {
     "data": {
      "text/html": [
       "<p style=\"color: teal; margin-bottom: 10px; overflow: hidden;\">*sfz, *szf, *zsf</p>"
      ],
      "text/plain": [
       "<IPython.core.display.HTML object>"
      ]
     },
     "metadata": {},
     "output_type": "display_data"
    },
    {
     "data": {
      "text/html": [
       "<p style=\"color: teal; margin-bottom: 0; overflow: hidden;\"><strong>Tier:</strong> f, u, z</p>"
      ],
      "text/plain": [
       "<IPython.core.display.HTML object>"
      ]
     },
     "metadata": {},
     "output_type": "display_data"
    },
    {
     "data": {
      "text/html": [
       "<p style=\"color: teal; margin-bottom: 10px; overflow: hidden;\">*uzf, *zfu, *zuz</p>"
      ],
      "text/plain": [
       "<IPython.core.display.HTML object>"
      ]
     },
     "metadata": {},
     "output_type": "display_data"
    },
    {
     "data": {
      "text/html": [
       "<p style=\"color: teal; margin-bottom: 0; overflow: hidden;\"><strong>Tier:</strong> f, z</p>"
      ],
      "text/plain": [
       "<IPython.core.display.HTML object>"
      ]
     },
     "metadata": {},
     "output_type": "display_data"
    },
    {
     "data": {
      "text/html": [
       "<p style=\"color: teal; margin-bottom: 10px; overflow: hidden;\">*zf<, *zzf</p>"
      ],
      "text/plain": [
       "<IPython.core.display.HTML object>"
      ]
     },
     "metadata": {},
     "output_type": "display_data"
    },
    {
     "data": {
      "text/html": [
       "<p style=\"color: teal; margin-bottom: 0; overflow: hidden;\"><strong>Tier:</strong> i</p>"
      ],
      "text/plain": [
       "<IPython.core.display.HTML object>"
      ]
     },
     "metadata": {},
     "output_type": "display_data"
    },
    {
     "data": {
      "text/html": [
       "<p style=\"color: teal; margin-bottom: 10px; overflow: hidden;\">*iii</p>"
      ],
      "text/plain": [
       "<IPython.core.display.HTML object>"
      ]
     },
     "metadata": {},
     "output_type": "display_data"
    },
    {
     "data": {
      "text/html": [
       "<p style=\"color: teal; margin-bottom: 0; overflow: hidden;\"><strong>Tier:</strong> i, s</p>"
      ],
      "text/plain": [
       "<IPython.core.display.HTML object>"
      ]
     },
     "metadata": {},
     "output_type": "display_data"
    },
    {
     "data": {
      "text/html": [
       "<p style=\"color: teal; margin-bottom: 10px; overflow: hidden;\">*sii</p>"
      ],
      "text/plain": [
       "<IPython.core.display.HTML object>"
      ]
     },
     "metadata": {},
     "output_type": "display_data"
    },
    {
     "data": {
      "text/html": [
       "<p style=\"color: teal; margin-bottom: 0; overflow: hidden;\"><strong>Tier:</strong> i, s, u</p>"
      ],
      "text/plain": [
       "<IPython.core.display.HTML object>"
      ]
     },
     "metadata": {},
     "output_type": "display_data"
    },
    {
     "data": {
      "text/html": [
       "<p style=\"color: teal; margin-bottom: 10px; overflow: hidden;\">*isu, *sis, *ssi, *sus, *uis</p>"
      ],
      "text/plain": [
       "<IPython.core.display.HTML object>"
      ]
     },
     "metadata": {},
     "output_type": "display_data"
    },
    {
     "data": {
      "text/html": [
       "<p style=\"color: teal; margin-bottom: 0; overflow: hidden;\"><strong>Tier:</strong> i, s, u, z</p>"
      ],
      "text/plain": [
       "<IPython.core.display.HTML object>"
      ]
     },
     "metadata": {},
     "output_type": "display_data"
    },
    {
     "data": {
      "text/html": [
       "<p style=\"color: teal; margin-bottom: 10px; overflow: hidden;\">*siz, *suz</p>"
      ],
      "text/plain": [
       "<IPython.core.display.HTML object>"
      ]
     },
     "metadata": {},
     "output_type": "display_data"
    },
    {
     "data": {
      "text/html": [
       "<p style=\"color: teal; margin-bottom: 0; overflow: hidden;\"><strong>Tier:</strong> i, s, z</p>"
      ],
      "text/plain": [
       "<IPython.core.display.HTML object>"
      ]
     },
     "metadata": {},
     "output_type": "display_data"
    },
    {
     "data": {
      "text/html": [
       "<p style=\"color: teal; margin-bottom: 10px; overflow: hidden;\">*isz, *szi, *szs, *zis, *zsi</p>"
      ],
      "text/plain": [
       "<IPython.core.display.HTML object>"
      ]
     },
     "metadata": {},
     "output_type": "display_data"
    },
    {
     "data": {
      "text/html": [
       "<p style=\"color: teal; margin-bottom: 0; overflow: hidden;\"><strong>Tier:</strong> i, u, z</p>"
      ],
      "text/plain": [
       "<IPython.core.display.HTML object>"
      ]
     },
     "metadata": {},
     "output_type": "display_data"
    },
    {
     "data": {
      "text/html": [
       "<p style=\"color: teal; margin-bottom: 10px; overflow: hidden;\">*uzi, *zii</p>"
      ],
      "text/plain": [
       "<IPython.core.display.HTML object>"
      ]
     },
     "metadata": {},
     "output_type": "display_data"
    },
    {
     "data": {
      "text/html": [
       "<p style=\"color: teal; margin-bottom: 0; overflow: hidden;\"><strong>Tier:</strong> i, z</p>"
      ],
      "text/plain": [
       "<IPython.core.display.HTML object>"
      ]
     },
     "metadata": {},
     "output_type": "display_data"
    },
    {
     "data": {
      "text/html": [
       "<p style=\"color: teal; margin-bottom: 10px; overflow: hidden;\">*izi, *ziz</p>"
      ],
      "text/plain": [
       "<IPython.core.display.HTML object>"
      ]
     },
     "metadata": {},
     "output_type": "display_data"
    },
    {
     "data": {
      "text/html": [
       "<p style=\"color: teal; margin-bottom: 0; overflow: hidden;\"><strong>Tier:</strong> s, u</p>"
      ],
      "text/plain": [
       "<IPython.core.display.HTML object>"
      ]
     },
     "metadata": {},
     "output_type": "display_data"
    },
    {
     "data": {
      "text/html": [
       "<p style=\"color: teal; margin-bottom: 10px; overflow: hidden;\">*>s<</p>"
      ],
      "text/plain": [
       "<IPython.core.display.HTML object>"
      ]
     },
     "metadata": {},
     "output_type": "display_data"
    },
    {
     "data": {
      "text/html": [
       "<p style=\"color: teal; margin-bottom: 0; overflow: hidden;\"><strong>Tier:</strong> s, u, z</p>"
      ],
      "text/plain": [
       "<IPython.core.display.HTML object>"
      ]
     },
     "metadata": {},
     "output_type": "display_data"
    },
    {
     "data": {
      "text/html": [
       "<p style=\"color: teal; margin-bottom: 10px; overflow: hidden;\">*>zs, *szu, *usz, *uz<, *zsu</p>"
      ],
      "text/plain": [
       "<IPython.core.display.HTML object>"
      ]
     },
     "metadata": {},
     "output_type": "display_data"
    },
    {
     "data": {
      "text/html": [
       "<p style=\"color: teal; margin-bottom: 0; overflow: hidden;\"><strong>Tier:</strong> s, z</p>"
      ],
      "text/plain": [
       "<IPython.core.display.HTML object>"
      ]
     },
     "metadata": {},
     "output_type": "display_data"
    },
    {
     "data": {
      "text/html": [
       "<p style=\"color: teal; margin-bottom: 10px; overflow: hidden;\">*ssz, *sz<, *zzs</p>"
      ],
      "text/plain": [
       "<IPython.core.display.HTML object>"
      ]
     },
     "metadata": {},
     "output_type": "display_data"
    },
    {
     "data": {
      "text/html": [
       "<p style=\"color: teal; margin-bottom: 0; overflow: hidden;\"><strong>Tier:</strong> u, z</p>"
      ],
      "text/plain": [
       "<IPython.core.display.HTML object>"
      ]
     },
     "metadata": {},
     "output_type": "display_data"
    },
    {
     "data": {
      "text/html": [
       "<p style=\"color: teal; margin-bottom: 10px; overflow: hidden;\">*uuz, *uzu, *zzu</p>"
      ],
      "text/plain": [
       "<IPython.core.display.HTML object>"
      ]
     },
     "metadata": {},
     "output_type": "display_data"
    },
    {
     "name": "stdout",
     "output_type": "stream",
     "text": [
      "\n"
     ]
    },
    {
     "data": {
      "text/html": [
       "<h2>Brute force</h2>"
      ],
      "text/plain": [
       "<IPython.core.display.HTML object>"
      ]
     },
     "metadata": {},
     "output_type": "display_data"
    },
    {
     "data": {
      "text/html": [
       "<p style=\"color: purple; margin-bottom: 0; overflow: hidden;\"><strong>Tier:</strong> a, f</p>"
      ],
      "text/plain": [
       "<IPython.core.display.HTML object>"
      ]
     },
     "metadata": {},
     "output_type": "display_data"
    },
    {
     "data": {
      "text/html": [
       "<p style=\"color: purple; margin-bottom: 10px; overflow: hidden;\">*>fa, *afa, *faa</p>"
      ],
      "text/plain": [
       "<IPython.core.display.HTML object>"
      ]
     },
     "metadata": {},
     "output_type": "display_data"
    },
    {
     "data": {
      "text/html": [
       "<p style=\"color: purple; margin-bottom: 0; overflow: hidden;\"><strong>Tier:</strong> a, f, i</p>"
      ],
      "text/plain": [
       "<IPython.core.display.HTML object>"
      ]
     },
     "metadata": {},
     "output_type": "display_data"
    },
    {
     "data": {
      "text/html": [
       "<p style=\"color: purple; margin-bottom: 10px; overflow: hidden;\">*aaf, *fai, *fff, *fia, *ia<, *ii<</p>"
      ],
      "text/plain": [
       "<IPython.core.display.HTML object>"
      ]
     },
     "metadata": {},
     "output_type": "display_data"
    },
    {
     "data": {
      "text/html": [
       "<p style=\"color: purple; margin-bottom: 0; overflow: hidden;\"><strong>Tier:</strong> a, f, i, s</p>"
      ],
      "text/plain": [
       "<IPython.core.display.HTML object>"
      ]
     },
     "metadata": {},
     "output_type": "display_data"
    },
    {
     "data": {
      "text/html": [
       "<p style=\"color: purple; margin-bottom: 10px; overflow: hidden;\">*ais, *ffs</p>"
      ],
      "text/plain": [
       "<IPython.core.display.HTML object>"
      ]
     },
     "metadata": {},
     "output_type": "display_data"
    },
    {
     "data": {
      "text/html": [
       "<p style=\"color: purple; margin-bottom: 0; overflow: hidden;\"><strong>Tier:</strong> a, f, i, s, u</p>"
      ],
      "text/plain": [
       "<IPython.core.display.HTML object>"
      ]
     },
     "metadata": {},
     "output_type": "display_data"
    },
    {
     "data": {
      "text/html": [
       "<p style=\"color: purple; margin-bottom: 10px; overflow: hidden;\">*>u<, *ias, *if<, *ifs</p>"
      ],
      "text/plain": [
       "<IPython.core.display.HTML object>"
      ]
     },
     "metadata": {},
     "output_type": "display_data"
    },
    {
     "data": {
      "text/html": [
       "<p style=\"color: purple; margin-bottom: 0; overflow: hidden;\"><strong>Tier:</strong> a, f, i, s, z</p>"
      ],
      "text/plain": [
       "<IPython.core.display.HTML object>"
      ]
     },
     "metadata": {},
     "output_type": "display_data"
    },
    {
     "data": {
      "text/html": [
       "<p style=\"color: purple; margin-bottom: 10px; overflow: hidden;\">*>fi, *asi</p>"
      ],
      "text/plain": [
       "<IPython.core.display.HTML object>"
      ]
     },
     "metadata": {},
     "output_type": "display_data"
    },
    {
     "data": {
      "text/html": [
       "<p style=\"color: purple; margin-bottom: 0; overflow: hidden;\"><strong>Tier:</strong> a, f, i, u</p>"
      ],
      "text/plain": [
       "<IPython.core.display.HTML object>"
      ]
     },
     "metadata": {},
     "output_type": "display_data"
    },
    {
     "data": {
      "text/html": [
       "<p style=\"color: purple; margin-bottom: 10px; overflow: hidden;\">*>uu, *afu, *aif, *iaf, *ufa, *uia</p>"
      ],
      "text/plain": [
       "<IPython.core.display.HTML object>"
      ]
     },
     "metadata": {},
     "output_type": "display_data"
    },
    {
     "data": {
      "text/html": [
       "<p style=\"color: purple; margin-bottom: 0; overflow: hidden;\"><strong>Tier:</strong> a, f, i, u, z</p>"
      ],
      "text/plain": [
       "<IPython.core.display.HTML object>"
      ]
     },
     "metadata": {},
     "output_type": "display_data"
    },
    {
     "data": {
      "text/html": [
       "<p style=\"color: purple; margin-bottom: 10px; overflow: hidden;\">*>zi</p>"
      ],
      "text/plain": [
       "<IPython.core.display.HTML object>"
      ]
     },
     "metadata": {},
     "output_type": "display_data"
    },
    {
     "data": {
      "text/html": [
       "<p style=\"color: purple; margin-bottom: 0; overflow: hidden;\"><strong>Tier:</strong> a, f, i, z</p>"
      ],
      "text/plain": [
       "<IPython.core.display.HTML object>"
      ]
     },
     "metadata": {},
     "output_type": "display_data"
    },
    {
     "data": {
      "text/html": [
       "<p style=\"color: purple; margin-bottom: 10px; overflow: hidden;\">*afz, *aiz, *izz</p>"
      ],
      "text/plain": [
       "<IPython.core.display.HTML object>"
      ]
     },
     "metadata": {},
     "output_type": "display_data"
    },
    {
     "data": {
      "text/html": [
       "<p style=\"color: purple; margin-bottom: 0; overflow: hidden;\"><strong>Tier:</strong> a, f, s</p>"
      ],
      "text/plain": [
       "<IPython.core.display.HTML object>"
      ]
     },
     "metadata": {},
     "output_type": "display_data"
    },
    {
     "data": {
      "text/html": [
       "<p style=\"color: purple; margin-bottom: 10px; overflow: hidden;\">*aas, *asf, *fsa, *saf, *sfa</p>"
      ],
      "text/plain": [
       "<IPython.core.display.HTML object>"
      ]
     },
     "metadata": {},
     "output_type": "display_data"
    },
    {
     "data": {
      "text/html": [
       "<p style=\"color: purple; margin-bottom: 0; overflow: hidden;\"><strong>Tier:</strong> a, f, s, u</p>"
      ],
      "text/plain": [
       "<IPython.core.display.HTML object>"
      ]
     },
     "metadata": {},
     "output_type": "display_data"
    },
    {
     "data": {
      "text/html": [
       "<p style=\"color: purple; margin-bottom: 10px; overflow: hidden;\">*>as, *asu, *au<, *aus, *fau, *fss</p>"
      ],
      "text/plain": [
       "<IPython.core.display.HTML object>"
      ]
     },
     "metadata": {},
     "output_type": "display_data"
    },
    {
     "data": {
      "text/html": [
       "<p style=\"color: purple; margin-bottom: 0; overflow: hidden;\"><strong>Tier:</strong> a, f, s, z</p>"
      ],
      "text/plain": [
       "<IPython.core.display.HTML object>"
      ]
     },
     "metadata": {},
     "output_type": "display_data"
    },
    {
     "data": {
      "text/html": [
       "<p style=\"color: purple; margin-bottom: 10px; overflow: hidden;\">*asz, *fa<, *zzz</p>"
      ],
      "text/plain": [
       "<IPython.core.display.HTML object>"
      ]
     },
     "metadata": {},
     "output_type": "display_data"
    },
    {
     "data": {
      "text/html": [
       "<p style=\"color: purple; margin-bottom: 0; overflow: hidden;\"><strong>Tier:</strong> a, f, u</p>"
      ],
      "text/plain": [
       "<IPython.core.display.HTML object>"
      ]
     },
     "metadata": {},
     "output_type": "display_data"
    },
    {
     "data": {
      "text/html": [
       "<p style=\"color: purple; margin-bottom: 10px; overflow: hidden;\">*fua, *uuf</p>"
      ],
      "text/plain": [
       "<IPython.core.display.HTML object>"
      ]
     },
     "metadata": {},
     "output_type": "display_data"
    },
    {
     "data": {
      "text/html": [
       "<p style=\"color: purple; margin-bottom: 0; overflow: hidden;\"><strong>Tier:</strong> a, f, u, z</p>"
      ],
      "text/plain": [
       "<IPython.core.display.HTML object>"
      ]
     },
     "metadata": {},
     "output_type": "display_data"
    },
    {
     "data": {
      "text/html": [
       "<p style=\"color: purple; margin-bottom: 10px; overflow: hidden;\">*auz, *uzz</p>"
      ],
      "text/plain": [
       "<IPython.core.display.HTML object>"
      ]
     },
     "metadata": {},
     "output_type": "display_data"
    },
    {
     "data": {
      "text/html": [
       "<p style=\"color: purple; margin-bottom: 0; overflow: hidden;\"><strong>Tier:</strong> a, f, z</p>"
      ],
      "text/plain": [
       "<IPython.core.display.HTML object>"
      ]
     },
     "metadata": {},
     "output_type": "display_data"
    },
    {
     "data": {
      "text/html": [
       "<p style=\"color: purple; margin-bottom: 10px; overflow: hidden;\">*>zz, *azf, *faz, *ffz, *fza, *zaf, *zfa</p>"
      ],
      "text/plain": [
       "<IPython.core.display.HTML object>"
      ]
     },
     "metadata": {},
     "output_type": "display_data"
    },
    {
     "data": {
      "text/html": [
       "<p style=\"color: purple; margin-bottom: 0; overflow: hidden;\"><strong>Tier:</strong> a, i</p>"
      ],
      "text/plain": [
       "<IPython.core.display.HTML object>"
      ]
     },
     "metadata": {},
     "output_type": "display_data"
    },
    {
     "data": {
      "text/html": [
       "<p style=\"color: purple; margin-bottom: 10px; overflow: hidden;\">*aaa, *aai, *aii</p>"
      ],
      "text/plain": [
       "<IPython.core.display.HTML object>"
      ]
     },
     "metadata": {},
     "output_type": "display_data"
    },
    {
     "data": {
      "text/html": [
       "<p style=\"color: purple; margin-bottom: 0; overflow: hidden;\"><strong>Tier:</strong> a, i, s</p>"
      ],
      "text/plain": [
       "<IPython.core.display.HTML object>"
      ]
     },
     "metadata": {},
     "output_type": "display_data"
    },
    {
     "data": {
      "text/html": [
       "<p style=\"color: purple; margin-bottom: 10px; overflow: hidden;\">*asa, *isa, *isi, *saa, *sai</p>"
      ],
      "text/plain": [
       "<IPython.core.display.HTML object>"
      ]
     },
     "metadata": {},
     "output_type": "display_data"
    },
    {
     "data": {
      "text/html": [
       "<p style=\"color: purple; margin-bottom: 0; overflow: hidden;\"><strong>Tier:</strong> a, i, s, u</p>"
      ],
      "text/plain": [
       "<IPython.core.display.HTML object>"
      ]
     },
     "metadata": {},
     "output_type": "display_data"
    },
    {
     "data": {
      "text/html": [
       "<p style=\"color: purple; margin-bottom: 10px; overflow: hidden;\">*>is, *iss, *iu<, *si<, *uai, *usi</p>"
      ],
      "text/plain": [
       "<IPython.core.display.HTML object>"
      ]
     },
     "metadata": {},
     "output_type": "display_data"
    },
    {
     "data": {
      "text/html": [
       "<p style=\"color: purple; margin-bottom: 0; overflow: hidden;\"><strong>Tier:</strong> a, i, s, z</p>"
      ],
      "text/plain": [
       "<IPython.core.display.HTML object>"
      ]
     },
     "metadata": {},
     "output_type": "display_data"
    },
    {
     "data": {
      "text/html": [
       "<p style=\"color: purple; margin-bottom: 10px; overflow: hidden;\">*sia</p>"
      ],
      "text/plain": [
       "<IPython.core.display.HTML object>"
      ]
     },
     "metadata": {},
     "output_type": "display_data"
    },
    {
     "data": {
      "text/html": [
       "<p style=\"color: purple; margin-bottom: 0; overflow: hidden;\"><strong>Tier:</strong> a, i, u</p>"
      ],
      "text/plain": [
       "<IPython.core.display.HTML object>"
      ]
     },
     "metadata": {},
     "output_type": "display_data"
    },
    {
     "data": {
      "text/html": [
       "<p style=\"color: purple; margin-bottom: 10px; overflow: hidden;\">*>a<, *>ii, *aau, *aui, *iia, *iiu, *uaa</p>"
      ],
      "text/plain": [
       "<IPython.core.display.HTML object>"
      ]
     },
     "metadata": {},
     "output_type": "display_data"
    },
    {
     "data": {
      "text/html": [
       "<p style=\"color: purple; margin-bottom: 0; overflow: hidden;\"><strong>Tier:</strong> a, i, u, z</p>"
      ],
      "text/plain": [
       "<IPython.core.display.HTML object>"
      ]
     },
     "metadata": {},
     "output_type": "display_data"
    },
    {
     "data": {
      "text/html": [
       "<p style=\"color: purple; margin-bottom: 10px; overflow: hidden;\">*>au, *iaz, *zi<</p>"
      ],
      "text/plain": [
       "<IPython.core.display.HTML object>"
      ]
     },
     "metadata": {},
     "output_type": "display_data"
    },
    {
     "data": {
      "text/html": [
       "<p style=\"color: purple; margin-bottom: 0; overflow: hidden;\"><strong>Tier:</strong> a, i, z</p>"
      ],
      "text/plain": [
       "<IPython.core.display.HTML object>"
      ]
     },
     "metadata": {},
     "output_type": "display_data"
    },
    {
     "data": {
      "text/html": [
       "<p style=\"color: purple; margin-bottom: 10px; overflow: hidden;\">*>aa, *azi, *iza, *zaa</p>"
      ],
      "text/plain": [
       "<IPython.core.display.HTML object>"
      ]
     },
     "metadata": {},
     "output_type": "display_data"
    },
    {
     "data": {
      "text/html": [
       "<p style=\"color: purple; margin-bottom: 0; overflow: hidden;\"><strong>Tier:</strong> a, s</p>"
      ],
      "text/plain": [
       "<IPython.core.display.HTML object>"
      ]
     },
     "metadata": {},
     "output_type": "display_data"
    },
    {
     "data": {
      "text/html": [
       "<p style=\"color: purple; margin-bottom: 10px; overflow: hidden;\">*>sa, *sa<, *sas, *ssa</p>"
      ],
      "text/plain": [
       "<IPython.core.display.HTML object>"
      ]
     },
     "metadata": {},
     "output_type": "display_data"
    },
    {
     "data": {
      "text/html": [
       "<p style=\"color: purple; margin-bottom: 0; overflow: hidden;\"><strong>Tier:</strong> a, s, u</p>"
      ],
      "text/plain": [
       "<IPython.core.display.HTML object>"
      ]
     },
     "metadata": {},
     "output_type": "display_data"
    },
    {
     "data": {
      "text/html": [
       "<p style=\"color: purple; margin-bottom: 10px; overflow: hidden;\">*as<, *sau, *sua, *usa</p>"
      ],
      "text/plain": [
       "<IPython.core.display.HTML object>"
      ]
     },
     "metadata": {},
     "output_type": "display_data"
    },
    {
     "data": {
      "text/html": [
       "<p style=\"color: purple; margin-bottom: 0; overflow: hidden;\"><strong>Tier:</strong> a, s, u, z</p>"
      ],
      "text/plain": [
       "<IPython.core.display.HTML object>"
      ]
     },
     "metadata": {},
     "output_type": "display_data"
    },
    {
     "data": {
      "text/html": [
       "<p style=\"color: purple; margin-bottom: 10px; overflow: hidden;\">*uas, *zas, *zuu</p>"
      ],
      "text/plain": [
       "<IPython.core.display.HTML object>"
      ]
     },
     "metadata": {},
     "output_type": "display_data"
    },
    {
     "data": {
      "text/html": [
       "<p style=\"color: purple; margin-bottom: 0; overflow: hidden;\"><strong>Tier:</strong> a, s, z</p>"
      ],
      "text/plain": [
       "<IPython.core.display.HTML object>"
      ]
     },
     "metadata": {},
     "output_type": "display_data"
    },
    {
     "data": {
      "text/html": [
       "<p style=\"color: purple; margin-bottom: 10px; overflow: hidden;\">*>sz, *saz, *sza, *zsa</p>"
      ],
      "text/plain": [
       "<IPython.core.display.HTML object>"
      ]
     },
     "metadata": {},
     "output_type": "display_data"
    },
    {
     "data": {
      "text/html": [
       "<p style=\"color: purple; margin-bottom: 0; overflow: hidden;\"><strong>Tier:</strong> a, u</p>"
      ],
      "text/plain": [
       "<IPython.core.display.HTML object>"
      ]
     },
     "metadata": {},
     "output_type": "display_data"
    },
    {
     "data": {
      "text/html": [
       "<p style=\"color: purple; margin-bottom: 10px; overflow: hidden;\">*aua, *uau</p>"
      ],
      "text/plain": [
       "<IPython.core.display.HTML object>"
      ]
     },
     "metadata": {},
     "output_type": "display_data"
    },
    {
     "data": {
      "text/html": [
       "<p style=\"color: purple; margin-bottom: 0; overflow: hidden;\"><strong>Tier:</strong> a, u, z</p>"
      ],
      "text/plain": [
       "<IPython.core.display.HTML object>"
      ]
     },
     "metadata": {},
     "output_type": "display_data"
    },
    {
     "data": {
      "text/html": [
       "<p style=\"color: purple; margin-bottom: 10px; overflow: hidden;\">*azu, *uza, *zua</p>"
      ],
      "text/plain": [
       "<IPython.core.display.HTML object>"
      ]
     },
     "metadata": {},
     "output_type": "display_data"
    },
    {
     "data": {
      "text/html": [
       "<p style=\"color: purple; margin-bottom: 0; overflow: hidden;\"><strong>Tier:</strong> a, z</p>"
      ],
      "text/plain": [
       "<IPython.core.display.HTML object>"
      ]
     },
     "metadata": {},
     "output_type": "display_data"
    },
    {
     "data": {
      "text/html": [
       "<p style=\"color: purple; margin-bottom: 10px; overflow: hidden;\">*aaz, *aza, *zz<</p>"
      ],
      "text/plain": [
       "<IPython.core.display.HTML object>"
      ]
     },
     "metadata": {},
     "output_type": "display_data"
    },
    {
     "data": {
      "text/html": [
       "<p style=\"color: purple; margin-bottom: 0; overflow: hidden;\"><strong>Tier:</strong> f, i, s</p>"
      ],
      "text/plain": [
       "<IPython.core.display.HTML object>"
      ]
     },
     "metadata": {},
     "output_type": "display_data"
    },
    {
     "data": {
      "text/html": [
       "<p style=\"color: purple; margin-bottom: 10px; overflow: hidden;\">*>si, *fi<, *iff, *iis, *sif</p>"
      ],
      "text/plain": [
       "<IPython.core.display.HTML object>"
      ]
     },
     "metadata": {},
     "output_type": "display_data"
    },
    {
     "data": {
      "text/html": [
       "<p style=\"color: purple; margin-bottom: 0; overflow: hidden;\"><strong>Tier:</strong> f, i, s, u</p>"
      ],
      "text/plain": [
       "<IPython.core.display.HTML object>"
      ]
     },
     "metadata": {},
     "output_type": "display_data"
    },
    {
     "data": {
      "text/html": [
       "<p style=\"color: purple; margin-bottom: 10px; overflow: hidden;\">*fs<</p>"
      ],
      "text/plain": [
       "<IPython.core.display.HTML object>"
      ]
     },
     "metadata": {},
     "output_type": "display_data"
    },
    {
     "data": {
      "text/html": [
       "<p style=\"color: purple; margin-bottom: 0; overflow: hidden;\"><strong>Tier:</strong> f, i, s, u, z</p>"
      ],
      "text/plain": [
       "<IPython.core.display.HTML object>"
      ]
     },
     "metadata": {},
     "output_type": "display_data"
    },
    {
     "data": {
      "text/html": [
       "<p style=\"color: purple; margin-bottom: 10px; overflow: hidden;\">*ius</p>"
      ],
      "text/plain": [
       "<IPython.core.display.HTML object>"
      ]
     },
     "metadata": {},
     "output_type": "display_data"
    },
    {
     "data": {
      "text/html": [
       "<p style=\"color: purple; margin-bottom: 0; overflow: hidden;\"><strong>Tier:</strong> f, i, s, z</p>"
      ],
      "text/plain": [
       "<IPython.core.display.HTML object>"
      ]
     },
     "metadata": {},
     "output_type": "display_data"
    },
    {
     "data": {
      "text/html": [
       "<p style=\"color: purple; margin-bottom: 10px; overflow: hidden;\">*fsz, *fzs, *is<, *zfs</p>"
      ],
      "text/plain": [
       "<IPython.core.display.HTML object>"
      ]
     },
     "metadata": {},
     "output_type": "display_data"
    },
    {
     "data": {
      "text/html": [
       "<p style=\"color: purple; margin-bottom: 0; overflow: hidden;\"><strong>Tier:</strong> f, i, u</p>"
      ],
      "text/plain": [
       "<IPython.core.display.HTML object>"
      ]
     },
     "metadata": {},
     "output_type": "display_data"
    },
    {
     "data": {
      "text/html": [
       "<p style=\"color: purple; margin-bottom: 10px; overflow: hidden;\">*>if, *>uf, *ffu, *fii, *fuf, *fui, *iif, *ufi, *uii</p>"
      ],
      "text/plain": [
       "<IPython.core.display.HTML object>"
      ]
     },
     "metadata": {},
     "output_type": "display_data"
    },
    {
     "data": {
      "text/html": [
       "<p style=\"color: purple; margin-bottom: 0; overflow: hidden;\"><strong>Tier:</strong> f, i, u, z</p>"
      ],
      "text/plain": [
       "<IPython.core.display.HTML object>"
      ]
     },
     "metadata": {},
     "output_type": "display_data"
    },
    {
     "data": {
      "text/html": [
       "<p style=\"color: purple; margin-bottom: 10px; overflow: hidden;\">*fuz, *fz<, *ufz, *uiz, *zif, *zuf</p>"
      ],
      "text/plain": [
       "<IPython.core.display.HTML object>"
      ]
     },
     "metadata": {},
     "output_type": "display_data"
    },
    {
     "data": {
      "text/html": [
       "<p style=\"color: purple; margin-bottom: 0; overflow: hidden;\"><strong>Tier:</strong> f, i, z</p>"
      ],
      "text/plain": [
       "<IPython.core.display.HTML object>"
      ]
     },
     "metadata": {},
     "output_type": "display_data"
    },
    {
     "data": {
      "text/html": [
       "<p style=\"color: purple; margin-bottom: 10px; overflow: hidden;\">*>i<, *>zf, *fzf, *iiz, *izf, *zff, *zfi, *zfz</p>"
      ],
      "text/plain": [
       "<IPython.core.display.HTML object>"
      ]
     },
     "metadata": {},
     "output_type": "display_data"
    },
    {
     "data": {
      "text/html": [
       "<p style=\"color: purple; margin-bottom: 0; overflow: hidden;\"><strong>Tier:</strong> f, s</p>"
      ],
      "text/plain": [
       "<IPython.core.display.HTML object>"
      ]
     },
     "metadata": {},
     "output_type": "display_data"
    },
    {
     "data": {
      "text/html": [
       "<p style=\"color: purple; margin-bottom: 10px; overflow: hidden;\">*sfs</p>"
      ],
      "text/plain": [
       "<IPython.core.display.HTML object>"
      ]
     },
     "metadata": {},
     "output_type": "display_data"
    },
    {
     "data": {
      "text/html": [
       "<p style=\"color: purple; margin-bottom: 0; overflow: hidden;\"><strong>Tier:</strong> f, s, u</p>"
      ],
      "text/plain": [
       "<IPython.core.display.HTML object>"
      ]
     },
     "metadata": {},
     "output_type": "display_data"
    },
    {
     "data": {
      "text/html": [
       "<p style=\"color: purple; margin-bottom: 10px; overflow: hidden;\">*>fs, *>su, *fuu, *sfu, *suf, *uff, *usf</p>"
      ],
      "text/plain": [
       "<IPython.core.display.HTML object>"
      ]
     },
     "metadata": {},
     "output_type": "display_data"
    },
    {
     "data": {
      "text/html": [
       "<p style=\"color: purple; margin-bottom: 0; overflow: hidden;\"><strong>Tier:</strong> f, s, u, z</p>"
      ],
      "text/plain": [
       "<IPython.core.display.HTML object>"
      ]
     },
     "metadata": {},
     "output_type": "display_data"
    },
    {
     "data": {
      "text/html": [
       "<p style=\"color: purple; margin-bottom: 10px; overflow: hidden;\">*>us, *us<</p>"
      ],
      "text/plain": [
       "<IPython.core.display.HTML object>"
      ]
     },
     "metadata": {},
     "output_type": "display_data"
    },
    {
     "data": {
      "text/html": [
       "<p style=\"color: purple; margin-bottom: 0; overflow: hidden;\"><strong>Tier:</strong> f, s, z</p>"
      ],
      "text/plain": [
       "<IPython.core.display.HTML object>"
      ]
     },
     "metadata": {},
     "output_type": "display_data"
    },
    {
     "data": {
      "text/html": [
       "<p style=\"color: purple; margin-bottom: 10px; overflow: hidden;\">*sfz, *szf, *zsf</p>"
      ],
      "text/plain": [
       "<IPython.core.display.HTML object>"
      ]
     },
     "metadata": {},
     "output_type": "display_data"
    },
    {
     "data": {
      "text/html": [
       "<p style=\"color: purple; margin-bottom: 0; overflow: hidden;\"><strong>Tier:</strong> f, u, z</p>"
      ],
      "text/plain": [
       "<IPython.core.display.HTML object>"
      ]
     },
     "metadata": {},
     "output_type": "display_data"
    },
    {
     "data": {
      "text/html": [
       "<p style=\"color: purple; margin-bottom: 10px; overflow: hidden;\">*uzf, *zfu, *zuz</p>"
      ],
      "text/plain": [
       "<IPython.core.display.HTML object>"
      ]
     },
     "metadata": {},
     "output_type": "display_data"
    },
    {
     "data": {
      "text/html": [
       "<p style=\"color: purple; margin-bottom: 0; overflow: hidden;\"><strong>Tier:</strong> f, z</p>"
      ],
      "text/plain": [
       "<IPython.core.display.HTML object>"
      ]
     },
     "metadata": {},
     "output_type": "display_data"
    },
    {
     "data": {
      "text/html": [
       "<p style=\"color: purple; margin-bottom: 10px; overflow: hidden;\">*zf<, *zzf</p>"
      ],
      "text/plain": [
       "<IPython.core.display.HTML object>"
      ]
     },
     "metadata": {},
     "output_type": "display_data"
    },
    {
     "data": {
      "text/html": [
       "<p style=\"color: purple; margin-bottom: 0; overflow: hidden;\"><strong>Tier:</strong> i</p>"
      ],
      "text/plain": [
       "<IPython.core.display.HTML object>"
      ]
     },
     "metadata": {},
     "output_type": "display_data"
    },
    {
     "data": {
      "text/html": [
       "<p style=\"color: purple; margin-bottom: 10px; overflow: hidden;\">*iii</p>"
      ],
      "text/plain": [
       "<IPython.core.display.HTML object>"
      ]
     },
     "metadata": {},
     "output_type": "display_data"
    },
    {
     "data": {
      "text/html": [
       "<p style=\"color: purple; margin-bottom: 0; overflow: hidden;\"><strong>Tier:</strong> i, s</p>"
      ],
      "text/plain": [
       "<IPython.core.display.HTML object>"
      ]
     },
     "metadata": {},
     "output_type": "display_data"
    },
    {
     "data": {
      "text/html": [
       "<p style=\"color: purple; margin-bottom: 10px; overflow: hidden;\">*sii</p>"
      ],
      "text/plain": [
       "<IPython.core.display.HTML object>"
      ]
     },
     "metadata": {},
     "output_type": "display_data"
    },
    {
     "data": {
      "text/html": [
       "<p style=\"color: purple; margin-bottom: 0; overflow: hidden;\"><strong>Tier:</strong> i, s, u</p>"
      ],
      "text/plain": [
       "<IPython.core.display.HTML object>"
      ]
     },
     "metadata": {},
     "output_type": "display_data"
    },
    {
     "data": {
      "text/html": [
       "<p style=\"color: purple; margin-bottom: 10px; overflow: hidden;\">*isu, *sis, *ssi, *sus, *uis</p>"
      ],
      "text/plain": [
       "<IPython.core.display.HTML object>"
      ]
     },
     "metadata": {},
     "output_type": "display_data"
    },
    {
     "data": {
      "text/html": [
       "<p style=\"color: purple; margin-bottom: 0; overflow: hidden;\"><strong>Tier:</strong> i, s, u, z</p>"
      ],
      "text/plain": [
       "<IPython.core.display.HTML object>"
      ]
     },
     "metadata": {},
     "output_type": "display_data"
    },
    {
     "data": {
      "text/html": [
       "<p style=\"color: purple; margin-bottom: 10px; overflow: hidden;\">*siz, *suz</p>"
      ],
      "text/plain": [
       "<IPython.core.display.HTML object>"
      ]
     },
     "metadata": {},
     "output_type": "display_data"
    },
    {
     "data": {
      "text/html": [
       "<p style=\"color: purple; margin-bottom: 0; overflow: hidden;\"><strong>Tier:</strong> i, s, z</p>"
      ],
      "text/plain": [
       "<IPython.core.display.HTML object>"
      ]
     },
     "metadata": {},
     "output_type": "display_data"
    },
    {
     "data": {
      "text/html": [
       "<p style=\"color: purple; margin-bottom: 10px; overflow: hidden;\">*isz, *szi, *szs, *zis, *zsi</p>"
      ],
      "text/plain": [
       "<IPython.core.display.HTML object>"
      ]
     },
     "metadata": {},
     "output_type": "display_data"
    },
    {
     "data": {
      "text/html": [
       "<p style=\"color: purple; margin-bottom: 0; overflow: hidden;\"><strong>Tier:</strong> i, u, z</p>"
      ],
      "text/plain": [
       "<IPython.core.display.HTML object>"
      ]
     },
     "metadata": {},
     "output_type": "display_data"
    },
    {
     "data": {
      "text/html": [
       "<p style=\"color: purple; margin-bottom: 10px; overflow: hidden;\">*uzi, *zii</p>"
      ],
      "text/plain": [
       "<IPython.core.display.HTML object>"
      ]
     },
     "metadata": {},
     "output_type": "display_data"
    },
    {
     "data": {
      "text/html": [
       "<p style=\"color: purple; margin-bottom: 0; overflow: hidden;\"><strong>Tier:</strong> i, z</p>"
      ],
      "text/plain": [
       "<IPython.core.display.HTML object>"
      ]
     },
     "metadata": {},
     "output_type": "display_data"
    },
    {
     "data": {
      "text/html": [
       "<p style=\"color: purple; margin-bottom: 10px; overflow: hidden;\">*izi, *ziz</p>"
      ],
      "text/plain": [
       "<IPython.core.display.HTML object>"
      ]
     },
     "metadata": {},
     "output_type": "display_data"
    },
    {
     "data": {
      "text/html": [
       "<p style=\"color: purple; margin-bottom: 0; overflow: hidden;\"><strong>Tier:</strong> s, u</p>"
      ],
      "text/plain": [
       "<IPython.core.display.HTML object>"
      ]
     },
     "metadata": {},
     "output_type": "display_data"
    },
    {
     "data": {
      "text/html": [
       "<p style=\"color: purple; margin-bottom: 10px; overflow: hidden;\">*>s<</p>"
      ],
      "text/plain": [
       "<IPython.core.display.HTML object>"
      ]
     },
     "metadata": {},
     "output_type": "display_data"
    },
    {
     "data": {
      "text/html": [
       "<p style=\"color: purple; margin-bottom: 0; overflow: hidden;\"><strong>Tier:</strong> s, u, z</p>"
      ],
      "text/plain": [
       "<IPython.core.display.HTML object>"
      ]
     },
     "metadata": {},
     "output_type": "display_data"
    },
    {
     "data": {
      "text/html": [
       "<p style=\"color: purple; margin-bottom: 10px; overflow: hidden;\">*>zs, *szu, *usz, *uz<, *zsu</p>"
      ],
      "text/plain": [
       "<IPython.core.display.HTML object>"
      ]
     },
     "metadata": {},
     "output_type": "display_data"
    },
    {
     "data": {
      "text/html": [
       "<p style=\"color: purple; margin-bottom: 0; overflow: hidden;\"><strong>Tier:</strong> s, z</p>"
      ],
      "text/plain": [
       "<IPython.core.display.HTML object>"
      ]
     },
     "metadata": {},
     "output_type": "display_data"
    },
    {
     "data": {
      "text/html": [
       "<p style=\"color: purple; margin-bottom: 10px; overflow: hidden;\">*ssz, *sz<, *zzs</p>"
      ],
      "text/plain": [
       "<IPython.core.display.HTML object>"
      ]
     },
     "metadata": {},
     "output_type": "display_data"
    },
    {
     "data": {
      "text/html": [
       "<p style=\"color: purple; margin-bottom: 0; overflow: hidden;\"><strong>Tier:</strong> u, z</p>"
      ],
      "text/plain": [
       "<IPython.core.display.HTML object>"
      ]
     },
     "metadata": {},
     "output_type": "display_data"
    },
    {
     "data": {
      "text/html": [
       "<p style=\"color: purple; margin-bottom: 10px; overflow: hidden;\">*uuz, *uzu, *zzu</p>"
      ],
      "text/plain": [
       "<IPython.core.display.HTML object>"
      ]
     },
     "metadata": {},
     "output_type": "display_data"
    },
    {
     "name": "stdout",
     "output_type": "stream",
     "text": [
      "\n"
     ]
    },
    {
     "data": {
      "text/html": [
       "<hr><hr>"
      ],
      "text/plain": [
       "<IPython.core.display.HTML object>"
      ]
     },
     "metadata": {},
     "output_type": "display_data"
    },
    {
     "ename": "KeyboardInterrupt",
     "evalue": "",
     "output_type": "error",
     "traceback": [
      "\u001b[0;31m---------------------------------------------------------------------------\u001b[0m",
      "\u001b[0;31mKeyboardInterrupt\u001b[0m                         Traceback (most recent call last)",
      "\u001b[0;32m<ipython-input-125-2308a9cca05b>\u001b[0m in \u001b[0;36m<module>\u001b[0;34m\u001b[0m\n\u001b[1;32m     49\u001b[0m \u001b[0;34m\u001b[0m\u001b[0m\n\u001b[1;32m     50\u001b[0m     \u001b[0;31m# Fingers crossed!\u001b[0m\u001b[0;34m\u001b[0m\u001b[0;34m\u001b[0m\u001b[0;34m\u001b[0m\u001b[0m\n\u001b[0;32m---> 51\u001b[0;31m     \u001b[0;32mif\u001b[0m \u001b[0;32mnot\u001b[0m \u001b[0mtest\u001b[0m\u001b[0;34m(\u001b[0m\u001b[0mG1\u001b[0m\u001b[0;34m,\u001b[0m \u001b[0mG2\u001b[0m\u001b[0;34m,\u001b[0m \u001b[0mdata\u001b[0m\u001b[0;34m,\u001b[0m \u001b[0mk\u001b[0m\u001b[0;34m,\u001b[0m \u001b[0;36m8\u001b[0m\u001b[0;34m)\u001b[0m\u001b[0;34m:\u001b[0m\u001b[0;34m\u001b[0m\u001b[0;34m\u001b[0m\u001b[0m\n\u001b[0m\u001b[1;32m     52\u001b[0m         \u001b[0mprint\u001b[0m\u001b[0;34m(\u001b[0m\u001b[0;34m'The last dataset produced a mismatch.'\u001b[0m\u001b[0;34m)\u001b[0m\u001b[0;34m\u001b[0m\u001b[0;34m\u001b[0m\u001b[0m\n\u001b[1;32m     53\u001b[0m         \u001b[0;32mbreak\u001b[0m\u001b[0;34m\u001b[0m\u001b[0;34m\u001b[0m\u001b[0m\n",
      "\u001b[0;32m<ipython-input-123-5d0beea51fa2>\u001b[0m in \u001b[0;36mtest\u001b[0;34m(G1, G2, data, k, limit)\u001b[0m\n\u001b[1;32m     12\u001b[0m     \u001b[0;32mfor\u001b[0m \u001b[0mn\u001b[0m \u001b[0;32min\u001b[0m \u001b[0mrange\u001b[0m\u001b[0;34m(\u001b[0m\u001b[0;36m1\u001b[0m\u001b[0;34m,\u001b[0m \u001b[0mlimit\u001b[0m\u001b[0;34m)\u001b[0m\u001b[0;34m:\u001b[0m\u001b[0;34m\u001b[0m\u001b[0;34m\u001b[0m\u001b[0m\n\u001b[1;32m     13\u001b[0m         \u001b[0;32mfor\u001b[0m \u001b[0mstring\u001b[0m \u001b[0;32min\u001b[0m \u001b[0mitertools\u001b[0m\u001b[0;34m.\u001b[0m\u001b[0mproduct\u001b[0m\u001b[0;34m(\u001b[0m\u001b[0malpha\u001b[0m\u001b[0;34m,\u001b[0m \u001b[0mrepeat\u001b[0m\u001b[0;34m=\u001b[0m\u001b[0mn\u001b[0m\u001b[0;34m)\u001b[0m\u001b[0;34m:\u001b[0m\u001b[0;34m\u001b[0m\u001b[0;34m\u001b[0m\u001b[0m\n\u001b[0;32m---> 14\u001b[0;31m             \u001b[0;32mif\u001b[0m \u001b[0mscan\u001b[0m\u001b[0;34m(\u001b[0m\u001b[0mstring\u001b[0m\u001b[0;34m,\u001b[0m \u001b[0mk\u001b[0m\u001b[0;34m,\u001b[0m \u001b[0mG1\u001b[0m\u001b[0;34m)\u001b[0m \u001b[0;34m!=\u001b[0m \u001b[0mscan\u001b[0m\u001b[0;34m(\u001b[0m\u001b[0mstring\u001b[0m\u001b[0;34m,\u001b[0m \u001b[0mk\u001b[0m\u001b[0;34m,\u001b[0m \u001b[0mG2\u001b[0m\u001b[0;34m)\u001b[0m\u001b[0;34m:\u001b[0m\u001b[0;34m\u001b[0m\u001b[0;34m\u001b[0m\u001b[0m\n\u001b[0m\u001b[1;32m     15\u001b[0m                 \u001b[0mprint\u001b[0m\u001b[0;34m(\u001b[0m\u001b[0mstring\u001b[0m\u001b[0;34m,\u001b[0m \u001b[0mscan\u001b[0m\u001b[0;34m(\u001b[0m\u001b[0mstring\u001b[0m\u001b[0;34m,\u001b[0m \u001b[0mk\u001b[0m\u001b[0;34m,\u001b[0m \u001b[0mG1\u001b[0m\u001b[0;34m)\u001b[0m\u001b[0;34m,\u001b[0m \u001b[0mscan\u001b[0m\u001b[0;34m(\u001b[0m\u001b[0mstring\u001b[0m\u001b[0;34m,\u001b[0m \u001b[0mk\u001b[0m\u001b[0;34m,\u001b[0m \u001b[0mG2\u001b[0m\u001b[0;34m)\u001b[0m\u001b[0;34m)\u001b[0m\u001b[0;34m\u001b[0m\u001b[0;34m\u001b[0m\u001b[0m\n\u001b[1;32m     16\u001b[0m                 \u001b[0;32mreturn\u001b[0m \u001b[0;32mFalse\u001b[0m\u001b[0;34m\u001b[0m\u001b[0;34m\u001b[0m\u001b[0m\n",
      "\u001b[0;32m<ipython-input-123-5d0beea51fa2>\u001b[0m in \u001b[0;36mscan\u001b[0;34m(string, k, grammar, edges)\u001b[0m\n\u001b[1;32m      1\u001b[0m \u001b[0;32mdef\u001b[0m \u001b[0mscan\u001b[0m\u001b[0;34m(\u001b[0m\u001b[0mstring\u001b[0m\u001b[0;34m,\u001b[0m \u001b[0mk\u001b[0m\u001b[0;34m,\u001b[0m \u001b[0mgrammar\u001b[0m\u001b[0;34m,\u001b[0m \u001b[0medges\u001b[0m\u001b[0;34m=\u001b[0m\u001b[0;34m(\u001b[0m\u001b[0;34m'>'\u001b[0m\u001b[0;34m,\u001b[0m \u001b[0;34m'<'\u001b[0m\u001b[0;34m)\u001b[0m\u001b[0;34m)\u001b[0m\u001b[0;34m:\u001b[0m\u001b[0;34m\u001b[0m\u001b[0;34m\u001b[0m\u001b[0m\n\u001b[1;32m      2\u001b[0m     \u001b[0;32mfor\u001b[0m \u001b[0mtier\u001b[0m \u001b[0;32min\u001b[0m \u001b[0mgrammar\u001b[0m\u001b[0;34m:\u001b[0m\u001b[0;34m\u001b[0m\u001b[0;34m\u001b[0m\u001b[0m\n\u001b[0;32m----> 3\u001b[0;31m         \u001b[0mprojection\u001b[0m \u001b[0;34m=\u001b[0m \u001b[0mproject\u001b[0m\u001b[0;34m(\u001b[0m\u001b[0mstring\u001b[0m\u001b[0;34m,\u001b[0m \u001b[0mk\u001b[0m\u001b[0;34m,\u001b[0m \u001b[0mtier\u001b[0m\u001b[0;34m,\u001b[0m \u001b[0medges\u001b[0m\u001b[0;34m)\u001b[0m\u001b[0;34m\u001b[0m\u001b[0;34m\u001b[0m\u001b[0m\n\u001b[0m\u001b[1;32m      4\u001b[0m         \u001b[0;32mfor\u001b[0m \u001b[0moffset\u001b[0m \u001b[0;32min\u001b[0m \u001b[0mrange\u001b[0m\u001b[0;34m(\u001b[0m\u001b[0mlen\u001b[0m\u001b[0;34m(\u001b[0m\u001b[0mprojection\u001b[0m\u001b[0;34m)\u001b[0m \u001b[0;34m-\u001b[0m \u001b[0mk\u001b[0m \u001b[0;34m+\u001b[0m \u001b[0;36m1\u001b[0m\u001b[0;34m)\u001b[0m\u001b[0;34m:\u001b[0m\u001b[0;34m\u001b[0m\u001b[0;34m\u001b[0m\u001b[0m\n\u001b[1;32m      5\u001b[0m             \u001b[0mk_gram\u001b[0m \u001b[0;34m=\u001b[0m \u001b[0mprojection\u001b[0m\u001b[0;34m[\u001b[0m\u001b[0moffset\u001b[0m\u001b[0;34m:\u001b[0m\u001b[0;34m(\u001b[0m\u001b[0moffset\u001b[0m \u001b[0;34m+\u001b[0m \u001b[0mk\u001b[0m\u001b[0;34m)\u001b[0m\u001b[0;34m]\u001b[0m\u001b[0;34m\u001b[0m\u001b[0;34m\u001b[0m\u001b[0m\n",
      "\u001b[0;32m<ipython-input-120-4adabedd8c88>\u001b[0m in \u001b[0;36mproject\u001b[0;34m(datum, k, tier, edges)\u001b[0m\n\u001b[1;32m      1\u001b[0m \u001b[0;32mdef\u001b[0m \u001b[0mproject\u001b[0m\u001b[0;34m(\u001b[0m\u001b[0mdatum\u001b[0m\u001b[0;34m,\u001b[0m \u001b[0mk\u001b[0m\u001b[0;34m,\u001b[0m \u001b[0mtier\u001b[0m\u001b[0;34m,\u001b[0m \u001b[0medges\u001b[0m\u001b[0;34m)\u001b[0m\u001b[0;34m:\u001b[0m\u001b[0;34m\u001b[0m\u001b[0;34m\u001b[0m\u001b[0m\n\u001b[0;32m----> 2\u001b[0;31m     \u001b[0mresult\u001b[0m \u001b[0;34m=\u001b[0m \u001b[0mtuple\u001b[0m\u001b[0;34m(\u001b[0m\u001b[0;34m)\u001b[0m\u001b[0;34m\u001b[0m\u001b[0;34m\u001b[0m\u001b[0m\n\u001b[0m\u001b[1;32m      3\u001b[0m     \u001b[0;32mfor\u001b[0m \u001b[0msegment\u001b[0m \u001b[0;32min\u001b[0m \u001b[0mdatum\u001b[0m\u001b[0;34m:\u001b[0m\u001b[0;34m\u001b[0m\u001b[0;34m\u001b[0m\u001b[0m\n\u001b[1;32m      4\u001b[0m         \u001b[0;32mif\u001b[0m \u001b[0msegment\u001b[0m \u001b[0;32min\u001b[0m \u001b[0mtier\u001b[0m\u001b[0;34m:\u001b[0m\u001b[0;34m\u001b[0m\u001b[0;34m\u001b[0m\u001b[0m\n\u001b[1;32m      5\u001b[0m             \u001b[0mresult\u001b[0m \u001b[0;34m+=\u001b[0m \u001b[0;34m(\u001b[0m\u001b[0msegment\u001b[0m\u001b[0;34m,\u001b[0m\u001b[0;34m)\u001b[0m\u001b[0;34m\u001b[0m\u001b[0;34m\u001b[0m\u001b[0m\n",
      "\u001b[0;31mKeyboardInterrupt\u001b[0m: "
     ]
    }
   ],
   "source": [
    "from IPython.display import display, HTML\n",
    "\n",
    "while True:\n",
    "    # Alphabet size\n",
    "    m = random.randint(2, len(letters) + 1)\n",
    "    alpha = letters[:m]\n",
    "    \n",
    "    # Dataset size\n",
    "    n = random.randint(1, 30)\n",
    "    data = set()\n",
    "    while len(data) < n:\n",
    "        L = random.randint(1, 10)\n",
    "        data.add(''.join(random.choice(alpha) for pos in range(L)))\n",
    "    data = tuple(data)\n",
    "    \n",
    "    # Go!\n",
    "    G1 = mtslia(data, k)\n",
    "    G2 = brute_force(data, k)\n",
    "    \n",
    "    display(HTML('<h2>Dataset</h2>'))\n",
    "    print('\\n'.join(data))\n",
    "    print()  \n",
    "\n",
    "    # Print MTSLIA's constraints\n",
    "    display(HTML('<h2><em>k</em>-MTSLIA</h2>'))\n",
    "    for tier in sorted(G1):\n",
    "        if not tier or not G1[tier]:\n",
    "            continue\n",
    "        display(HTML('<p style=\"color: teal; margin-bottom: 0; overflow: hidden;\"><strong>Tier:</strong> %s</p>' % ', '.join(tier)))\n",
    "        constraints = []\n",
    "        for constraint in sorted(G1[tier]):\n",
    "            constraints += ['*' + ''.join(constraint)]\n",
    "        display(HTML('<p style=\"color: teal; margin-bottom: 10px; overflow: hidden;\">%s</p>' % ', '.join(constraints)))\n",
    "    print()\n",
    "    \n",
    "    # Print brute-force constraints\n",
    "    display(HTML('<h2>Brute force</h2>'))\n",
    "    for tier in sorted(G2):\n",
    "        if not tier or not G2[tier]:\n",
    "            continue\n",
    "        display(HTML('<p style=\"color: purple; margin-bottom: 0; overflow: hidden;\"><strong>Tier:</strong> %s</p>' % ', '.join(tier)))\n",
    "        constraints = []\n",
    "        for constraint in sorted(G2[tier]):\n",
    "            constraints += ['*' + ''.join(constraint)]\n",
    "        display(HTML('<p style=\"color: purple; margin-bottom: 10px; overflow: hidden;\">%s</p>' % ', '.join(constraints)))\n",
    "    print()\n",
    "    \n",
    "    display(HTML('<hr><hr>'))\n",
    "    \n",
    "    # Fingers crossed!\n",
    "    if not test(G1, G2, data, k, 8):\n",
    "        print('The last dataset produced a mismatch.')\n",
    "        break"
   ]
  },
  {
   "cell_type": "code",
   "execution_count": null,
   "metadata": {},
   "outputs": [],
   "source": []
  },
  {
   "cell_type": "code",
   "execution_count": null,
   "metadata": {},
   "outputs": [],
   "source": []
  }
 ],
 "metadata": {
  "kernelspec": {
   "display_name": "Python 3",
   "language": "python",
   "name": "python3"
  },
  "language_info": {
   "codemirror_mode": {
    "name": "ipython",
    "version": 3
   },
   "file_extension": ".py",
   "mimetype": "text/x-python",
   "name": "python",
   "nbconvert_exporter": "python",
   "pygments_lexer": "ipython3",
   "version": "3.6.9"
  }
 },
 "nbformat": 4,
 "nbformat_minor": 4
}
